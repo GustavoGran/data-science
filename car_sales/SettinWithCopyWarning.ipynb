{
 "cells": [
  {
   "cell_type": "code",
   "execution_count": 1,
   "id": "cd4f5b46-ba00-43ef-8dce-d9fcacf18f9f",
   "metadata": {},
   "outputs": [],
   "source": [
    "# !mv ~/Downloads/Car_sales.csv ./car_sales.csv"
   ]
  },
  {
   "cell_type": "code",
   "execution_count": 2,
   "id": "7a4b500b-f28e-4948-9cb1-78f1daae7dce",
   "metadata": {},
   "outputs": [
    {
     "name": "stdout",
     "output_type": "stream",
     "text": [
      "car_sales.csv\n",
      "SettinWithCopyWarning.ipynb\n"
     ]
    }
   ],
   "source": [
    "!ls"
   ]
  },
  {
   "cell_type": "code",
   "execution_count": 3,
   "id": "5496a6fd-e3c6-4954-9d27-f8a0587cd720",
   "metadata": {},
   "outputs": [],
   "source": [
    "import pandas as pd\n",
    "import numpy as np\n",
    "import matplotlib.pyplot as plt"
   ]
  },
  {
   "cell_type": "code",
   "execution_count": 4,
   "id": "261ef6a3-d283-4a1e-a27f-6287f8c9273e",
   "metadata": {},
   "outputs": [],
   "source": [
    "df = pd.read_csv(\"./car_sales.csv\")"
   ]
  },
  {
   "cell_type": "code",
   "execution_count": 5,
   "id": "815d9de4-cbc1-448b-a04e-006438eb33f0",
   "metadata": {},
   "outputs": [
    {
     "data": {
      "text/html": [
       "<div>\n",
       "<style scoped>\n",
       "    .dataframe tbody tr th:only-of-type {\n",
       "        vertical-align: middle;\n",
       "    }\n",
       "\n",
       "    .dataframe tbody tr th {\n",
       "        vertical-align: top;\n",
       "    }\n",
       "\n",
       "    .dataframe thead th {\n",
       "        text-align: right;\n",
       "    }\n",
       "</style>\n",
       "<table border=\"1\" class=\"dataframe\">\n",
       "  <thead>\n",
       "    <tr style=\"text-align: right;\">\n",
       "      <th></th>\n",
       "      <th>Manufacturer</th>\n",
       "      <th>Model</th>\n",
       "      <th>Sales_in_thousands</th>\n",
       "      <th>__year_resale_value</th>\n",
       "      <th>Vehicle_type</th>\n",
       "      <th>Price_in_thousands</th>\n",
       "      <th>Engine_size</th>\n",
       "      <th>Horsepower</th>\n",
       "      <th>Wheelbase</th>\n",
       "      <th>Width</th>\n",
       "      <th>Length</th>\n",
       "      <th>Curb_weight</th>\n",
       "      <th>Fuel_capacity</th>\n",
       "      <th>Fuel_efficiency</th>\n",
       "      <th>Latest_Launch</th>\n",
       "      <th>Power_perf_factor</th>\n",
       "    </tr>\n",
       "  </thead>\n",
       "  <tbody>\n",
       "    <tr>\n",
       "      <th>0</th>\n",
       "      <td>Acura</td>\n",
       "      <td>Integra</td>\n",
       "      <td>16.919</td>\n",
       "      <td>16.360</td>\n",
       "      <td>Passenger</td>\n",
       "      <td>21.50</td>\n",
       "      <td>1.8</td>\n",
       "      <td>140.0</td>\n",
       "      <td>101.2</td>\n",
       "      <td>67.3</td>\n",
       "      <td>172.4</td>\n",
       "      <td>2.639</td>\n",
       "      <td>13.2</td>\n",
       "      <td>28.0</td>\n",
       "      <td>2/2/2012</td>\n",
       "      <td>58.280150</td>\n",
       "    </tr>\n",
       "    <tr>\n",
       "      <th>1</th>\n",
       "      <td>Acura</td>\n",
       "      <td>TL</td>\n",
       "      <td>39.384</td>\n",
       "      <td>19.875</td>\n",
       "      <td>Passenger</td>\n",
       "      <td>28.40</td>\n",
       "      <td>3.2</td>\n",
       "      <td>225.0</td>\n",
       "      <td>108.1</td>\n",
       "      <td>70.3</td>\n",
       "      <td>192.9</td>\n",
       "      <td>3.517</td>\n",
       "      <td>17.2</td>\n",
       "      <td>25.0</td>\n",
       "      <td>6/3/2011</td>\n",
       "      <td>91.370778</td>\n",
       "    </tr>\n",
       "    <tr>\n",
       "      <th>2</th>\n",
       "      <td>Acura</td>\n",
       "      <td>CL</td>\n",
       "      <td>14.114</td>\n",
       "      <td>18.225</td>\n",
       "      <td>Passenger</td>\n",
       "      <td>NaN</td>\n",
       "      <td>3.2</td>\n",
       "      <td>225.0</td>\n",
       "      <td>106.9</td>\n",
       "      <td>70.6</td>\n",
       "      <td>192.0</td>\n",
       "      <td>3.470</td>\n",
       "      <td>17.2</td>\n",
       "      <td>26.0</td>\n",
       "      <td>1/4/2012</td>\n",
       "      <td>NaN</td>\n",
       "    </tr>\n",
       "    <tr>\n",
       "      <th>3</th>\n",
       "      <td>Acura</td>\n",
       "      <td>RL</td>\n",
       "      <td>8.588</td>\n",
       "      <td>29.725</td>\n",
       "      <td>Passenger</td>\n",
       "      <td>42.00</td>\n",
       "      <td>3.5</td>\n",
       "      <td>210.0</td>\n",
       "      <td>114.6</td>\n",
       "      <td>71.4</td>\n",
       "      <td>196.6</td>\n",
       "      <td>3.850</td>\n",
       "      <td>18.0</td>\n",
       "      <td>22.0</td>\n",
       "      <td>3/10/2011</td>\n",
       "      <td>91.389779</td>\n",
       "    </tr>\n",
       "    <tr>\n",
       "      <th>4</th>\n",
       "      <td>Audi</td>\n",
       "      <td>A4</td>\n",
       "      <td>20.397</td>\n",
       "      <td>22.255</td>\n",
       "      <td>Passenger</td>\n",
       "      <td>23.99</td>\n",
       "      <td>1.8</td>\n",
       "      <td>150.0</td>\n",
       "      <td>102.6</td>\n",
       "      <td>68.2</td>\n",
       "      <td>178.0</td>\n",
       "      <td>2.998</td>\n",
       "      <td>16.4</td>\n",
       "      <td>27.0</td>\n",
       "      <td>10/8/2011</td>\n",
       "      <td>62.777639</td>\n",
       "    </tr>\n",
       "    <tr>\n",
       "      <th>...</th>\n",
       "      <td>...</td>\n",
       "      <td>...</td>\n",
       "      <td>...</td>\n",
       "      <td>...</td>\n",
       "      <td>...</td>\n",
       "      <td>...</td>\n",
       "      <td>...</td>\n",
       "      <td>...</td>\n",
       "      <td>...</td>\n",
       "      <td>...</td>\n",
       "      <td>...</td>\n",
       "      <td>...</td>\n",
       "      <td>...</td>\n",
       "      <td>...</td>\n",
       "      <td>...</td>\n",
       "      <td>...</td>\n",
       "    </tr>\n",
       "    <tr>\n",
       "      <th>152</th>\n",
       "      <td>Volvo</td>\n",
       "      <td>V40</td>\n",
       "      <td>3.545</td>\n",
       "      <td>NaN</td>\n",
       "      <td>Passenger</td>\n",
       "      <td>24.40</td>\n",
       "      <td>1.9</td>\n",
       "      <td>160.0</td>\n",
       "      <td>100.5</td>\n",
       "      <td>67.6</td>\n",
       "      <td>176.6</td>\n",
       "      <td>3.042</td>\n",
       "      <td>15.8</td>\n",
       "      <td>25.0</td>\n",
       "      <td>9/21/2011</td>\n",
       "      <td>66.498812</td>\n",
       "    </tr>\n",
       "    <tr>\n",
       "      <th>153</th>\n",
       "      <td>Volvo</td>\n",
       "      <td>S70</td>\n",
       "      <td>15.245</td>\n",
       "      <td>NaN</td>\n",
       "      <td>Passenger</td>\n",
       "      <td>27.50</td>\n",
       "      <td>2.4</td>\n",
       "      <td>168.0</td>\n",
       "      <td>104.9</td>\n",
       "      <td>69.3</td>\n",
       "      <td>185.9</td>\n",
       "      <td>3.208</td>\n",
       "      <td>17.9</td>\n",
       "      <td>25.0</td>\n",
       "      <td>11/24/2012</td>\n",
       "      <td>70.654495</td>\n",
       "    </tr>\n",
       "    <tr>\n",
       "      <th>154</th>\n",
       "      <td>Volvo</td>\n",
       "      <td>V70</td>\n",
       "      <td>17.531</td>\n",
       "      <td>NaN</td>\n",
       "      <td>Passenger</td>\n",
       "      <td>28.80</td>\n",
       "      <td>2.4</td>\n",
       "      <td>168.0</td>\n",
       "      <td>104.9</td>\n",
       "      <td>69.3</td>\n",
       "      <td>186.2</td>\n",
       "      <td>3.259</td>\n",
       "      <td>17.9</td>\n",
       "      <td>25.0</td>\n",
       "      <td>6/25/2011</td>\n",
       "      <td>71.155978</td>\n",
       "    </tr>\n",
       "    <tr>\n",
       "      <th>155</th>\n",
       "      <td>Volvo</td>\n",
       "      <td>C70</td>\n",
       "      <td>3.493</td>\n",
       "      <td>NaN</td>\n",
       "      <td>Passenger</td>\n",
       "      <td>45.50</td>\n",
       "      <td>2.3</td>\n",
       "      <td>236.0</td>\n",
       "      <td>104.9</td>\n",
       "      <td>71.5</td>\n",
       "      <td>185.7</td>\n",
       "      <td>3.601</td>\n",
       "      <td>18.5</td>\n",
       "      <td>23.0</td>\n",
       "      <td>4/26/2011</td>\n",
       "      <td>101.623357</td>\n",
       "    </tr>\n",
       "    <tr>\n",
       "      <th>156</th>\n",
       "      <td>Volvo</td>\n",
       "      <td>S80</td>\n",
       "      <td>18.969</td>\n",
       "      <td>NaN</td>\n",
       "      <td>Passenger</td>\n",
       "      <td>36.00</td>\n",
       "      <td>2.9</td>\n",
       "      <td>201.0</td>\n",
       "      <td>109.9</td>\n",
       "      <td>72.1</td>\n",
       "      <td>189.8</td>\n",
       "      <td>3.600</td>\n",
       "      <td>21.1</td>\n",
       "      <td>24.0</td>\n",
       "      <td>11/14/2011</td>\n",
       "      <td>85.735655</td>\n",
       "    </tr>\n",
       "  </tbody>\n",
       "</table>\n",
       "<p>157 rows × 16 columns</p>\n",
       "</div>"
      ],
      "text/plain": [
       "    Manufacturer    Model  Sales_in_thousands  __year_resale_value  \\\n",
       "0          Acura  Integra              16.919               16.360   \n",
       "1          Acura       TL              39.384               19.875   \n",
       "2          Acura       CL              14.114               18.225   \n",
       "3          Acura       RL               8.588               29.725   \n",
       "4           Audi       A4              20.397               22.255   \n",
       "..           ...      ...                 ...                  ...   \n",
       "152        Volvo      V40               3.545                  NaN   \n",
       "153        Volvo      S70              15.245                  NaN   \n",
       "154        Volvo      V70              17.531                  NaN   \n",
       "155        Volvo      C70               3.493                  NaN   \n",
       "156        Volvo      S80              18.969                  NaN   \n",
       "\n",
       "    Vehicle_type  Price_in_thousands  Engine_size  Horsepower  Wheelbase  \\\n",
       "0      Passenger               21.50          1.8       140.0      101.2   \n",
       "1      Passenger               28.40          3.2       225.0      108.1   \n",
       "2      Passenger                 NaN          3.2       225.0      106.9   \n",
       "3      Passenger               42.00          3.5       210.0      114.6   \n",
       "4      Passenger               23.99          1.8       150.0      102.6   \n",
       "..           ...                 ...          ...         ...        ...   \n",
       "152    Passenger               24.40          1.9       160.0      100.5   \n",
       "153    Passenger               27.50          2.4       168.0      104.9   \n",
       "154    Passenger               28.80          2.4       168.0      104.9   \n",
       "155    Passenger               45.50          2.3       236.0      104.9   \n",
       "156    Passenger               36.00          2.9       201.0      109.9   \n",
       "\n",
       "     Width  Length  Curb_weight  Fuel_capacity  Fuel_efficiency Latest_Launch  \\\n",
       "0     67.3   172.4        2.639           13.2             28.0      2/2/2012   \n",
       "1     70.3   192.9        3.517           17.2             25.0      6/3/2011   \n",
       "2     70.6   192.0        3.470           17.2             26.0      1/4/2012   \n",
       "3     71.4   196.6        3.850           18.0             22.0     3/10/2011   \n",
       "4     68.2   178.0        2.998           16.4             27.0     10/8/2011   \n",
       "..     ...     ...          ...            ...              ...           ...   \n",
       "152   67.6   176.6        3.042           15.8             25.0     9/21/2011   \n",
       "153   69.3   185.9        3.208           17.9             25.0    11/24/2012   \n",
       "154   69.3   186.2        3.259           17.9             25.0     6/25/2011   \n",
       "155   71.5   185.7        3.601           18.5             23.0     4/26/2011   \n",
       "156   72.1   189.8        3.600           21.1             24.0    11/14/2011   \n",
       "\n",
       "     Power_perf_factor  \n",
       "0            58.280150  \n",
       "1            91.370778  \n",
       "2                  NaN  \n",
       "3            91.389779  \n",
       "4            62.777639  \n",
       "..                 ...  \n",
       "152          66.498812  \n",
       "153          70.654495  \n",
       "154          71.155978  \n",
       "155         101.623357  \n",
       "156          85.735655  \n",
       "\n",
       "[157 rows x 16 columns]"
      ]
     },
     "execution_count": 5,
     "metadata": {},
     "output_type": "execute_result"
    }
   ],
   "source": [
    "df"
   ]
  },
  {
   "cell_type": "code",
   "execution_count": 6,
   "id": "2140a0ba-54e1-4a00-9242-7d031d07ec41",
   "metadata": {},
   "outputs": [
    {
     "name": "stdout",
     "output_type": "stream",
     "text": [
      "<class 'pandas.core.frame.DataFrame'>\n",
      "RangeIndex: 157 entries, 0 to 156\n",
      "Data columns (total 16 columns):\n",
      " #   Column               Non-Null Count  Dtype  \n",
      "---  ------               --------------  -----  \n",
      " 0   Manufacturer         157 non-null    object \n",
      " 1   Model                157 non-null    object \n",
      " 2   Sales_in_thousands   157 non-null    float64\n",
      " 3   __year_resale_value  121 non-null    float64\n",
      " 4   Vehicle_type         157 non-null    object \n",
      " 5   Price_in_thousands   155 non-null    float64\n",
      " 6   Engine_size          156 non-null    float64\n",
      " 7   Horsepower           156 non-null    float64\n",
      " 8   Wheelbase            156 non-null    float64\n",
      " 9   Width                156 non-null    float64\n",
      " 10  Length               156 non-null    float64\n",
      " 11  Curb_weight          155 non-null    float64\n",
      " 12  Fuel_capacity        156 non-null    float64\n",
      " 13  Fuel_efficiency      154 non-null    float64\n",
      " 14  Latest_Launch        157 non-null    object \n",
      " 15  Power_perf_factor    155 non-null    float64\n",
      "dtypes: float64(12), object(4)\n",
      "memory usage: 19.8+ KB\n"
     ]
    }
   ],
   "source": [
    "df.info()"
   ]
  },
  {
   "cell_type": "code",
   "execution_count": 7,
   "id": "cdc34614-3192-42f2-9f6c-086a265e8ebc",
   "metadata": {},
   "outputs": [
    {
     "name": "stderr",
     "output_type": "stream",
     "text": [
      "C:\\Users\\gransotto gustavo\\AppData\\Local\\Temp\\ipykernel_15100\\2567178101.py:2: SettingWithCopyWarning: \n",
      "A value is trying to be set on a copy of a slice from a DataFrame.\n",
      "Try using .loc[row_indexer,col_indexer] = value instead\n",
      "\n",
      "See the caveats in the documentation: https://pandas.pydata.org/pandas-docs/stable/user_guide/indexing.html#returning-a-view-versus-a-copy\n",
      "  df[df[\"Manufacturer\"] == \"Porsche\"][\"Fuel_capacity\"] = 18.0\n"
     ]
    }
   ],
   "source": [
    "# fuel_capacity of Porsche cars are wrong, they are actually 18.0\n",
    "df[df[\"Manufacturer\"] == \"Porsche\"][\"Fuel_capacity\"] = 18.0"
   ]
  },
  {
   "cell_type": "code",
   "execution_count": 8,
   "id": "2e46aee0-0eb4-4b90-b6a0-a271289d7b85",
   "metadata": {},
   "outputs": [
    {
     "data": {
      "text/html": [
       "<div>\n",
       "<style scoped>\n",
       "    .dataframe tbody tr th:only-of-type {\n",
       "        vertical-align: middle;\n",
       "    }\n",
       "\n",
       "    .dataframe tbody tr th {\n",
       "        vertical-align: top;\n",
       "    }\n",
       "\n",
       "    .dataframe thead th {\n",
       "        text-align: right;\n",
       "    }\n",
       "</style>\n",
       "<table border=\"1\" class=\"dataframe\">\n",
       "  <thead>\n",
       "    <tr style=\"text-align: right;\">\n",
       "      <th></th>\n",
       "      <th>Manufacturer</th>\n",
       "      <th>Model</th>\n",
       "      <th>Sales_in_thousands</th>\n",
       "      <th>__year_resale_value</th>\n",
       "      <th>Vehicle_type</th>\n",
       "      <th>Price_in_thousands</th>\n",
       "      <th>Engine_size</th>\n",
       "      <th>Horsepower</th>\n",
       "      <th>Wheelbase</th>\n",
       "      <th>Width</th>\n",
       "      <th>Length</th>\n",
       "      <th>Curb_weight</th>\n",
       "      <th>Fuel_capacity</th>\n",
       "      <th>Fuel_efficiency</th>\n",
       "      <th>Latest_Launch</th>\n",
       "      <th>Power_perf_factor</th>\n",
       "    </tr>\n",
       "  </thead>\n",
       "  <tbody>\n",
       "    <tr>\n",
       "      <th>124</th>\n",
       "      <td>Porsche</td>\n",
       "      <td>Boxter</td>\n",
       "      <td>8.982</td>\n",
       "      <td>41.250</td>\n",
       "      <td>Passenger</td>\n",
       "      <td>41.43</td>\n",
       "      <td>2.7</td>\n",
       "      <td>217.0</td>\n",
       "      <td>95.2</td>\n",
       "      <td>70.1</td>\n",
       "      <td>171.0</td>\n",
       "      <td>2.778</td>\n",
       "      <td>17.0</td>\n",
       "      <td>22.0</td>\n",
       "      <td>2/19/2012</td>\n",
       "      <td>93.437331</td>\n",
       "    </tr>\n",
       "    <tr>\n",
       "      <th>125</th>\n",
       "      <td>Porsche</td>\n",
       "      <td>Carrera Coupe</td>\n",
       "      <td>1.280</td>\n",
       "      <td>60.625</td>\n",
       "      <td>Passenger</td>\n",
       "      <td>71.02</td>\n",
       "      <td>3.4</td>\n",
       "      <td>300.0</td>\n",
       "      <td>92.6</td>\n",
       "      <td>69.5</td>\n",
       "      <td>174.5</td>\n",
       "      <td>3.032</td>\n",
       "      <td>17.0</td>\n",
       "      <td>21.0</td>\n",
       "      <td>12/21/2012</td>\n",
       "      <td>134.390975</td>\n",
       "    </tr>\n",
       "    <tr>\n",
       "      <th>126</th>\n",
       "      <td>Porsche</td>\n",
       "      <td>Carrera Cabrio</td>\n",
       "      <td>1.866</td>\n",
       "      <td>67.550</td>\n",
       "      <td>Passenger</td>\n",
       "      <td>74.97</td>\n",
       "      <td>3.4</td>\n",
       "      <td>300.0</td>\n",
       "      <td>92.6</td>\n",
       "      <td>69.5</td>\n",
       "      <td>174.5</td>\n",
       "      <td>3.075</td>\n",
       "      <td>17.0</td>\n",
       "      <td>23.0</td>\n",
       "      <td>7/11/2011</td>\n",
       "      <td>135.914710</td>\n",
       "    </tr>\n",
       "  </tbody>\n",
       "</table>\n",
       "</div>"
      ],
      "text/plain": [
       "    Manufacturer           Model  Sales_in_thousands  __year_resale_value  \\\n",
       "124      Porsche          Boxter               8.982               41.250   \n",
       "125      Porsche   Carrera Coupe               1.280               60.625   \n",
       "126      Porsche  Carrera Cabrio               1.866               67.550   \n",
       "\n",
       "    Vehicle_type  Price_in_thousands  Engine_size  Horsepower  Wheelbase  \\\n",
       "124    Passenger               41.43          2.7       217.0       95.2   \n",
       "125    Passenger               71.02          3.4       300.0       92.6   \n",
       "126    Passenger               74.97          3.4       300.0       92.6   \n",
       "\n",
       "     Width  Length  Curb_weight  Fuel_capacity  Fuel_efficiency Latest_Launch  \\\n",
       "124   70.1   171.0        2.778           17.0             22.0     2/19/2012   \n",
       "125   69.5   174.5        3.032           17.0             21.0    12/21/2012   \n",
       "126   69.5   174.5        3.075           17.0             23.0     7/11/2011   \n",
       "\n",
       "     Power_perf_factor  \n",
       "124          93.437331  \n",
       "125         134.390975  \n",
       "126         135.914710  "
      ]
     },
     "execution_count": 8,
     "metadata": {},
     "output_type": "execute_result"
    }
   ],
   "source": [
    "df[df[\"Manufacturer\"] == \"Porsche\"] # not updated!!!"
   ]
  },
  {
   "cell_type": "markdown",
   "id": "fbf8aac4-fc1a-4b5e-9e14-5c2054ae6602",
   "metadata": {},
   "source": [
    "# View vs Copy?\n",
    "- You should always favor the use of loc when assigning values in pandas\n",
    "- .loc, .iloc returns views or copies depending on how they are used\n",
    "\n",
    "## What is a view?\n",
    "- A view is just a pointer to the actual value stored somewhere else, just like in C\n",
    "- It's the same that works with python variables\n",
    "\n",
    "[Pointers in Python](https://realpython.com/pointers-in-python/)"
   ]
  },
  {
   "cell_type": "markdown",
   "id": "5954af11-c29a-4088-b035-af78ac3925ed",
   "metadata": {
    "tags": []
   },
   "source": [
    "### Imultable vs mutable types in python\n",
    "\n",
    "- All basic datatypes are imutable + tuples\n",
    "- Lists, Sets and Dicts are mutable\n",
    "\n",
    "- When you change values from "
   ]
  },
  {
   "cell_type": "code",
   "execution_count": 9,
   "id": "f322bc9f-9e1d-4cb5-907a-f3b20d0a850d",
   "metadata": {},
   "outputs": [],
   "source": [
    "x = 22"
   ]
  },
  {
   "cell_type": "code",
   "execution_count": 10,
   "id": "2f3a0b26-44e5-48d7-bb30-8332d70b72dc",
   "metadata": {},
   "outputs": [
    {
     "data": {
      "text/plain": [
       "3080307934096"
      ]
     },
     "execution_count": 10,
     "metadata": {},
     "output_type": "execute_result"
    }
   ],
   "source": [
    "id(x)"
   ]
  },
  {
   "cell_type": "code",
   "execution_count": 11,
   "id": "5438d649-82a7-4cb6-a8b0-ed2167c5d390",
   "metadata": {},
   "outputs": [
    {
     "name": "stdout",
     "output_type": "stream",
     "text": [
      "22 22\n",
      "3080307934096\n",
      "3080307934096\n"
     ]
    }
   ],
   "source": [
    "y = x\n",
    "print(x,y)\n",
    "print(id(x))\n",
    "print(id(y))"
   ]
  },
  {
   "cell_type": "code",
   "execution_count": 12,
   "id": "dc8a22e9-0f93-469b-a144-698134c815b4",
   "metadata": {},
   "outputs": [
    {
     "data": {
      "text/plain": [
       "True"
      ]
     },
     "execution_count": 12,
     "metadata": {},
     "output_type": "execute_result"
    }
   ],
   "source": [
    "x is y"
   ]
  },
  {
   "cell_type": "code",
   "execution_count": 13,
   "id": "c5afb2ac-de00-4c35-a8fb-45a76aacadd1",
   "metadata": {},
   "outputs": [
    {
     "name": "stdout",
     "output_type": "stream",
     "text": [
      "23 22\n",
      "3080307934128\n",
      "3080307934096\n"
     ]
    }
   ],
   "source": [
    "x += 1\n",
    "print(x,y)\n",
    "print(id(x))\n",
    "print(id(y))"
   ]
  },
  {
   "cell_type": "code",
   "execution_count": 14,
   "id": "d153e96b-dcbe-411e-a5a0-db46671c141f",
   "metadata": {},
   "outputs": [
    {
     "name": "stdout",
     "output_type": "stream",
     "text": [
      "{'x': 22, 'y': 23}\n",
      "3080438850752\n"
     ]
    }
   ],
   "source": [
    "d = {'x': 22, 'y': 23}\n",
    "print(d)\n",
    "print(id(d))"
   ]
  },
  {
   "cell_type": "code",
   "execution_count": 15,
   "id": "a13cd6ce-c204-4fd1-b715-b571734ca55c",
   "metadata": {},
   "outputs": [
    {
     "name": "stdout",
     "output_type": "stream",
     "text": [
      "{'x': 22, 'y': 23} {'x': 22, 'y': 23}\n",
      "3080438850752 3080438850752\n"
     ]
    }
   ],
   "source": [
    "d2 = d\n",
    "print(d,d2)\n",
    "print(id(d),id(d2))"
   ]
  },
  {
   "cell_type": "code",
   "execution_count": 16,
   "id": "470d5e84-d2ee-478a-87ca-6523c133312e",
   "metadata": {},
   "outputs": [
    {
     "name": "stdout",
     "output_type": "stream",
     "text": [
      "{'x': 23, 'y': 23} {'x': 23, 'y': 23}\n",
      "3080438850752 3080438850752\n"
     ]
    }
   ],
   "source": [
    "d2[\"x\"] +=1\n",
    "print(d,d2)\n",
    "print(id(d),id(d2))"
   ]
  },
  {
   "cell_type": "code",
   "execution_count": 17,
   "id": "c3d66d21-8838-45bb-922e-0ff4a01e92fe",
   "metadata": {},
   "outputs": [
    {
     "name": "stdout",
     "output_type": "stream",
     "text": [
      "(12, 22) (12, 22)\n",
      "3080438842560 3080438842560\n"
     ]
    }
   ],
   "source": [
    "tup = (12,22)\n",
    "tup2 = tup\n",
    "print(tup,tup2)\n",
    "print(id(tup),id(tup2))"
   ]
  },
  {
   "cell_type": "code",
   "execution_count": 18,
   "id": "3dcd6f44-1d93-4b8b-bdb2-22cdb9ce552a",
   "metadata": {},
   "outputs": [
    {
     "ename": "TypeError",
     "evalue": "'tuple' object does not support item assignment",
     "output_type": "error",
     "traceback": [
      "\u001b[1;31m---------------------------------------------------------------------------\u001b[0m",
      "\u001b[1;31mTypeError\u001b[0m                                 Traceback (most recent call last)",
      "Cell \u001b[1;32mIn[18], line 1\u001b[0m\n\u001b[1;32m----> 1\u001b[0m tup[\u001b[38;5;241m1\u001b[39m] \u001b[38;5;241m=\u001b[39m \u001b[38;5;241m23\u001b[39m\n",
      "\u001b[1;31mTypeError\u001b[0m: 'tuple' object does not support item assignment"
     ]
    }
   ],
   "source": [
    "tup[1] = 23"
   ]
  },
  {
   "cell_type": "code",
   "execution_count": 19,
   "id": "79c36252-a29d-4e59-a589-fef424e2212a",
   "metadata": {},
   "outputs": [
    {
     "name": "stdout",
     "output_type": "stream",
     "text": [
      "(12, 23) (12, 22)\n",
      "3080467475072 3080438842560\n"
     ]
    }
   ],
   "source": [
    "tup = (12,23)\n",
    "print(tup,tup2)\n",
    "print(id(tup),id(tup2))"
   ]
  },
  {
   "cell_type": "markdown",
   "id": "741dad0f-371f-44d6-8b3e-457fb82fde77",
   "metadata": {},
   "source": [
    "## View vs Copy\n",
    "- A view is just like a shallow copy, a pointer, it points to the same address where the variable is stored\n",
    "- A deep copy, on the other hand points to another address\n",
    "- Change a value on the view and it applies to the original copy\n",
    "- Change a value on the copy, and the change will only be contained in itself"
   ]
  },
  {
   "cell_type": "code",
   "execution_count": 20,
   "id": "430fc5a7-2bd3-41ab-b0bf-a967fc8638e0",
   "metadata": {},
   "outputs": [
    {
     "data": {
      "text/plain": [
       "3080438095520"
      ]
     },
     "execution_count": 20,
     "metadata": {},
     "output_type": "execute_result"
    }
   ],
   "source": [
    "id(df)"
   ]
  },
  {
   "cell_type": "code",
   "execution_count": 21,
   "id": "f259217a-dda3-4e2a-b055-9ae977f87ad4",
   "metadata": {},
   "outputs": [
    {
     "name": "stdout",
     "output_type": "stream",
     "text": [
      "True\n",
      "3080438095520 3080438095520\n"
     ]
    }
   ],
   "source": [
    "# This is a view\n",
    "df2 = df.loc[:,:]\n",
    "\n",
    "print(df2 is df)\n",
    "print(id(df), id(df2))"
   ]
  },
  {
   "cell_type": "code",
   "execution_count": 22,
   "id": "35641dd7-befb-432f-b906-4801cc974488",
   "metadata": {},
   "outputs": [
    {
     "name": "stdout",
     "output_type": "stream",
     "text": [
      "False\n",
      "3080438095520 3080458266000\n"
     ]
    }
   ],
   "source": [
    "# This is a copy\n",
    "df2 = df[df[\"Manufacturer\"] == \"Porsche\"]\n",
    "print(df2 is df)\n",
    "print(id(df), id(df2))"
   ]
  },
  {
   "cell_type": "markdown",
   "id": "b02388f0-c288-4393-bc32-c349487be09c",
   "metadata": {},
   "source": [
    "## When will I get a View and when will I get a Copy?\n",
    "\n",
    "It can be messy.... really messy!\n",
    "\n",
    "Outside of simple cases, it’s very hard to predict whether it will return a view or a copy (it depends on the memory layout of the array, about which pandas makes no guarantees) ………. That’s what SettingWithCopy is warning you about!\n",
    "\n",
    "https://pandas.pydata.org/pandas-docs/stable/user_guide/indexing.html#returning-a-view-versus-a-copy"
   ]
  },
  {
   "cell_type": "code",
   "execution_count": 23,
   "id": "95230aa5-c513-40e1-849a-ae3c8fad6781",
   "metadata": {},
   "outputs": [
    {
     "name": "stdout",
     "output_type": "stream",
     "text": [
      "True\n",
      "3080438095520 3080438095520\n"
     ]
    }
   ],
   "source": [
    "# Example, this returns a view\n",
    "df2 = df.loc[:,:]\n",
    "print(df2 is df)\n",
    "print(id(df), id(df2))"
   ]
  },
  {
   "cell_type": "code",
   "execution_count": 24,
   "id": "17cfb110-4af3-4df1-bb36-c75b2e6e87f1",
   "metadata": {},
   "outputs": [
    {
     "name": "stdout",
     "output_type": "stream",
     "text": [
      "False\n",
      "3080438095520 3080457265376\n"
     ]
    }
   ],
   "source": [
    "# Example, this returns a copy\n",
    "df2 = df.loc[df[\"Model\"] == \"Boxter\",:]\n",
    "print(df2 is df)\n",
    "print(id(df), id(df2))"
   ]
  },
  {
   "cell_type": "markdown",
   "id": "9d3933b9-620b-4c94-be9a-5f912a7bc8ad",
   "metadata": {},
   "source": [
    "### The order of the operations matter\n",
    "- Chained indexing in pandas will return a slice or a copy depending on the order in which the operations are processed\n",
    "- In the first example below, pandas raise a warning, but a value is set to the slice\n",
    "- On the second, pandas also raises a warning, but the value is NOT set to the slice\n",
    "\n",
    "Why does it happen?\n",
    "- It is involved with lazyness of operations, getters and setters\n",
    "- Internal work of pandas to fit numpy single-type columns and memory and processing optimization"
   ]
  },
  {
   "cell_type": "code",
   "execution_count": 25,
   "id": "88140396-9b51-44d5-957b-6898f2f79394",
   "metadata": {},
   "outputs": [
    {
     "name": "stdout",
     "output_type": "stream",
     "text": [
      "124    17.0\n",
      "Name: Fuel_capacity, dtype: float64\n"
     ]
    }
   ],
   "source": [
    "print(df[\"Fuel_capacity\"][df[\"Model\"] == \"Boxter\"])"
   ]
  },
  {
   "cell_type": "code",
   "execution_count": 26,
   "id": "51142eaf-bbcb-4b1c-b96f-e7a5e5e92f63",
   "metadata": {},
   "outputs": [
    {
     "name": "stderr",
     "output_type": "stream",
     "text": [
      "C:\\Users\\gransotto gustavo\\AppData\\Local\\Temp\\ipykernel_15100\\3758230288.py:1: SettingWithCopyWarning: \n",
      "A value is trying to be set on a copy of a slice from a DataFrame\n",
      "\n",
      "See the caveats in the documentation: https://pandas.pydata.org/pandas-docs/stable/user_guide/indexing.html#returning-a-view-versus-a-copy\n",
      "  df[\"Fuel_capacity\"][df[\"Model\"] == \"Boxter\"] = 18.0\n"
     ]
    }
   ],
   "source": [
    "df[\"Fuel_capacity\"][df[\"Model\"] == \"Boxter\"] = 18.0"
   ]
  },
  {
   "cell_type": "code",
   "execution_count": 27,
   "id": "cb47006e-5df8-4c11-8866-d7d4ee254342",
   "metadata": {},
   "outputs": [
    {
     "name": "stderr",
     "output_type": "stream",
     "text": [
      "C:\\Users\\gransotto gustavo\\AppData\\Local\\Temp\\ipykernel_15100\\3371537488.py:1: SettingWithCopyWarning: \n",
      "A value is trying to be set on a copy of a slice from a DataFrame.\n",
      "Try using .loc[row_indexer,col_indexer] = value instead\n",
      "\n",
      "See the caveats in the documentation: https://pandas.pydata.org/pandas-docs/stable/user_guide/indexing.html#returning-a-view-versus-a-copy\n",
      "  df[df[\"Model\"] == \"Boxter\"][\"Fuel_capacity\"] = 19.0\n"
     ]
    }
   ],
   "source": [
    "df[df[\"Model\"] == \"Boxter\"][\"Fuel_capacity\"] = 19.0"
   ]
  },
  {
   "cell_type": "code",
   "execution_count": 28,
   "id": "495907f0-e9f8-492b-b93f-b447ccd4f1b0",
   "metadata": {},
   "outputs": [
    {
     "name": "stdout",
     "output_type": "stream",
     "text": [
      "124    18.0\n",
      "Name: Fuel_capacity, dtype: float64\n"
     ]
    }
   ],
   "source": [
    "print(df[\"Fuel_capacity\"][df[\"Model\"] == \"Boxter\"])"
   ]
  },
  {
   "cell_type": "code",
   "execution_count": 29,
   "id": "2ea4bc85-c630-4c90-a9a0-5e01f70d497c",
   "metadata": {},
   "outputs": [
    {
     "name": "stdout",
     "output_type": "stream",
     "text": [
      "False\n",
      "True\n"
     ]
    }
   ],
   "source": [
    "print(df[\"Fuel_capacity\"][df[\"Model\"] == \"Boxter\"]._is_view)\n",
    "print(df[df[\"Model\"] == \"Boxter\"][\"Fuel_capacity\"]._is_view)"
   ]
  },
  {
   "cell_type": "markdown",
   "id": "11c87571-70c6-4af1-951b-2d4b31b79025",
   "metadata": {},
   "source": [
    "## F, what should I do then?\n",
    "\n",
    "Access elements by using `.loc` with a mask and a string for a single element"
   ]
  },
  {
   "cell_type": "code",
   "execution_count": 30,
   "id": "ba415701-45c0-4efa-96db-48147cecb2a4",
   "metadata": {},
   "outputs": [],
   "source": [
    "# Acessing multiple elements from one column\n",
    "\n",
    "df2 =df.copy()\n",
    "\n",
    "mask = df2[\"Manufacturer\"] == \"Porsche\"\n",
    "\n",
    "df2.loc[mask,\"Fuel_capacity\"] = 20"
   ]
  },
  {
   "cell_type": "code",
   "execution_count": 31,
   "id": "f9ac2796-7d68-41ee-8ed9-eff7d5910c2a",
   "metadata": {},
   "outputs": [
    {
     "data": {
      "text/html": [
       "<div>\n",
       "<style scoped>\n",
       "    .dataframe tbody tr th:only-of-type {\n",
       "        vertical-align: middle;\n",
       "    }\n",
       "\n",
       "    .dataframe tbody tr th {\n",
       "        vertical-align: top;\n",
       "    }\n",
       "\n",
       "    .dataframe thead th {\n",
       "        text-align: right;\n",
       "    }\n",
       "</style>\n",
       "<table border=\"1\" class=\"dataframe\">\n",
       "  <thead>\n",
       "    <tr style=\"text-align: right;\">\n",
       "      <th></th>\n",
       "      <th>Manufacturer</th>\n",
       "      <th>Model</th>\n",
       "      <th>Sales_in_thousands</th>\n",
       "      <th>__year_resale_value</th>\n",
       "      <th>Vehicle_type</th>\n",
       "      <th>Price_in_thousands</th>\n",
       "      <th>Engine_size</th>\n",
       "      <th>Horsepower</th>\n",
       "      <th>Wheelbase</th>\n",
       "      <th>Width</th>\n",
       "      <th>Length</th>\n",
       "      <th>Curb_weight</th>\n",
       "      <th>Fuel_capacity</th>\n",
       "      <th>Fuel_efficiency</th>\n",
       "      <th>Latest_Launch</th>\n",
       "      <th>Power_perf_factor</th>\n",
       "    </tr>\n",
       "  </thead>\n",
       "  <tbody>\n",
       "    <tr>\n",
       "      <th>124</th>\n",
       "      <td>Porsche</td>\n",
       "      <td>Boxter</td>\n",
       "      <td>8.982</td>\n",
       "      <td>41.250</td>\n",
       "      <td>Passenger</td>\n",
       "      <td>41.43</td>\n",
       "      <td>2.7</td>\n",
       "      <td>217.0</td>\n",
       "      <td>95.2</td>\n",
       "      <td>70.1</td>\n",
       "      <td>171.0</td>\n",
       "      <td>2.778</td>\n",
       "      <td>18.0</td>\n",
       "      <td>22.0</td>\n",
       "      <td>2/19/2012</td>\n",
       "      <td>93.437331</td>\n",
       "    </tr>\n",
       "    <tr>\n",
       "      <th>125</th>\n",
       "      <td>Porsche</td>\n",
       "      <td>Carrera Coupe</td>\n",
       "      <td>1.280</td>\n",
       "      <td>60.625</td>\n",
       "      <td>Passenger</td>\n",
       "      <td>71.02</td>\n",
       "      <td>3.4</td>\n",
       "      <td>300.0</td>\n",
       "      <td>92.6</td>\n",
       "      <td>69.5</td>\n",
       "      <td>174.5</td>\n",
       "      <td>3.032</td>\n",
       "      <td>17.0</td>\n",
       "      <td>21.0</td>\n",
       "      <td>12/21/2012</td>\n",
       "      <td>134.390975</td>\n",
       "    </tr>\n",
       "    <tr>\n",
       "      <th>126</th>\n",
       "      <td>Porsche</td>\n",
       "      <td>Carrera Cabrio</td>\n",
       "      <td>1.866</td>\n",
       "      <td>67.550</td>\n",
       "      <td>Passenger</td>\n",
       "      <td>74.97</td>\n",
       "      <td>3.4</td>\n",
       "      <td>300.0</td>\n",
       "      <td>92.6</td>\n",
       "      <td>69.5</td>\n",
       "      <td>174.5</td>\n",
       "      <td>3.075</td>\n",
       "      <td>17.0</td>\n",
       "      <td>23.0</td>\n",
       "      <td>7/11/2011</td>\n",
       "      <td>135.914710</td>\n",
       "    </tr>\n",
       "  </tbody>\n",
       "</table>\n",
       "</div>"
      ],
      "text/plain": [
       "    Manufacturer           Model  Sales_in_thousands  __year_resale_value  \\\n",
       "124      Porsche          Boxter               8.982               41.250   \n",
       "125      Porsche   Carrera Coupe               1.280               60.625   \n",
       "126      Porsche  Carrera Cabrio               1.866               67.550   \n",
       "\n",
       "    Vehicle_type  Price_in_thousands  Engine_size  Horsepower  Wheelbase  \\\n",
       "124    Passenger               41.43          2.7       217.0       95.2   \n",
       "125    Passenger               71.02          3.4       300.0       92.6   \n",
       "126    Passenger               74.97          3.4       300.0       92.6   \n",
       "\n",
       "     Width  Length  Curb_weight  Fuel_capacity  Fuel_efficiency Latest_Launch  \\\n",
       "124   70.1   171.0        2.778           18.0             22.0     2/19/2012   \n",
       "125   69.5   174.5        3.032           17.0             21.0    12/21/2012   \n",
       "126   69.5   174.5        3.075           17.0             23.0     7/11/2011   \n",
       "\n",
       "     Power_perf_factor  \n",
       "124          93.437331  \n",
       "125         134.390975  \n",
       "126         135.914710  "
      ]
     },
     "execution_count": 31,
     "metadata": {},
     "output_type": "execute_result"
    }
   ],
   "source": [
    "df[mask]"
   ]
  },
  {
   "cell_type": "code",
   "execution_count": 32,
   "id": "ce39fb00-dedc-4218-a551-395cf7a9c81b",
   "metadata": {},
   "outputs": [
    {
     "data": {
      "text/html": [
       "<div>\n",
       "<style scoped>\n",
       "    .dataframe tbody tr th:only-of-type {\n",
       "        vertical-align: middle;\n",
       "    }\n",
       "\n",
       "    .dataframe tbody tr th {\n",
       "        vertical-align: top;\n",
       "    }\n",
       "\n",
       "    .dataframe thead th {\n",
       "        text-align: right;\n",
       "    }\n",
       "</style>\n",
       "<table border=\"1\" class=\"dataframe\">\n",
       "  <thead>\n",
       "    <tr style=\"text-align: right;\">\n",
       "      <th></th>\n",
       "      <th>Manufacturer</th>\n",
       "      <th>Model</th>\n",
       "      <th>Sales_in_thousands</th>\n",
       "      <th>__year_resale_value</th>\n",
       "      <th>Vehicle_type</th>\n",
       "      <th>Price_in_thousands</th>\n",
       "      <th>Engine_size</th>\n",
       "      <th>Horsepower</th>\n",
       "      <th>Wheelbase</th>\n",
       "      <th>Width</th>\n",
       "      <th>Length</th>\n",
       "      <th>Curb_weight</th>\n",
       "      <th>Fuel_capacity</th>\n",
       "      <th>Fuel_efficiency</th>\n",
       "      <th>Latest_Launch</th>\n",
       "      <th>Power_perf_factor</th>\n",
       "    </tr>\n",
       "  </thead>\n",
       "  <tbody>\n",
       "    <tr>\n",
       "      <th>124</th>\n",
       "      <td>Porsche</td>\n",
       "      <td>Boxter</td>\n",
       "      <td>8.982</td>\n",
       "      <td>41.250</td>\n",
       "      <td>Passenger</td>\n",
       "      <td>41.43</td>\n",
       "      <td>2.7</td>\n",
       "      <td>217.0</td>\n",
       "      <td>95.2</td>\n",
       "      <td>70.1</td>\n",
       "      <td>171.0</td>\n",
       "      <td>2.778</td>\n",
       "      <td>20.0</td>\n",
       "      <td>22.0</td>\n",
       "      <td>2/19/2012</td>\n",
       "      <td>93.437331</td>\n",
       "    </tr>\n",
       "    <tr>\n",
       "      <th>125</th>\n",
       "      <td>Porsche</td>\n",
       "      <td>Carrera Coupe</td>\n",
       "      <td>1.280</td>\n",
       "      <td>60.625</td>\n",
       "      <td>Passenger</td>\n",
       "      <td>71.02</td>\n",
       "      <td>3.4</td>\n",
       "      <td>300.0</td>\n",
       "      <td>92.6</td>\n",
       "      <td>69.5</td>\n",
       "      <td>174.5</td>\n",
       "      <td>3.032</td>\n",
       "      <td>20.0</td>\n",
       "      <td>21.0</td>\n",
       "      <td>12/21/2012</td>\n",
       "      <td>134.390975</td>\n",
       "    </tr>\n",
       "    <tr>\n",
       "      <th>126</th>\n",
       "      <td>Porsche</td>\n",
       "      <td>Carrera Cabrio</td>\n",
       "      <td>1.866</td>\n",
       "      <td>67.550</td>\n",
       "      <td>Passenger</td>\n",
       "      <td>74.97</td>\n",
       "      <td>3.4</td>\n",
       "      <td>300.0</td>\n",
       "      <td>92.6</td>\n",
       "      <td>69.5</td>\n",
       "      <td>174.5</td>\n",
       "      <td>3.075</td>\n",
       "      <td>20.0</td>\n",
       "      <td>23.0</td>\n",
       "      <td>7/11/2011</td>\n",
       "      <td>135.914710</td>\n",
       "    </tr>\n",
       "  </tbody>\n",
       "</table>\n",
       "</div>"
      ],
      "text/plain": [
       "    Manufacturer           Model  Sales_in_thousands  __year_resale_value  \\\n",
       "124      Porsche          Boxter               8.982               41.250   \n",
       "125      Porsche   Carrera Coupe               1.280               60.625   \n",
       "126      Porsche  Carrera Cabrio               1.866               67.550   \n",
       "\n",
       "    Vehicle_type  Price_in_thousands  Engine_size  Horsepower  Wheelbase  \\\n",
       "124    Passenger               41.43          2.7       217.0       95.2   \n",
       "125    Passenger               71.02          3.4       300.0       92.6   \n",
       "126    Passenger               74.97          3.4       300.0       92.6   \n",
       "\n",
       "     Width  Length  Curb_weight  Fuel_capacity  Fuel_efficiency Latest_Launch  \\\n",
       "124   70.1   171.0        2.778           20.0             22.0     2/19/2012   \n",
       "125   69.5   174.5        3.032           20.0             21.0    12/21/2012   \n",
       "126   69.5   174.5        3.075           20.0             23.0     7/11/2011   \n",
       "\n",
       "     Power_perf_factor  \n",
       "124          93.437331  \n",
       "125         134.390975  \n",
       "126         135.914710  "
      ]
     },
     "execution_count": 32,
     "metadata": {},
     "output_type": "execute_result"
    }
   ],
   "source": [
    "df2[mask]"
   ]
  },
  {
   "cell_type": "code",
   "execution_count": 33,
   "id": "34e1781e-5b67-4bbb-9d7f-5f9dfac0c717",
   "metadata": {},
   "outputs": [],
   "source": [
    "# Acessing one single element with index\n",
    "df3 = df.copy()\n",
    "df3.loc[124,\"Fuel_capacity\"] = 20.0"
   ]
  },
  {
   "cell_type": "code",
   "execution_count": 34,
   "id": "72300bae-d13e-4d17-a14b-f2c43cd355ca",
   "metadata": {},
   "outputs": [
    {
     "name": "stdout",
     "output_type": "stream",
     "text": [
      "18.0\n"
     ]
    }
   ],
   "source": [
    "print(df.loc[124,\"Fuel_capacity\"])"
   ]
  },
  {
   "cell_type": "code",
   "execution_count": 35,
   "id": "3edb3def-8062-4fa8-9a99-9d52c02528ee",
   "metadata": {},
   "outputs": [
    {
     "name": "stdout",
     "output_type": "stream",
     "text": [
      "20.0\n"
     ]
    }
   ],
   "source": [
    "print(df3.loc[124,\"Fuel_capacity\"])"
   ]
  },
  {
   "cell_type": "markdown",
   "id": "cc37ae1d-df09-4cc9-90a5-0462223caa2d",
   "metadata": {},
   "source": [
    "## Hidden Chaining\n",
    "\n",
    "this is a nightmare, but sometimes, this is the trigger we needed"
   ]
  },
  {
   "cell_type": "code",
   "execution_count": 36,
   "id": "4f5a92e8-4625-4de8-9f76-0df1957e35d3",
   "metadata": {},
   "outputs": [
    {
     "data": {
      "text/html": [
       "<div>\n",
       "<style scoped>\n",
       "    .dataframe tbody tr th:only-of-type {\n",
       "        vertical-align: middle;\n",
       "    }\n",
       "\n",
       "    .dataframe tbody tr th {\n",
       "        vertical-align: top;\n",
       "    }\n",
       "\n",
       "    .dataframe thead th {\n",
       "        text-align: right;\n",
       "    }\n",
       "</style>\n",
       "<table border=\"1\" class=\"dataframe\">\n",
       "  <thead>\n",
       "    <tr style=\"text-align: right;\">\n",
       "      <th></th>\n",
       "      <th>Manufacturer</th>\n",
       "      <th>Model</th>\n",
       "      <th>Sales_in_thousands</th>\n",
       "      <th>__year_resale_value</th>\n",
       "      <th>Vehicle_type</th>\n",
       "      <th>Price_in_thousands</th>\n",
       "      <th>Engine_size</th>\n",
       "      <th>Horsepower</th>\n",
       "      <th>Wheelbase</th>\n",
       "      <th>Width</th>\n",
       "      <th>Length</th>\n",
       "      <th>Curb_weight</th>\n",
       "      <th>Fuel_capacity</th>\n",
       "      <th>Fuel_efficiency</th>\n",
       "      <th>Latest_Launch</th>\n",
       "      <th>Power_perf_factor</th>\n",
       "    </tr>\n",
       "  </thead>\n",
       "  <tbody>\n",
       "    <tr>\n",
       "      <th>19</th>\n",
       "      <td>Chevrolet</td>\n",
       "      <td>Cavalier</td>\n",
       "      <td>145.519</td>\n",
       "      <td>9.250</td>\n",
       "      <td>Passenger</td>\n",
       "      <td>13.260</td>\n",
       "      <td>2.2</td>\n",
       "      <td>115.0</td>\n",
       "      <td>104.1</td>\n",
       "      <td>67.9</td>\n",
       "      <td>180.9</td>\n",
       "      <td>2.676</td>\n",
       "      <td>14.3</td>\n",
       "      <td>27.0</td>\n",
       "      <td>8/17/2011</td>\n",
       "      <td>46.363347</td>\n",
       "    </tr>\n",
       "    <tr>\n",
       "      <th>20</th>\n",
       "      <td>Chevrolet</td>\n",
       "      <td>Malibu</td>\n",
       "      <td>135.126</td>\n",
       "      <td>11.225</td>\n",
       "      <td>Passenger</td>\n",
       "      <td>16.535</td>\n",
       "      <td>3.1</td>\n",
       "      <td>170.0</td>\n",
       "      <td>107.0</td>\n",
       "      <td>69.4</td>\n",
       "      <td>190.4</td>\n",
       "      <td>3.051</td>\n",
       "      <td>15.0</td>\n",
       "      <td>25.0</td>\n",
       "      <td>3/19/2012</td>\n",
       "      <td>67.314462</td>\n",
       "    </tr>\n",
       "    <tr>\n",
       "      <th>21</th>\n",
       "      <td>Chevrolet</td>\n",
       "      <td>Lumina</td>\n",
       "      <td>24.629</td>\n",
       "      <td>10.310</td>\n",
       "      <td>Passenger</td>\n",
       "      <td>18.890</td>\n",
       "      <td>3.1</td>\n",
       "      <td>175.0</td>\n",
       "      <td>107.5</td>\n",
       "      <td>72.5</td>\n",
       "      <td>200.9</td>\n",
       "      <td>3.330</td>\n",
       "      <td>16.6</td>\n",
       "      <td>25.0</td>\n",
       "      <td>5/24/2011</td>\n",
       "      <td>69.991396</td>\n",
       "    </tr>\n",
       "    <tr>\n",
       "      <th>22</th>\n",
       "      <td>Chevrolet</td>\n",
       "      <td>Monte Carlo</td>\n",
       "      <td>42.593</td>\n",
       "      <td>11.525</td>\n",
       "      <td>Passenger</td>\n",
       "      <td>19.390</td>\n",
       "      <td>3.4</td>\n",
       "      <td>180.0</td>\n",
       "      <td>110.5</td>\n",
       "      <td>72.7</td>\n",
       "      <td>197.9</td>\n",
       "      <td>3.340</td>\n",
       "      <td>17.0</td>\n",
       "      <td>27.0</td>\n",
       "      <td>12/22/2011</td>\n",
       "      <td>72.030917</td>\n",
       "    </tr>\n",
       "    <tr>\n",
       "      <th>23</th>\n",
       "      <td>Chevrolet</td>\n",
       "      <td>Camaro</td>\n",
       "      <td>26.402</td>\n",
       "      <td>13.025</td>\n",
       "      <td>Passenger</td>\n",
       "      <td>24.340</td>\n",
       "      <td>3.8</td>\n",
       "      <td>200.0</td>\n",
       "      <td>101.1</td>\n",
       "      <td>74.1</td>\n",
       "      <td>193.2</td>\n",
       "      <td>3.500</td>\n",
       "      <td>16.8</td>\n",
       "      <td>25.0</td>\n",
       "      <td>10/23/2011</td>\n",
       "      <td>81.118543</td>\n",
       "    </tr>\n",
       "    <tr>\n",
       "      <th>24</th>\n",
       "      <td>Chevrolet</td>\n",
       "      <td>Corvette</td>\n",
       "      <td>17.947</td>\n",
       "      <td>36.225</td>\n",
       "      <td>Passenger</td>\n",
       "      <td>45.705</td>\n",
       "      <td>5.7</td>\n",
       "      <td>345.0</td>\n",
       "      <td>104.5</td>\n",
       "      <td>73.6</td>\n",
       "      <td>179.7</td>\n",
       "      <td>3.210</td>\n",
       "      <td>19.1</td>\n",
       "      <td>22.0</td>\n",
       "      <td>5/12/2012</td>\n",
       "      <td>141.141150</td>\n",
       "    </tr>\n",
       "    <tr>\n",
       "      <th>25</th>\n",
       "      <td>Chevrolet</td>\n",
       "      <td>Prizm</td>\n",
       "      <td>32.299</td>\n",
       "      <td>9.125</td>\n",
       "      <td>Passenger</td>\n",
       "      <td>13.960</td>\n",
       "      <td>1.8</td>\n",
       "      <td>120.0</td>\n",
       "      <td>97.1</td>\n",
       "      <td>66.7</td>\n",
       "      <td>174.3</td>\n",
       "      <td>2.398</td>\n",
       "      <td>13.2</td>\n",
       "      <td>33.0</td>\n",
       "      <td>9/11/2011</td>\n",
       "      <td>48.297636</td>\n",
       "    </tr>\n",
       "    <tr>\n",
       "      <th>26</th>\n",
       "      <td>Chevrolet</td>\n",
       "      <td>Metro</td>\n",
       "      <td>21.855</td>\n",
       "      <td>5.160</td>\n",
       "      <td>Passenger</td>\n",
       "      <td>9.235</td>\n",
       "      <td>1.0</td>\n",
       "      <td>55.0</td>\n",
       "      <td>93.1</td>\n",
       "      <td>62.6</td>\n",
       "      <td>149.4</td>\n",
       "      <td>1.895</td>\n",
       "      <td>10.3</td>\n",
       "      <td>45.0</td>\n",
       "      <td>4/13/2012</td>\n",
       "      <td>23.276272</td>\n",
       "    </tr>\n",
       "    <tr>\n",
       "      <th>27</th>\n",
       "      <td>Chevrolet</td>\n",
       "      <td>Impala</td>\n",
       "      <td>107.995</td>\n",
       "      <td>NaN</td>\n",
       "      <td>Passenger</td>\n",
       "      <td>18.890</td>\n",
       "      <td>3.4</td>\n",
       "      <td>180.0</td>\n",
       "      <td>110.5</td>\n",
       "      <td>73.0</td>\n",
       "      <td>200.0</td>\n",
       "      <td>3.389</td>\n",
       "      <td>17.0</td>\n",
       "      <td>27.0</td>\n",
       "      <td>6/18/2011</td>\n",
       "      <td>71.838039</td>\n",
       "    </tr>\n",
       "  </tbody>\n",
       "</table>\n",
       "</div>"
      ],
      "text/plain": [
       "   Manufacturer        Model  Sales_in_thousands  __year_resale_value  \\\n",
       "19    Chevrolet     Cavalier             145.519                9.250   \n",
       "20    Chevrolet       Malibu             135.126               11.225   \n",
       "21    Chevrolet       Lumina              24.629               10.310   \n",
       "22    Chevrolet  Monte Carlo              42.593               11.525   \n",
       "23    Chevrolet       Camaro              26.402               13.025   \n",
       "24    Chevrolet     Corvette              17.947               36.225   \n",
       "25    Chevrolet        Prizm              32.299                9.125   \n",
       "26    Chevrolet        Metro              21.855                5.160   \n",
       "27    Chevrolet       Impala             107.995                  NaN   \n",
       "\n",
       "   Vehicle_type  Price_in_thousands  Engine_size  Horsepower  Wheelbase  \\\n",
       "19    Passenger              13.260          2.2       115.0      104.1   \n",
       "20    Passenger              16.535          3.1       170.0      107.0   \n",
       "21    Passenger              18.890          3.1       175.0      107.5   \n",
       "22    Passenger              19.390          3.4       180.0      110.5   \n",
       "23    Passenger              24.340          3.8       200.0      101.1   \n",
       "24    Passenger              45.705          5.7       345.0      104.5   \n",
       "25    Passenger              13.960          1.8       120.0       97.1   \n",
       "26    Passenger               9.235          1.0        55.0       93.1   \n",
       "27    Passenger              18.890          3.4       180.0      110.5   \n",
       "\n",
       "    Width  Length  Curb_weight  Fuel_capacity  Fuel_efficiency Latest_Launch  \\\n",
       "19   67.9   180.9        2.676           14.3             27.0     8/17/2011   \n",
       "20   69.4   190.4        3.051           15.0             25.0     3/19/2012   \n",
       "21   72.5   200.9        3.330           16.6             25.0     5/24/2011   \n",
       "22   72.7   197.9        3.340           17.0             27.0    12/22/2011   \n",
       "23   74.1   193.2        3.500           16.8             25.0    10/23/2011   \n",
       "24   73.6   179.7        3.210           19.1             22.0     5/12/2012   \n",
       "25   66.7   174.3        2.398           13.2             33.0     9/11/2011   \n",
       "26   62.6   149.4        1.895           10.3             45.0     4/13/2012   \n",
       "27   73.0   200.0        3.389           17.0             27.0     6/18/2011   \n",
       "\n",
       "    Power_perf_factor  \n",
       "19          46.363347  \n",
       "20          67.314462  \n",
       "21          69.991396  \n",
       "22          72.030917  \n",
       "23          81.118543  \n",
       "24         141.141150  \n",
       "25          48.297636  \n",
       "26          23.276272  \n",
       "27          71.838039  "
      ]
     },
     "execution_count": 36,
     "metadata": {},
     "output_type": "execute_result"
    }
   ],
   "source": [
    "chevrolet_cars = df.loc[df[\"Manufacturer\"] == \"Chevrolet\"]\n",
    "chevrolet_cars"
   ]
  },
  {
   "cell_type": "code",
   "execution_count": 37,
   "id": "faf63097-ef88-4cdd-9df4-bdd519fddda7",
   "metadata": {},
   "outputs": [
    {
     "data": {
      "text/plain": [
       "Cavalier       1\n",
       "Malibu         1\n",
       "Lumina         1\n",
       "Monte Carlo    1\n",
       "Camaro         1\n",
       "Corvette       1\n",
       "Prizm          1\n",
       "Metro          1\n",
       "Impala         1\n",
       "Name: Model, dtype: int64"
      ]
     },
     "execution_count": 37,
     "metadata": {},
     "output_type": "execute_result"
    }
   ],
   "source": [
    "chevrolet_cars[\"Model\"].value_counts()"
   ]
  },
  {
   "cell_type": "code",
   "execution_count": 38,
   "id": "522f9f03-b305-4734-831d-36b82546c7af",
   "metadata": {},
   "outputs": [
    {
     "data": {
      "text/plain": [
       "52.335199979183336"
      ]
     },
     "execution_count": 38,
     "metadata": {},
     "output_type": "execute_result"
    }
   ],
   "source": [
    "chevrolet_cars[\"Sales_in_thousands\"].std()"
   ]
  },
  {
   "cell_type": "code",
   "execution_count": 39,
   "id": "76cd42ff-7f65-4448-a838-b4472a96035a",
   "metadata": {},
   "outputs": [
    {
     "data": {
      "text/plain": [
       "36.225"
      ]
     },
     "execution_count": 39,
     "metadata": {},
     "output_type": "execute_result"
    }
   ],
   "source": [
    "chevrolet_cars[\"__year_resale_value\"].max()"
   ]
  },
  {
   "cell_type": "code",
   "execution_count": 40,
   "id": "598b9fc2-8c4c-4af9-bc66-d46f5f0902ab",
   "metadata": {},
   "outputs": [],
   "source": [
    "chevrolet_cars.loc[20, \"Price_in_thousands\"] = 17.638"
   ]
  },
  {
   "cell_type": "markdown",
   "id": "3ac47757-6442-4f5e-9514-43279483df52",
   "metadata": {
    "tags": []
   },
   "source": [
    "# The solution\n",
    "\n",
    "Treating code transformations as a pipeline that receives dataframe + arguments and returns dataframe is, in general, a good solution, but you may face some issues when a funciton changes elements inplace from the input dataframe passed as an argument, as python may pass this as a reference.\n",
    "\n",
    "Good old `.copy()` operator guarantees that you won't have problems with that. There are also some false positives, specially when you are to overwrite an already existing dataframe.\n",
    "\n",
    "If you run in separate cells though, it's likely that it will disappear.\n",
    "\n",
    "Keep it functional, keep it safe\n",
    "\n",
    "# **ALWAYS MAKE A COPY IN THE FUNCTIONS YOU CALL ON THE PIPELINE**\n",
    "THIS WAY YOU WILL PREVENT BUGS FROM A FUNCTION MUTATING THE INNER OPERATIONS OF THE FUNCTION\n",
    "\n",
    "YOU MAY USE DECORATORS IN ORDER TO DO THAT IN A CLASSY WAY"
   ]
  },
  {
   "cell_type": "code",
   "execution_count": 41,
   "id": "35b4dff6-fe6f-4657-a0ce-e0e44510d8b8",
   "metadata": {},
   "outputs": [
    {
     "name": "stderr",
     "output_type": "stream",
     "text": [
      "C:\\Users\\gransotto gustavo\\AppData\\Local\\Temp\\ipykernel_15100\\2558624483.py:2: SettingWithCopyWarning: \n",
      "A value is trying to be set on a copy of a slice from a DataFrame.\n",
      "Try using .loc[row_indexer,col_indexer] = value instead\n",
      "\n",
      "See the caveats in the documentation: https://pandas.pydata.org/pandas-docs/stable/user_guide/indexing.html#returning-a-view-versus-a-copy\n",
      "  df[\"In Stock\"] = 'True'\n"
     ]
    }
   ],
   "source": [
    "df = df[df[\"Vehicle_type\"] == \"Passenger\"]\n",
    "df[\"In Stock\"] = 'True'"
   ]
  },
  {
   "cell_type": "markdown",
   "id": "8f0dc25a-84c3-439a-af63-55e7689c43a6",
   "metadata": {},
   "source": [
    "# Random tests\n",
    "\n",
    "- Não tem uma super solução para unpack os valores de uma função que retorna um tuple com mais elementos além do dataframe principal\n",
    "- Para chain vários métodos de processamento usando pd.pipe() você precisa criar um wrapper, ou seja, uma etapa intermediária para unpack e chamar de novo"
   ]
  },
  {
   "cell_type": "code",
   "execution_count": 42,
   "id": "dd33d481-7b78-478e-97f9-c2380d59f91c",
   "metadata": {},
   "outputs": [
    {
     "ename": "AttributeError",
     "evalue": "'tuple' object has no attribute 'pipe'",
     "output_type": "error",
     "traceback": [
      "\u001b[1;31m---------------------------------------------------------------------------\u001b[0m",
      "\u001b[1;31mAttributeError\u001b[0m                            Traceback (most recent call last)",
      "Cell \u001b[1;32mIn[42], line 27\u001b[0m\n\u001b[0;32m     23\u001b[0m     \u001b[38;5;28;01mreturn\u001b[39;00m df, val1\u001b[38;5;241m.\u001b[39mupper(), val2\u001b[38;5;241m.\u001b[39mlower()\n\u001b[0;32m     25\u001b[0m \u001b[38;5;66;03m# use the pipe function to chain the two functions together\u001b[39;00m\n\u001b[0;32m     26\u001b[0m result \u001b[38;5;241m=\u001b[39m (\u001b[43mdf\u001b[49m\u001b[38;5;241;43m.\u001b[39;49m\u001b[43mpipe\u001b[49m\u001b[43m(\u001b[49m\u001b[43mprocess_data\u001b[49m\u001b[43m)\u001b[49m\n\u001b[1;32m---> 27\u001b[0m \u001b[43m           \u001b[49m\u001b[38;5;241;43m.\u001b[39;49m\u001b[43mpipe\u001b[49m(process_additional_values, \u001b[38;5;124m'\u001b[39m\u001b[38;5;124mhello\u001b[39m\u001b[38;5;124m'\u001b[39m, \u001b[38;5;124m'\u001b[39m\u001b[38;5;124mWORLD\u001b[39m\u001b[38;5;124m'\u001b[39m))\n\u001b[0;32m     29\u001b[0m \u001b[38;5;66;03m# display the final result\u001b[39;00m\n\u001b[0;32m     30\u001b[0m \u001b[38;5;28mprint\u001b[39m(result)\n",
      "\u001b[1;31mAttributeError\u001b[0m: 'tuple' object has no attribute 'pipe'"
     ]
    }
   ],
   "source": [
    "# create a sample dataframe\n",
    "df = pd.DataFrame({\n",
    "    'A': [1, 2, 3],\n",
    "    'B': [4, 5, 6],\n",
    "    'C': [7, 8, 9]\n",
    "})\n",
    "\n",
    "# define a function that processes the data and returns additional values\n",
    "def process_data(df):\n",
    "    # do some processing\n",
    "    df['D'] = df['A'] + df['B']\n",
    "    df['E'] = df['B'] * df['C']\n",
    "    \n",
    "    # return the modified dataframe and additional values\n",
    "    return df, 'foo', 'bar'\n",
    "\n",
    "# define another function that processes the data and additional values\n",
    "def process_additional_values(df, val1, val2):\n",
    "    # do some processing with the additional values\n",
    "    df['F'] = np.random.randint(10, size=len(df))\n",
    "    \n",
    "    # return the modified dataframe and additional values\n",
    "    return df, val1.upper(), val2.lower()\n",
    "\n",
    "# use the pipe function to chain the two functions together\n",
    "result = (df.pipe(process_data)\n",
    "           .pipe(process_additional_values, 'hello', 'WORLD'))\n",
    "\n",
    "# display the final result\n",
    "print(result)"
   ]
  },
  {
   "cell_type": "code",
   "execution_count": 43,
   "id": "3ed982fc-5afa-4c59-8488-9dd1db67a149",
   "metadata": {},
   "outputs": [
    {
     "ename": "AttributeError",
     "evalue": "'tuple' object has no attribute 'pipe'",
     "output_type": "error",
     "traceback": [
      "\u001b[1;31m---------------------------------------------------------------------------\u001b[0m",
      "\u001b[1;31mAttributeError\u001b[0m                            Traceback (most recent call last)",
      "Cell \u001b[1;32mIn[43], line 4\u001b[0m\n\u001b[0;32m      1\u001b[0m \u001b[38;5;66;03m# You can use a lambda funciton to unpack values from the previous call into the next\u001b[39;00m\n\u001b[0;32m      3\u001b[0m result \u001b[38;5;241m=\u001b[39m (\u001b[43mdf\u001b[49m\u001b[38;5;241;43m.\u001b[39;49m\u001b[43mpipe\u001b[49m\u001b[43m(\u001b[49m\u001b[43mprocess_data\u001b[49m\u001b[43m)\u001b[49m\n\u001b[1;32m----> 4\u001b[0m \u001b[43m           \u001b[49m\u001b[38;5;241;43m.\u001b[39;49m\u001b[43mpipe\u001b[49m(\u001b[38;5;28;01mlambda\u001b[39;00m x: process_additional_values(\u001b[38;5;241m*\u001b[39mx)))\n",
      "\u001b[1;31mAttributeError\u001b[0m: 'tuple' object has no attribute 'pipe'"
     ]
    }
   ],
   "source": [
    "# You can use a lambda funciton to unpack values from the previous call into the next\n",
    "\n",
    "result = (df.pipe(process_data)\n",
    "           .pipe(lambda x: process_additional_values(*x)))"
   ]
  },
  {
   "cell_type": "markdown",
   "id": "7bc742f0-f09a-4276-b3c3-657a61fb8bb1",
   "metadata": {},
   "source": [
    "## Solução que vem em mente\n",
    "- Ao invés de retornar na saída do pipe, mutar o argumento de entrada pode ser uma solução, especialmente quando estamos mutando"
   ]
  },
  {
   "cell_type": "code",
   "execution_count": 57,
   "id": "482c9270-7d53-4300-bbe3-2bbe154aeba0",
   "metadata": {},
   "outputs": [],
   "source": [
    "class ArgumentToBePassed:\n",
    "    def __init__(self, foo: int, bar: int) -> None:\n",
    "        self.foo = foo\n",
    "        self.bar = bar\n",
    "    def add_one(self):\n",
    "        self.foo += 1\n",
    "        self.bar += 1\n",
    "    def __str__(self):\n",
    "        return f\"ArgumentToBePassed: foo {self.foo}, bar {self.bar}\" "
   ]
  },
  {
   "cell_type": "code",
   "execution_count": 58,
   "id": "775baeb4-fe4d-417c-8adf-a33cd005ad05",
   "metadata": {},
   "outputs": [
    {
     "name": "stdout",
     "output_type": "stream",
     "text": [
      "ArgumentToBePassed: foo 2, bar 3\n"
     ]
    }
   ],
   "source": [
    "argument_to_be_changed = ArgumentToBePassed(2,3)\n",
    "print(argument_to_be_changed)"
   ]
  },
  {
   "cell_type": "code",
   "execution_count": 59,
   "id": "1e4ec36a-35fe-4109-9d02-294808d54240",
   "metadata": {},
   "outputs": [
    {
     "name": "stdout",
     "output_type": "stream",
     "text": [
      "ArgumentToBePassed: foo 3, bar 4\n",
      "ArgumentToBePassed: foo 5, bar 6\n"
     ]
    }
   ],
   "source": [
    "# create a sample dataframe\n",
    "df = pd.DataFrame({\n",
    "    'A': [1, 2, 3],\n",
    "    'B': [4, 5, 6],\n",
    "    'C': [7, 8, 9]\n",
    "})\n",
    "\n",
    "def process_data(df, argument):\n",
    "    # do some processing\n",
    "    df['D'] = df['A'] + df['B']\n",
    "    df['E'] = df['B'] * df['C']\n",
    "    \n",
    "    argument.add_one()\n",
    "    argument.add_one()\n",
    "    \n",
    "    # return the modified dataframe, argument is modified in itself\n",
    "    return df\n",
    "\n",
    "# define another function that processes the data and additional values\n",
    "def process_additional_values(df):\n",
    "    # do some processing with the additional values\n",
    "    df['F'] = np.random.randint(10, size=len(df))\n",
    "    \n",
    "    # return the modified dataframe\n",
    "    return df\n",
    "\n",
    "\n",
    "# execution \n",
    "argument_to_be_changed = ArgumentToBePassed(3,4)\n",
    "\n",
    "print(argument_to_be_changed)\n",
    "\n",
    "results = (df\n",
    "           .pipe(process_data, argument_to_be_changed)\n",
    "           .pipe(process_additional_values))\n",
    "\n",
    "print(argument_to_be_changed)"
   ]
  },
  {
   "cell_type": "code",
   "execution_count": 76,
   "id": "26111ec0-4272-41b0-9238-ad79497a50ba",
   "metadata": {},
   "outputs": [
    {
     "data": {
      "text/html": [
       "<div>\n",
       "<style scoped>\n",
       "    .dataframe tbody tr th:only-of-type {\n",
       "        vertical-align: middle;\n",
       "    }\n",
       "\n",
       "    .dataframe tbody tr th {\n",
       "        vertical-align: top;\n",
       "    }\n",
       "\n",
       "    .dataframe thead th {\n",
       "        text-align: right;\n",
       "    }\n",
       "</style>\n",
       "<table border=\"1\" class=\"dataframe\">\n",
       "  <thead>\n",
       "    <tr style=\"text-align: right;\">\n",
       "      <th></th>\n",
       "      <th>A</th>\n",
       "      <th>B</th>\n",
       "      <th>C</th>\n",
       "      <th>D</th>\n",
       "      <th>E</th>\n",
       "      <th>F</th>\n",
       "    </tr>\n",
       "  </thead>\n",
       "  <tbody>\n",
       "    <tr>\n",
       "      <th>0</th>\n",
       "      <td>1</td>\n",
       "      <td>4</td>\n",
       "      <td>7</td>\n",
       "      <td>5</td>\n",
       "      <td>28</td>\n",
       "      <td>8</td>\n",
       "    </tr>\n",
       "    <tr>\n",
       "      <th>1</th>\n",
       "      <td>2</td>\n",
       "      <td>5</td>\n",
       "      <td>8</td>\n",
       "      <td>7</td>\n",
       "      <td>40</td>\n",
       "      <td>1</td>\n",
       "    </tr>\n",
       "    <tr>\n",
       "      <th>2</th>\n",
       "      <td>3</td>\n",
       "      <td>6</td>\n",
       "      <td>9</td>\n",
       "      <td>9</td>\n",
       "      <td>54</td>\n",
       "      <td>2</td>\n",
       "    </tr>\n",
       "  </tbody>\n",
       "</table>\n",
       "</div>"
      ],
      "text/plain": [
       "   A  B  C  D   E  F\n",
       "0  1  4  7  5  28  8\n",
       "1  2  5  8  7  40  1\n",
       "2  3  6  9  9  54  2"
      ]
     },
     "execution_count": 76,
     "metadata": {},
     "output_type": "execute_result"
    }
   ],
   "source": [
    "df # changes inplace in function input"
   ]
  },
  {
   "cell_type": "markdown",
   "id": "6cc51364-faf0-4e2a-a945-1aba42d6514f",
   "metadata": {},
   "source": [
    "# Melhorando ainda mais - decorators para evitar o setcopywithwarnings\n",
    "\n",
    "O padrão ouro de fazer as coisas no python é envelopar o processo de tratamento de dados em uma função \n",
    "```\n",
    "def fn (dataframe, **kwargs):\n",
    "    # tratamento do dataframe\n",
    "    return dataframe\n",
    "    \n",
    "result = df.pipe(fn, arg1, arg2, ...)\n",
    "```\n",
    "\n",
    "Porém, para evitar problemas de mutabilidade... é uma boa prática colocar um .copy() no início da função, mas isso não bate com boas práticas de clean code (DRY - don't repeat yourself). Como no exemplo abaixo:\n",
    "\n",
    "```\n",
    "def fn (dataframe, **kwargs):\n",
    "    df = dataframe.copy()\n",
    "    # tratamento do dataframe\n",
    "    return df\n",
    "    \n",
    "result = df.pipe(fn, arg1, arg2, ...)\n",
    "```\n",
    "\n",
    "\n",
    "A solução? Decorators!\n",
    "\n",
    "Mas ainda não sei fazer... checar [esse link](https://realpython.com/primer-on-python-decorators/)\n",
    "\n",
    "```\n",
    "def df_deep_copy(func):\n",
    "\n",
    "    def deep_copy_wrapper(*args, **kwargs):\n",
    "        arg0, *other_args = args\n",
    "        return func(arg0.copy(), *other_args, **kwargs)\n",
    "    \n",
    "    return deep_copy_wrapper\n",
    "    \n",
    "@deep_copy_wrapper\n",
    "def fn (dataframe, **kwargs):\n",
    "    df = dataframe.copy()\n",
    "    # tratamento do dataframe\n",
    "    return df\n",
    "    \n",
    "result = df.pipe(fn, arg1, arg2, ...)\n",
    "```\n",
    "\n",
    "Let's try!"
   ]
  },
  {
   "cell_type": "code",
   "execution_count": 63,
   "id": "a038a6f5-9d14-4f4e-8412-8112eb403ba1",
   "metadata": {},
   "outputs": [],
   "source": [
    "def print_args(*args, **kwargs):\n",
    "    print(args)\n",
    "    print(kwargs)"
   ]
  },
  {
   "cell_type": "code",
   "execution_count": 64,
   "id": "ce7cae55-7ca3-40fe-a593-90ec638a6858",
   "metadata": {},
   "outputs": [
    {
     "name": "stdout",
     "output_type": "stream",
     "text": [
      "('arg1', 'arg2')\n",
      "{'kwarg1': 1, 'kwarg2': 2}\n"
     ]
    }
   ],
   "source": [
    "print_args('arg1','arg2',kwarg1=1, kwarg2=2)"
   ]
  },
  {
   "cell_type": "code",
   "execution_count": 74,
   "id": "7b07b1f1-c427-4ff8-ae8d-fda8729766f1",
   "metadata": {},
   "outputs": [
    {
     "name": "stdout",
     "output_type": "stream",
     "text": [
      "2\n",
      "[3, 4, 5]\n"
     ]
    }
   ],
   "source": [
    "arg, *rest_of_args = (2,3,4,5)\n",
    "print(arg)\n",
    "print(rest_of_args)"
   ]
  },
  {
   "cell_type": "code",
   "execution_count": 75,
   "id": "a99a338e-3e93-4df9-ac9a-537742f61645",
   "metadata": {},
   "outputs": [],
   "source": [
    "def deep_copy_df(pipe_func): # receives a function, returns a function\n",
    "    def deep_copy_wrapper(*args, **kwargs):\n",
    "        df, *additional_args = args\n",
    "        return pipe_func(df.copy(), *additional_args, **kwargs)\n",
    "    return deep_copy_wrapper"
   ]
  },
  {
   "cell_type": "code",
   "execution_count": 77,
   "id": "4451a7f8-7c19-4cee-be96-363f4e37a308",
   "metadata": {},
   "outputs": [
    {
     "name": "stdout",
     "output_type": "stream",
     "text": [
      "ArgumentToBePassed: foo 3, bar 4\n",
      "ArgumentToBePassed: foo 5, bar 6\n"
     ]
    }
   ],
   "source": [
    "# create a sample dataframe\n",
    "df = pd.DataFrame({\n",
    "    'A': [1, 2, 3],\n",
    "    'B': [4, 5, 6],\n",
    "    'C': [7, 8, 9]\n",
    "})\n",
    "\n",
    "@deep_copy_df\n",
    "def process_data(df, argument):\n",
    "    # do some processing\n",
    "    df['D'] = df['A'] + df['B']\n",
    "    df['E'] = df['B'] * df['C']\n",
    "    \n",
    "    argument.add_one()\n",
    "    argument.add_one()\n",
    "    \n",
    "    # return the modified dataframe, argument is modified in itself\n",
    "    return df\n",
    "\n",
    "# define another function that processes the data and additional values\n",
    "@deep_copy_df\n",
    "def process_additional_values(df):\n",
    "    # do some processing with the additional values\n",
    "    df['F'] = np.random.randint(10, size=len(df))\n",
    "    \n",
    "    # return the modified dataframe\n",
    "    return df\n",
    "\n",
    "\n",
    "# execution \n",
    "argument_to_be_changed = ArgumentToBePassed(3,4)\n",
    "\n",
    "print(argument_to_be_changed)\n",
    "\n",
    "results = (df\n",
    "           .pipe(process_data, argument_to_be_changed)\n",
    "           .pipe(process_additional_values))\n",
    "\n",
    "print(argument_to_be_changed)"
   ]
  },
  {
   "cell_type": "code",
   "execution_count": 78,
   "id": "78189288-6596-4690-9ba4-263dc12e49bc",
   "metadata": {},
   "outputs": [
    {
     "data": {
      "text/html": [
       "<div>\n",
       "<style scoped>\n",
       "    .dataframe tbody tr th:only-of-type {\n",
       "        vertical-align: middle;\n",
       "    }\n",
       "\n",
       "    .dataframe tbody tr th {\n",
       "        vertical-align: top;\n",
       "    }\n",
       "\n",
       "    .dataframe thead th {\n",
       "        text-align: right;\n",
       "    }\n",
       "</style>\n",
       "<table border=\"1\" class=\"dataframe\">\n",
       "  <thead>\n",
       "    <tr style=\"text-align: right;\">\n",
       "      <th></th>\n",
       "      <th>A</th>\n",
       "      <th>B</th>\n",
       "      <th>C</th>\n",
       "    </tr>\n",
       "  </thead>\n",
       "  <tbody>\n",
       "    <tr>\n",
       "      <th>0</th>\n",
       "      <td>1</td>\n",
       "      <td>4</td>\n",
       "      <td>7</td>\n",
       "    </tr>\n",
       "    <tr>\n",
       "      <th>1</th>\n",
       "      <td>2</td>\n",
       "      <td>5</td>\n",
       "      <td>8</td>\n",
       "    </tr>\n",
       "    <tr>\n",
       "      <th>2</th>\n",
       "      <td>3</td>\n",
       "      <td>6</td>\n",
       "      <td>9</td>\n",
       "    </tr>\n",
       "  </tbody>\n",
       "</table>\n",
       "</div>"
      ],
      "text/plain": [
       "   A  B  C\n",
       "0  1  4  7\n",
       "1  2  5  8\n",
       "2  3  6  9"
      ]
     },
     "execution_count": 78,
     "metadata": {},
     "output_type": "execute_result"
    }
   ],
   "source": [
    "df"
   ]
  },
  {
   "cell_type": "code",
   "execution_count": 79,
   "id": "f7fd64ba-b507-4dc0-b969-04c92ddee5fe",
   "metadata": {},
   "outputs": [
    {
     "data": {
      "text/html": [
       "<div>\n",
       "<style scoped>\n",
       "    .dataframe tbody tr th:only-of-type {\n",
       "        vertical-align: middle;\n",
       "    }\n",
       "\n",
       "    .dataframe tbody tr th {\n",
       "        vertical-align: top;\n",
       "    }\n",
       "\n",
       "    .dataframe thead th {\n",
       "        text-align: right;\n",
       "    }\n",
       "</style>\n",
       "<table border=\"1\" class=\"dataframe\">\n",
       "  <thead>\n",
       "    <tr style=\"text-align: right;\">\n",
       "      <th></th>\n",
       "      <th>A</th>\n",
       "      <th>B</th>\n",
       "      <th>C</th>\n",
       "      <th>D</th>\n",
       "      <th>E</th>\n",
       "      <th>F</th>\n",
       "    </tr>\n",
       "  </thead>\n",
       "  <tbody>\n",
       "    <tr>\n",
       "      <th>0</th>\n",
       "      <td>1</td>\n",
       "      <td>4</td>\n",
       "      <td>7</td>\n",
       "      <td>5</td>\n",
       "      <td>28</td>\n",
       "      <td>9</td>\n",
       "    </tr>\n",
       "    <tr>\n",
       "      <th>1</th>\n",
       "      <td>2</td>\n",
       "      <td>5</td>\n",
       "      <td>8</td>\n",
       "      <td>7</td>\n",
       "      <td>40</td>\n",
       "      <td>7</td>\n",
       "    </tr>\n",
       "    <tr>\n",
       "      <th>2</th>\n",
       "      <td>3</td>\n",
       "      <td>6</td>\n",
       "      <td>9</td>\n",
       "      <td>9</td>\n",
       "      <td>54</td>\n",
       "      <td>5</td>\n",
       "    </tr>\n",
       "  </tbody>\n",
       "</table>\n",
       "</div>"
      ],
      "text/plain": [
       "   A  B  C  D   E  F\n",
       "0  1  4  7  5  28  9\n",
       "1  2  5  8  7  40  7\n",
       "2  3  6  9  9  54  5"
      ]
     },
     "execution_count": 79,
     "metadata": {},
     "output_type": "execute_result"
    }
   ],
   "source": [
    "results"
   ]
  },
  {
   "cell_type": "markdown",
   "id": "493ab5c2-f089-445d-9eb3-1b014c98fdc8",
   "metadata": {},
   "source": [
    "## Additional study links\n",
    "https://practicaldatascience.co.uk/data-science/how-to-use-method-chaining-in-pandas\n",
    "https://towardsdatascience.com/how-to-avoid-a-pandas-pandemonium-e1bed456530\n",
    "https://github.com/pambot/notebooks/blob/master/pandas-pandemonium.ipynb\n",
    "https://www.aidancooper.co.uk/pandas-anti-patterns/"
   ]
  }
 ],
 "metadata": {
  "kernelspec": {
   "display_name": "Python 3 (ipykernel)",
   "language": "python",
   "name": "python3"
  },
  "language_info": {
   "codemirror_mode": {
    "name": "ipython",
    "version": 3
   },
   "file_extension": ".py",
   "mimetype": "text/x-python",
   "name": "python",
   "nbconvert_exporter": "python",
   "pygments_lexer": "ipython3",
   "version": "3.10.9"
  }
 },
 "nbformat": 4,
 "nbformat_minor": 5
}
