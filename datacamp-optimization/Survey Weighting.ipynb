{
 "cells": [
  {
   "cell_type": "markdown",
   "id": "2717227e-1e1a-47d1-8e88-37f7111f06f0",
   "metadata": {},
   "source": [
    "# Primary Research Weigthing  Use Case\n",
    "\n",
    "- Whenever you find yourself conducting a primary research htere is always the question whether your sample is representative of the whole population\n",
    "\n",
    "- One of the strategies that can be used for a survey to be representative is to stratify the sample into  subsets that match the population as a whole. When conducting a massive primary research, you frequently  want your sample to follow demographic distributions of the original population, oftentimes available as public data\n",
    "\n",
    "- But pannels are not perfect and it is likely you won't find a perfect match in each subset of your data, therefore you need to perform what we call **sample weighting**, which means in simple terms giving different weights for each response so the aggregate sum of response weights is approximately the whole population distribution\n",
    "\n",
    "- You can model this problem as a linear programming problem where you want to minimize the aggregate error of the distribution in each demographic class vs the population itself\n",
    "\n",
    "- The problem is subject to constraints"
   ]
  },
  {
   "cell_type": "markdown",
   "id": "916ff610-74de-48bc-a2fc-0e9fda8bd687",
   "metadata": {},
   "source": [
    "## Whole population data"
   ]
  },
  {
   "cell_type": "code",
   "execution_count": 1,
   "id": "b33c9849-9bd4-491e-80be-81e82f7f9191",
   "metadata": {},
   "outputs": [],
   "source": [
    "target_proportion_gender = {\n",
    "    'Homem' : 0.5,\n",
    "    'Mulher': 0.5,\n",
    "    'Prefiro não responder': 0.0, \n",
    "    'Outro': 0.0,\n",
    "}"
   ]
  },
  {
   "cell_type": "code",
   "execution_count": 2,
   "id": "183e3ddc-178e-45bd-b573-a0f0ae925d1a",
   "metadata": {},
   "outputs": [],
   "source": [
    "target_proportion_income_level = {\n",
    "    'Acima de R$ 24.241': 0.028,\n",
    "    'Entre R$ 12.121 e R$24.240': 0.132, \n",
    "    'Entre R$ 4.849 e R$12.120': 0.333, \n",
    "    'Até R$4.848': 0.507,\n",
    "}"
   ]
  },
  {
   "cell_type": "code",
   "execution_count": 3,
   "id": "9423602f-0d21-4eb1-9563-3e7803b61c00",
   "metadata": {},
   "outputs": [],
   "source": [
    "target_proportion_age_group = {\n",
    "    '16-19': 0.04031725, \n",
    "    '20-24': 0.100462657,\n",
    "    '25-29': 0.096497026, \n",
    "    '30-39': 0.208856576, \n",
    "    '40-49': 0.182419035,  \n",
    "    '50-59': 0.163912756, \n",
    "    '60-64': 0.064771976,\n",
    "    '65+'  : 0.142762723,\n",
    "}"
   ]
  },
  {
   "cell_type": "code",
   "execution_count": 4,
   "id": "d4077ac2-4566-426e-831f-3b297b90dec0",
   "metadata": {},
   "outputs": [],
   "source": [
    "target_proportion_region = {\n",
    "    'Norte': 0.089,\n",
    "    'Nordeste': 0.27,\n",
    "    'Centro_Oeste': 0.078,\n",
    "    'Sudeste': 0.42,\n",
    "    'Sul': 0.143,\n",
    "}"
   ]
  },
  {
   "cell_type": "markdown",
   "id": "33f1f2c6-456c-4348-8d15-500a6f012b59",
   "metadata": {},
   "source": [
    "## Simpler use case - weigthing with proportion to only one variable (e.g. age)"
   ]
  },
  {
   "cell_type": "code",
   "execution_count": 5,
   "id": "88f645e2-fe44-4ee1-804a-867747cf56f0",
   "metadata": {},
   "outputs": [],
   "source": [
    "# load libraries to handle data and linear programming\n",
    "import pandas as pd\n",
    "import numpy as np\n",
    "import pulp as lp"
   ]
  },
  {
   "cell_type": "code",
   "execution_count": 6,
   "id": "41f8b9c4-6192-46e2-a29f-854ef8f961c4",
   "metadata": {},
   "outputs": [
    {
     "name": "stderr",
     "output_type": "stream",
     "text": [
      "C:\\Users\\gransotto gustavo\\AppData\\Local\\Temp\\ipykernel_4168\\667192333.py:1: DtypeWarning: Columns (62,63,64,65,66,67,578,584,585,631,637) have mixed types. Specify dtype option on import or set low_memory=False.\n",
      "  df_responses = pd.read_csv(\"./survey_responses.csv\")\n"
     ]
    }
   ],
   "source": [
    "df_responses = pd.read_csv(\"./survey_responses.csv\")"
   ]
  },
  {
   "cell_type": "code",
   "execution_count": 13,
   "id": "b4ba5984-f698-4e24-8cd2-238b534305d6",
   "metadata": {},
   "outputs": [
    {
     "data": {
      "text/plain": [
       "Index(['Respondent', 'Qualified', 'Term_reason', 'Start_time_GMT',\n",
       "       'End_time_GMT', 'Panel', 'age_group', 'metropolitan_area', 'region',\n",
       "       'region_metropolitan_area', 'watches_soccer',\n",
       "       'brazilian_championships_interested',\n",
       "       'interested_in_campeonato_brasileiro_a',\n",
       "       'interested_in_campeonato_brasileiro_b',\n",
       "       'watches_campeonato_brasileiro', 'watches_campeonato_brasileiro_a',\n",
       "       'watches_campeonato_brasileiro_b', 'watched_championships',\n",
       "       'full_launch', 'qc_speeder', 'qc_attention_sky_color', 'Q1', 'Q2', 'Q3',\n",
       "       'Q4', 'Q5', 'Q6', 'Q7.Futebol_Brasileiro_Masculino',\n",
       "       'Q7.Futebol_Brasileiro_Feminino', 'Q7.Futebol_Europeu'],\n",
       "      dtype='object')"
      ]
     },
     "execution_count": 13,
     "metadata": {},
     "output_type": "execute_result"
    }
   ],
   "source": [
    "df_responses.columns[:30]"
   ]
  },
  {
   "cell_type": "code",
   "execution_count": 22,
   "id": "94990ba3-2b6c-4ede-9b95-dd8170f40bf5",
   "metadata": {},
   "outputs": [
    {
     "data": {
      "text/plain": [
       "['Respondent', 'Qualified', 'age_group', 'Q1', 'Q2', 'Q3', 'Q4', 'Q5']"
      ]
     },
     "execution_count": 22,
     "metadata": {},
     "output_type": "execute_result"
    }
   ],
   "source": [
    "col_subset = [\"Respondent\",\"Qualified\",\"age_group\"]\n",
    "col_subset += [\"Q\"+str(i) for i in range(1,6)]\n",
    "col_subset"
   ]
  },
  {
   "cell_type": "code",
   "execution_count": 31,
   "id": "c3ec185d-5a19-46d0-bb4e-7c46568b65b9",
   "metadata": {},
   "outputs": [
    {
     "data": {
      "text/html": [
       "<div>\n",
       "<style scoped>\n",
       "    .dataframe tbody tr th:only-of-type {\n",
       "        vertical-align: middle;\n",
       "    }\n",
       "\n",
       "    .dataframe tbody tr th {\n",
       "        vertical-align: top;\n",
       "    }\n",
       "\n",
       "    .dataframe thead th {\n",
       "        text-align: right;\n",
       "    }\n",
       "</style>\n",
       "<table border=\"1\" class=\"dataframe\">\n",
       "  <thead>\n",
       "    <tr style=\"text-align: right;\">\n",
       "      <th></th>\n",
       "      <th>id</th>\n",
       "      <th>is_valid</th>\n",
       "      <th>age_group</th>\n",
       "      <th>age</th>\n",
       "      <th>state</th>\n",
       "      <th>city</th>\n",
       "      <th>income</th>\n",
       "      <th>gender</th>\n",
       "    </tr>\n",
       "  </thead>\n",
       "  <tbody>\n",
       "    <tr>\n",
       "      <th>0</th>\n",
       "      <td>231586344</td>\n",
       "      <td>1</td>\n",
       "      <td>40-49</td>\n",
       "      <td>45</td>\n",
       "      <td>Paraná</td>\n",
       "      <td>Ponta Grossa</td>\n",
       "      <td>Entre R$ 12.121 e R$24.240</td>\n",
       "      <td>Homem</td>\n",
       "    </tr>\n",
       "    <tr>\n",
       "      <th>1</th>\n",
       "      <td>1496882695</td>\n",
       "      <td>1</td>\n",
       "      <td>50-59</td>\n",
       "      <td>50</td>\n",
       "      <td>Pernambuco</td>\n",
       "      <td>Caruaru</td>\n",
       "      <td>Até R$4.848</td>\n",
       "      <td>Homem</td>\n",
       "    </tr>\n",
       "    <tr>\n",
       "      <th>2</th>\n",
       "      <td>102553465</td>\n",
       "      <td>1</td>\n",
       "      <td>50-59</td>\n",
       "      <td>50</td>\n",
       "      <td>Minas Gerais</td>\n",
       "      <td>Belo Horizonte</td>\n",
       "      <td>Entre R$ 4.849 e R$12.120</td>\n",
       "      <td>Mulher</td>\n",
       "    </tr>\n",
       "    <tr>\n",
       "      <th>3</th>\n",
       "      <td>185896109</td>\n",
       "      <td>1</td>\n",
       "      <td>30-39</td>\n",
       "      <td>32</td>\n",
       "      <td>São Paulo</td>\n",
       "      <td>São Paulo</td>\n",
       "      <td>Entre R$ 4.849 e R$12.120</td>\n",
       "      <td>Mulher</td>\n",
       "    </tr>\n",
       "    <tr>\n",
       "      <th>4</th>\n",
       "      <td>1511021362</td>\n",
       "      <td>1</td>\n",
       "      <td>30-39</td>\n",
       "      <td>34</td>\n",
       "      <td>Paraíba</td>\n",
       "      <td>Campina Grande</td>\n",
       "      <td>Entre R$ 12.121 e R$24.240</td>\n",
       "      <td>Mulher</td>\n",
       "    </tr>\n",
       "    <tr>\n",
       "      <th>...</th>\n",
       "      <td>...</td>\n",
       "      <td>...</td>\n",
       "      <td>...</td>\n",
       "      <td>...</td>\n",
       "      <td>...</td>\n",
       "      <td>...</td>\n",
       "      <td>...</td>\n",
       "      <td>...</td>\n",
       "    </tr>\n",
       "    <tr>\n",
       "      <th>1898</th>\n",
       "      <td>1952468339</td>\n",
       "      <td>1</td>\n",
       "      <td>20-24</td>\n",
       "      <td>24</td>\n",
       "      <td>Paraná</td>\n",
       "      <td>Arapongas</td>\n",
       "      <td>Até R$4.848</td>\n",
       "      <td>Homem</td>\n",
       "    </tr>\n",
       "    <tr>\n",
       "      <th>1899</th>\n",
       "      <td>1626730749</td>\n",
       "      <td>1</td>\n",
       "      <td>60-64</td>\n",
       "      <td>63</td>\n",
       "      <td>Distrito Federal</td>\n",
       "      <td>Brasília</td>\n",
       "      <td>Entre R$ 12.121 e R$24.240</td>\n",
       "      <td>Homem</td>\n",
       "    </tr>\n",
       "    <tr>\n",
       "      <th>1900</th>\n",
       "      <td>236065267</td>\n",
       "      <td>1</td>\n",
       "      <td>50-59</td>\n",
       "      <td>53</td>\n",
       "      <td>Espírito Santo</td>\n",
       "      <td>São Mateus</td>\n",
       "      <td>Entre R$ 4.849 e R$12.120</td>\n",
       "      <td>Homem</td>\n",
       "    </tr>\n",
       "    <tr>\n",
       "      <th>1901</th>\n",
       "      <td>158055050</td>\n",
       "      <td>1</td>\n",
       "      <td>20-24</td>\n",
       "      <td>24</td>\n",
       "      <td>São Paulo</td>\n",
       "      <td>Sorocaba</td>\n",
       "      <td>Entre R$ 4.849 e R$12.120</td>\n",
       "      <td>Homem</td>\n",
       "    </tr>\n",
       "    <tr>\n",
       "      <th>1902</th>\n",
       "      <td>210959640</td>\n",
       "      <td>1</td>\n",
       "      <td>65+</td>\n",
       "      <td>71</td>\n",
       "      <td>Pernambuco</td>\n",
       "      <td>Recife</td>\n",
       "      <td>Entre R$ 12.121 e R$24.240</td>\n",
       "      <td>Homem</td>\n",
       "    </tr>\n",
       "  </tbody>\n",
       "</table>\n",
       "<p>1903 rows × 8 columns</p>\n",
       "</div>"
      ],
      "text/plain": [
       "              id  is_valid age_group  age              state            city  \\\n",
       "0      231586344         1     40-49   45             Paraná    Ponta Grossa   \n",
       "1     1496882695         1     50-59   50         Pernambuco         Caruaru   \n",
       "2      102553465         1     50-59   50       Minas Gerais  Belo Horizonte   \n",
       "3      185896109         1     30-39   32          São Paulo       São Paulo   \n",
       "4     1511021362         1     30-39   34            Paraíba  Campina Grande   \n",
       "...          ...       ...       ...  ...                ...             ...   \n",
       "1898  1952468339         1     20-24   24             Paraná       Arapongas   \n",
       "1899  1626730749         1     60-64   63   Distrito Federal        Brasília   \n",
       "1900   236065267         1     50-59   53     Espírito Santo      São Mateus   \n",
       "1901   158055050         1     20-24   24          São Paulo        Sorocaba   \n",
       "1902   210959640         1       65+   71         Pernambuco          Recife   \n",
       "\n",
       "                          income  gender  \n",
       "0     Entre R$ 12.121 e R$24.240   Homem  \n",
       "1                    Até R$4.848   Homem  \n",
       "2      Entre R$ 4.849 e R$12.120  Mulher  \n",
       "3      Entre R$ 4.849 e R$12.120  Mulher  \n",
       "4     Entre R$ 12.121 e R$24.240  Mulher  \n",
       "...                          ...     ...  \n",
       "1898                 Até R$4.848   Homem  \n",
       "1899  Entre R$ 12.121 e R$24.240   Homem  \n",
       "1900   Entre R$ 4.849 e R$12.120   Homem  \n",
       "1901   Entre R$ 4.849 e R$12.120   Homem  \n",
       "1902  Entre R$ 12.121 e R$24.240   Homem  \n",
       "\n",
       "[1903 rows x 8 columns]"
      ]
     },
     "execution_count": 31,
     "metadata": {},
     "output_type": "execute_result"
    }
   ],
   "source": [
    "df = (df_responses[col_subset].copy()\n",
    "      .rename(columns={\"Respondent\":\"id\", \"Qualified\": \"is_valid\", \"Q1\":\"age\", \n",
    "                       \"Q2\":\"state\", \"Q3\":\"city\", \"Q4\": \"income\", \"Q5\":\"gender\"}))\n",
    "df"
   ]
  },
  {
   "cell_type": "code",
   "execution_count": 32,
   "id": "89c2e646-0503-41b1-a110-95637a845abc",
   "metadata": {},
   "outputs": [
    {
     "name": "stdout",
     "output_type": "stream",
     "text": [
      "<class 'pandas.core.frame.DataFrame'>\n",
      "RangeIndex: 1903 entries, 0 to 1902\n",
      "Data columns (total 8 columns):\n",
      " #   Column     Non-Null Count  Dtype \n",
      "---  ------     --------------  ----- \n",
      " 0   id         1903 non-null   int64 \n",
      " 1   is_valid   1903 non-null   int64 \n",
      " 2   age_group  1903 non-null   object\n",
      " 3   age        1903 non-null   int64 \n",
      " 4   state      1903 non-null   object\n",
      " 5   city       1903 non-null   object\n",
      " 6   income     1903 non-null   object\n",
      " 7   gender     1903 non-null   object\n",
      "dtypes: int64(3), object(5)\n",
      "memory usage: 119.1+ KB\n"
     ]
    }
   ],
   "source": [
    "df.info()"
   ]
  },
  {
   "cell_type": "code",
   "execution_count": 33,
   "id": "b6f710eb-9c99-4383-a8c0-9d1bf2b4ffa4",
   "metadata": {},
   "outputs": [
    {
     "data": {
      "text/plain": [
       "id           1903\n",
       "is_valid        1\n",
       "age_group       8\n",
       "age            64\n",
       "state          27\n",
       "city          549\n",
       "income          4\n",
       "gender          4\n",
       "dtype: int64"
      ]
     },
     "execution_count": 33,
     "metadata": {},
     "output_type": "execute_result"
    }
   ],
   "source": [
    "df.apply(pd.Series.nunique)"
   ]
  },
  {
   "cell_type": "code",
   "execution_count": 34,
   "id": "7a694105-59c6-4033-9c0b-a03159c98ee9",
   "metadata": {},
   "outputs": [],
   "source": [
    "df = df.drop(\"is_valid\", axis=1)"
   ]
  },
  {
   "cell_type": "code",
   "execution_count": 37,
   "id": "1830f406-17fc-4198-a6e8-470f407eb5e9",
   "metadata": {},
   "outputs": [
    {
     "data": {
      "text/plain": [
       "{'30-39': 425,\n",
       " '40-49': 386,\n",
       " '25-29': 289,\n",
       " '50-59': 283,\n",
       " '20-24': 239,\n",
       " '60-64': 121,\n",
       " '65+': 91,\n",
       " '16-19': 69}"
      ]
     },
     "execution_count": 37,
     "metadata": {},
     "output_type": "execute_result"
    }
   ],
   "source": [
    "responses_age_count = df[\"age_group\"].value_counts().to_dict()\n",
    "responses_age_count"
   ]
  },
  {
   "cell_type": "code",
   "execution_count": 92,
   "id": "1160e3c6-494d-4951-9476-202e292dd6e0",
   "metadata": {},
   "outputs": [],
   "source": [
    "total_respondents = 1903"
   ]
  },
  {
   "cell_type": "code",
   "execution_count": 108,
   "id": "7f6ae242-efc7-421c-9399-3c250bd3b707",
   "metadata": {},
   "outputs": [
    {
     "data": {
      "text/plain": [
       "{'30-39': 0.2233315817130846,\n",
       " '40-49': 0.20283762480294273,\n",
       " '25-29': 0.15186547556489752,\n",
       " '50-59': 0.1487125591171834,\n",
       " '20-24': 0.1255911718339464,\n",
       " '60-64': 0.06358381502890173,\n",
       " '65+': 0.047819232790331054,\n",
       " '16-19': 0.03625853914871256}"
      ]
     },
     "execution_count": 108,
     "metadata": {},
     "output_type": "execute_result"
    }
   ],
   "source": [
    "responses_age_perc = (df[\"age_group\"].value_counts() / total_respondents).to_dict()\n",
    "responses_age_perc"
   ]
  },
  {
   "cell_type": "code",
   "execution_count": 123,
   "id": "44eb225f-b134-4922-b4a5-b1634b800aec",
   "metadata": {},
   "outputs": [
    {
     "data": {
      "text/plain": [
       "{'16-19': 1.1119380688405796,\n",
       " '20-24': 0.7999181433933054,\n",
       " '25-29': 0.6354112127266437,\n",
       " '30-39': 0.9351860332423529,\n",
       " '40-49': 0.8993352943134715,\n",
       " '50-59': 1.102211924621908,\n",
       " '60-64': 1.0186865316363636,\n",
       " '65+': 2.9854666139450554}"
      ]
     },
     "execution_count": 123,
     "metadata": {},
     "output_type": "execute_result"
    }
   ],
   "source": [
    "age_weights = dict([(age,target_proportion_age_group[age]/responses_age_perc[age]) for age in target_proportion_age_group])\n",
    "age_weights"
   ]
  },
  {
   "cell_type": "code",
   "execution_count": 124,
   "id": "8de44f0c-79d7-4c48-b912-341d8cd29922",
   "metadata": {},
   "outputs": [
    {
     "data": {
      "text/plain": [
       "1902.999998097"
      ]
     },
     "execution_count": 124,
     "metadata": {},
     "output_type": "execute_result"
    }
   ],
   "source": [
    "df[\"weights\"] = df[\"age_group\"].apply(lambda age: age_weights[age])\n",
    "df[\"weights\"].sum()"
   ]
  },
  {
   "cell_type": "markdown",
   "id": "bf023a8f-73ea-4cbd-9674-3bb9dd52ac5a",
   "metadata": {},
   "source": [
    "### Problem definition\n",
    "- Assign weights to each respondent (~1900 variables)\n",
    "- Weights should be constrained between 0.5 and 1.5\n",
    "- Each age group represents a constraint, the sum of weights for that specific category subtracted from the actual proportion in population should be lower than a specific threshold\n",
    "- The objective is to minimize the sum of errors in all age-groups "
   ]
  },
  {
   "cell_type": "code",
   "execution_count": 113,
   "id": "29f94444-2d04-4f06-9ae6-62fdee264fa7",
   "metadata": {},
   "outputs": [],
   "source": [
    "vars_dict = lp.LpVariable.dicts(name=\"w\",indices=list(df[\"id\"].values.astype(str)),lowBound=0.5, upBound=3.0, cat='Continuous')"
   ]
  },
  {
   "cell_type": "code",
   "execution_count": 114,
   "id": "f5ce7abc-d84d-4551-85ef-b03ca8ef9990",
   "metadata": {},
   "outputs": [
    {
     "data": {
      "text/plain": [
       "{'16-19': 76.72372675,\n",
       " '20-24': 191.180436271,\n",
       " '25-29': 183.633840478,\n",
       " '30-39': 397.45406412799997,\n",
       " '40-49': 347.143423605,\n",
       " '50-59': 311.925974668,\n",
       " '60-64': 123.26107032799999,\n",
       " '65+': 271.677461869}"
      ]
     },
     "execution_count": 114,
     "metadata": {},
     "output_type": "execute_result"
    }
   ],
   "source": [
    "target_age_count = dict([(age, target_proportion_age_group[age] * total_respondents) for age in target_proportion_age_group])\n",
    "target_age_count"
   ]
  },
  {
   "cell_type": "code",
   "execution_count": 115,
   "id": "ff990f5b-9d61-4bbb-998a-f863a74c987c",
   "metadata": {},
   "outputs": [],
   "source": [
    "threshold = 0.1"
   ]
  },
  {
   "cell_type": "code",
   "execution_count": 116,
   "id": "fad223ff-0131-441b-9bec-d6664594d605",
   "metadata": {},
   "outputs": [],
   "source": [
    "model = lp.LpProblem(\"minimize_errors\",lp.LpMinimize)"
   ]
  },
  {
   "cell_type": "code",
   "execution_count": 117,
   "id": "ccf7edb2-a4a8-4944-8c40-5b70fd136560",
   "metadata": {},
   "outputs": [],
   "source": [
    "# Objective function\n",
    "model += lp.lpSum([vars_dict[var]*1.0 for var in vars_dict]) - total_respondents"
   ]
  },
  {
   "cell_type": "code",
   "execution_count": 118,
   "id": "4ca4e5d9-b52e-419d-b7cf-ffa34e5299d4",
   "metadata": {},
   "outputs": [],
   "source": [
    "# Constraints\n",
    "for age in target_age_count:\n",
    "    age_count = lp.lpSum([vars_dict[str(var_id)] for var_id in df.loc[df[\"age_group\"] == age,\"id\"].values])\n",
    "    model += age_count - target_age_count[age] <= threshold\n",
    "    model += age_count - target_age_count[age] >= -threshold"
   ]
  },
  {
   "cell_type": "code",
   "execution_count": 119,
   "id": "d9869741-292d-4816-a7da-8577e12cd776",
   "metadata": {},
   "outputs": [
    {
     "data": {
      "text/plain": [
       "1"
      ]
     },
     "execution_count": 119,
     "metadata": {},
     "output_type": "execute_result"
    }
   ],
   "source": [
    "model.solve()"
   ]
  },
  {
   "cell_type": "code",
   "execution_count": 120,
   "id": "37f4bd03-ce28-41d4-b71e-5bfd90f4913f",
   "metadata": {},
   "outputs": [
    {
     "data": {
      "text/plain": [
       "'Optimal'"
      ]
     },
     "execution_count": 120,
     "metadata": {},
     "output_type": "execute_result"
    }
   ],
   "source": [
    "lp.LpStatus[model.status]"
   ]
  },
  {
   "cell_type": "code",
   "execution_count": 121,
   "id": "9550121d-2d72-4bb3-9ea8-0e1593f57934",
   "metadata": {},
   "outputs": [],
   "source": [
    "df[\"weigths\"] = df[\"id\"].apply(lambda i: vars_dict[str(i)].value())"
   ]
  },
  {
   "cell_type": "code",
   "execution_count": 122,
   "id": "8344a16f-d94c-4201-ac89-dd062980af10",
   "metadata": {},
   "outputs": [
    {
     "data": {
      "text/plain": [
       "0.500000    1519\n",
       "3.000000     376\n",
       "2.623727       1\n",
       "0.825975       1\n",
       "1.577462       1\n",
       "2.854064       1\n",
       "2.033841       1\n",
       "2.043424       1\n",
       "0.661070       1\n",
       "2.080436       1\n",
       "Name: weigths, dtype: int64"
      ]
     },
     "execution_count": 122,
     "metadata": {},
     "output_type": "execute_result"
    }
   ],
   "source": [
    "df[\"weigths\"].value_counts()"
   ]
  }
 ],
 "metadata": {
  "kernelspec": {
   "display_name": "Python 3 (ipykernel)",
   "language": "python",
   "name": "python3"
  },
  "language_info": {
   "codemirror_mode": {
    "name": "ipython",
    "version": 3
   },
   "file_extension": ".py",
   "mimetype": "text/x-python",
   "name": "python",
   "nbconvert_exporter": "python",
   "pygments_lexer": "ipython3",
   "version": "3.10.9"
  }
 },
 "nbformat": 4,
 "nbformat_minor": 5
}
