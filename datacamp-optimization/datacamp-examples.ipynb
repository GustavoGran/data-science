{
 "cells": [
  {
   "cell_type": "markdown",
   "id": "56b0a47a-2ecd-4be2-9f30-3b7124969c60",
   "metadata": {
    "tags": []
   },
   "source": [
    "# Linear Programming optimization tutorial datacamp\n",
    "\n",
    "## Objectives\n",
    "- Learning how to use PuLP\n",
    "- Learn how to model LP problems in python"
   ]
  },
  {
   "cell_type": "markdown",
   "id": "9453f46d-7ff8-4a98-a898-518c3f66dc4c",
   "metadata": {},
   "source": [
    "## The problem\n",
    "- Cake bakery that produces and sells two types of cakes: A and B\n",
    "- Cake bakery works on a 30 days / month schedulle\n",
    "- Cake production is under the following constraints\n",
    "  - Ovens: only one oven working 30 days/month\n",
    "  - Bakers: 2 bakers working 30 days/month\n",
    "  - Packers: 1 packer working 22 days/month\n",
    "\n",
    "- Objectve: maximize profits of the bakery"
   ]
  },
  {
   "cell_type": "code",
   "execution_count": 2,
   "id": "58b49715-ed3b-4af0-afe0-9debb85334eb",
   "metadata": {},
   "outputs": [],
   "source": [
    "import pulp as pl"
   ]
  },
  {
   "cell_type": "code",
   "execution_count": 21,
   "id": "9e179364-9f71-45e9-9d25-bb5cb2f88a85",
   "metadata": {},
   "outputs": [],
   "source": [
    "# Xa: # of cakes of type A produced per month\n",
    "# Xb: # of cakes of type B produced per month\n",
    "Xa = pl.LpVariable(\"num_A_cakes\", lowBound=0, cat='Integer')\n",
    "Xb = pl.LpVariable(\"num_B_cakes\", lowBound=0, cat='Integer')"
   ]
  },
  {
   "cell_type": "code",
   "execution_count": 22,
   "id": "fac32810-965a-497b-ad71-e88271c8a5b7",
   "metadata": {},
   "outputs": [],
   "source": [
    "# Define the optimization problem with the type of equation\n",
    "problem = pl.LpProblem('bakery_monthly_profits', pl.LpMaximize)"
   ]
  },
  {
   "cell_type": "code",
   "execution_count": 23,
   "id": "882d20d6-39f9-43f2-9022-3d26d1b753a7",
   "metadata": {},
   "outputs": [],
   "source": [
    "# A simple expression (without equality) will be interpreted as the objective function\n",
    "# Cakes A are sold at a $20 profit per unit, while cakes B are sold at $40 profit per unit\n",
    "problem += 20*Xa + 40*Xb"
   ]
  },
  {
   "cell_type": "code",
   "execution_count": 24,
   "id": "6b58979f-708b-4009-bf08-ca0bf5cac17e",
   "metadata": {},
   "outputs": [],
   "source": [
    "# Inequality and equality expressions will be interpreted as constraints for the problem\n",
    "\n",
    "# Ovens constraint \n",
    "problem += 0.5*Xa + 1.0*Xb <= 30"
   ]
  },
  {
   "cell_type": "code",
   "execution_count": 25,
   "id": "967b7ad4-ce74-44cb-8088-b64ab20f7eb4",
   "metadata": {},
   "outputs": [],
   "source": [
    "# Bakers constraint\n",
    "problem += 1.0*Xa + 2.5*Xb <= 60"
   ]
  },
  {
   "cell_type": "code",
   "execution_count": 26,
   "id": "bbe149e4-026e-4174-9847-bd507a4438cb",
   "metadata": {},
   "outputs": [],
   "source": [
    "# Packers constraint\n",
    "problem += 1.0*Xa + 2.0*Xb <= 22"
   ]
  },
  {
   "cell_type": "code",
   "execution_count": 27,
   "id": "80c88122-3f4e-4568-80d4-f88f4538e430",
   "metadata": {},
   "outputs": [],
   "source": [
    "# Feasibility space constraints\n",
    "problem += Xa >= 0\n",
    "problem += Xb >= 0"
   ]
  },
  {
   "cell_type": "code",
   "execution_count": 28,
   "id": "db5376b6-d546-4d31-b5d5-a457c90848d8",
   "metadata": {},
   "outputs": [
    {
     "data": {
      "text/plain": [
       "OrderedDict([('_C1', 0.5*num_A_cakes + 1.0*num_B_cakes + -30.0 <= 0),\n",
       "             ('_C2', 1.0*num_A_cakes + 2.5*num_B_cakes + -60.0 <= 0),\n",
       "             ('_C3', 1.0*num_A_cakes + 2.0*num_B_cakes + -22.0 <= 0),\n",
       "             ('_C4', 1*num_A_cakes + 0 >= 0),\n",
       "             ('_C5', 1*num_B_cakes + 0 >= 0)])"
      ]
     },
     "execution_count": 28,
     "metadata": {},
     "output_type": "execute_result"
    }
   ],
   "source": [
    "problem.constraints"
   ]
  },
  {
   "cell_type": "code",
   "execution_count": 30,
   "id": "3d5b39cb-509b-43ff-a86d-15f732aa243f",
   "metadata": {},
   "outputs": [
    {
     "data": {
      "text/plain": [
       "20*num_A_cakes + 40*num_B_cakes + 0"
      ]
     },
     "execution_count": 30,
     "metadata": {},
     "output_type": "execute_result"
    }
   ],
   "source": [
    "problem.objective"
   ]
  },
  {
   "cell_type": "code",
   "execution_count": 31,
   "id": "2df191d1-7ff1-4bce-985f-3f4a518c9d7e",
   "metadata": {},
   "outputs": [],
   "source": [
    "# solves the problem\n",
    "status = problem.solve()"
   ]
  },
  {
   "cell_type": "code",
   "execution_count": 33,
   "id": "eae374a4-588c-4beb-8aa7-ddb5b45ea8bd",
   "metadata": {},
   "outputs": [],
   "source": [
    "# You can specify which solver you will use, but solver binaries should be installed in your path env\n",
    "# status = problem.solve(solver=pl.GLPK())"
   ]
  },
  {
   "cell_type": "code",
   "execution_count": 35,
   "id": "f81e291c-d9b1-474e-948c-337c690a6548",
   "metadata": {},
   "outputs": [
    {
     "data": {
      "text/plain": [
       "'Optimal'"
      ]
     },
     "execution_count": 35,
     "metadata": {},
     "output_type": "execute_result"
    }
   ],
   "source": [
    "pl.LpStatus[status]"
   ]
  },
  {
   "cell_type": "code",
   "execution_count": 37,
   "id": "0be210a8-c981-48b9-ace4-d5525c52ce97",
   "metadata": {},
   "outputs": [
    {
     "name": "stdout",
     "output_type": "stream",
     "text": [
      "Optimal solution - Xa: 0.0, Xb: 11.0\n"
     ]
    }
   ],
   "source": [
    "print(f\"Optimal solution - Xa: {pl.value(Xa)}, Xb: {pl.value(Xb)}\")"
   ]
  },
  {
   "cell_type": "markdown",
   "id": "9815901f-dcc2-4b70-a008-9c0138139a3c",
   "metadata": {},
   "source": [
    "# Glass manufacturer example"
   ]
  },
  {
   "cell_type": "code",
   "execution_count": 38,
   "id": "e40ca1ee-9868-40ed-9bb9-a3da9a74a10c",
   "metadata": {},
   "outputs": [
    {
     "name": "stdout",
     "output_type": "stream",
     "text": [
      "Optimization status:  Optimal\n",
      "w:  6.0 \tb:  4.0\n"
     ]
    },
    {
     "name": "stderr",
     "output_type": "stream",
     "text": [
      "C:\\ProgramData\\miniconda3\\lib\\site-packages\\pulp\\pulp.py:1352: UserWarning: Spaces are not permitted in the name. Converted to '_'\n",
      "  warnings.warn(\"Spaces are not permitted in the name. Converted to '_'\")\n"
     ]
    }
   ],
   "source": [
    "import pulp as lp\n",
    "# Initialize Class\n",
    "model = lp.LpProblem(\"Maximize Glass Co. Profits\", lp.LpMaximize)\n",
    "\n",
    "# Define variables\n",
    "w = lp.LpVariable(\"wine_batches\",lowBound=0, upBound=6, cat='Integer')\n",
    "b = lp.LpVariable(\"beer_batches\", lowBound=0, cat='Integer')\n",
    "\n",
    "# Define the objective function\n",
    "# Wine batch profit $5\n",
    "# Beet batch profit $4.5\n",
    "model += 5.0*w + 4.5*b\n",
    "\n",
    "# Production capacity constraint \n",
    "# Total production <= 60 hours\n",
    "# Wine glass batch takes 6 hours\n",
    "# Beer glass batch takes 5 hours\n",
    "model += 6*w + 5*b <= 60\n",
    "\n",
    "# Warehouse capacity constraint\n",
    "# Warehouse capacity <= 150 racks\n",
    "# Wine glass batch takes 10 racks\n",
    "# Beer glass batch takes 20 racks\n",
    "model += 10*w + 20*b <= 150\n",
    "\n",
    "# Production equipment constraints\n",
    "# Wine glass and Beer glass variables are Integer values >= 0\n",
    "model += w >= 0\n",
    "model += b >= 0\n",
    "\n",
    "# Order constraints\n",
    "# Wine glass batches <= 6 batches\n",
    "model += w <= 6\n",
    "\n",
    "model.solve()\n",
    "\n",
    "print(\"Optimization status: \", lp.LpStatus[model.status])\n",
    "print(\"w: \", lp.value(w), \"\\tb: \", lp.value(b))"
   ]
  },
  {
   "cell_type": "markdown",
   "id": "0624a226-9e6d-47aa-baff-d825f1151092",
   "metadata": {},
   "source": [
    "### Glass manufacturer with LpSum\n",
    "- What if there were a huge # of variables?"
   ]
  },
  {
   "cell_type": "code",
   "execution_count": 39,
   "id": "44afc464-13ec-4028-a2c3-de6ced611229",
   "metadata": {},
   "outputs": [],
   "source": [
    "cake_types = ['A','B','C','D','E','F']\n",
    "profit_by_cake = {'A':20,'B':40,'C':33,'D':14,'E':6,'F':60}\n",
    "\n",
    "# generates variables based on cake_types variable\n",
    "var_dict = dict([ (cake_type, lp.LpVariable(cake_type, lowBound=0, upBound=None, cat=\"Integer\")) for cake_type in cake_types])\n",
    "\n",
    "model =  lp.LpProblem(\"cake_opt_with_lpsum\",lp.LpMaximize)\n",
    "\n",
    "# Generates the objective function based on cake_types and a dictionary of profits\n",
    "model += lp.lpSum([profit_by_cake[cake_type] * var_dict[cake_type] for cake_type in cake_types])"
   ]
  },
  {
   "cell_type": "markdown",
   "id": "6499b46d-3fc3-4252-aae9-5887a3757112",
   "metadata": {},
   "source": [
    "## Minimize transportation costs"
   ]
  },
  {
   "cell_type": "code",
   "execution_count": 40,
   "id": "471fd447-9eae-4756-a25b-ac8a5ce5f575",
   "metadata": {},
   "outputs": [],
   "source": [
    "import pulp as lp\n",
    "\n",
    "# Initialize Model\n",
    "model = lp.LpProblem(\"minimize_transportation_cots\", lp.LpMinimize)\n",
    "\n",
    "# Build the lists and the demand dictionary\n",
    "warehouse = ['New York', 'Atlanta']\n",
    "customers = ['East', 'South', 'Midwest', 'West']\n",
    "regional_demand = [1800, 1200, 1100, 1000]\n",
    "\n",
    "demand = dict(zip(customers, regional_demand))"
   ]
  },
  {
   "cell_type": "code",
   "execution_count": 41,
   "id": "8968c93e-f525-4e2c-b4cd-ad51b8291dd4",
   "metadata": {},
   "outputs": [],
   "source": [
    "costs = {\n",
    "    ('New York', 'East'): 211,\n",
    "    ('New York', 'South'): 232,\n",
    "    ('New York', 'Midwest'): 240,\n",
    "    ('New York', 'West'): 300,\n",
    "    ('Atlanta', 'East'): 232,\n",
    "    ('Atlanta', 'South'): 212,\n",
    "    ('Atlanta', 'Midwest'): 230,\n",
    "    ('Atlanta', 'West'): 280\n",
    "}"
   ]
  },
  {
   "cell_type": "code",
   "execution_count": 46,
   "id": "13c2e2d3-87fe-4977-8ccb-0a4a1c95eb94",
   "metadata": {},
   "outputs": [
    {
     "data": {
      "text/plain": [
       "{('New York', 'East'): ne,\n",
       " ('Atlanta', 'East'): ae,\n",
       " ('New York', 'South'): ns,\n",
       " ('Atlanta', 'South'): as,\n",
       " ('New York', 'Midwest'): nm,\n",
       " ('Atlanta', 'Midwest'): am,\n",
       " ('New York', 'West'): nw,\n",
       " ('Atlanta', 'West'): aw}"
      ]
     },
     "execution_count": 46,
     "metadata": {},
     "output_type": "execute_result"
    }
   ],
   "source": [
    "var_dict  = dict(\n",
    "    [((w,c), lp.LpVariable(w[:1].lower() + c[:1].lower(),lowBound=0, upBound=None, cat='Integer'))\n",
    "     for c in customers\n",
    "     for w in warehouse])\n",
    "var_dict"
   ]
  },
  {
   "cell_type": "code",
   "execution_count": 47,
   "id": "52888bc7-584d-41ec-a0b8-bdb1e811452e",
   "metadata": {},
   "outputs": [],
   "source": [
    "model += lp.lpSum([var_dict[(w,c)] * costs[(w,c)] \n",
    "                   for c in customers \n",
    "                   for w in warehouse])"
   ]
  },
  {
   "cell_type": "code",
   "execution_count": 48,
   "id": "9d66c00a-7fba-4203-9a9e-53d815597f20",
   "metadata": {},
   "outputs": [
    {
     "data": {
      "text/plain": [
       "232*ae + 230*am + 212*as + 280*aw + 211*ne + 240*nm + 232*ns + 300*nw + 0"
      ]
     },
     "execution_count": 48,
     "metadata": {},
     "output_type": "execute_result"
    }
   ],
   "source": [
    "model.objective"
   ]
  },
  {
   "cell_type": "code",
   "execution_count": 49,
   "id": "a78b2e15-73da-4d6a-bed4-7928f84b8d49",
   "metadata": {},
   "outputs": [],
   "source": [
    "# Adding constraints\n",
    "for c in customers:\n",
    "    warehouse_offer_per_customer = lp.lpSum([var_dict[(w,c)] for w in warehouse])\n",
    "    model += warehouse_offer_per_customer == demand[c]"
   ]
  },
  {
   "cell_type": "code",
   "execution_count": 50,
   "id": "ed302080-72b9-45ba-a28e-17965d25f76c",
   "metadata": {},
   "outputs": [
    {
     "data": {
      "text/plain": [
       "OrderedDict([('_C1', 1*ae + 1*ne + -1800 = 0),\n",
       "             ('_C2', 1*as + 1*ns + -1200 = 0),\n",
       "             ('_C3', 1*am + 1*nm + -1100 = 0),\n",
       "             ('_C4', 1*aw + 1*nw + -1000 = 0)])"
      ]
     },
     "execution_count": 50,
     "metadata": {},
     "output_type": "execute_result"
    }
   ],
   "source": [
    "model.constraints"
   ]
  },
  {
   "cell_type": "code",
   "execution_count": 51,
   "id": "5b5f9d38-4f88-4616-97a3-ad0faeb70742",
   "metadata": {},
   "outputs": [
    {
     "data": {
      "text/plain": [
       "1"
      ]
     },
     "execution_count": 51,
     "metadata": {},
     "output_type": "execute_result"
    }
   ],
   "source": [
    "model.solve()"
   ]
  },
  {
   "cell_type": "code",
   "execution_count": 52,
   "id": "cb02948f-d655-4b52-984c-ea5deb534d79",
   "metadata": {},
   "outputs": [
    {
     "data": {
      "text/plain": [
       "'Optimal'"
      ]
     },
     "execution_count": 52,
     "metadata": {},
     "output_type": "execute_result"
    }
   ],
   "source": [
    "lp.LpStatus[model.status]"
   ]
  },
  {
   "cell_type": "code",
   "execution_count": 63,
   "id": "13fbab50-21bc-4662-8f42-da8d2ed9446a",
   "metadata": {},
   "outputs": [
    {
     "data": {
      "text/plain": [
       "[(('New York', 'East'), 1800.0),\n",
       " (('Atlanta', 'East'), 0.0),\n",
       " (('New York', 'South'), 0.0),\n",
       " (('Atlanta', 'South'), 1200.0),\n",
       " (('New York', 'Midwest'), 0.0),\n",
       " (('Atlanta', 'Midwest'), 1100.0),\n",
       " (('New York', 'West'), 0.0),\n",
       " (('Atlanta', 'West'), 1000.0)]"
      ]
     },
     "execution_count": 63,
     "metadata": {},
     "output_type": "execute_result"
    }
   ],
   "source": [
    "# Optimal offer per warehouse for each customer\n",
    "[(wc, lp.value(var_dict[wc])) for wc in var_dict]"
   ]
  },
  {
   "cell_type": "markdown",
   "id": "c8429a35-a933-412a-87e2-03a3533d734e",
   "metadata": {},
   "source": [
    "# Case studies from PuLP documentation"
   ]
  },
  {
   "cell_type": "markdown",
   "id": "e5a9196e-055a-4ccf-991f-90c4115e6467",
   "metadata": {},
   "source": [
    "## A Blending Problem\n",
    "- Whiskas cat food is made from a blend of many cat food products as cheaply as possible\n",
    "\n",
    "- Objective: Minimize costs\n",
    "- Nutritional analysis constraints\n",
    "- Chicken, beef, mutton, rice, wheat and Gel\n",
    "\n",
    "- Each ingredient has protein, fat, fibre and salt in the final product"
   ]
  },
  {
   "cell_type": "code",
   "execution_count": 7,
   "id": "11287a44-f400-49f7-9df0-3edcf9ebac72",
   "metadata": {},
   "outputs": [],
   "source": [
    "import pandas as pd\n",
    "import pulp as lp"
   ]
  },
  {
   "cell_type": "code",
   "execution_count": 8,
   "id": "2e30f897-53bd-4fca-85c4-faa1b652ace8",
   "metadata": {},
   "outputs": [],
   "source": [
    "df_ingredients = pd.DataFrame(data = { \"Protein\":[0.1, 0.2, 0.15, 0, 0.04, 0],\n",
    "                                       \"Fat\": [0.08, 0.1, 0.11, 0.010, 0.010, 0],\n",
    "                                       \"Fibre\": [0.001, 0.005, 0.003, 0.1, 0.15, 0],\n",
    "                                       \"Salt\": [0.002, 0.005, 0.007, 0.002, 0.008, 0],\n",
    "                                       \"Cost per g\": [0.013, 0.008, 0.010, 0.002, 0.005, 0.001]},\n",
    "                              index = [\"Chicken\",\"Beef\",\"Mutton\",\"Rice\",\"Wheat\",\"Gel\"])"
   ]
  },
  {
   "cell_type": "code",
   "execution_count": 9,
   "id": "ccf0505c-09fc-4699-a642-65b95be25e22",
   "metadata": {},
   "outputs": [
    {
     "data": {
      "text/html": [
       "<div>\n",
       "<style scoped>\n",
       "    .dataframe tbody tr th:only-of-type {\n",
       "        vertical-align: middle;\n",
       "    }\n",
       "\n",
       "    .dataframe tbody tr th {\n",
       "        vertical-align: top;\n",
       "    }\n",
       "\n",
       "    .dataframe thead th {\n",
       "        text-align: right;\n",
       "    }\n",
       "</style>\n",
       "<table border=\"1\" class=\"dataframe\">\n",
       "  <thead>\n",
       "    <tr style=\"text-align: right;\">\n",
       "      <th></th>\n",
       "      <th>Protein</th>\n",
       "      <th>Fat</th>\n",
       "      <th>Fibre</th>\n",
       "      <th>Salt</th>\n",
       "      <th>Cost per g</th>\n",
       "    </tr>\n",
       "  </thead>\n",
       "  <tbody>\n",
       "    <tr>\n",
       "      <th>Chicken</th>\n",
       "      <td>0.10</td>\n",
       "      <td>0.08</td>\n",
       "      <td>0.001</td>\n",
       "      <td>0.002</td>\n",
       "      <td>0.013</td>\n",
       "    </tr>\n",
       "    <tr>\n",
       "      <th>Beef</th>\n",
       "      <td>0.20</td>\n",
       "      <td>0.10</td>\n",
       "      <td>0.005</td>\n",
       "      <td>0.005</td>\n",
       "      <td>0.008</td>\n",
       "    </tr>\n",
       "    <tr>\n",
       "      <th>Mutton</th>\n",
       "      <td>0.15</td>\n",
       "      <td>0.11</td>\n",
       "      <td>0.003</td>\n",
       "      <td>0.007</td>\n",
       "      <td>0.010</td>\n",
       "    </tr>\n",
       "    <tr>\n",
       "      <th>Rice</th>\n",
       "      <td>0.00</td>\n",
       "      <td>0.01</td>\n",
       "      <td>0.100</td>\n",
       "      <td>0.002</td>\n",
       "      <td>0.002</td>\n",
       "    </tr>\n",
       "    <tr>\n",
       "      <th>Wheat</th>\n",
       "      <td>0.04</td>\n",
       "      <td>0.01</td>\n",
       "      <td>0.150</td>\n",
       "      <td>0.008</td>\n",
       "      <td>0.005</td>\n",
       "    </tr>\n",
       "    <tr>\n",
       "      <th>Gel</th>\n",
       "      <td>0.00</td>\n",
       "      <td>0.00</td>\n",
       "      <td>0.000</td>\n",
       "      <td>0.000</td>\n",
       "      <td>0.001</td>\n",
       "    </tr>\n",
       "  </tbody>\n",
       "</table>\n",
       "</div>"
      ],
      "text/plain": [
       "         Protein   Fat  Fibre   Salt  Cost per g\n",
       "Chicken     0.10  0.08  0.001  0.002       0.013\n",
       "Beef        0.20  0.10  0.005  0.005       0.008\n",
       "Mutton      0.15  0.11  0.003  0.007       0.010\n",
       "Rice        0.00  0.01  0.100  0.002       0.002\n",
       "Wheat       0.04  0.01  0.150  0.008       0.005\n",
       "Gel         0.00  0.00  0.000  0.000       0.001"
      ]
     },
     "execution_count": 9,
     "metadata": {},
     "output_type": "execute_result"
    }
   ],
   "source": [
    "df_ingredients"
   ]
  },
  {
   "cell_type": "code",
   "execution_count": 14,
   "id": "0740655c-3004-4ebb-84a6-258a89f37b8c",
   "metadata": {},
   "outputs": [],
   "source": [
    "# Variables - ammount of grams of each ingredient in 100g blend\n",
    "vars_dict = lp.LpVariable.dicts(name=\"ammount\",\n",
    "                                indices=[\"Chicken\",\"Beef\",\"Mutton\",\"Rice\",\"Wheat\",\"Gel\"],\n",
    "                                lowBound=0,\n",
    "                                upBound=100,\n",
    "                                cat='Continuous')"
   ]
  },
  {
   "cell_type": "code",
   "execution_count": 15,
   "id": "23513731-f8a5-4f0b-8786-9d70902fd7f8",
   "metadata": {},
   "outputs": [],
   "source": [
    "costs = df_ingredients[\"Cost per g\"].to_dict()"
   ]
  },
  {
   "cell_type": "code",
   "execution_count": 16,
   "id": "1498a9ac-cca0-4faf-8f39-3d8b0149b98a",
   "metadata": {},
   "outputs": [],
   "source": [
    "# Objective - minimize total cost of producing 100g blend (sum of variables * cost)\n",
    "model = lp.LpProblem(name='minimize_blend_costs',sense=lp.LpMinimize)\n",
    "\n",
    "# Add objective function\n",
    "model += lp.lpSum([costs[ingredient] * vars_dict[ingredient] for ingredient in vars_dict])"
   ]
  },
  {
   "cell_type": "code",
   "execution_count": 17,
   "id": "c03f5699-974e-4892-b2e0-09d989921871",
   "metadata": {},
   "outputs": [],
   "source": [
    "protein_per_gram = df_ingredients[\"Protein\"].to_dict()\n",
    "fat_per_gram = df_ingredients[\"Fat\"].to_dict()\n",
    "fibre_per_gram = df_ingredients[\"Fibre\"].to_dict()\n",
    "salt_per_gram = df_ingredients[\"Salt\"].to_dict()"
   ]
  },
  {
   "cell_type": "code",
   "execution_count": 18,
   "id": "85219e09-4dda-49a1-b2cd-2f39cbb75b54",
   "metadata": {},
   "outputs": [],
   "source": [
    "# Constraints\n",
    "\n",
    "# Blend should have 100g in total\n",
    "model += lp.lpSum([vars_dict[ingredient] for ingredient in vars_dict]) == 100.0\n",
    "\n",
    "# Blend should have at least 8g of protein\n",
    "model += lp.lpSum([vars_dict[ingredient] * protein_per_gram[ingredient] for ingredient in vars_dict]) >= 8.0\n",
    "\n",
    "# Blend should have at least 6g of fat\n",
    "model += lp.lpSum([vars_dict[ingredient] * fat_per_gram[ingredient] for ingredient in vars_dict]) >= 6.0\n",
    "\n",
    "# Blend should have at most 2g of fiber\n",
    "model += lp.lpSum([vars_dict[ingredient] * fibre_per_gram[ingredient] for ingredient in vars_dict]) <= 2.0\n",
    "\n",
    "# Blend should have at most 0.4g of salt\n",
    "model += lp.lpSum([vars_dict[ingredient] * salt_per_gram[ingredient] for ingredient in vars_dict]) <= 0.4"
   ]
  },
  {
   "cell_type": "code",
   "execution_count": 19,
   "id": "613b8ff2-6bb2-484c-8e0f-c727c3d605d2",
   "metadata": {},
   "outputs": [
    {
     "data": {
      "text/plain": [
       "0.008*ammount_Beef + 0.013*ammount_Chicken + 0.001*ammount_Gel + 0.01*ammount_Mutton + 0.002*ammount_Rice + 0.005*ammount_Wheat + 0.0"
      ]
     },
     "execution_count": 19,
     "metadata": {},
     "output_type": "execute_result"
    }
   ],
   "source": [
    "model.objective"
   ]
  },
  {
   "cell_type": "code",
   "execution_count": 20,
   "id": "683e3a97-94d0-41ca-8fda-81e5e5ee0a5e",
   "metadata": {},
   "outputs": [
    {
     "data": {
      "text/plain": [
       "OrderedDict([('_C1',\n",
       "              1*ammount_Beef + 1*ammount_Chicken + 1*ammount_Gel + 1*ammount_Mutton + 1*ammount_Rice + 1*ammount_Wheat + -100.0 = 0),\n",
       "             ('_C2',\n",
       "              0.2*ammount_Beef + 0.1*ammount_Chicken + 0.15*ammount_Mutton + 0.04*ammount_Wheat + -8.0 >= 0),\n",
       "             ('_C3',\n",
       "              0.1*ammount_Beef + 0.08*ammount_Chicken + 0.11*ammount_Mutton + 0.01*ammount_Rice + 0.01*ammount_Wheat + -6.0 >= 0),\n",
       "             ('_C4',\n",
       "              0.005*ammount_Beef + 0.001*ammount_Chicken + 0.003*ammount_Mutton + 0.1*ammount_Rice + 0.15*ammount_Wheat + -2.0 <= 0),\n",
       "             ('_C5',\n",
       "              0.005*ammount_Beef + 0.002*ammount_Chicken + 0.007*ammount_Mutton + 0.002*ammount_Rice + 0.008*ammount_Wheat + -0.4 <= 0)])"
      ]
     },
     "execution_count": 20,
     "metadata": {},
     "output_type": "execute_result"
    }
   ],
   "source": [
    "model.constraints"
   ]
  },
  {
   "cell_type": "code",
   "execution_count": 21,
   "id": "b254bc39-fd50-485f-aaaa-56888c54861e",
   "metadata": {},
   "outputs": [
    {
     "data": {
      "text/plain": [
       "1"
      ]
     },
     "execution_count": 21,
     "metadata": {},
     "output_type": "execute_result"
    }
   ],
   "source": [
    "model.solve()"
   ]
  },
  {
   "cell_type": "code",
   "execution_count": 22,
   "id": "afc7ef2a-e2a9-4a5f-8464-b70a8e633d75",
   "metadata": {},
   "outputs": [
    {
     "data": {
      "text/plain": [
       "'Optimal'"
      ]
     },
     "execution_count": 22,
     "metadata": {},
     "output_type": "execute_result"
    }
   ],
   "source": [
    "lp.LpStatus[model.status]"
   ]
  },
  {
   "cell_type": "code",
   "execution_count": 23,
   "id": "d1e9e67e-5611-4060-95b2-f322a6ac9a38",
   "metadata": {},
   "outputs": [
    {
     "data": {
      "text/plain": [
       "{'ammount_Beef': 60.0,\n",
       " 'ammount_Chicken': 0.0,\n",
       " 'ammount_Gel': 40.0,\n",
       " 'ammount_Mutton': 0.0,\n",
       " 'ammount_Rice': 0.0,\n",
       " 'ammount_Wheat': 0.0}"
      ]
     },
     "execution_count": 23,
     "metadata": {},
     "output_type": "execute_result"
    }
   ],
   "source": [
    "optimal_solution = dict([(variable.name, variable.value()) for variable in model.variables()])\n",
    "optimal_solution"
   ]
  },
  {
   "cell_type": "code",
   "execution_count": 26,
   "id": "69c0dc66-acaf-4e09-b757-8e965db17e57",
   "metadata": {},
   "outputs": [
    {
     "name": "stdout",
     "output_type": "stream",
     "text": [
      "Total cost of blend (optimal):  0.52\n"
     ]
    }
   ],
   "source": [
    "print(\"Total cost of blend (optimal): \", model.objective.value())"
   ]
  },
  {
   "cell_type": "markdown",
   "id": "896d3669-4112-4c02-b9ea-bdd67ae737fa",
   "metadata": {},
   "source": [
    "## Set Partitioning Problem\n",
    "- Determine how items in one set S can be partitioned into smaller subsets\n",
    "- All items in S must be contained in one and only one partition (MECE)\n",
    "- Examples\n",
    "  - Set packing - all items must be contained in zer or one partitions\n",
    "  - Set covering - all items must be contained in at least one partition\n",
    "  \n",
    "- Wedding planner to determine guest seating allocations for a wedding\n",
    "- Each table is a partition and the invited guests are the elements of set S\n",
    "- Objective: maximize total happiness of the tables\n",
    "\n",
    "### Solution 1\n",
    "- Try out every single combination\n",
    "- By law of large numbers this becomes quieckly unsolvable (without using column generation)\n",
    "- Allows for non-linear relation (happiness) be modelled as a linear problem"
   ]
  },
  {
   "cell_type": "code",
   "execution_count": 27,
   "id": "9b24e0fc-3044-4dbd-8b07-09026bdfe352",
   "metadata": {},
   "outputs": [],
   "source": [
    "max_tables = 5\n",
    "max_table_size = 4\n",
    "guests = \"A B C D E F G I J K L M N O P Q R\".split()"
   ]
  },
  {
   "cell_type": "code",
   "execution_count": 30,
   "id": "b2dcf6ba-80e8-48e9-8cf9-d435db16fa1d",
   "metadata": {},
   "outputs": [
    {
     "data": {
      "text/plain": [
       "3213"
      ]
     },
     "execution_count": 30,
     "metadata": {},
     "output_type": "execute_result"
    }
   ],
   "source": [
    "# create a list of all possible tables\n",
    "possible_tables = [tuple(c) for c in lp.allcombinations(guests, max_table_size)]\n",
    "len(possible_tables)"
   ]
  },
  {
   "cell_type": "code",
   "execution_count": 31,
   "id": "dac6690b-2897-4e31-a66d-a954e89b88af",
   "metadata": {},
   "outputs": [],
   "source": [
    "# create a binary variable to state that a table setting is used\n",
    "x = lp.LpVariable.dicts(\"table\", possible_tables, lowBound=0, upBound=1, cat=lp.LpInteger)"
   ]
  },
  {
   "cell_type": "code",
   "execution_count": 32,
   "id": "b1627ba2-35e5-4531-a1a9-b836f0e75309",
   "metadata": {},
   "outputs": [],
   "source": [
    "def happiness(table):\n",
    "    \"\"\"\n",
    "    Find the happiness of the table by calculating the maximum distance between letters\n",
    "    \"\"\"\n",
    "    return abs(ord(table[0]) - ord(table[-1]))"
   ]
  },
  {
   "cell_type": "code",
   "execution_count": 33,
   "id": "4f813042-c8a6-48db-aa76-f98041557c32",
   "metadata": {},
   "outputs": [],
   "source": [
    "# Defining the problem\n",
    "model = lp.LpProblem(\"wedding_searing_model\", lp.LpMinimize)\n",
    "\n",
    "# Objective function\n",
    "model += lp.lpSum([happiness(table) * x[table] for table in possible_tables])"
   ]
  },
  {
   "cell_type": "code",
   "execution_count": 35,
   "id": "b729d4df-57b7-423c-bfb0-b6879a958083",
   "metadata": {},
   "outputs": [],
   "source": [
    "# specifu the maximum number of tables\n",
    "model += (\n",
    "    lp.lpSum([x[table] for table in possible_tables]) <= max_tables,\n",
    "    \"Maximum_number_of_tables\"\n",
    ")"
   ]
  },
  {
   "cell_type": "code",
   "execution_count": 36,
   "id": "a7aa0339-594e-4870-8255-394dcc0deebb",
   "metadata": {},
   "outputs": [],
   "source": [
    "# A guest must be seated at one and only one table\n",
    "for guest in guests:\n",
    "    model += (\n",
    "        lp.lpSum([x[table] for table in possible_tables if guest in table]) == 1,\n",
    "        f\"Must_seat_{guest}\"\n",
    "    )"
   ]
  },
  {
   "cell_type": "code",
   "execution_count": 37,
   "id": "8769358f-0ef8-4539-a836-1f3dbdc1241f",
   "metadata": {},
   "outputs": [
    {
     "data": {
      "text/plain": [
       "1"
      ]
     },
     "execution_count": 37,
     "metadata": {},
     "output_type": "execute_result"
    }
   ],
   "source": [
    "model.solve()"
   ]
  },
  {
   "cell_type": "code",
   "execution_count": 40,
   "id": "aa2d5434-2a1e-464f-b28c-08068906ee7a",
   "metadata": {},
   "outputs": [
    {
     "data": {
      "text/plain": [
       "{\"table_('A',_'B',_'C',_'D')\": True,\n",
       " \"table_('E',_'F',_'G')\": True,\n",
       " \"table_('I',_'J',_'K',_'L')\": True,\n",
       " \"table_('M',_'N')\": True,\n",
       " \"table_('O',_'P',_'Q',_'R')\": True}"
      ]
     },
     "execution_count": 40,
     "metadata": {},
     "output_type": "execute_result"
    }
   ],
   "source": [
    "optimal_solution = dict([(variable.name, variable.value() == 1.0) for variable in model.variables() if variable.value() == 1.0])\n",
    "optimal_solution"
   ]
  },
  {
   "cell_type": "markdown",
   "id": "e381bcd5-bf1d-4f9c-801c-578a5c4a5ac9",
   "metadata": {},
   "source": [
    "## Sudoku Problem\n",
    "- Sudoku is a problem with an incomplete 9x9 table of numbers that must be filled according to several rules\n",
    "- Within any 3x3 boxes, each of numbers 1 to 9 must be found\n",
    "- Within any column of 9x9 grid, each columns must have 1 to 9\n",
    "- Within any row of the 9x9 grid, each of the numbers 1 to 9 must be found\n",
    "\n",
    "This can be modeled as a LP problem\n",
    "\n",
    "### Decision variables\n",
    "- Create a integer variable from 1 to 9 for each of the 81 (9x9) squares\n",
    "- Awfully complicated, there is no \"not equal to\" constraint in an LP problem (only lower than / higher than within bounds)\n",
    "- We can ensure the sum of all the values in a box/row/column equal 45, but there are many solutions satisfying that (repeating numbers)\n",
    "- Big M constraints: compare each pair of values in a box/column/row which number is strictly smaller than the other\n",
    "\n",
    "- **chosen**: \n",
    "  - we create 729 binary variables, which represent 9 problem variables for each of 81 squares. \n",
    "  - In each square there are 9 variables that can assume true or false, but only one of the 9 can be true at each square\n",
    "  \n",
    "### Objective Function\n",
    "- Sudoku: there is no solution better than another solution\n",
    "- We are not trying to minimize or maximize anything\n",
    "- We are just trying to find values on our variables\n",
    "- We can use both `LpMinimize` or `LpMaximize`\n",
    "\n",
    "### Constraints\n",
    "\n",
    "- Sudoku problem known contraints\n",
    "- One number per square (9 binary variables per square)\n",
    "- Starting numbers of sudoku must be fixed / placed"
   ]
  },
  {
   "cell_type": "code",
   "execution_count": 41,
   "id": "d17bdc95-69f6-4f06-97ff-15a0882244ac",
   "metadata": {},
   "outputs": [],
   "source": [
    "import pulp as lp"
   ]
  },
  {
   "cell_type": "code",
   "execution_count": 42,
   "id": "8ede588d-9c6b-42cf-8233-ac020aa32d48",
   "metadata": {},
   "outputs": [],
   "source": [
    "# ROWS, COLS and VALUES form 1 to 9\n",
    "VALS = ROWS = COLS = range(1,10)"
   ]
  },
  {
   "cell_type": "code",
   "execution_count": 43,
   "id": "a7861459-d612-4095-8e5e-2dd2cb858218",
   "metadata": {},
   "outputs": [
    {
     "data": {
      "text/plain": [
       "[[(1, 1), (1, 2), (1, 3), (2, 1), (2, 2), (2, 3), (3, 1), (3, 2), (3, 3)],\n",
       " [(1, 4), (1, 5), (1, 6), (2, 4), (2, 5), (2, 6), (3, 4), (3, 5), (3, 6)],\n",
       " [(1, 7), (1, 8), (1, 9), (2, 7), (2, 8), (2, 9), (3, 7), (3, 8), (3, 9)],\n",
       " [(4, 1), (4, 2), (4, 3), (5, 1), (5, 2), (5, 3), (6, 1), (6, 2), (6, 3)],\n",
       " [(4, 4), (4, 5), (4, 6), (5, 4), (5, 5), (5, 6), (6, 4), (6, 5), (6, 6)],\n",
       " [(4, 7), (4, 8), (4, 9), (5, 7), (5, 8), (5, 9), (6, 7), (6, 8), (6, 9)],\n",
       " [(7, 1), (7, 2), (7, 3), (8, 1), (8, 2), (8, 3), (9, 1), (9, 2), (9, 3)],\n",
       " [(7, 4), (7, 5), (7, 6), (8, 4), (8, 5), (8, 6), (9, 4), (9, 5), (9, 6)],\n",
       " [(7, 7), (7, 8), (7, 9), (8, 7), (8, 8), (8, 9), (9, 7), (9, 8), (9, 9)]]"
      ]
     },
     "execution_count": 43,
     "metadata": {},
     "output_type": "execute_result"
    }
   ],
   "source": [
    "# Boxes\n",
    "Boxes = [\n",
    "    [(3*box_num_row + row + 1, 3*box_num_col + col + 1) for row in range(3) for col in range(3)] \n",
    "     for box_num_row in range(3) \n",
    "     for box_num_col in range(3)\n",
    "]\n",
    "Boxes"
   ]
  },
  {
   "cell_type": "code",
   "execution_count": 44,
   "id": "5890649b-eeb6-42c7-9b2a-29d929531c70",
   "metadata": {},
   "outputs": [],
   "source": [
    "# problem\n",
    "prob = lp.LpProblem(\"Sudoku\")"
   ]
  },
  {
   "cell_type": "code",
   "execution_count": 45,
   "id": "e3c62a45-d3fc-434f-81c6-fd32b3bf2f74",
   "metadata": {},
   "outputs": [],
   "source": [
    "# decition variables\n",
    "choices = lp.LpVariable.dicts(\"Choice\", (VALS, ROWS, COLS), cat=lp.LpBinary)"
   ]
  },
  {
   "cell_type": "code",
   "execution_count": 46,
   "id": "50e037b1-ae31-4194-b8f4-0bdb857a37e6",
   "metadata": {},
   "outputs": [],
   "source": [
    "# we do not define an objective function since none is needed"
   ]
  },
  {
   "cell_type": "code",
   "execution_count": 48,
   "id": "95263380-457f-4369-80e6-987e895199e3",
   "metadata": {},
   "outputs": [],
   "source": [
    "# A constraint ensureing that only one value can be in each square is created\n",
    "for row in ROWS:\n",
    "    for col in COLS:\n",
    "        prob += lp.lpSum([choices[val][row][col] for val in VALS]) == 1"
   ]
  },
  {
   "cell_type": "code",
   "execution_count": 50,
   "id": "b3be8228-06db-437d-aef5-a1c01a9bd60a",
   "metadata": {},
   "outputs": [],
   "source": [
    "# Only one occurrence of val can occur in each row, column and box\n",
    "\n",
    "for val in VALS:\n",
    "    for row in ROWS:\n",
    "        prob += lp.lpSum([choices[val][row][col] for col in COLS] == 1)\n",
    "    \n",
    "    for col in COLS:\n",
    "        prob += lp.lpSum([choices[val][row][col] for row in ROWS] == 1)\n",
    "        \n",
    "    for box in Boxes:\n",
    "        prob += lp.lpSum([choices[val][row][col] for (row, col) in box]) == 1"
   ]
  },
  {
   "cell_type": "code",
   "execution_count": 51,
   "id": "e7b62090-9500-4343-8447-da9b79b7168b",
   "metadata": {},
   "outputs": [],
   "source": [
    "# The starting numbers are entered as constraints\n",
    "input_data = [\n",
    "    (5, 1, 1),\n",
    "    (6, 2, 1),\n",
    "    (8, 4, 1),\n",
    "    (4, 5, 1),\n",
    "    (7, 6, 1),\n",
    "    (3, 1, 2),\n",
    "    (9, 3, 2),\n",
    "    (6, 7, 2),\n",
    "    (8, 3, 3),\n",
    "    (1, 2, 4),\n",
    "    (8, 5, 4),\n",
    "    (4, 8, 4),\n",
    "    (7, 1, 5),\n",
    "    (9, 2, 5),\n",
    "    (6, 4, 5),\n",
    "    (2, 6, 5),\n",
    "    (1, 8, 5),\n",
    "    (8, 9, 5),\n",
    "    (5, 2, 6),\n",
    "    (3, 5, 6),\n",
    "    (9, 8, 6),\n",
    "    (2, 7, 7),\n",
    "    (6, 3, 8),\n",
    "    (8, 7, 8),\n",
    "    (7, 9, 8),\n",
    "    (3, 4, 9),\n",
    "    (1, 5, 9),\n",
    "    (6, 6, 9),\n",
    "    (5, 8, 9),\n",
    "]"
   ]
  },
  {
   "cell_type": "code",
   "execution_count": 52,
   "id": "262ab0fb-d9ee-473d-8441-cbf6f817fc69",
   "metadata": {},
   "outputs": [],
   "source": [
    "for val, row, col in input_data:\n",
    "    prob += choices[val][row][col] == 1"
   ]
  },
  {
   "cell_type": "code",
   "execution_count": 53,
   "id": "2f60e59f-18cb-4ef3-9ad3-3ba34bc18831",
   "metadata": {},
   "outputs": [
    {
     "name": "stdout",
     "output_type": "stream",
     "text": [
      "Status;  Optimal\n"
     ]
    }
   ],
   "source": [
    "prob.writeLP(\"Sudoku.lp\")\n",
    "\n",
    "prob.solve()\n",
    "\n",
    "print(\"Status; \", lp.LpStatus[prob.status])"
   ]
  },
  {
   "cell_type": "code",
   "execution_count": 55,
   "id": "3cca13d8-a568-4d57-8c43-90901b815343",
   "metadata": {},
   "outputs": [],
   "source": [
    "# A file called sudokuout.txt is created/overwritten for writing to\n",
    "sudokuout = open(\"sudokuout.txt\", \"w\")\n",
    "\n",
    "# The solution is written to the sudokuout.txt file\n",
    "for r in ROWS:\n",
    "    if r in [1, 4, 7]:\n",
    "        sudokuout.write(\"+-------+-------+-------+\\n\")\n",
    "    for c in COLS:\n",
    "        for v in VALS:\n",
    "            if choices[v][r][c].value() == 1:\n",
    "                if c in [1, 4, 7]:\n",
    "                    sudokuout.write(\"| \")\n",
    "                sudokuout.write(str(v) + \" \")\n",
    "                if c == 9:\n",
    "                    sudokuout.write(\"|\\n\")\n",
    "sudokuout.write(\"+-------+-------+-------+\")\n",
    "sudokuout.close()"
   ]
  },
  {
   "cell_type": "markdown",
   "id": "9c971f43-24e2-4410-b1e9-bd27b12486bd",
   "metadata": {},
   "source": [
    "### FInding all solutions\n",
    "- by adding constraint that the last solution cannot be found"
   ]
  },
  {
   "cell_type": "code",
   "execution_count": 60,
   "id": "f0287de9-789c-4754-92c1-c84e9721b212",
   "metadata": {},
   "outputs": [
    {
     "name": "stdout",
     "output_type": "stream",
     "text": [
      "Status: Optimal\n",
      "Status: Optimal\n",
      "Status: Optimal\n",
      "Status: Optimal\n",
      "Status: Optimal\n",
      "Status: Optimal\n",
      "Status: Optimal\n",
      "Status: Optimal\n",
      "Status: Optimal\n",
      "Status: Optimal\n",
      "Status: Optimal\n",
      "Status: Optimal\n",
      "Status: Optimal\n",
      "Status: Optimal\n",
      "Status: Optimal\n",
      "Status: Optimal\n",
      "Status: Optimal\n",
      "Status: Optimal\n",
      "Status: Optimal\n",
      "Status: Optimal\n",
      "Status: Optimal\n",
      "Status: Optimal\n",
      "Status: Optimal\n",
      "Status: Optimal\n",
      "Status: Optimal\n",
      "Status: Optimal\n",
      "Status: Optimal\n",
      "Status: Optimal\n",
      "Status: Optimal\n",
      "Status: Optimal\n",
      "Status: Optimal\n",
      "Status: Optimal\n",
      "Status: Optimal\n",
      "Status: Optimal\n",
      "Status: Optimal\n",
      "Status: Optimal\n",
      "Status: Optimal\n",
      "Status: Optimal\n",
      "Status: Optimal\n",
      "Status: Optimal\n",
      "Status: Optimal\n",
      "Status: Optimal\n",
      "Status: Optimal\n",
      "Status: Optimal\n",
      "Status: Optimal\n",
      "Status: Optimal\n",
      "Status: Optimal\n",
      "Status: Optimal\n",
      "Status: Optimal\n",
      "Status: Optimal\n",
      "Status: Optimal\n",
      "Status: Optimal\n",
      "Status: Optimal\n",
      "Status: Optimal\n",
      "Status: Optimal\n",
      "Status: Optimal\n",
      "Status: Optimal\n",
      "Status: Optimal\n",
      "Status: Optimal\n",
      "Status: Optimal\n",
      "Status: Optimal\n",
      "Status: Optimal\n",
      "Status: Optimal\n",
      "Status: Optimal\n",
      "Status: Optimal\n",
      "Status: Optimal\n",
      "Status: Optimal\n",
      "Status: Optimal\n",
      "Status: Optimal\n",
      "Status: Optimal\n",
      "Status: Optimal\n",
      "Status: Optimal\n",
      "Status: Optimal\n",
      "Status: Optimal\n",
      "Status: Optimal\n",
      "Status: Optimal\n",
      "Status: Optimal\n",
      "Status: Optimal\n",
      "Status: Optimal\n",
      "Status: Optimal\n",
      "Status: Optimal\n",
      "Status: Optimal\n",
      "Status: Optimal\n"
     ]
    },
    {
     "ename": "KeyboardInterrupt",
     "evalue": "",
     "output_type": "error",
     "traceback": [
      "\u001b[1;31m---------------------------------------------------------------------------\u001b[0m",
      "\u001b[1;31mKeyboardInterrupt\u001b[0m                         Traceback (most recent call last)",
      "Cell \u001b[1;32mIn[60], line 5\u001b[0m\n\u001b[0;32m      2\u001b[0m sudokuout \u001b[38;5;241m=\u001b[39m \u001b[38;5;28mopen\u001b[39m(\u001b[38;5;124m\"\u001b[39m\u001b[38;5;124msudokuout.txt\u001b[39m\u001b[38;5;124m\"\u001b[39m, \u001b[38;5;124m\"\u001b[39m\u001b[38;5;124mw\u001b[39m\u001b[38;5;124m\"\u001b[39m)\n\u001b[0;32m      4\u001b[0m \u001b[38;5;28;01mwhile\u001b[39;00m \u001b[38;5;28;01mTrue\u001b[39;00m:\n\u001b[1;32m----> 5\u001b[0m     \u001b[43mprob\u001b[49m\u001b[38;5;241;43m.\u001b[39;49m\u001b[43msolve\u001b[49m\u001b[43m(\u001b[49m\u001b[43m)\u001b[49m\n\u001b[0;32m      6\u001b[0m     \u001b[38;5;66;03m# The status of the solution is printed to the screen\u001b[39;00m\n\u001b[0;32m      7\u001b[0m     \u001b[38;5;28mprint\u001b[39m(\u001b[38;5;124m\"\u001b[39m\u001b[38;5;124mStatus:\u001b[39m\u001b[38;5;124m\"\u001b[39m, lp\u001b[38;5;241m.\u001b[39mLpStatus[prob\u001b[38;5;241m.\u001b[39mstatus])\n",
      "File \u001b[1;32mC:\\ProgramData\\miniconda3\\lib\\site-packages\\pulp\\pulp.py:1913\u001b[0m, in \u001b[0;36mLpProblem.solve\u001b[1;34m(self, solver, **kwargs)\u001b[0m\n\u001b[0;32m   1911\u001b[0m \u001b[38;5;66;03m# time it\u001b[39;00m\n\u001b[0;32m   1912\u001b[0m \u001b[38;5;28mself\u001b[39m\u001b[38;5;241m.\u001b[39mstartClock()\n\u001b[1;32m-> 1913\u001b[0m status \u001b[38;5;241m=\u001b[39m solver\u001b[38;5;241m.\u001b[39mactualSolve(\u001b[38;5;28mself\u001b[39m, \u001b[38;5;241m*\u001b[39m\u001b[38;5;241m*\u001b[39mkwargs)\n\u001b[0;32m   1914\u001b[0m \u001b[38;5;28mself\u001b[39m\u001b[38;5;241m.\u001b[39mstopClock()\n\u001b[0;32m   1915\u001b[0m \u001b[38;5;28mself\u001b[39m\u001b[38;5;241m.\u001b[39mrestoreObjective(wasNone, dummyVar)\n",
      "File \u001b[1;32mC:\\ProgramData\\miniconda3\\lib\\site-packages\\pulp\\apis\\coin_api.py:137\u001b[0m, in \u001b[0;36mCOIN_CMD.actualSolve\u001b[1;34m(self, lp, **kwargs)\u001b[0m\n\u001b[0;32m    135\u001b[0m \u001b[38;5;28;01mdef\u001b[39;00m \u001b[38;5;21mactualSolve\u001b[39m(\u001b[38;5;28mself\u001b[39m, lp, \u001b[38;5;241m*\u001b[39m\u001b[38;5;241m*\u001b[39mkwargs):\n\u001b[0;32m    136\u001b[0m     \u001b[38;5;124;03m\"\"\"Solve a well formulated lp problem\"\"\"\u001b[39;00m\n\u001b[1;32m--> 137\u001b[0m     \u001b[38;5;28;01mreturn\u001b[39;00m \u001b[38;5;28mself\u001b[39m\u001b[38;5;241m.\u001b[39msolve_CBC(lp, \u001b[38;5;241m*\u001b[39m\u001b[38;5;241m*\u001b[39mkwargs)\n",
      "File \u001b[1;32mC:\\ProgramData\\miniconda3\\lib\\site-packages\\pulp\\apis\\coin_api.py:203\u001b[0m, in \u001b[0;36mCOIN_CMD.solve_CBC\u001b[1;34m(self, lp, use_mps)\u001b[0m\n\u001b[0;32m    201\u001b[0m \u001b[38;5;28;01melse\u001b[39;00m:\n\u001b[0;32m    202\u001b[0m     cbc \u001b[38;5;241m=\u001b[39m subprocess\u001b[38;5;241m.\u001b[39mPopen(args, stdout\u001b[38;5;241m=\u001b[39mpipe, stderr\u001b[38;5;241m=\u001b[39mpipe, stdin\u001b[38;5;241m=\u001b[39mdevnull)\n\u001b[1;32m--> 203\u001b[0m \u001b[38;5;28;01mif\u001b[39;00m \u001b[43mcbc\u001b[49m\u001b[38;5;241;43m.\u001b[39;49m\u001b[43mwait\u001b[49m\u001b[43m(\u001b[49m\u001b[43m)\u001b[49m \u001b[38;5;241m!=\u001b[39m \u001b[38;5;241m0\u001b[39m:\n\u001b[0;32m    204\u001b[0m     \u001b[38;5;28;01mif\u001b[39;00m pipe:\n\u001b[0;32m    205\u001b[0m         pipe\u001b[38;5;241m.\u001b[39mclose()\n",
      "File \u001b[1;32mC:\\ProgramData\\miniconda3\\lib\\subprocess.py:1209\u001b[0m, in \u001b[0;36mPopen.wait\u001b[1;34m(self, timeout)\u001b[0m\n\u001b[0;32m   1207\u001b[0m     endtime \u001b[38;5;241m=\u001b[39m _time() \u001b[38;5;241m+\u001b[39m timeout\n\u001b[0;32m   1208\u001b[0m \u001b[38;5;28;01mtry\u001b[39;00m:\n\u001b[1;32m-> 1209\u001b[0m     \u001b[38;5;28;01mreturn\u001b[39;00m \u001b[38;5;28;43mself\u001b[39;49m\u001b[38;5;241;43m.\u001b[39;49m\u001b[43m_wait\u001b[49m\u001b[43m(\u001b[49m\u001b[43mtimeout\u001b[49m\u001b[38;5;241;43m=\u001b[39;49m\u001b[43mtimeout\u001b[49m\u001b[43m)\u001b[49m\n\u001b[0;32m   1210\u001b[0m \u001b[38;5;28;01mexcept\u001b[39;00m \u001b[38;5;167;01mKeyboardInterrupt\u001b[39;00m:\n\u001b[0;32m   1211\u001b[0m     \u001b[38;5;66;03m# https://bugs.python.org/issue25942\u001b[39;00m\n\u001b[0;32m   1212\u001b[0m     \u001b[38;5;66;03m# The first keyboard interrupt waits briefly for the child to\u001b[39;00m\n\u001b[0;32m   1213\u001b[0m     \u001b[38;5;66;03m# exit under the common assumption that it also received the ^C\u001b[39;00m\n\u001b[0;32m   1214\u001b[0m     \u001b[38;5;66;03m# generated SIGINT and will exit rapidly.\u001b[39;00m\n\u001b[0;32m   1215\u001b[0m     \u001b[38;5;28;01mif\u001b[39;00m timeout \u001b[38;5;129;01mis\u001b[39;00m \u001b[38;5;129;01mnot\u001b[39;00m \u001b[38;5;28;01mNone\u001b[39;00m:\n",
      "File \u001b[1;32mC:\\ProgramData\\miniconda3\\lib\\subprocess.py:1490\u001b[0m, in \u001b[0;36mPopen._wait\u001b[1;34m(self, timeout)\u001b[0m\n\u001b[0;32m   1487\u001b[0m     timeout_millis \u001b[38;5;241m=\u001b[39m \u001b[38;5;28mint\u001b[39m(timeout \u001b[38;5;241m*\u001b[39m \u001b[38;5;241m1000\u001b[39m)\n\u001b[0;32m   1488\u001b[0m \u001b[38;5;28;01mif\u001b[39;00m \u001b[38;5;28mself\u001b[39m\u001b[38;5;241m.\u001b[39mreturncode \u001b[38;5;129;01mis\u001b[39;00m \u001b[38;5;28;01mNone\u001b[39;00m:\n\u001b[0;32m   1489\u001b[0m     \u001b[38;5;66;03m# API note: Returns immediately if timeout_millis == 0.\u001b[39;00m\n\u001b[1;32m-> 1490\u001b[0m     result \u001b[38;5;241m=\u001b[39m \u001b[43m_winapi\u001b[49m\u001b[38;5;241;43m.\u001b[39;49m\u001b[43mWaitForSingleObject\u001b[49m\u001b[43m(\u001b[49m\u001b[38;5;28;43mself\u001b[39;49m\u001b[38;5;241;43m.\u001b[39;49m\u001b[43m_handle\u001b[49m\u001b[43m,\u001b[49m\n\u001b[0;32m   1491\u001b[0m \u001b[43m                                         \u001b[49m\u001b[43mtimeout_millis\u001b[49m\u001b[43m)\u001b[49m\n\u001b[0;32m   1492\u001b[0m     \u001b[38;5;28;01mif\u001b[39;00m result \u001b[38;5;241m==\u001b[39m _winapi\u001b[38;5;241m.\u001b[39mWAIT_TIMEOUT:\n\u001b[0;32m   1493\u001b[0m         \u001b[38;5;28;01mraise\u001b[39;00m TimeoutExpired(\u001b[38;5;28mself\u001b[39m\u001b[38;5;241m.\u001b[39margs, timeout)\n",
      "\u001b[1;31mKeyboardInterrupt\u001b[0m: "
     ]
    }
   ],
   "source": [
    "# A file called sudokuout.txt is created/overwritten for writing to\n",
    "sudokuout = open(\"sudokuout.txt\", \"w\")\n",
    "\n",
    "while True:\n",
    "    prob.solve()\n",
    "    # The status of the solution is printed to the screen\n",
    "    print(\"Status:\", lp.LpStatus[prob.status])\n",
    "    # The solution is printed if it was deemed \"optimal\" i.e met the constraints\n",
    "    if lp.LpStatus[prob.status] == \"Optimal\":\n",
    "        # The solution is written to the sudokuout.txt file\n",
    "        for r in ROWS:\n",
    "            if r in [1, 4, 7]:\n",
    "                sudokuout.write(\"+-------+-------+-------+\\n\")\n",
    "            for c in COLS:\n",
    "                for v in VALS:\n",
    "                    if lp.value(choices[v][r][c]) == 1:\n",
    "                        if c in [1, 4, 7]:\n",
    "                            sudokuout.write(\"| \")\n",
    "                        sudokuout.write(str(v) + \" \")\n",
    "                        if c == 9:\n",
    "                            sudokuout.write(\"|\\n\")\n",
    "        sudokuout.write(\"+-------+-------+-------+\\n\\n\")\n",
    "        # The constraint is added that the same solution cannot be returned again\n",
    "        prob += (\n",
    "            lp.lpSum(\n",
    "                [\n",
    "                    choices[v][r][c]\n",
    "                    for v in VALS\n",
    "                    for r in ROWS\n",
    "                    for c in COLS\n",
    "                    if lp.value(choices[v][r][c]) == 1\n",
    "                ]\n",
    "            )\n",
    "            <= 80\n",
    "        )\n",
    "    # If a new optimal solution cannot be found, we end the program\n",
    "    else:\n",
    "        break\n",
    "sudokuout.close()"
   ]
  },
  {
   "cell_type": "markdown",
   "id": "68a8b56c-8ec1-44ad-a15a-4b0f37872f20",
   "metadata": {},
   "source": [
    "## Transportation Problem\n",
    "- Boutique with 2 warehouses to distribute beer to 5 bars\n",
    "- Bars demand crates of beer weekly, which are then dispatched from warehouse\n",
    "- Weekly optimizer for bar supply by warehouses\n",
    "- Objective to minimize the cost of the whole operation\n",
    "- Problem is also constrained to warehouse supply capacity"
   ]
  },
  {
   "cell_type": "code",
   "execution_count": 64,
   "id": "75c6cdc9-e77a-45d3-8ab5-329dd66cc0ee",
   "metadata": {},
   "outputs": [],
   "source": [
    "warehouses = [\"A\", \"B\"]\n",
    "bars = [1,2,3,4,5]\n",
    "\n",
    "warehouse_capacity = {\"A\": 1000, \"B\": 4000}\n",
    "\n",
    "demand_per_bar = {\n",
    "    1: 500,\n",
    "    2: 900,\n",
    "    3: 1800,\n",
    "    4: 200,\n",
    "    5: 700\n",
    "}"
   ]
  },
  {
   "cell_type": "code",
   "execution_count": 66,
   "id": "6c2d505a-6453-46c6-a847-ef8132c6fd96",
   "metadata": {},
   "outputs": [
    {
     "data": {
      "text/plain": [
       "{('A', 1): craters_('A',_1),\n",
       " ('A', 2): craters_('A',_2),\n",
       " ('A', 3): craters_('A',_3),\n",
       " ('A', 4): craters_('A',_4),\n",
       " ('A', 5): craters_('A',_5),\n",
       " ('B', 1): craters_('B',_1),\n",
       " ('B', 2): craters_('B',_2),\n",
       " ('B', 3): craters_('B',_3),\n",
       " ('B', 4): craters_('B',_4),\n",
       " ('B', 5): craters_('B',_5)}"
      ]
     },
     "execution_count": 66,
     "metadata": {},
     "output_type": "execute_result"
    }
   ],
   "source": [
    "# Problem definition \n",
    "model = lp.LpProblem(\"supply_cost_minimization\",lp.LpMinimize)\n",
    "\n",
    "# Variables - # of crates shipped from Warehouse X to Bar Y, with X in (A,B) and Y in (1,2,3,4,5)\n",
    "x = lp.LpVariable.dicts(\"craters\",[(warehouse, bar) for warehouse in warehouses for bar in bars], lowBound=0,cat='Integer')\n",
    "x"
   ]
  },
  {
   "cell_type": "markdown",
   "id": "63bf2758-31d3-411d-9668-5a4db2bcfec6",
   "metadata": {},
   "source": [
    "### Costs and Objective function\n",
    "- Usually the cost of operating a route has 2 components: one fixed, one variable\n",
    "  - Fixed cost of one truck going from one place to another\n",
    "  - Variable costs dependent on the # of items transported\n",
    "- In these situations we can model fixed costs by using zero-one integer variables\n",
    "- Let's simplify and assume there are only variable costs (US$/crate)"
   ]
  },
  {
   "cell_type": "code",
   "execution_count": 71,
   "id": "a26fb70c-40d8-479e-98a3-bd10499ef5b4",
   "metadata": {},
   "outputs": [
    {
     "data": {
      "text/plain": [
       "{('A', 1): 2,\n",
       " ('A', 2): 4,\n",
       " ('A', 3): 5,\n",
       " ('A', 4): 2,\n",
       " ('A', 5): 1,\n",
       " ('B', 1): 3,\n",
       " ('B', 2): 1,\n",
       " ('B', 3): 3,\n",
       " ('B', 4): 2,\n",
       " ('B', 5): 3}"
      ]
     },
     "execution_count": 71,
     "metadata": {},
     "output_type": "execute_result"
    }
   ],
   "source": [
    "transp_costs = dict(zip([(warehouse, bar) for warehouse in warehouses for bar in bars],\n",
    "                        [2,4,5,2,1,3,1,3,2,3]))\n",
    "transp_costs"
   ]
  },
  {
   "cell_type": "code",
   "execution_count": 72,
   "id": "ba95be16-ccac-4972-9bf0-a529669153ca",
   "metadata": {},
   "outputs": [],
   "source": [
    "# Objective function to be minimized - total cost of transport\n",
    "model += lp.lpSum([transp_costs[(wh,bar)] * x[(wh,bar)] for wh in warehouses for bar in bars])"
   ]
  },
  {
   "cell_type": "code",
   "execution_count": 73,
   "id": "a1f28fe1-0262-4024-b823-3e84c1a3e842",
   "metadata": {},
   "outputs": [],
   "source": [
    "# Supply Constraints\n",
    "for wh in warehouses:\n",
    "    model += lp.lpSum([x[(wh,bar)] for bar in bars]) <= warehouse_capacity[wh]\n",
    "\n",
    "# Demand Constraints\n",
    "for bar in bars:\n",
    "    model += lp.lpSum([x[(wh,bar)] for wh in warehouses]) == demand_per_bar[bar]"
   ]
  },
  {
   "cell_type": "code",
   "execution_count": 76,
   "id": "0d081ec9-f59c-43ed-a1ee-38f9516f88e4",
   "metadata": {},
   "outputs": [
    {
     "name": "stdout",
     "output_type": "stream",
     "text": [
      "Model solution status:  Optimal\n"
     ]
    }
   ],
   "source": [
    "status = model.solve()\n",
    "print(\"Model solution status: \", lp.LpStatus[status])"
   ]
  },
  {
   "cell_type": "code",
   "execution_count": 83,
   "id": "b4ebdece-d6fe-4027-ac4e-f6d23d38e3f4",
   "metadata": {},
   "outputs": [
    {
     "data": {
      "text/plain": [
       "{\"craters_('A',_1)\": 300.0,\n",
       " \"craters_('A',_2)\": 0.0,\n",
       " \"craters_('A',_3)\": 0.0,\n",
       " \"craters_('A',_4)\": 0.0,\n",
       " \"craters_('A',_5)\": 700.0,\n",
       " \"craters_('B',_1)\": 200.0,\n",
       " \"craters_('B',_2)\": 900.0,\n",
       " \"craters_('B',_3)\": 1800.0,\n",
       " \"craters_('B',_4)\": 200.0,\n",
       " \"craters_('B',_5)\": 0.0}"
      ]
     },
     "execution_count": 83,
     "metadata": {},
     "output_type": "execute_result"
    }
   ],
   "source": [
    "optimal_solution = dict([(x[var].name, x[var].value()) for var in x])\n",
    "optimal_solution"
   ]
  },
  {
   "cell_type": "markdown",
   "id": "1d8f473c-c459-42e2-9931-d51e9297b365",
   "metadata": {},
   "source": [
    "# Inbalance in supply and demand: storage\n",
    "- Storage has costs and oftentimes we need to account for that\n",
    "- We can do that by creating a \"dummy\" bar demand with costs associated with storage\n",
    "- It is a virtual demand node that is only created to account for storage costs for each warehouse, which may be different.\n",
    "- With excess demand the problem is infeasible, threfore this buffer node shoudl be exactly de difference `demand - supply` \n",
    "\n",
    "- To prevent for infeasible solutions when demand > supply, we can add a virtual node that represent buying from other distributors"
   ]
  },
  {
   "cell_type": "code",
   "execution_count": 102,
   "id": "fd1508f9-9225-4320-a6fd-89bb81366937",
   "metadata": {},
   "outputs": [
    {
     "data": {
      "text/plain": [
       "{1: 500, 2: 900, 3: 1800, 4: 200, 5: 700, 99: 900}"
      ]
     },
     "execution_count": 102,
     "metadata": {},
     "output_type": "execute_result"
    }
   ],
   "source": [
    "warehouses = [\"A\", \"B\"]\n",
    "bars = [1,2,3,4,5, 99] #99 is our dummy node accounting for storage costs\n",
    "\n",
    "warehouse_capacity = {\"A\": 1000, \"B\": 4000}\n",
    "\n",
    "demand_per_bar = {\n",
    "    1: 500,\n",
    "    2: 900,\n",
    "    3: 1800,\n",
    "    4: 200,\n",
    "    5: 700,\n",
    "}\n",
    "\n",
    "total_demand_of_crates = sum(demand_per_bar.values())\n",
    "total_supply_of_crates = sum(warehouse_capacity.values())\n",
    "\n",
    "demand_per_bar[99] = total_supply_of_crates - total_demand_of_crates\n",
    "\n",
    "demand_per_bar"
   ]
  },
  {
   "cell_type": "code",
   "execution_count": 103,
   "id": "d09b5855-68b2-49f9-8e24-0c5032ea80bb",
   "metadata": {},
   "outputs": [
    {
     "data": {
      "text/plain": [
       "{('A', 1): craters_('A',_1),\n",
       " ('A', 2): craters_('A',_2),\n",
       " ('A', 3): craters_('A',_3),\n",
       " ('A', 4): craters_('A',_4),\n",
       " ('A', 5): craters_('A',_5),\n",
       " ('A', 99): craters_('A',_99),\n",
       " ('B', 1): craters_('B',_1),\n",
       " ('B', 2): craters_('B',_2),\n",
       " ('B', 3): craters_('B',_3),\n",
       " ('B', 4): craters_('B',_4),\n",
       " ('B', 5): craters_('B',_5),\n",
       " ('B', 99): craters_('B',_99)}"
      ]
     },
     "execution_count": 103,
     "metadata": {},
     "output_type": "execute_result"
    }
   ],
   "source": [
    "# Problem definition \n",
    "model = lp.LpProblem(\"supply_cost_minimization\",lp.LpMinimize)\n",
    "\n",
    "# Variables - # of crates shipped from Warehouse X to Bar Y, with X in (A,B) and Y in (1,2,3,4,5)\n",
    "x = lp.LpVariable.dicts(\"craters\",[(warehouse, bar) for warehouse in warehouses for bar in bars], lowBound=0,cat='Integer')\n",
    "x"
   ]
  },
  {
   "cell_type": "code",
   "execution_count": 104,
   "id": "cc04b42c-41b1-4d2c-bd5f-9a1eb4ec7a03",
   "metadata": {},
   "outputs": [
    {
     "data": {
      "text/plain": [
       "{('A', 1): 2,\n",
       " ('A', 2): 4,\n",
       " ('A', 3): 5,\n",
       " ('A', 4): 2,\n",
       " ('A', 5): 1,\n",
       " ('A', 99): 1,\n",
       " ('B', 1): 3,\n",
       " ('B', 2): 1,\n",
       " ('B', 3): 3,\n",
       " ('B', 4): 2,\n",
       " ('B', 5): 3,\n",
       " ('B', 99): 2}"
      ]
     },
     "execution_count": 104,
     "metadata": {},
     "output_type": "execute_result"
    }
   ],
   "source": [
    "# Suppose the storage cost of warehouse B (2) is more expensive than warehouse A (1)\n",
    "transp_costs = dict(zip([(warehouse, bar) for warehouse in warehouses for bar in bars],\n",
    "                        [2,4,5,2,1,1,3,1,3,2,3,2]))\n",
    "transp_costs"
   ]
  },
  {
   "cell_type": "code",
   "execution_count": 105,
   "id": "79397f66-f8b8-44e4-984d-95acf4dbf503",
   "metadata": {},
   "outputs": [],
   "source": [
    "# Objective function to be minimized - total cost of transport\n",
    "model += lp.lpSum([transp_costs[(wh,bar)] * x[(wh,bar)] for wh in warehouses for bar in bars])"
   ]
  },
  {
   "cell_type": "code",
   "execution_count": 106,
   "id": "2a61620c-ae20-4b48-922a-0143ca31620d",
   "metadata": {},
   "outputs": [],
   "source": [
    "# Supply Constraints\n",
    "for wh in warehouses:\n",
    "    model += lp.lpSum([x[(wh,bar)] for bar in bars]) <= warehouse_capacity[wh]\n",
    "\n",
    "# Demand Constraints\n",
    "for bar in bars:\n",
    "    model += lp.lpSum([x[(wh,bar)] for wh in warehouses]) == demand_per_bar[bar]"
   ]
  },
  {
   "cell_type": "code",
   "execution_count": 107,
   "id": "7a25a15e-396f-4bc9-91b5-4dddbfd65deb",
   "metadata": {},
   "outputs": [
    {
     "name": "stdout",
     "output_type": "stream",
     "text": [
      "Model solution status:  Optimal\n"
     ]
    }
   ],
   "source": [
    "status = model.solve()\n",
    "print(\"Model solution status: \", lp.LpStatus[status])"
   ]
  },
  {
   "cell_type": "code",
   "execution_count": 108,
   "id": "e9330c7e-6936-4473-bc09-b653f36e0f9a",
   "metadata": {},
   "outputs": [
    {
     "data": {
      "text/plain": [
       "{\"craters_('A',_1)\": 0.0,\n",
       " \"craters_('A',_2)\": 0.0,\n",
       " \"craters_('A',_3)\": 0.0,\n",
       " \"craters_('A',_4)\": 0.0,\n",
       " \"craters_('A',_5)\": 700.0,\n",
       " \"craters_('A',_99)\": 300.0,\n",
       " \"craters_('B',_1)\": 500.0,\n",
       " \"craters_('B',_2)\": 900.0,\n",
       " \"craters_('B',_3)\": 1800.0,\n",
       " \"craters_('B',_4)\": 200.0,\n",
       " \"craters_('B',_5)\": 0.0,\n",
       " \"craters_('B',_99)\": 600.0}"
      ]
     },
     "execution_count": 108,
     "metadata": {},
     "output_type": "execute_result"
    }
   ],
   "source": [
    "optimal_solution = dict([(x[var].name, x[var].value()) for var in x])\n",
    "optimal_solution"
   ]
  },
  {
   "cell_type": "markdown",
   "id": "16984ded-331b-4f5c-bab0-64af45e49d3d",
   "metadata": {},
   "source": [
    "Depending on how mnuch more expensive it is to store craters in each warehouse, the optimal solution changes\n",
    "\n",
    "Le'ts see the effect of more demand than supply"
   ]
  },
  {
   "cell_type": "code",
   "execution_count": 113,
   "id": "b168f2a3-ee71-47a1-aece-bcf28f211595",
   "metadata": {},
   "outputs": [
    {
     "name": "stdout",
     "output_type": "stream",
     "text": [
      "{1: 500, 2: 900, 3: 1800, 4: 200, 5: 700, 99: 0}\n",
      "{'A': 1000, 'B': 3000, 'C': 100}\n",
      "{('A', 1): 2, ('A', 2): 4, ('A', 3): 5, ('A', 4): 2, ('A', 5): 1, ('A', 99): 1, ('B', 1): 3, ('B', 2): 1, ('B', 3): 3, ('B', 4): 2, ('B', 5): 3, ('B', 99): 2, ('C', 1): 4, ('C', 2): 3, ('C', 3): 6, ('C', 4): 4, ('C', 5): 4, ('C', 99): 3}\n"
     ]
    }
   ],
   "source": [
    "warehouses = [\"A\", \"B\", \"C\"] # C is our dummy supplier that will meet the inbalance in demand and supply\n",
    "bars = [1,2,3,4,5, 99] #99 is our dummy node accounting for storage costs\n",
    "\n",
    "warehouse_capacity = {\"A\": 1000, \"B\": 3000} \n",
    "\n",
    "demand_per_bar = {\n",
    "    1: 500,\n",
    "    2: 900,\n",
    "    3: 1800,\n",
    "    4: 200,\n",
    "    5: 700,\n",
    "}\n",
    "\n",
    "total_demand_of_crates = sum(demand_per_bar.values())\n",
    "total_supply_of_crates = sum(warehouse_capacity.values())\n",
    "\n",
    "# Balanced supply and demand\n",
    "if (total_supply_of_crates - total_demand_of_crates == 0):\n",
    "    demand_per_bar[99] = 0\n",
    "    warehouse_capacity[\"C\"] = 0\n",
    "    \n",
    "# More supply than demand\n",
    "elif (total_supply_of_crates - total_demand_of_crates > 0):\n",
    "    demand_per_bar[99] = total_supply_of_crates - total_demand_of_crates\n",
    "    warehouse_capacity[\"C\"] = 0\n",
    "\n",
    "# More demand than supply\n",
    "else:\n",
    "    demand_per_bar[99] = 0\n",
    "    warehouse_capacity[\"C\"] = total_demand_of_crates - total_supply_of_crates\n",
    "    \n",
    "\n",
    "# Suppose the storage cost of warehouse B (2) is more expensive than warehouse A (1)\n",
    "transp_costs = dict(zip([(warehouse, bar) for warehouse in warehouses for bar in bars],\n",
    "                        [2,4,5,2,1,1,\n",
    "                         3,1,3,2,3,2,\n",
    "                         4,3,6,4,4,3]))\n",
    "\n",
    "print(demand_per_bar)\n",
    "print(warehouse_capacity)\n",
    "print(transp_costs)"
   ]
  },
  {
   "cell_type": "code",
   "execution_count": 114,
   "id": "83340573-a795-4d4b-830d-cbe34dc46bf7",
   "metadata": {},
   "outputs": [
    {
     "name": "stdout",
     "output_type": "stream",
     "text": [
      "Model solution status:  Optimal\n"
     ]
    },
    {
     "data": {
      "text/plain": [
       "{\"craters_('A',_1)\": 300.0,\n",
       " \"craters_('A',_2)\": 0.0,\n",
       " \"craters_('A',_3)\": 0.0,\n",
       " \"craters_('A',_4)\": 0.0,\n",
       " \"craters_('A',_5)\": 700.0,\n",
       " \"craters_('A',_99)\": 0.0,\n",
       " \"craters_('B',_1)\": 100.0,\n",
       " \"craters_('B',_2)\": 900.0,\n",
       " \"craters_('B',_3)\": 1800.0,\n",
       " \"craters_('B',_4)\": 200.0,\n",
       " \"craters_('B',_5)\": 0.0,\n",
       " \"craters_('B',_99)\": 0.0,\n",
       " \"craters_('C',_1)\": 100.0,\n",
       " \"craters_('C',_2)\": 0.0,\n",
       " \"craters_('C',_3)\": 0.0,\n",
       " \"craters_('C',_4)\": 0.0,\n",
       " \"craters_('C',_5)\": 0.0,\n",
       " \"craters_('C',_99)\": 0.0}"
      ]
     },
     "execution_count": 114,
     "metadata": {},
     "output_type": "execute_result"
    }
   ],
   "source": [
    "# Problem definition \n",
    "model = lp.LpProblem(\"supply_cost_minimization\",lp.LpMinimize)\n",
    "\n",
    "# Variables - # of crates shipped from Warehouse X to Bar Y, with X in (A,B) and Y in (1,2,3,4,5)\n",
    "x = lp.LpVariable.dicts(\"craters\",[(warehouse, bar) for warehouse in warehouses for bar in bars], lowBound=0,cat='Integer')\n",
    "\n",
    "# Objective function to be minimized - total cost of transport\n",
    "model += lp.lpSum([transp_costs[(wh,bar)] * x[(wh,bar)] for wh in warehouses for bar in bars])\n",
    "\n",
    "# Supply Constraints\n",
    "for wh in warehouses:\n",
    "    model += lp.lpSum([x[(wh,bar)] for bar in bars]) <= warehouse_capacity[wh]\n",
    "\n",
    "# Demand Constraints\n",
    "for bar in bars:\n",
    "    model += lp.lpSum([x[(wh,bar)] for wh in warehouses]) == demand_per_bar[bar]\n",
    "    \n",
    "status = model.solve()\n",
    "print(\"Model solution status: \", lp.LpStatus[status])\n",
    "\n",
    "optimal_solution = dict([(x[var].name, x[var].value()) for var in x])\n",
    "optimal_solution"
   ]
  },
  {
   "cell_type": "markdown",
   "id": "3e966836-6fd4-454a-90cc-18fe12f747e1",
   "metadata": {},
   "source": [
    "## Two stage production planning problem\n",
    "- Decision maker must decide how to purchase material, labor and resources to produce end products and maximize provit\n",
    "- GTC company produces wrenches and pliers\n",
    "- Products are subject to availability of steel, machine capabilities (molding and assembly), labor and market demand\n",
    "\n",
    "- GTC wants to determine how much steel to purchase\n",
    "- Available assembly capacity and Product contribution to earnings are unknown presently, but will be known at the beginning of the next period\n",
    "  - When it is known, it will determine how many wrenches and pliers to produce\n",
    "  - Uncertainty is expressed as one of four possible scenarios, each one with equal probability"
   ]
  },
  {
   "cell_type": "code",
   "execution_count": 116,
   "id": "f34f4878-1df2-4515-8946-9d494c87ddeb",
   "metadata": {},
   "outputs": [],
   "source": [
    "import pulp as lp\n",
    "import numpy as np"
   ]
  },
  {
   "cell_type": "code",
   "execution_count": 119,
   "id": "1b9aefbb-4f6b-4d54-ad24-d0a386ea2fd9",
   "metadata": {},
   "outputs": [],
   "source": [
    "# Values that doesn't change\n",
    "products = [\"wrenches\",\"pliers\"]\n",
    "price = [130, 100]\n",
    "steel = [1.5, 1]\n",
    "molding = [1, 1]\n",
    "assembly = [0.3, 0.5]\n",
    "cap_steel = 27\n",
    "cap_molding = 21\n",
    "LB = [0, 0]\n",
    "capacity_ub = [15, 16]\n",
    "steel_price = 58"
   ]
  },
  {
   "cell_type": "code",
   "execution_count": 120,
   "id": "1d885e26-3ac6-42b4-b183-7df09687366d",
   "metadata": {},
   "outputs": [],
   "source": [
    "# Four scenarios\n",
    "scenarios = [0, 1, 2, 3]\n",
    "prob_scenario = [0.25, 0.25, 0.25, 0.25]\n",
    "wrench_earnings = [160, 160, 90, 90]\n",
    "plier_earnings = [100, 100, 100, 100]\n",
    "cap_assembly = [8, 10, 8, 10]"
   ]
  },
  {
   "cell_type": "code",
   "execution_count": 121,
   "id": "5f92dcdb-1d46-431c-b8a4-1c2ede75237e",
   "metadata": {},
   "outputs": [],
   "source": [
    "# Combinations of products and scenarios\n",
    "\n",
    "production = [(scen, prod) for scen in scenarios for prod in products]\n",
    "price_scenario = [[wrench_earnings[scen], plier_earnings[scen]] for scen in scenarios]\n",
    "price_items = [item for sublist in price_scenario for item in sublist]"
   ]
  },
  {
   "cell_type": "code",
   "execution_count": null,
   "id": "22f7d704-d717-42f8-866f-95ec82ac2ab6",
   "metadata": {},
   "outputs": [],
   "source": []
  }
 ],
 "metadata": {
  "kernelspec": {
   "display_name": "Python 3 (ipykernel)",
   "language": "python",
   "name": "python3"
  },
  "language_info": {
   "codemirror_mode": {
    "name": "ipython",
    "version": 3
   },
   "file_extension": ".py",
   "mimetype": "text/x-python",
   "name": "python",
   "nbconvert_exporter": "python",
   "pygments_lexer": "ipython3",
   "version": "3.10.9"
  }
 },
 "nbformat": 4,
 "nbformat_minor": 5
}
