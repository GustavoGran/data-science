{
 "cells": [
  {
   "cell_type": "code",
   "execution_count": 1,
   "id": "bb6cdd15-bc9d-403d-882e-0672b6ff6f50",
   "metadata": {},
   "outputs": [],
   "source": [
    "import pandas as pd\n",
    "import numpy as np\n",
    "import seaborn as sns\n",
    "import matplotlib.pyplot as plt\n",
    "import lightgbm as lgb\n",
    "import xgboost as xgb"
   ]
  },
  {
   "cell_type": "markdown",
   "id": "96dc5b9a-82e2-41ea-b9b3-faa74660a65d",
   "metadata": {
    "jp-MarkdownHeadingCollapsed": true,
    "tags": []
   },
   "source": [
    "### Solving encoding issues"
   ]
  },
  {
   "cell_type": "code",
   "execution_count": 2,
   "id": "d3cf8140-2242-4d79-82c6-0f859f896af7",
   "metadata": {},
   "outputs": [],
   "source": [
    "# First let's solve weird encoding in files\n",
    "! mv train.csv train_weird_encoding.csv\n",
    "! mv test.csv test_weird_encoding.csv"
   ]
  },
  {
   "cell_type": "code",
   "execution_count": 3,
   "id": "9f0dd667-157f-45ac-9c5a-46da218175c4",
   "metadata": {},
   "outputs": [],
   "source": [
    "# Solving\n",
    "import csv\n",
    "\n",
    "with open(\"train_weird_encoding.csv\", \"r\", encoding='ISO-8859-1') as in_file:\n",
    "    with open(\"train.csv\", \"w\", newline='') as out_file:\n",
    "        reader = csv.reader(in_file)\n",
    "        writer = csv.writer(out_file)\n",
    "        for idx, row in enumerate(reader):\n",
    "            try:\n",
    "                writer.writerow(row)\n",
    "            except Exception as e:\n",
    "                print(\"Error on row: \", idx+1)\n",
    "                print(e)\n",
    "                print(\"\\n\")"
   ]
  },
  {
   "cell_type": "code",
   "execution_count": 4,
   "id": "d57c0c29-55b6-4f89-a27e-8f5b42f86e89",
   "metadata": {},
   "outputs": [
    {
     "name": "stdout",
     "output_type": "stream",
     "text": [
      "87018 train_weird_encoding.csv\n"
     ]
    }
   ],
   "source": [
    "! wc -l train_weird_encoding.csv"
   ]
  },
  {
   "cell_type": "code",
   "execution_count": 5,
   "id": "f90997b9-38d0-4499-a855-1241e3935a70",
   "metadata": {},
   "outputs": [
    {
     "name": "stdout",
     "output_type": "stream",
     "text": [
      "87018 train.csv\n"
     ]
    }
   ],
   "source": [
    "! wc -l train.csv"
   ]
  },
  {
   "cell_type": "code",
   "execution_count": 6,
   "id": "c9a0df42-c0a6-40e6-b6c5-17d413333428",
   "metadata": {},
   "outputs": [],
   "source": [
    "# Solving\n",
    "import csv\n",
    "\n",
    "with open(\"test_weird_encoding.csv\", \"r\", encoding='ISO-8859-1') as in_file:\n",
    "    with open(\"test.csv\", \"w\", newline='') as out_file:\n",
    "        reader = csv.reader(in_file)\n",
    "        writer = csv.writer(out_file)\n",
    "        for idx, row in enumerate(reader):\n",
    "            try:\n",
    "                writer.writerow(row)\n",
    "            except Exception as e:\n",
    "                print(\"Error on row: \", idx+1)\n",
    "                print(e)\n",
    "                print(\"\\n\")"
   ]
  },
  {
   "cell_type": "code",
   "execution_count": 7,
   "id": "6ed618df-b119-433c-9663-f11d7cc5ba42",
   "metadata": {},
   "outputs": [
    {
     "name": "stdout",
     "output_type": "stream",
     "text": [
      "37718 test_weird_encoding.csv\n"
     ]
    }
   ],
   "source": [
    "! wc -l test_weird_encoding.csv"
   ]
  },
  {
   "cell_type": "code",
   "execution_count": 8,
   "id": "5787845c-2b6c-4c17-aa48-ab27356ad541",
   "metadata": {},
   "outputs": [
    {
     "name": "stdout",
     "output_type": "stream",
     "text": [
      "37718 test.csv\n"
     ]
    }
   ],
   "source": [
    "! wc -l test.csv"
   ]
  },
  {
   "cell_type": "markdown",
   "id": "023ca48b-e4c6-4312-bbdc-3b8f5a657681",
   "metadata": {},
   "source": [
    "### Get the data"
   ]
  },
  {
   "cell_type": "code",
   "execution_count": 2,
   "id": "791e89f9-6694-4fa2-857b-d1604cf9d0fd",
   "metadata": {},
   "outputs": [],
   "source": [
    "def get_data():\n",
    "    train = pd.read_csv(\"./train.csv\")\n",
    "    test = pd.read_csv(\"./test.csv\")\n",
    "    return train, test"
   ]
  },
  {
   "cell_type": "code",
   "execution_count": 3,
   "id": "6bb7fddf-494b-4b8d-8b3e-045e59346d6b",
   "metadata": {},
   "outputs": [
    {
     "data": {
      "text/plain": [
       "((87017, 26), (37717, 24))"
      ]
     },
     "execution_count": 3,
     "metadata": {},
     "output_type": "execute_result"
    }
   ],
   "source": [
    "train_df, test_df = get_data()\n",
    "train_df.shape, test_df.shape"
   ]
  },
  {
   "cell_type": "code",
   "execution_count": 4,
   "id": "0b64ebb1-d49a-4595-9d52-660a31e381c5",
   "metadata": {},
   "outputs": [
    {
     "data": {
      "text/plain": [
       "{'Disbursed', 'LoggedIn'}"
      ]
     },
     "execution_count": 4,
     "metadata": {},
     "output_type": "execute_result"
    }
   ],
   "source": [
    "set(train_df.columns) - set(test_df.columns)"
   ]
  },
  {
   "cell_type": "code",
   "execution_count": 5,
   "id": "35156386-dac2-40e0-a3ff-f101e1ce3ea0",
   "metadata": {},
   "outputs": [
    {
     "name": "stdout",
     "output_type": "stream",
     "text": [
      "Percentage of nulls in train dataset\n"
     ]
    },
    {
     "data": {
      "text/plain": [
       "Processing_Fee           68.488916\n",
       "Interest_Rate            68.137261\n",
       "EMI_Loan_Submitted       68.137261\n",
       "Loan_Amount_Submitted    39.773837\n",
       "Loan_Tenure_Submitted    39.773837\n",
       "Salary_Account           13.519197\n",
       "City                      1.152648\n",
       "Loan_Amount_Applied       0.081593\n",
       "Loan_Tenure_Applied       0.081593\n",
       "Existing_EMI              0.081593\n",
       "Employer_Name             0.081593\n",
       "dtype: float64"
      ]
     },
     "execution_count": 5,
     "metadata": {},
     "output_type": "execute_result"
    }
   ],
   "source": [
    "print(\"Percentage of nulls in train dataset\")\n",
    "100 * train_df.loc[:,train_df.isnull().sum() > 0].isnull().sum().sort_values(ascending=False) / train_df.shape[0]"
   ]
  },
  {
   "cell_type": "code",
   "execution_count": 6,
   "id": "2cd5e481-22b4-4327-a047-27e63777534a",
   "metadata": {},
   "outputs": [
    {
     "name": "stdout",
     "output_type": "stream",
     "text": [
      "Percentage of nulls in test dataset\n"
     ]
    },
    {
     "data": {
      "text/plain": [
       "Processing_Fee           68.260996\n",
       "Interest_Rate            67.892462\n",
       "EMI_Loan_Submitted       67.892462\n",
       "Loan_Amount_Submitted    39.563062\n",
       "Loan_Tenure_Submitted    39.563062\n",
       "Salary_Account           13.354721\n",
       "City                      1.055227\n",
       "Employer_Name             0.111356\n",
       "Loan_Amount_Applied       0.106053\n",
       "Loan_Tenure_Applied       0.106053\n",
       "Existing_EMI              0.106053\n",
       "dtype: float64"
      ]
     },
     "execution_count": 6,
     "metadata": {},
     "output_type": "execute_result"
    }
   ],
   "source": [
    "print(\"Percentage of nulls in test dataset\")\n",
    "100 * test_df.loc[:,test_df.isnull().sum() > 0].isnull().sum().sort_values(ascending=False) / test_df.shape[0]"
   ]
  },
  {
   "cell_type": "markdown",
   "id": "80d8ad62-774f-4663-9466-121d665f0fc5",
   "metadata": {},
   "source": [
    "### Nulls exist, let's keep it that way to test missing values property of xgboost and lightgbm"
   ]
  },
  {
   "cell_type": "code",
   "execution_count": 7,
   "id": "f88c79af-c45a-4a1c-a911-67a758a3bbc7",
   "metadata": {},
   "outputs": [
    {
     "name": "stdout",
     "output_type": "stream",
     "text": [
      "<class 'pandas.core.frame.DataFrame'>\n",
      "RangeIndex: 87017 entries, 0 to 87016\n",
      "Data columns (total 26 columns):\n",
      " #   Column                 Non-Null Count  Dtype  \n",
      "---  ------                 --------------  -----  \n",
      " 0   ID                     87017 non-null  object \n",
      " 1   Gender                 87017 non-null  object \n",
      " 2   City                   86014 non-null  object \n",
      " 3   Monthly_Income         87017 non-null  int64  \n",
      " 4   DOB                    87017 non-null  object \n",
      " 5   Lead_Creation_Date     87017 non-null  object \n",
      " 6   Loan_Amount_Applied    86946 non-null  float64\n",
      " 7   Loan_Tenure_Applied    86946 non-null  float64\n",
      " 8   Existing_EMI           86946 non-null  float64\n",
      " 9   Employer_Name          86946 non-null  object \n",
      " 10  Salary_Account         75253 non-null  object \n",
      " 11  Mobile_Verified        87017 non-null  object \n",
      " 12  Var5                   87017 non-null  int64  \n",
      " 13  Var1                   87017 non-null  object \n",
      " 14  Loan_Amount_Submitted  52407 non-null  float64\n",
      " 15  Loan_Tenure_Submitted  52407 non-null  float64\n",
      " 16  Interest_Rate          27726 non-null  float64\n",
      " 17  Processing_Fee         27420 non-null  float64\n",
      " 18  EMI_Loan_Submitted     27726 non-null  float64\n",
      " 19  Filled_Form            87017 non-null  object \n",
      " 20  Device_Type            87017 non-null  object \n",
      " 21  Var2                   87017 non-null  object \n",
      " 22  Source                 87017 non-null  object \n",
      " 23  Var4                   87017 non-null  int64  \n",
      " 24  LoggedIn               87017 non-null  int64  \n",
      " 25  Disbursed              87017 non-null  int64  \n",
      "dtypes: float64(8), int64(5), object(13)\n",
      "memory usage: 17.3+ MB\n"
     ]
    }
   ],
   "source": [
    "train_df.info()"
   ]
  },
  {
   "cell_type": "code",
   "execution_count": 8,
   "id": "a3fb7fb8-4b78-40e8-9b1c-4253bf75dd35",
   "metadata": {},
   "outputs": [
    {
     "name": "stdout",
     "output_type": "stream",
     "text": [
      "<class 'pandas.core.frame.DataFrame'>\n",
      "RangeIndex: 37717 entries, 0 to 37716\n",
      "Data columns (total 24 columns):\n",
      " #   Column                 Non-Null Count  Dtype  \n",
      "---  ------                 --------------  -----  \n",
      " 0   ID                     37717 non-null  object \n",
      " 1   Gender                 37717 non-null  object \n",
      " 2   City                   37319 non-null  object \n",
      " 3   Monthly_Income         37717 non-null  int64  \n",
      " 4   DOB                    37717 non-null  object \n",
      " 5   Lead_Creation_Date     37717 non-null  object \n",
      " 6   Loan_Amount_Applied    37677 non-null  float64\n",
      " 7   Loan_Tenure_Applied    37677 non-null  float64\n",
      " 8   Existing_EMI           37677 non-null  float64\n",
      " 9   Employer_Name          37675 non-null  object \n",
      " 10  Salary_Account         32680 non-null  object \n",
      " 11  Mobile_Verified        37717 non-null  object \n",
      " 12  Var5                   37717 non-null  int64  \n",
      " 13  Var1                   37717 non-null  object \n",
      " 14  Loan_Amount_Submitted  22795 non-null  float64\n",
      " 15  Loan_Tenure_Submitted  22795 non-null  float64\n",
      " 16  Interest_Rate          12110 non-null  float64\n",
      " 17  Processing_Fee         11971 non-null  float64\n",
      " 18  EMI_Loan_Submitted     12110 non-null  float64\n",
      " 19  Filled_Form            37717 non-null  object \n",
      " 20  Device_Type            37717 non-null  object \n",
      " 21  Var2                   37717 non-null  object \n",
      " 22  Source                 37717 non-null  object \n",
      " 23  Var4                   37717 non-null  int64  \n",
      "dtypes: float64(8), int64(3), object(13)\n",
      "memory usage: 6.9+ MB\n"
     ]
    }
   ],
   "source": [
    "test_df.info()"
   ]
  },
  {
   "cell_type": "markdown",
   "id": "becb98b1-f3d4-474a-8056-e3d29db183fd",
   "metadata": {},
   "source": [
    "We  will only drop the features that are not present in test dataset"
   ]
  },
  {
   "cell_type": "code",
   "execution_count": 9,
   "id": "3b494fe2-b9b2-407c-b670-9d03322ef169",
   "metadata": {},
   "outputs": [],
   "source": [
    "train_df = train_df.drop([\"Disbursed\",\"LoggedIn\",\"ID\"], axis=1)\n",
    "test_df = test_df.drop([\"ID\"], axis=1)"
   ]
  },
  {
   "cell_type": "markdown",
   "id": "f05831ad-ee6e-4109-9d79-6041b6c7ee3b",
   "metadata": {},
   "source": [
    "We will also create our predicted variable and a suppor feature `\"Annual_Income\"`, `Earns_500k_plus`"
   ]
  },
  {
   "cell_type": "code",
   "execution_count": 10,
   "id": "53ed7332-0443-4870-9b59-3987f3c3de97",
   "metadata": {},
   "outputs": [],
   "source": [
    "train_df[\"Annual_Income\"] = train_df[\"Monthly_Income\"] * 12"
   ]
  },
  {
   "cell_type": "code",
   "execution_count": 11,
   "id": "a4b8f8c5-4708-40a7-88c3-7f918bcac45d",
   "metadata": {},
   "outputs": [],
   "source": [
    "train_df[\"Earns_500k_plus\"] = (train_df[\"Annual_Income\"] > 500000).astype(bool)"
   ]
  },
  {
   "cell_type": "markdown",
   "id": "a3b83bf4-9fa9-4f53-a96a-2e3a305601d0",
   "metadata": {},
   "source": [
    "### Then we proceed to drop features that are proxies of the predicted variable in order to prevent data leakege"
   ]
  },
  {
   "cell_type": "code",
   "execution_count": 13,
   "id": "baaa1100-dc82-4850-8f2a-a982e26081a0",
   "metadata": {},
   "outputs": [
    {
     "data": {
      "text/plain": [
       "((87017, 23), (37717, 22))"
      ]
     },
     "execution_count": 13,
     "metadata": {},
     "output_type": "execute_result"
    }
   ],
   "source": [
    "train_df = train_df.drop([\"Monthly_Income\",\"Annual_Income\"], axis=1)\n",
    "test_df = test_df.drop([\"Monthly_Income\"], axis=1)\n",
    "\n",
    "train_df.shape, test_df.shape"
   ]
  },
  {
   "cell_type": "markdown",
   "id": "c3269c23-c3c8-4f78-afb1-11c518c51c85",
   "metadata": {},
   "source": [
    "### THere is some data transformation required\n",
    "- LGBM accept 4 types of variables: int, float, bool, category\n",
    "- Convert datetime features to year, month, day integer variables\n",
    "- Convert \"object\" columns to 'category'"
   ]
  },
  {
   "cell_type": "code",
   "execution_count": 14,
   "id": "88c143c6-c349-4fb0-bdea-43bed6982291",
   "metadata": {},
   "outputs": [],
   "source": [
    "# Handle datetime vlaues\n",
    "train_df[\"DOB\"] = pd.to_datetime(train_df[\"DOB\"],format=\"%d-%b-%y\")\n",
    "test_df[\"DOB\"] = pd.to_datetime(test_df[\"DOB\"],format=\"%d-%b-%y\")\n",
    "\n",
    "train_df[\"Lead_Creation_Date\"] = pd.to_datetime(train_df[\"Lead_Creation_Date\"],format=\"%d-%b-%y\")\n",
    "test_df[\"Lead_Creation_Date\"] = pd.to_datetime(test_df[\"Lead_Creation_Date\"],format=\"%d-%b-%y\")"
   ]
  },
  {
   "cell_type": "code",
   "execution_count": 15,
   "id": "27b87c7e-db4c-4975-b2e6-29e06479bcc4",
   "metadata": {},
   "outputs": [],
   "source": [
    "def create_year_month_day_columns(dataframe, features):\n",
    "    df = dataframe.copy()\n",
    "    for feature in features:\n",
    "        df[feature + \"_day\"] = df[feature].dt.day\n",
    "        df[feature + \"_month\"] = df[feature].dt.month\n",
    "        df[feature + \"_year\"] = df[feature].dt.year\n",
    "    \n",
    "    return df"
   ]
  },
  {
   "cell_type": "code",
   "execution_count": 16,
   "id": "06b79590-4377-47a9-874d-557acc83a8b0",
   "metadata": {},
   "outputs": [],
   "source": [
    "train_df = create_year_month_day_columns(train_df,[\"DOB\",\"Lead_Creation_Date\"])\n",
    "test_df = create_year_month_day_columns(test_df,[\"DOB\",\"Lead_Creation_Date\"])\n",
    "\n",
    "train_df = train_df.drop([\"DOB\",\"Lead_Creation_Date\"],axis=1)\n",
    "test_df = test_df.drop([\"DOB\",\"Lead_Creation_Date\"],axis=1)"
   ]
  },
  {
   "cell_type": "code",
   "execution_count": 17,
   "id": "cdd5a624-f0eb-4547-9ea9-a4771e78930e",
   "metadata": {},
   "outputs": [],
   "source": [
    "# Convert categorical variables to \"category\" for LightGBM run properly\n",
    "numerics = [\"float64\",\"int64\",\"int32\",\"bool\"]\n",
    "categorical_features = train_df.select_dtypes(exclude=numerics).columns.tolist()\n",
    "\n",
    "train_df[categorical_features] = train_df[categorical_features].astype('category')\n",
    "test_df[categorical_features] = test_df[categorical_features].astype('category')"
   ]
  },
  {
   "cell_type": "code",
   "execution_count": 18,
   "id": "9229fb41-f812-445e-a4bf-99488e60a1a0",
   "metadata": {},
   "outputs": [],
   "source": [
    "# Let's start simple with a train_test_split of 30% validation data\n",
    "from sklearn.model_selection import train_test_split"
   ]
  },
  {
   "cell_type": "code",
   "execution_count": 19,
   "id": "407285e9-20fc-4679-bc51-672b32e4c884",
   "metadata": {},
   "outputs": [],
   "source": [
    "X_train, X_valid, y_train, y_valid = train_test_split(train_df.drop(\"Earns_500k_plus\", axis=1),\n",
    "                                                      train_df[\"Earns_500k_plus\"], \n",
    "                                                      test_size=0.2)"
   ]
  },
  {
   "cell_type": "code",
   "execution_count": 20,
   "id": "33284b57-dfe2-489a-86c1-0d4e04f99649",
   "metadata": {},
   "outputs": [],
   "source": [
    "import logging\n",
    "import time\n",
    "\n",
    "logger = logging.getLogger(__name__)\n",
    "\n",
    "def log_execution_time(func):\n",
    "    def wrapper(*args, **kwargs):\n",
    "        start_time = time.time() \n",
    "        result = func(*args, **kwargs)\n",
    "        end_time = time.time()\n",
    "        execution_time = end_time - start_time\n",
    "        logger.info(f\"{func.__name__} took {execution_time:.6f} seconds to execute.\")\n",
    "        return result\n",
    "    return wrapper"
   ]
  },
  {
   "cell_type": "code",
   "execution_count": 72,
   "id": "f10f6359-fc42-42d8-96a0-40b7c2148732",
   "metadata": {},
   "outputs": [
    {
     "ename": "SyntaxError",
     "evalue": "positional argument follows keyword argument (783944461.py, line 25)",
     "output_type": "error",
     "traceback": [
      "\u001b[1;36m  Cell \u001b[1;32mIn[72], line 25\u001b[1;36m\u001b[0m\n\u001b[1;33m    valid_sets = [validation_data],categorical_feature)\u001b[0m\n\u001b[1;37m                                                      ^\u001b[0m\n\u001b[1;31mSyntaxError\u001b[0m\u001b[1;31m:\u001b[0m positional argument follows keyword argument\n"
     ]
    }
   ],
   "source": [
    "# Let's build our LightGBM model using default parameters\n",
    "\n",
    "train_data = lgb.Dataset(X_train,\n",
    "                         label=y_train,\n",
    "                         feature_name=X_train.columns.tolist(), \n",
    "                         categorical_feature= categorical_features)\n",
    "validation_data = lgb.Dataset(X_valid,\n",
    "                              label= y_valid,\n",
    "                              feature_name=X_valid.columns.tolist(), \n",
    "                              categorical_feature= categorical_features)\n",
    "\n",
    "@log_execution_time\n",
    "def train_lgb(train_data, validation_data):\n",
    "    \n",
    "    lgb_params = {\n",
    "        \"objective\" : \"binary\",\n",
    "        \"metric\": \"auc\"\n",
    "    }\n",
    "\n",
    "    num_rounds = 100\n",
    "    \n",
    "    return lgb.train(params = lgb_params, \n",
    "                     train_set = train_data, \n",
    "                     num_boost_round = num_rounds,\n",
    "                     valid_sets = [validation_data],categorical_feature)"
   ]
  },
  {
   "cell_type": "code",
   "execution_count": 77,
   "id": "f291500b-31ca-4321-9ef8-b6f7f4f685ed",
   "metadata": {},
   "outputs": [],
   "source": [
    "# train_lgb(train_data, validation_data)"
   ]
  },
  {
   "cell_type": "code",
   "execution_count": 25,
   "id": "b8095360-a438-41b8-817a-70ade54d8fe4",
   "metadata": {},
   "outputs": [
    {
     "data": {
      "text/html": [
       "<div>\n",
       "<style scoped>\n",
       "    .dataframe tbody tr th:only-of-type {\n",
       "        vertical-align: middle;\n",
       "    }\n",
       "\n",
       "    .dataframe tbody tr th {\n",
       "        vertical-align: top;\n",
       "    }\n",
       "\n",
       "    .dataframe thead th {\n",
       "        text-align: right;\n",
       "    }\n",
       "</style>\n",
       "<table border=\"1\" class=\"dataframe\">\n",
       "  <thead>\n",
       "    <tr style=\"text-align: right;\">\n",
       "      <th></th>\n",
       "      <th>Gender</th>\n",
       "      <th>City</th>\n",
       "      <th>DOB</th>\n",
       "      <th>Lead_Creation_Date</th>\n",
       "      <th>Employer_Name</th>\n",
       "      <th>Salary_Account</th>\n",
       "      <th>Mobile_Verified</th>\n",
       "      <th>Var1</th>\n",
       "      <th>Filled_Form</th>\n",
       "      <th>Device_Type</th>\n",
       "      <th>Var2</th>\n",
       "      <th>Source</th>\n",
       "    </tr>\n",
       "  </thead>\n",
       "  <tbody>\n",
       "    <tr>\n",
       "      <th>71199</th>\n",
       "      <td>Female</td>\n",
       "      <td>NaN</td>\n",
       "      <td>02-Jan-70</td>\n",
       "      <td>18-Jul-15</td>\n",
       "      <td>COGNIZANT TECHNOLOGIES SERVICES PVT LTD</td>\n",
       "      <td>NaN</td>\n",
       "      <td>N</td>\n",
       "      <td>HBXX</td>\n",
       "      <td>N</td>\n",
       "      <td>Web-browser</td>\n",
       "      <td>G</td>\n",
       "      <td>S122</td>\n",
       "    </tr>\n",
       "    <tr>\n",
       "      <th>27737</th>\n",
       "      <td>Female</td>\n",
       "      <td>Mumbai</td>\n",
       "      <td>17-Sep-85</td>\n",
       "      <td>01-Jun-15</td>\n",
       "      <td>CAPITA INDIA PVT LTD</td>\n",
       "      <td>Citibank</td>\n",
       "      <td>N</td>\n",
       "      <td>HBXX</td>\n",
       "      <td>N</td>\n",
       "      <td>Web-browser</td>\n",
       "      <td>B</td>\n",
       "      <td>S133</td>\n",
       "    </tr>\n",
       "    <tr>\n",
       "      <th>56429</th>\n",
       "      <td>Male</td>\n",
       "      <td>Ghaziabad</td>\n",
       "      <td>08-Jul-84</td>\n",
       "      <td>03-Jul-15</td>\n",
       "      <td>DELHI DISTRICT COURT</td>\n",
       "      <td>Syndicate Bank</td>\n",
       "      <td>Y</td>\n",
       "      <td>HBXA</td>\n",
       "      <td>N</td>\n",
       "      <td>Web-browser</td>\n",
       "      <td>G</td>\n",
       "      <td>S122</td>\n",
       "    </tr>\n",
       "    <tr>\n",
       "      <th>21472</th>\n",
       "      <td>Male</td>\n",
       "      <td>Delhi</td>\n",
       "      <td>28-Jul-82</td>\n",
       "      <td>25-May-15</td>\n",
       "      <td>AMERICAN EXPRESS INDIA LTD</td>\n",
       "      <td>ICICI Bank</td>\n",
       "      <td>Y</td>\n",
       "      <td>HBXX</td>\n",
       "      <td>N</td>\n",
       "      <td>Web-browser</td>\n",
       "      <td>B</td>\n",
       "      <td>S143</td>\n",
       "    </tr>\n",
       "    <tr>\n",
       "      <th>61034</th>\n",
       "      <td>Male</td>\n",
       "      <td>Baramati</td>\n",
       "      <td>16-Dec-86</td>\n",
       "      <td>07-Jul-15</td>\n",
       "      <td>KAAS FOOTWEAR PVT LTD.</td>\n",
       "      <td>ICICI Bank</td>\n",
       "      <td>Y</td>\n",
       "      <td>HBXX</td>\n",
       "      <td>N</td>\n",
       "      <td>Web-browser</td>\n",
       "      <td>G</td>\n",
       "      <td>S122</td>\n",
       "    </tr>\n",
       "    <tr>\n",
       "      <th>...</th>\n",
       "      <td>...</td>\n",
       "      <td>...</td>\n",
       "      <td>...</td>\n",
       "      <td>...</td>\n",
       "      <td>...</td>\n",
       "      <td>...</td>\n",
       "      <td>...</td>\n",
       "      <td>...</td>\n",
       "      <td>...</td>\n",
       "      <td>...</td>\n",
       "      <td>...</td>\n",
       "      <td>...</td>\n",
       "    </tr>\n",
       "    <tr>\n",
       "      <th>73283</th>\n",
       "      <td>Female</td>\n",
       "      <td>Bengaluru</td>\n",
       "      <td>23-Jun-87</td>\n",
       "      <td>20-Jul-15</td>\n",
       "      <td>MERIDIUM SERVICES AND LABS PVT LTD</td>\n",
       "      <td>Axis Bank</td>\n",
       "      <td>N</td>\n",
       "      <td>HBXX</td>\n",
       "      <td>N</td>\n",
       "      <td>Web-browser</td>\n",
       "      <td>G</td>\n",
       "      <td>S122</td>\n",
       "    </tr>\n",
       "    <tr>\n",
       "      <th>36970</th>\n",
       "      <td>Male</td>\n",
       "      <td>Patna</td>\n",
       "      <td>19-Dec-78</td>\n",
       "      <td>12-Jun-15</td>\n",
       "      <td>RELIANCE POWER LTD</td>\n",
       "      <td>HDFC Bank</td>\n",
       "      <td>Y</td>\n",
       "      <td>HBXD</td>\n",
       "      <td>Y</td>\n",
       "      <td>Mobile</td>\n",
       "      <td>C</td>\n",
       "      <td>S122</td>\n",
       "    </tr>\n",
       "    <tr>\n",
       "      <th>1444</th>\n",
       "      <td>Male</td>\n",
       "      <td>Hyderabad</td>\n",
       "      <td>03-Jun-83</td>\n",
       "      <td>03-May-15</td>\n",
       "      <td>FIITJEE HYDERABAD CLASSES LTD</td>\n",
       "      <td>Kotak Bank</td>\n",
       "      <td>Y</td>\n",
       "      <td>HBXH</td>\n",
       "      <td>N</td>\n",
       "      <td>Web-browser</td>\n",
       "      <td>B</td>\n",
       "      <td>S133</td>\n",
       "    </tr>\n",
       "    <tr>\n",
       "      <th>83544</th>\n",
       "      <td>Male</td>\n",
       "      <td>Bengaluru</td>\n",
       "      <td>19-Sep-94</td>\n",
       "      <td>29-Jul-15</td>\n",
       "      <td>DHL EXPRESS INDIA PVT LTD</td>\n",
       "      <td>ICICI Bank</td>\n",
       "      <td>Y</td>\n",
       "      <td>HAXA</td>\n",
       "      <td>Y</td>\n",
       "      <td>Mobile</td>\n",
       "      <td>G</td>\n",
       "      <td>S122</td>\n",
       "    </tr>\n",
       "    <tr>\n",
       "      <th>2561</th>\n",
       "      <td>Female</td>\n",
       "      <td>Chandigarh</td>\n",
       "      <td>09-Feb-91</td>\n",
       "      <td>04-May-15</td>\n",
       "      <td>RUBIE</td>\n",
       "      <td>HDFC Bank</td>\n",
       "      <td>N</td>\n",
       "      <td>HBXX</td>\n",
       "      <td>N</td>\n",
       "      <td>Web-browser</td>\n",
       "      <td>B</td>\n",
       "      <td>S133</td>\n",
       "    </tr>\n",
       "  </tbody>\n",
       "</table>\n",
       "<p>69613 rows × 12 columns</p>\n",
       "</div>"
      ],
      "text/plain": [
       "       Gender        City        DOB Lead_Creation_Date  \\\n",
       "71199  Female         NaN  02-Jan-70          18-Jul-15   \n",
       "27737  Female      Mumbai  17-Sep-85          01-Jun-15   \n",
       "56429    Male   Ghaziabad  08-Jul-84          03-Jul-15   \n",
       "21472    Male       Delhi  28-Jul-82          25-May-15   \n",
       "61034    Male    Baramati  16-Dec-86          07-Jul-15   \n",
       "...       ...         ...        ...                ...   \n",
       "73283  Female   Bengaluru  23-Jun-87          20-Jul-15   \n",
       "36970    Male       Patna  19-Dec-78          12-Jun-15   \n",
       "1444     Male   Hyderabad  03-Jun-83          03-May-15   \n",
       "83544    Male   Bengaluru  19-Sep-94          29-Jul-15   \n",
       "2561   Female  Chandigarh  09-Feb-91          04-May-15   \n",
       "\n",
       "                                 Employer_Name  Salary_Account  \\\n",
       "71199  COGNIZANT TECHNOLOGIES SERVICES PVT LTD             NaN   \n",
       "27737                     CAPITA INDIA PVT LTD        Citibank   \n",
       "56429                     DELHI DISTRICT COURT  Syndicate Bank   \n",
       "21472               AMERICAN EXPRESS INDIA LTD      ICICI Bank   \n",
       "61034                   KAAS FOOTWEAR PVT LTD.      ICICI Bank   \n",
       "...                                        ...             ...   \n",
       "73283       MERIDIUM SERVICES AND LABS PVT LTD       Axis Bank   \n",
       "36970                       RELIANCE POWER LTD       HDFC Bank   \n",
       "1444             FIITJEE HYDERABAD CLASSES LTD      Kotak Bank   \n",
       "83544                DHL EXPRESS INDIA PVT LTD      ICICI Bank   \n",
       "2561                                     RUBIE       HDFC Bank   \n",
       "\n",
       "      Mobile_Verified  Var1 Filled_Form  Device_Type Var2 Source  \n",
       "71199               N  HBXX           N  Web-browser    G   S122  \n",
       "27737               N  HBXX           N  Web-browser    B   S133  \n",
       "56429               Y  HBXA           N  Web-browser    G   S122  \n",
       "21472               Y  HBXX           N  Web-browser    B   S143  \n",
       "61034               Y  HBXX           N  Web-browser    G   S122  \n",
       "...               ...   ...         ...          ...  ...    ...  \n",
       "73283               N  HBXX           N  Web-browser    G   S122  \n",
       "36970               Y  HBXD           Y       Mobile    C   S122  \n",
       "1444                Y  HBXH           N  Web-browser    B   S133  \n",
       "83544               Y  HAXA           Y       Mobile    G   S122  \n",
       "2561                N  HBXX           N  Web-browser    B   S133  \n",
       "\n",
       "[69613 rows x 12 columns]"
      ]
     },
     "execution_count": 25,
     "metadata": {},
     "output_type": "execute_result"
    }
   ],
   "source": [
    "X_train.select_dtypes(include=\"object\")"
   ]
  },
  {
   "cell_type": "code",
   "execution_count": 68,
   "id": "fcc5060a-bcfc-4e36-aa31-0669739c3daa",
   "metadata": {},
   "outputs": [],
   "source": [
    "model = lgb.LGBMClassifier(objective=\"binary\",eval_metric='logloss')"
   ]
  },
  {
   "cell_type": "code",
   "execution_count": 70,
   "id": "c52e354f-a670-4de5-9a1c-89d651f74778",
   "metadata": {},
   "outputs": [
    {
     "name": "stderr",
     "output_type": "stream",
     "text": [
      "C:\\ProgramData\\miniconda3\\lib\\site-packages\\lightgbm\\basic.py:2065: UserWarning: Using categorical_feature in Dataset.\n",
      "  _log_warning('Using categorical_feature in Dataset.')\n"
     ]
    },
    {
     "name": "stdout",
     "output_type": "stream",
     "text": [
      "[LightGBM] [Warning] Unknown parameter: eval_metric\n"
     ]
    },
    {
     "data": {
      "text/html": [
       "<style>#sk-container-id-6 {color: black;background-color: white;}#sk-container-id-6 pre{padding: 0;}#sk-container-id-6 div.sk-toggleable {background-color: white;}#sk-container-id-6 label.sk-toggleable__label {cursor: pointer;display: block;width: 100%;margin-bottom: 0;padding: 0.3em;box-sizing: border-box;text-align: center;}#sk-container-id-6 label.sk-toggleable__label-arrow:before {content: \"▸\";float: left;margin-right: 0.25em;color: #696969;}#sk-container-id-6 label.sk-toggleable__label-arrow:hover:before {color: black;}#sk-container-id-6 div.sk-estimator:hover label.sk-toggleable__label-arrow:before {color: black;}#sk-container-id-6 div.sk-toggleable__content {max-height: 0;max-width: 0;overflow: hidden;text-align: left;background-color: #f0f8ff;}#sk-container-id-6 div.sk-toggleable__content pre {margin: 0.2em;color: black;border-radius: 0.25em;background-color: #f0f8ff;}#sk-container-id-6 input.sk-toggleable__control:checked~div.sk-toggleable__content {max-height: 200px;max-width: 100%;overflow: auto;}#sk-container-id-6 input.sk-toggleable__control:checked~label.sk-toggleable__label-arrow:before {content: \"▾\";}#sk-container-id-6 div.sk-estimator input.sk-toggleable__control:checked~label.sk-toggleable__label {background-color: #d4ebff;}#sk-container-id-6 div.sk-label input.sk-toggleable__control:checked~label.sk-toggleable__label {background-color: #d4ebff;}#sk-container-id-6 input.sk-hidden--visually {border: 0;clip: rect(1px 1px 1px 1px);clip: rect(1px, 1px, 1px, 1px);height: 1px;margin: -1px;overflow: hidden;padding: 0;position: absolute;width: 1px;}#sk-container-id-6 div.sk-estimator {font-family: monospace;background-color: #f0f8ff;border: 1px dotted black;border-radius: 0.25em;box-sizing: border-box;margin-bottom: 0.5em;}#sk-container-id-6 div.sk-estimator:hover {background-color: #d4ebff;}#sk-container-id-6 div.sk-parallel-item::after {content: \"\";width: 100%;border-bottom: 1px solid gray;flex-grow: 1;}#sk-container-id-6 div.sk-label:hover label.sk-toggleable__label {background-color: #d4ebff;}#sk-container-id-6 div.sk-serial::before {content: \"\";position: absolute;border-left: 1px solid gray;box-sizing: border-box;top: 0;bottom: 0;left: 50%;z-index: 0;}#sk-container-id-6 div.sk-serial {display: flex;flex-direction: column;align-items: center;background-color: white;padding-right: 0.2em;padding-left: 0.2em;position: relative;}#sk-container-id-6 div.sk-item {position: relative;z-index: 1;}#sk-container-id-6 div.sk-parallel {display: flex;align-items: stretch;justify-content: center;background-color: white;position: relative;}#sk-container-id-6 div.sk-item::before, #sk-container-id-6 div.sk-parallel-item::before {content: \"\";position: absolute;border-left: 1px solid gray;box-sizing: border-box;top: 0;bottom: 0;left: 50%;z-index: -1;}#sk-container-id-6 div.sk-parallel-item {display: flex;flex-direction: column;z-index: 1;position: relative;background-color: white;}#sk-container-id-6 div.sk-parallel-item:first-child::after {align-self: flex-end;width: 50%;}#sk-container-id-6 div.sk-parallel-item:last-child::after {align-self: flex-start;width: 50%;}#sk-container-id-6 div.sk-parallel-item:only-child::after {width: 0;}#sk-container-id-6 div.sk-dashed-wrapped {border: 1px dashed gray;margin: 0 0.4em 0.5em 0.4em;box-sizing: border-box;padding-bottom: 0.4em;background-color: white;}#sk-container-id-6 div.sk-label label {font-family: monospace;font-weight: bold;display: inline-block;line-height: 1.2em;}#sk-container-id-6 div.sk-label-container {text-align: center;}#sk-container-id-6 div.sk-container {/* jupyter's `normalize.less` sets `[hidden] { display: none; }` but bootstrap.min.css set `[hidden] { display: none !important; }` so we also need the `!important` here to be able to override the default hidden behavior on the sphinx rendered scikit-learn.org. See: https://github.com/scikit-learn/scikit-learn/issues/21755 */display: inline-block !important;position: relative;}#sk-container-id-6 div.sk-text-repr-fallback {display: none;}</style><div id=\"sk-container-id-6\" class=\"sk-top-container\"><div class=\"sk-text-repr-fallback\"><pre>LGBMClassifier(eval_metric=&#x27;logloss&#x27;, objective=&#x27;binary&#x27;)</pre><b>In a Jupyter environment, please rerun this cell to show the HTML representation or trust the notebook. <br />On GitHub, the HTML representation is unable to render, please try loading this page with nbviewer.org.</b></div><div class=\"sk-container\" hidden><div class=\"sk-item\"><div class=\"sk-estimator sk-toggleable\"><input class=\"sk-toggleable__control sk-hidden--visually\" id=\"sk-estimator-id-6\" type=\"checkbox\" checked><label for=\"sk-estimator-id-6\" class=\"sk-toggleable__label sk-toggleable__label-arrow\">LGBMClassifier</label><div class=\"sk-toggleable__content\"><pre>LGBMClassifier(eval_metric=&#x27;logloss&#x27;, objective=&#x27;binary&#x27;)</pre></div></div></div></div></div>"
      ],
      "text/plain": [
       "LGBMClassifier(eval_metric='logloss', objective='binary')"
      ]
     },
     "execution_count": 70,
     "metadata": {},
     "output_type": "execute_result"
    }
   ],
   "source": [
    "model.fit(X_train, y_train,\n",
    "          feature_name = list(X_train.columns),\n",
    "          categorical_feature = list(X_train.select_dtypes(include=\"category\").columns))"
   ]
  },
  {
   "cell_type": "code",
   "execution_count": 27,
   "id": "4a7ce5da-1645-4334-b412-ba4d262e829b",
   "metadata": {},
   "outputs": [
    {
     "data": {
      "text/plain": [
       "0.9470811307745346"
      ]
     },
     "execution_count": 27,
     "metadata": {},
     "output_type": "execute_result"
    }
   ],
   "source": [
    "model.score(X_valid, y_valid)"
   ]
  },
  {
   "cell_type": "code",
   "execution_count": 66,
   "id": "2ce95a9e-8e0f-4a91-8a7a-6a55125af910",
   "metadata": {},
   "outputs": [
    {
     "data": {
      "text/plain": [
       "Employer_Name               599\n",
       "City                        442\n",
       "Var5                        396\n",
       "Existing_EMI                237\n",
       "Loan_Amount_Submitted       234\n",
       "DOB_year                    162\n",
       "Loan_Amount_Applied         105\n",
       "Var1                         96\n",
       "Lead_Creation_Date_day       94\n",
       "Interest_Rate                75\n",
       "Salary_Account               74\n",
       "Var4                         71\n",
       "Lead_Creation_Date_month     66\n",
       "EMI_Loan_Submitted           54\n",
       "Source                       47\n",
       "Loan_Tenure_Applied          47\n",
       "Loan_Tenure_Submitted        43\n",
       "Device_Type                  41\n",
       "Processing_Fee               33\n",
       "Var2                         32\n",
       "DOB_day                      19\n",
       "Mobile_Verified              16\n",
       "DOB_month                    14\n",
       "Gender                        2\n",
       "Filled_Form                   1\n",
       "Lead_Creation_Date_year       0\n",
       "dtype: int32"
      ]
     },
     "execution_count": 66,
     "metadata": {},
     "output_type": "execute_result"
    }
   ],
   "source": [
    "pd.Series(model.feature_importances_,index= X_train.columns).sort_values(ascending=False)"
   ]
  },
  {
   "cell_type": "code",
   "execution_count": 28,
   "id": "66541c98-ca55-49c7-a6a4-0d4342ec6630",
   "metadata": {},
   "outputs": [],
   "source": [
    "from sklearn.ensemble import RandomForestClassifier"
   ]
  },
  {
   "cell_type": "code",
   "execution_count": 37,
   "id": "d65fa1c5-4c5e-4cda-903c-3145d576bf59",
   "metadata": {},
   "outputs": [],
   "source": [
    "from sklearn.preprocessing import OrdinalEncoder\n",
    "from sklearn.impute import SimpleImputer"
   ]
  },
  {
   "cell_type": "code",
   "execution_count": 46,
   "id": "3a8dff8d-bf89-4450-acbd-c7f3b14ffc5e",
   "metadata": {},
   "outputs": [],
   "source": [
    "numeric_imputer = SimpleImputer(missing_values=np.nan, strategy='median')\n",
    "categ_imputer = SimpleImputer(missing_values=np.nan, strategy='most_frequent')"
   ]
  },
  {
   "cell_type": "code",
   "execution_count": 47,
   "id": "ddef20ac-f486-42a3-a357-5e8d55cc0535",
   "metadata": {},
   "outputs": [],
   "source": [
    "categorical_features = X_train.select_dtypes(include=\"category\").columns.tolist()\n",
    "non_categorical_features = list(set(X_train.columns) - set(categorical_features))"
   ]
  },
  {
   "cell_type": "code",
   "execution_count": 51,
   "id": "3caa9099-6ef7-403b-bbf0-a8d721064a08",
   "metadata": {},
   "outputs": [
    {
     "name": "stdout",
     "output_type": "stream",
     "text": [
      "<class 'pandas.core.frame.DataFrame'>\n",
      "Int64Index: 69613 entries, 41925 to 67759\n",
      "Data columns (total 26 columns):\n",
      " #   Column                    Non-Null Count  Dtype  \n",
      "---  ------                    --------------  -----  \n",
      " 0   EMI_Loan_Submitted        69613 non-null  float64\n",
      " 1   DOB_month                 69613 non-null  float64\n",
      " 2   Var4                      69613 non-null  float64\n",
      " 3   Var5                      69613 non-null  float64\n",
      " 4   Loan_Tenure_Submitted     69613 non-null  float64\n",
      " 5   Existing_EMI              69613 non-null  float64\n",
      " 6   Lead_Creation_Date_month  69613 non-null  float64\n",
      " 7   Lead_Creation_Date_day    69613 non-null  float64\n",
      " 8   Loan_Tenure_Applied       69613 non-null  float64\n",
      " 9   Processing_Fee            69613 non-null  float64\n",
      " 10  Lead_Creation_Date_year   69613 non-null  float64\n",
      " 11  DOB_year                  69613 non-null  float64\n",
      " 12  Loan_Amount_Submitted     69613 non-null  float64\n",
      " 13  Loan_Amount_Applied       69613 non-null  float64\n",
      " 14  DOB_day                   69613 non-null  float64\n",
      " 15  Interest_Rate             69613 non-null  float64\n",
      " 16  Gender                    69613 non-null  object \n",
      " 17  City                      69613 non-null  object \n",
      " 18  Employer_Name             69613 non-null  object \n",
      " 19  Salary_Account            69613 non-null  object \n",
      " 20  Mobile_Verified           69613 non-null  object \n",
      " 21  Var1                      69613 non-null  object \n",
      " 22  Filled_Form               69613 non-null  object \n",
      " 23  Device_Type               69613 non-null  object \n",
      " 24  Var2                      69613 non-null  object \n",
      " 25  Source                    69613 non-null  object \n",
      "dtypes: float64(16), object(10)\n",
      "memory usage: 14.3+ MB\n"
     ]
    }
   ],
   "source": [
    "numeric_imputer.fit(X_train[non_categorical_features])\n",
    "categ_imputer.fit(X_train[categorical_features])\n",
    "\n",
    "X_rf_num_train = pd.DataFrame(numeric_imputer.transform(X_train[non_categorical_features]), index= X_train[non_categorical_features].index, columns=X_train[non_categorical_features].columns)\n",
    "X_rf_ctg_train = pd.DataFrame(categ_imputer.transform(X_train[categorical_features]), index= X_train[categorical_features].index, columns=X_train[categorical_features].columns)\n",
    "\n",
    "X_rf_num_valid = pd.DataFrame(numeric_imputer.transform(X_valid[non_categorical_features]), index= X_valid[non_categorical_features].index, columns=X_valid[non_categorical_features].columns)\n",
    "X_rf_ctg_valid = pd.DataFrame(categ_imputer.transform(X_valid[categorical_features]), index= X_valid[categorical_features].index, columns=X_valid[categorical_features].columns)\n",
    "\n",
    "X_rf_train = pd.concat([X_rf_num_train, X_rf_ctg_train],axis=1)\n",
    "X_rf_valid = pd.concat([X_rf_num_valid, X_rf_ctg_valid],axis=1)\n",
    "\n",
    "X_rf_train.info()"
   ]
  },
  {
   "cell_type": "code",
   "execution_count": 52,
   "id": "83bc0c84-de45-4e6b-bb6a-707af827fba2",
   "metadata": {},
   "outputs": [],
   "source": [
    "rf_categorical_encoder = OrdinalEncoder(handle_unknown=\"use_encoded_value\",unknown_value=np.nan)\n",
    "\n",
    "rf_categorical_encoder.fit(X_rf_train[categorical_features])\n",
    "\n",
    "X_rf_train[categorical_features] = rf_categorical_encoder.transform(X_rf_train[categorical_features]).astype(int)\n",
    "X_rf_valid[categorical_features] = rf_categorical_encoder.transform(X_rf_valid[categorical_features]).astype(int)"
   ]
  },
  {
   "cell_type": "code",
   "execution_count": 53,
   "id": "c03bcfd2-ce9a-4bc2-b520-fdeedceb6bcc",
   "metadata": {},
   "outputs": [
    {
     "name": "stdout",
     "output_type": "stream",
     "text": [
      "<class 'pandas.core.frame.DataFrame'>\n",
      "Int64Index: 69613 entries, 41925 to 67759\n",
      "Data columns (total 26 columns):\n",
      " #   Column                    Non-Null Count  Dtype  \n",
      "---  ------                    --------------  -----  \n",
      " 0   EMI_Loan_Submitted        69613 non-null  float64\n",
      " 1   DOB_month                 69613 non-null  float64\n",
      " 2   Var4                      69613 non-null  float64\n",
      " 3   Var5                      69613 non-null  float64\n",
      " 4   Loan_Tenure_Submitted     69613 non-null  float64\n",
      " 5   Existing_EMI              69613 non-null  float64\n",
      " 6   Lead_Creation_Date_month  69613 non-null  float64\n",
      " 7   Lead_Creation_Date_day    69613 non-null  float64\n",
      " 8   Loan_Tenure_Applied       69613 non-null  float64\n",
      " 9   Processing_Fee            69613 non-null  float64\n",
      " 10  Lead_Creation_Date_year   69613 non-null  float64\n",
      " 11  DOB_year                  69613 non-null  float64\n",
      " 12  Loan_Amount_Submitted     69613 non-null  float64\n",
      " 13  Loan_Amount_Applied       69613 non-null  float64\n",
      " 14  DOB_day                   69613 non-null  float64\n",
      " 15  Interest_Rate             69613 non-null  float64\n",
      " 16  Gender                    69613 non-null  int32  \n",
      " 17  City                      69613 non-null  int32  \n",
      " 18  Employer_Name             69613 non-null  int32  \n",
      " 19  Salary_Account            69613 non-null  int32  \n",
      " 20  Mobile_Verified           69613 non-null  int32  \n",
      " 21  Var1                      69613 non-null  int32  \n",
      " 22  Filled_Form               69613 non-null  int32  \n",
      " 23  Device_Type               69613 non-null  int32  \n",
      " 24  Var2                      69613 non-null  int32  \n",
      " 25  Source                    69613 non-null  int32  \n",
      "dtypes: float64(16), int32(10)\n",
      "memory usage: 11.7 MB\n"
     ]
    }
   ],
   "source": [
    "X_rf_train.info()"
   ]
  },
  {
   "cell_type": "code",
   "execution_count": 61,
   "id": "0b7c0c3d-67e4-4584-9ab4-2b64c5215d43",
   "metadata": {},
   "outputs": [],
   "source": [
    "random_forest = RandomForestClassifier(criterion=\"log_loss\", n_jobs=3)"
   ]
  },
  {
   "cell_type": "code",
   "execution_count": 62,
   "id": "165dff7e-b475-4ada-af26-614ae30c27f6",
   "metadata": {},
   "outputs": [
    {
     "data": {
      "text/html": [
       "<style>#sk-container-id-5 {color: black;background-color: white;}#sk-container-id-5 pre{padding: 0;}#sk-container-id-5 div.sk-toggleable {background-color: white;}#sk-container-id-5 label.sk-toggleable__label {cursor: pointer;display: block;width: 100%;margin-bottom: 0;padding: 0.3em;box-sizing: border-box;text-align: center;}#sk-container-id-5 label.sk-toggleable__label-arrow:before {content: \"▸\";float: left;margin-right: 0.25em;color: #696969;}#sk-container-id-5 label.sk-toggleable__label-arrow:hover:before {color: black;}#sk-container-id-5 div.sk-estimator:hover label.sk-toggleable__label-arrow:before {color: black;}#sk-container-id-5 div.sk-toggleable__content {max-height: 0;max-width: 0;overflow: hidden;text-align: left;background-color: #f0f8ff;}#sk-container-id-5 div.sk-toggleable__content pre {margin: 0.2em;color: black;border-radius: 0.25em;background-color: #f0f8ff;}#sk-container-id-5 input.sk-toggleable__control:checked~div.sk-toggleable__content {max-height: 200px;max-width: 100%;overflow: auto;}#sk-container-id-5 input.sk-toggleable__control:checked~label.sk-toggleable__label-arrow:before {content: \"▾\";}#sk-container-id-5 div.sk-estimator input.sk-toggleable__control:checked~label.sk-toggleable__label {background-color: #d4ebff;}#sk-container-id-5 div.sk-label input.sk-toggleable__control:checked~label.sk-toggleable__label {background-color: #d4ebff;}#sk-container-id-5 input.sk-hidden--visually {border: 0;clip: rect(1px 1px 1px 1px);clip: rect(1px, 1px, 1px, 1px);height: 1px;margin: -1px;overflow: hidden;padding: 0;position: absolute;width: 1px;}#sk-container-id-5 div.sk-estimator {font-family: monospace;background-color: #f0f8ff;border: 1px dotted black;border-radius: 0.25em;box-sizing: border-box;margin-bottom: 0.5em;}#sk-container-id-5 div.sk-estimator:hover {background-color: #d4ebff;}#sk-container-id-5 div.sk-parallel-item::after {content: \"\";width: 100%;border-bottom: 1px solid gray;flex-grow: 1;}#sk-container-id-5 div.sk-label:hover label.sk-toggleable__label {background-color: #d4ebff;}#sk-container-id-5 div.sk-serial::before {content: \"\";position: absolute;border-left: 1px solid gray;box-sizing: border-box;top: 0;bottom: 0;left: 50%;z-index: 0;}#sk-container-id-5 div.sk-serial {display: flex;flex-direction: column;align-items: center;background-color: white;padding-right: 0.2em;padding-left: 0.2em;position: relative;}#sk-container-id-5 div.sk-item {position: relative;z-index: 1;}#sk-container-id-5 div.sk-parallel {display: flex;align-items: stretch;justify-content: center;background-color: white;position: relative;}#sk-container-id-5 div.sk-item::before, #sk-container-id-5 div.sk-parallel-item::before {content: \"\";position: absolute;border-left: 1px solid gray;box-sizing: border-box;top: 0;bottom: 0;left: 50%;z-index: -1;}#sk-container-id-5 div.sk-parallel-item {display: flex;flex-direction: column;z-index: 1;position: relative;background-color: white;}#sk-container-id-5 div.sk-parallel-item:first-child::after {align-self: flex-end;width: 50%;}#sk-container-id-5 div.sk-parallel-item:last-child::after {align-self: flex-start;width: 50%;}#sk-container-id-5 div.sk-parallel-item:only-child::after {width: 0;}#sk-container-id-5 div.sk-dashed-wrapped {border: 1px dashed gray;margin: 0 0.4em 0.5em 0.4em;box-sizing: border-box;padding-bottom: 0.4em;background-color: white;}#sk-container-id-5 div.sk-label label {font-family: monospace;font-weight: bold;display: inline-block;line-height: 1.2em;}#sk-container-id-5 div.sk-label-container {text-align: center;}#sk-container-id-5 div.sk-container {/* jupyter's `normalize.less` sets `[hidden] { display: none; }` but bootstrap.min.css set `[hidden] { display: none !important; }` so we also need the `!important` here to be able to override the default hidden behavior on the sphinx rendered scikit-learn.org. See: https://github.com/scikit-learn/scikit-learn/issues/21755 */display: inline-block !important;position: relative;}#sk-container-id-5 div.sk-text-repr-fallback {display: none;}</style><div id=\"sk-container-id-5\" class=\"sk-top-container\"><div class=\"sk-text-repr-fallback\"><pre>RandomForestClassifier(criterion=&#x27;log_loss&#x27;, n_jobs=3)</pre><b>In a Jupyter environment, please rerun this cell to show the HTML representation or trust the notebook. <br />On GitHub, the HTML representation is unable to render, please try loading this page with nbviewer.org.</b></div><div class=\"sk-container\" hidden><div class=\"sk-item\"><div class=\"sk-estimator sk-toggleable\"><input class=\"sk-toggleable__control sk-hidden--visually\" id=\"sk-estimator-id-5\" type=\"checkbox\" checked><label for=\"sk-estimator-id-5\" class=\"sk-toggleable__label sk-toggleable__label-arrow\">RandomForestClassifier</label><div class=\"sk-toggleable__content\"><pre>RandomForestClassifier(criterion=&#x27;log_loss&#x27;, n_jobs=3)</pre></div></div></div></div></div>"
      ],
      "text/plain": [
       "RandomForestClassifier(criterion='log_loss', n_jobs=3)"
      ]
     },
     "execution_count": 62,
     "metadata": {},
     "output_type": "execute_result"
    }
   ],
   "source": [
    "random_forest.fit(X_rf_train, y_train)"
   ]
  },
  {
   "cell_type": "code",
   "execution_count": 60,
   "id": "3f922c49-6edd-4bcf-a191-2ffae8eb747e",
   "metadata": {},
   "outputs": [
    {
     "data": {
      "text/plain": [
       "0.9433463571592737"
      ]
     },
     "execution_count": 60,
     "metadata": {},
     "output_type": "execute_result"
    }
   ],
   "source": [
    "random_forest.score(X_rf_valid, y_valid)"
   ]
  },
  {
   "cell_type": "code",
   "execution_count": 65,
   "id": "bb1b11e4-67fe-4a11-b578-57aff228d725",
   "metadata": {},
   "outputs": [
    {
     "data": {
      "text/plain": [
       "Var5                        0.254189\n",
       "Existing_EMI                0.127427\n",
       "Loan_Amount_Submitted       0.115413\n",
       "DOB_year                    0.047795\n",
       "Loan_Amount_Applied         0.043365\n",
       "Lead_Creation_Date_day      0.041984\n",
       "Employer_Name               0.039184\n",
       "EMI_Loan_Submitted          0.037501\n",
       "City                        0.036247\n",
       "Interest_Rate               0.033072\n",
       "DOB_day                     0.032888\n",
       "Var4                        0.027889\n",
       "DOB_month                   0.025425\n",
       "Salary_Account              0.018811\n",
       "Var1                        0.017999\n",
       "Device_Type                 0.015664\n",
       "Loan_Tenure_Applied         0.015312\n",
       "Processing_Fee              0.012819\n",
       "Source                      0.011779\n",
       "Lead_Creation_Date_month    0.009999\n",
       "Loan_Tenure_Submitted       0.009906\n",
       "Var2                        0.009230\n",
       "Mobile_Verified             0.007865\n",
       "Gender                      0.006073\n",
       "Filled_Form                 0.002162\n",
       "Lead_Creation_Date_year     0.000000\n",
       "dtype: float64"
      ]
     },
     "execution_count": 65,
     "metadata": {},
     "output_type": "execute_result"
    }
   ],
   "source": [
    "pd.Series(random_forest.feature_importances_,index= X_rf_train.columns).sort_values(ascending=False)"
   ]
  },
  {
   "cell_type": "markdown",
   "id": "f3cc1f7e-b6eb-4592-a78b-24bd26e0a0da",
   "metadata": {},
   "source": [
    "### XGBoost"
   ]
  },
  {
   "cell_type": "code",
   "execution_count": 73,
   "id": "378b1816-f182-4c63-9fbd-caf77cb23aca",
   "metadata": {},
   "outputs": [],
   "source": [
    "import xgboost as xgb\n",
    "from sklearn.metrics import log_loss"
   ]
  },
  {
   "cell_type": "code",
   "execution_count": 81,
   "id": "6fc14fdd-5673-4a38-950c-afa2e9a7377e",
   "metadata": {},
   "outputs": [],
   "source": [
    "xgb_model = xgb.XGBClassifier(n_estimators=100, \n",
    "                              objective='binary:logistic',\n",
    "                              eval_metric=log_loss,\n",
    "                              enable_categorical=True)"
   ]
  },
  {
   "cell_type": "code",
   "execution_count": 82,
   "id": "76237875-83c2-4792-9cfa-4578c9aa32e5",
   "metadata": {},
   "outputs": [
    {
     "ename": "ValueError",
     "evalue": "Experimental support for categorical data is not implemented for current tree method yet.",
     "output_type": "error",
     "traceback": [
      "\u001b[1;31m---------------------------------------------------------------------------\u001b[0m",
      "\u001b[1;31mValueError\u001b[0m                                Traceback (most recent call last)",
      "Cell \u001b[1;32mIn[82], line 1\u001b[0m\n\u001b[1;32m----> 1\u001b[0m \u001b[43mxgb_model\u001b[49m\u001b[38;5;241;43m.\u001b[39;49m\u001b[43mfit\u001b[49m\u001b[43m(\u001b[49m\u001b[43mX_train\u001b[49m\u001b[43m,\u001b[49m\u001b[43my_train\u001b[49m\u001b[43m)\u001b[49m\n",
      "File \u001b[1;32mC:\\ProgramData\\miniconda3\\lib\\site-packages\\xgboost\\core.py:620\u001b[0m, in \u001b[0;36mrequire_keyword_args.<locals>.throw_if.<locals>.inner_f\u001b[1;34m(*args, **kwargs)\u001b[0m\n\u001b[0;32m    618\u001b[0m \u001b[38;5;28;01mfor\u001b[39;00m k, arg \u001b[38;5;129;01min\u001b[39;00m \u001b[38;5;28mzip\u001b[39m(sig\u001b[38;5;241m.\u001b[39mparameters, args):\n\u001b[0;32m    619\u001b[0m     kwargs[k] \u001b[38;5;241m=\u001b[39m arg\n\u001b[1;32m--> 620\u001b[0m \u001b[38;5;28;01mreturn\u001b[39;00m func(\u001b[38;5;241m*\u001b[39m\u001b[38;5;241m*\u001b[39mkwargs)\n",
      "File \u001b[1;32mC:\\ProgramData\\miniconda3\\lib\\site-packages\\xgboost\\sklearn.py:1468\u001b[0m, in \u001b[0;36mXGBClassifier.fit\u001b[1;34m(self, X, y, sample_weight, base_margin, eval_set, eval_metric, early_stopping_rounds, verbose, xgb_model, sample_weight_eval_set, base_margin_eval_set, feature_weights, callbacks)\u001b[0m\n\u001b[0;32m   1459\u001b[0m         params[\u001b[38;5;124m\"\u001b[39m\u001b[38;5;124mobjective\u001b[39m\u001b[38;5;124m\"\u001b[39m] \u001b[38;5;241m=\u001b[39m \u001b[38;5;124m\"\u001b[39m\u001b[38;5;124mmulti:softprob\u001b[39m\u001b[38;5;124m\"\u001b[39m\n\u001b[0;32m   1460\u001b[0m     params[\u001b[38;5;124m\"\u001b[39m\u001b[38;5;124mnum_class\u001b[39m\u001b[38;5;124m\"\u001b[39m] \u001b[38;5;241m=\u001b[39m \u001b[38;5;28mself\u001b[39m\u001b[38;5;241m.\u001b[39mn_classes_\n\u001b[0;32m   1462\u001b[0m (\n\u001b[0;32m   1463\u001b[0m     model,\n\u001b[0;32m   1464\u001b[0m     metric,\n\u001b[0;32m   1465\u001b[0m     params,\n\u001b[0;32m   1466\u001b[0m     early_stopping_rounds,\n\u001b[0;32m   1467\u001b[0m     callbacks,\n\u001b[1;32m-> 1468\u001b[0m ) \u001b[38;5;241m=\u001b[39m \u001b[38;5;28;43mself\u001b[39;49m\u001b[38;5;241;43m.\u001b[39;49m\u001b[43m_configure_fit\u001b[49m\u001b[43m(\u001b[49m\n\u001b[0;32m   1469\u001b[0m \u001b[43m    \u001b[49m\u001b[43mxgb_model\u001b[49m\u001b[43m,\u001b[49m\u001b[43m \u001b[49m\u001b[43meval_metric\u001b[49m\u001b[43m,\u001b[49m\u001b[43m \u001b[49m\u001b[43mparams\u001b[49m\u001b[43m,\u001b[49m\u001b[43m \u001b[49m\u001b[43mearly_stopping_rounds\u001b[49m\u001b[43m,\u001b[49m\u001b[43m \u001b[49m\u001b[43mcallbacks\u001b[49m\n\u001b[0;32m   1470\u001b[0m \u001b[43m\u001b[49m\u001b[43m)\u001b[49m\n\u001b[0;32m   1471\u001b[0m train_dmatrix, evals \u001b[38;5;241m=\u001b[39m _wrap_evaluation_matrices(\n\u001b[0;32m   1472\u001b[0m     missing\u001b[38;5;241m=\u001b[39m\u001b[38;5;28mself\u001b[39m\u001b[38;5;241m.\u001b[39mmissing,\n\u001b[0;32m   1473\u001b[0m     X\u001b[38;5;241m=\u001b[39mX,\n\u001b[1;32m   (...)\u001b[0m\n\u001b[0;32m   1487\u001b[0m     feature_types\u001b[38;5;241m=\u001b[39m\u001b[38;5;28mself\u001b[39m\u001b[38;5;241m.\u001b[39mfeature_types,\n\u001b[0;32m   1488\u001b[0m )\n\u001b[0;32m   1490\u001b[0m \u001b[38;5;28mself\u001b[39m\u001b[38;5;241m.\u001b[39m_Booster \u001b[38;5;241m=\u001b[39m train(\n\u001b[0;32m   1491\u001b[0m     params,\n\u001b[0;32m   1492\u001b[0m     train_dmatrix,\n\u001b[1;32m   (...)\u001b[0m\n\u001b[0;32m   1501\u001b[0m     callbacks\u001b[38;5;241m=\u001b[39mcallbacks,\n\u001b[0;32m   1502\u001b[0m )\n",
      "File \u001b[1;32mC:\\ProgramData\\miniconda3\\lib\\site-packages\\xgboost\\sklearn.py:892\u001b[0m, in \u001b[0;36mXGBModel._configure_fit\u001b[1;34m(self, booster, eval_metric, params, early_stopping_rounds, callbacks)\u001b[0m\n\u001b[0;32m    890\u001b[0m cat_support \u001b[38;5;241m=\u001b[39m {\u001b[38;5;124m\"\u001b[39m\u001b[38;5;124mgpu_hist\u001b[39m\u001b[38;5;124m\"\u001b[39m, \u001b[38;5;124m\"\u001b[39m\u001b[38;5;124mapprox\u001b[39m\u001b[38;5;124m\"\u001b[39m, \u001b[38;5;124m\"\u001b[39m\u001b[38;5;124mhist\u001b[39m\u001b[38;5;124m\"\u001b[39m}\n\u001b[0;32m    891\u001b[0m \u001b[38;5;28;01mif\u001b[39;00m \u001b[38;5;28mself\u001b[39m\u001b[38;5;241m.\u001b[39menable_categorical \u001b[38;5;129;01mand\u001b[39;00m tree_method \u001b[38;5;129;01mnot\u001b[39;00m \u001b[38;5;129;01min\u001b[39;00m cat_support:\n\u001b[1;32m--> 892\u001b[0m     \u001b[38;5;28;01mraise\u001b[39;00m \u001b[38;5;167;01mValueError\u001b[39;00m(\n\u001b[0;32m    893\u001b[0m         \u001b[38;5;124m\"\u001b[39m\u001b[38;5;124mExperimental support for categorical data is not implemented for\u001b[39m\u001b[38;5;124m\"\u001b[39m\n\u001b[0;32m    894\u001b[0m         \u001b[38;5;124m\"\u001b[39m\u001b[38;5;124m current tree method yet.\u001b[39m\u001b[38;5;124m\"\u001b[39m\n\u001b[0;32m    895\u001b[0m     )\n\u001b[0;32m    897\u001b[0m \u001b[38;5;28;01mreturn\u001b[39;00m model, metric, params, early_stopping_rounds, callbacks\n",
      "\u001b[1;31mValueError\u001b[0m: Experimental support for categorical data is not implemented for current tree method yet."
     ]
    }
   ],
   "source": [
    "xgb_model.fit(X_train,y_train)"
   ]
  },
  {
   "cell_type": "code",
   "execution_count": null,
   "id": "66869065-d10e-41d7-8b4d-b6ba1e042102",
   "metadata": {},
   "outputs": [],
   "source": []
  }
 ],
 "metadata": {
  "kernelspec": {
   "display_name": "Python 3 (ipykernel)",
   "language": "python",
   "name": "python3"
  },
  "language_info": {
   "codemirror_mode": {
    "name": "ipython",
    "version": 3
   },
   "file_extension": ".py",
   "mimetype": "text/x-python",
   "name": "python",
   "nbconvert_exporter": "python",
   "pygments_lexer": "ipython3",
   "version": "3.10.9"
  }
 },
 "nbformat": 4,
 "nbformat_minor": 5
}
