{
 "cells": [
  {
   "cell_type": "markdown",
   "id": "c65a20fc-a36d-4954-ab6f-433cefa5ab57",
   "metadata": {},
   "source": [
    "# Unsupervised learning\n",
    "\n",
    "This is my first exercise running unsupervised learning in practices, let's see whether I learned something from scikit-learn, chat gpt and kaggle\n",
    "\n",
    "I'll be using the [sa-customer-segmentation](https://www.kaggle.com/competitions/sa-customer-segmentation/overview) dataset from kaggle in this challenge"
   ]
  },
  {
   "cell_type": "markdown",
   "id": "4d091ddd-3037-45ac-acc5-f023024617b4",
   "metadata": {},
   "source": [
    "# Processing steps\n",
    "\n",
    "Basically, this will be my framework to approach this problem of customer segmentation. We were provided a test dataset that we should classify people from....\n",
    "\n",
    "As unsupervised learning tasks don't require you to \"fit\" in training data and then \"predict\" in test data, there are 2 main approaches: \n",
    "1. Concatenate both `train` and `test` datasets and run the cluster analysis on the whole population, then filter indexes that belong to the `test` dataset\n",
    "2. Run cluster analysis on `train` dataset and use labels as a target for a classification model, that will then be fitted in `train` data and will predict `test` data\n",
    "\n",
    "I'm trying probably both approaches to the problem. The first one is more likely to provide better clusters as there is uncertainty of only one model, while the second one \"adds\" the classification model uncertainty. On the other hand, considering a real world application of customer segmentation, like a recommender system, it would be interesting to use the second approach as it doesn't require you to train a whole new model whenever a new customer joins the database.\n",
    "\n",
    "No evaluation metric was provided, and as this is a learning notebook, we will try to evaluate model performance using metrics that work without labeled data on the clusters providing a ground-truth:\n",
    "- Silhouette Coefficient\n",
    "- Calinski-Harabasz Index\n",
    "- Davies Bouldin Index\n",
    "\n",
    "1. Import train and test datasets\n",
    "2. Quickly evaluate data in order to identify required transformations\n",
    "3. Decide on clustering algorithms to use\n",
    "4. Select and transfrom features to be used by models\n",
    "5. Evaluate performance\n",
    "\n",
    "\n",
    "Note:\n",
    "- Feature selection will be non-trivial as there is no metric we can compare to\n",
    "- We may remove low variance features as they are likely to inflate distances\n",
    "- We may remove highly correlated features as they are likely to inflate distances\n",
    "- We may also run a FeatureAgllomeration model, which is also a unsupervised learning technique"
   ]
  },
  {
   "cell_type": "markdown",
   "id": "681cda43-81fd-49a5-9dde-e8746e37c6d5",
   "metadata": {},
   "source": [
    "## 1. Import train and test datasets"
   ]
  },
  {
   "cell_type": "code",
   "execution_count": 2,
   "id": "75b04649-3c1e-44ae-bb00-8f53bc683d5a",
   "metadata": {},
   "outputs": [],
   "source": [
    "import numpy as np\n",
    "import pandas as pd\n",
    "import matplotlib.pyplot as plt\n",
    "import seaborn as sns"
   ]
  },
  {
   "cell_type": "markdown",
   "id": "6e93e655-49f9-44af-8926-cc65da00d2a7",
   "metadata": {
    "jp-MarkdownHeadingCollapsed": true,
    "tags": []
   },
   "source": [
    "### Inspecting data "
   ]
  },
  {
   "cell_type": "code",
   "execution_count": 2,
   "id": "9d1276fe-8089-4c39-8033-6a6bdb105310",
   "metadata": {},
   "outputs": [
    {
     "name": "stdout",
     "output_type": "stream",
     "text": [
      "flight_test.csv\n",
      "flight_train.csv\n"
     ]
    }
   ],
   "source": [
    "!ls ./inputs"
   ]
  },
  {
   "cell_type": "code",
   "execution_count": 3,
   "id": "aeaae5d4-ffd0-4b57-bf74-7a0cb89b3b83",
   "metadata": {},
   "outputs": [
    {
     "name": "stdout",
     "output_type": "stream",
     "text": [
      "MEMBER_NO,FFP_DATE,FIRST_FLIGHT_DATE,GENDER,FFP_TIER,WORK_CITY,WORK_PROVINCE,WORK_COUNTRY,AGE,LOAD_TIME,FLIGHT_COUNT,BP_SUM,SUM_YR_1,SUM_YR_2,SEG_KM_SUM,LAST_FLIGHT_DATE,LAST_TO_END,AVG_INTERVAL,MAX_INTERVAL,EXCHANGE_COUNT,avg_discount,Points_Sum,Point_NotFlight\n",
      "54993,11/2/2006,12/24/2008,Male,6,.,beijing,CN,31,3/31/2014,210,505308,239560,234188,580717,3/31/2014,1,3.483253589,18,34,0.961639043,619760,50\n",
      "28065,2/19/2007,8/3/2007,Male,6,nan,beijing,CN,42,3/31/2014,140,362480,171483,167434,293678,3/25/2014,7,5.194244604,17,29,1.25231444,415768,33\n",
      "55106,2/1/2007,8/30/2007,Male,6,.,beijing,CN,40,3/31/2014,135,351159,163618,164982,283712,3/21/2014,11,5.298507463,18,20,1.254675516,406361,26\n",
      "21189,8/22/2008,8/23/2008,Male,5,Los Angeles,CA,US,64,3/31/2014,23,337314,116350,125500,281336,12/26/2013,97,27.86363636,73,11,1.090869565,372204,12\n"
     ]
    }
   ],
   "source": [
    "!head -5 ./inputs/flight_train.csv"
   ]
  },
  {
   "cell_type": "code",
   "execution_count": 4,
   "id": "fe81f405-ddbb-4a06-85f4-c5fba65909e3",
   "metadata": {},
   "outputs": [
    {
     "name": "stdout",
     "output_type": "stream",
     "text": [
      "MEMBER_NO,FFP_DATE,FIRST_FLIGHT_DATE,GENDER,FFP_TIER,WORK_CITY,WORK_PROVINCE,WORK_COUNTRY,AGE,LOAD_TIME,FLIGHT_COUNT,BP_SUM,SUM_YR_1,SUM_YR_2,SEG_KM_SUM,LAST_FLIGHT_DATE,LAST_TO_END,AVG_INTERVAL,MAX_INTERVAL,EXCHANGE_COUNT,avg_discount,Points_Sum,Point_NotFlight\n",
      "27355,9/19/2011,6/2/2012,Male,4,nanjing,jiangsu,CN,29,3/31/2014,2,1677,1830,0,2005,9/30/2012,549,120,120,0,1,2879,6\n",
      "4032,9/18/2012,9/18/2012,Female,4,changchunshi,jilinsheng,CN,43,3/31/2014,3,1731,960,984,2301,2/4/2014,57,252,477,0,0.871290743,1731,0\n",
      "12913,3/18/2009,3/18/2009,Male,4,beijing,beijing,CN,31,3/31/2014,3,1626,1992,0,2397,3/13/2013,385,115.5,167,0,0.836357947,1626,0\n",
      "58465,9/6/2012,10/3/2012,Male,4,shantou,guangdong,CN,30,3/31/2014,4,1786,2013,485,2852,6/18/2013,288,86,174,0,0.702924264,1786,0\n"
     ]
    }
   ],
   "source": [
    "!head -5 ./inputs/flight_test.csv"
   ]
  },
  {
   "cell_type": "markdown",
   "id": "91115138-8439-4824-99b1-87cc7b0e38c2",
   "metadata": {},
   "source": [
    "### Import data"
   ]
  },
  {
   "cell_type": "code",
   "execution_count": 3,
   "id": "e5d47ec8-ee1f-4dd0-95a6-9341bf9293a9",
   "metadata": {},
   "outputs": [],
   "source": [
    "train_df = pd.read_csv(\"./inputs/flight_train.csv\", \n",
    "                       index_col=[\"MEMBER_NO\"], \n",
    "                       parse_dates=[\"FFP_DATE\",\"FIRST_FLIGHT_DATE\",\"LAST_FLIGHT_DATE\"], \n",
    "                       infer_datetime_format=True)"
   ]
  },
  {
   "cell_type": "code",
   "execution_count": 4,
   "id": "49302822-d584-4a92-bae3-88fb03127ddd",
   "metadata": {},
   "outputs": [],
   "source": [
    "test_df = pd.read_csv(\"./inputs/flight_test.csv\", \n",
    "                       index_col=[\"MEMBER_NO\"], \n",
    "                       parse_dates=[\"FFP_DATE\",\"FIRST_FLIGHT_DATE\",\"LAST_FLIGHT_DATE\"], \n",
    "                       infer_datetime_format=True)"
   ]
  },
  {
   "cell_type": "markdown",
   "id": "75034529-d824-4c25-b6c4-a5bc2e2230db",
   "metadata": {},
   "source": [
    "## 2. Understanding data and transformation\n",
    "\n",
    "Preprocessing steps for numerical columns:\n",
    "- FLIGHT_LAST_DATE required change to datetime and fill invalid date\n",
    "\n",
    "Preprocessing steps for categorical columns:\n",
    "- LOAD_TIME adds no variance and therefore will be dropped\n",
    "- Convert other \"Object\" columns to category\n",
    "- Fill categorical columns with \"NA\" string and do not make any assumptions\n",
    "- GENDER has low cardinality, therefore it can be one-hot encoded\n",
    "- WORK_CITY, WORK_PROVINCE, WORK_COUNTRY have high cardinality and should be label encoded or ordinal encoded (suggestion: ordinal encode using value_counts ranking)\n",
    "- It is possible to exist \"correlation\" in the three variables that starts with \"WORK_\", initial suggestion: drop lower variance variables (WORK_PROVINCE and WORK_COUNTRY)"
   ]
  },
  {
   "cell_type": "markdown",
   "id": "354e3ec9-658e-489a-b3ea-f66edabb95a1",
   "metadata": {},
   "source": [
    "### Overall"
   ]
  },
  {
   "cell_type": "code",
   "execution_count": 4,
   "id": "182a3b9d-3391-4bfd-89e2-966ffe356c18",
   "metadata": {},
   "outputs": [
    {
     "data": {
      "text/plain": [
       "set()"
      ]
     },
     "execution_count": 4,
     "metadata": {},
     "output_type": "execute_result"
    }
   ],
   "source": [
    "set(test_df.columns) - set(train_df.columns)"
   ]
  },
  {
   "cell_type": "code",
   "execution_count": 5,
   "id": "fd574b6d-6fca-48bf-9e9f-af71fbfcfcd7",
   "metadata": {},
   "outputs": [
    {
     "data": {
      "text/plain": [
       "((55000, 22), (7988, 22))"
      ]
     },
     "execution_count": 5,
     "metadata": {},
     "output_type": "execute_result"
    }
   ],
   "source": [
    "train_df.shape, test_df.shape"
   ]
  },
  {
   "cell_type": "code",
   "execution_count": 6,
   "id": "75eb01d7-3d0e-4ce9-92a2-ccbec00dfe4f",
   "metadata": {},
   "outputs": [
    {
     "data": {
      "text/html": [
       "<div>\n",
       "<style scoped>\n",
       "    .dataframe tbody tr th:only-of-type {\n",
       "        vertical-align: middle;\n",
       "    }\n",
       "\n",
       "    .dataframe tbody tr th {\n",
       "        vertical-align: top;\n",
       "    }\n",
       "\n",
       "    .dataframe thead th {\n",
       "        text-align: right;\n",
       "    }\n",
       "</style>\n",
       "<table border=\"1\" class=\"dataframe\">\n",
       "  <thead>\n",
       "    <tr style=\"text-align: right;\">\n",
       "      <th>MEMBER_NO</th>\n",
       "      <th>54993</th>\n",
       "      <th>28065</th>\n",
       "      <th>55106</th>\n",
       "      <th>21189</th>\n",
       "      <th>39546</th>\n",
       "    </tr>\n",
       "  </thead>\n",
       "  <tbody>\n",
       "    <tr>\n",
       "      <th>FFP_DATE</th>\n",
       "      <td>2006-11-02 00:00:00</td>\n",
       "      <td>2007-02-19 00:00:00</td>\n",
       "      <td>2007-02-01 00:00:00</td>\n",
       "      <td>2008-08-22 00:00:00</td>\n",
       "      <td>2009-04-10 00:00:00</td>\n",
       "    </tr>\n",
       "    <tr>\n",
       "      <th>FIRST_FLIGHT_DATE</th>\n",
       "      <td>2008-12-24 00:00:00</td>\n",
       "      <td>2007-08-03 00:00:00</td>\n",
       "      <td>2007-08-30 00:00:00</td>\n",
       "      <td>2008-08-23 00:00:00</td>\n",
       "      <td>2009-04-15 00:00:00</td>\n",
       "    </tr>\n",
       "    <tr>\n",
       "      <th>GENDER</th>\n",
       "      <td>Male</td>\n",
       "      <td>Male</td>\n",
       "      <td>Male</td>\n",
       "      <td>Male</td>\n",
       "      <td>Male</td>\n",
       "    </tr>\n",
       "    <tr>\n",
       "      <th>FFP_TIER</th>\n",
       "      <td>6</td>\n",
       "      <td>6</td>\n",
       "      <td>6</td>\n",
       "      <td>5</td>\n",
       "      <td>6</td>\n",
       "    </tr>\n",
       "    <tr>\n",
       "      <th>WORK_CITY</th>\n",
       "      <td>.</td>\n",
       "      <td>NaN</td>\n",
       "      <td>.</td>\n",
       "      <td>Los Angeles</td>\n",
       "      <td>guiyang</td>\n",
       "    </tr>\n",
       "    <tr>\n",
       "      <th>WORK_PROVINCE</th>\n",
       "      <td>beijing</td>\n",
       "      <td>beijing</td>\n",
       "      <td>beijing</td>\n",
       "      <td>CA</td>\n",
       "      <td>guizhou</td>\n",
       "    </tr>\n",
       "    <tr>\n",
       "      <th>WORK_COUNTRY</th>\n",
       "      <td>CN</td>\n",
       "      <td>CN</td>\n",
       "      <td>CN</td>\n",
       "      <td>US</td>\n",
       "      <td>CN</td>\n",
       "    </tr>\n",
       "    <tr>\n",
       "      <th>AGE</th>\n",
       "      <td>31.0</td>\n",
       "      <td>42.0</td>\n",
       "      <td>40.0</td>\n",
       "      <td>64.0</td>\n",
       "      <td>48.0</td>\n",
       "    </tr>\n",
       "    <tr>\n",
       "      <th>LOAD_TIME</th>\n",
       "      <td>3/31/2014</td>\n",
       "      <td>3/31/2014</td>\n",
       "      <td>3/31/2014</td>\n",
       "      <td>3/31/2014</td>\n",
       "      <td>3/31/2014</td>\n",
       "    </tr>\n",
       "    <tr>\n",
       "      <th>FLIGHT_COUNT</th>\n",
       "      <td>210</td>\n",
       "      <td>140</td>\n",
       "      <td>135</td>\n",
       "      <td>23</td>\n",
       "      <td>152</td>\n",
       "    </tr>\n",
       "    <tr>\n",
       "      <th>BP_SUM</th>\n",
       "      <td>505308</td>\n",
       "      <td>362480</td>\n",
       "      <td>351159</td>\n",
       "      <td>337314</td>\n",
       "      <td>273844</td>\n",
       "    </tr>\n",
       "    <tr>\n",
       "      <th>SUM_YR_1</th>\n",
       "      <td>239560.0</td>\n",
       "      <td>171483.0</td>\n",
       "      <td>163618.0</td>\n",
       "      <td>116350.0</td>\n",
       "      <td>124560.0</td>\n",
       "    </tr>\n",
       "    <tr>\n",
       "      <th>SUM_YR_2</th>\n",
       "      <td>234188.0</td>\n",
       "      <td>167434.0</td>\n",
       "      <td>164982.0</td>\n",
       "      <td>125500.0</td>\n",
       "      <td>130702.0</td>\n",
       "    </tr>\n",
       "    <tr>\n",
       "      <th>SEG_KM_SUM</th>\n",
       "      <td>580717</td>\n",
       "      <td>293678</td>\n",
       "      <td>283712</td>\n",
       "      <td>281336</td>\n",
       "      <td>309928</td>\n",
       "    </tr>\n",
       "    <tr>\n",
       "      <th>LAST_FLIGHT_DATE</th>\n",
       "      <td>3/31/2014</td>\n",
       "      <td>3/25/2014</td>\n",
       "      <td>3/21/2014</td>\n",
       "      <td>12/26/2013</td>\n",
       "      <td>3/27/2014</td>\n",
       "    </tr>\n",
       "    <tr>\n",
       "      <th>LAST_TO_END</th>\n",
       "      <td>1</td>\n",
       "      <td>7</td>\n",
       "      <td>11</td>\n",
       "      <td>97</td>\n",
       "      <td>5</td>\n",
       "    </tr>\n",
       "    <tr>\n",
       "      <th>AVG_INTERVAL</th>\n",
       "      <td>3.483254</td>\n",
       "      <td>5.194245</td>\n",
       "      <td>5.298507</td>\n",
       "      <td>27.863636</td>\n",
       "      <td>4.788079</td>\n",
       "    </tr>\n",
       "    <tr>\n",
       "      <th>MAX_INTERVAL</th>\n",
       "      <td>18</td>\n",
       "      <td>17</td>\n",
       "      <td>18</td>\n",
       "      <td>73</td>\n",
       "      <td>47</td>\n",
       "    </tr>\n",
       "    <tr>\n",
       "      <th>EXCHANGE_COUNT</th>\n",
       "      <td>34</td>\n",
       "      <td>29</td>\n",
       "      <td>20</td>\n",
       "      <td>11</td>\n",
       "      <td>27</td>\n",
       "    </tr>\n",
       "    <tr>\n",
       "      <th>avg_discount</th>\n",
       "      <td>0.961639</td>\n",
       "      <td>1.252314</td>\n",
       "      <td>1.254676</td>\n",
       "      <td>1.09087</td>\n",
       "      <td>0.970658</td>\n",
       "    </tr>\n",
       "    <tr>\n",
       "      <th>Points_Sum</th>\n",
       "      <td>619760</td>\n",
       "      <td>415768</td>\n",
       "      <td>406361</td>\n",
       "      <td>372204</td>\n",
       "      <td>338813</td>\n",
       "    </tr>\n",
       "    <tr>\n",
       "      <th>Point_NotFlight</th>\n",
       "      <td>50</td>\n",
       "      <td>33</td>\n",
       "      <td>26</td>\n",
       "      <td>12</td>\n",
       "      <td>39</td>\n",
       "    </tr>\n",
       "  </tbody>\n",
       "</table>\n",
       "</div>"
      ],
      "text/plain": [
       "MEMBER_NO                        54993                28065  \\\n",
       "FFP_DATE           2006-11-02 00:00:00  2007-02-19 00:00:00   \n",
       "FIRST_FLIGHT_DATE  2008-12-24 00:00:00  2007-08-03 00:00:00   \n",
       "GENDER                            Male                 Male   \n",
       "FFP_TIER                             6                    6   \n",
       "WORK_CITY                            .                  NaN   \n",
       "WORK_PROVINCE                  beijing              beijing   \n",
       "WORK_COUNTRY                        CN                   CN   \n",
       "AGE                               31.0                 42.0   \n",
       "LOAD_TIME                    3/31/2014            3/31/2014   \n",
       "FLIGHT_COUNT                       210                  140   \n",
       "BP_SUM                          505308               362480   \n",
       "SUM_YR_1                      239560.0             171483.0   \n",
       "SUM_YR_2                      234188.0             167434.0   \n",
       "SEG_KM_SUM                      580717               293678   \n",
       "LAST_FLIGHT_DATE             3/31/2014            3/25/2014   \n",
       "LAST_TO_END                          1                    7   \n",
       "AVG_INTERVAL                  3.483254             5.194245   \n",
       "MAX_INTERVAL                        18                   17   \n",
       "EXCHANGE_COUNT                      34                   29   \n",
       "avg_discount                  0.961639             1.252314   \n",
       "Points_Sum                      619760               415768   \n",
       "Point_NotFlight                     50                   33   \n",
       "\n",
       "MEMBER_NO                        55106                21189  \\\n",
       "FFP_DATE           2007-02-01 00:00:00  2008-08-22 00:00:00   \n",
       "FIRST_FLIGHT_DATE  2007-08-30 00:00:00  2008-08-23 00:00:00   \n",
       "GENDER                            Male                 Male   \n",
       "FFP_TIER                             6                    5   \n",
       "WORK_CITY                            .          Los Angeles   \n",
       "WORK_PROVINCE                  beijing                   CA   \n",
       "WORK_COUNTRY                        CN                   US   \n",
       "AGE                               40.0                 64.0   \n",
       "LOAD_TIME                    3/31/2014            3/31/2014   \n",
       "FLIGHT_COUNT                       135                   23   \n",
       "BP_SUM                          351159               337314   \n",
       "SUM_YR_1                      163618.0             116350.0   \n",
       "SUM_YR_2                      164982.0             125500.0   \n",
       "SEG_KM_SUM                      283712               281336   \n",
       "LAST_FLIGHT_DATE             3/21/2014           12/26/2013   \n",
       "LAST_TO_END                         11                   97   \n",
       "AVG_INTERVAL                  5.298507            27.863636   \n",
       "MAX_INTERVAL                        18                   73   \n",
       "EXCHANGE_COUNT                      20                   11   \n",
       "avg_discount                  1.254676              1.09087   \n",
       "Points_Sum                      406361               372204   \n",
       "Point_NotFlight                     26                   12   \n",
       "\n",
       "MEMBER_NO                        39546  \n",
       "FFP_DATE           2009-04-10 00:00:00  \n",
       "FIRST_FLIGHT_DATE  2009-04-15 00:00:00  \n",
       "GENDER                            Male  \n",
       "FFP_TIER                             6  \n",
       "WORK_CITY                      guiyang  \n",
       "WORK_PROVINCE                  guizhou  \n",
       "WORK_COUNTRY                        CN  \n",
       "AGE                               48.0  \n",
       "LOAD_TIME                    3/31/2014  \n",
       "FLIGHT_COUNT                       152  \n",
       "BP_SUM                          273844  \n",
       "SUM_YR_1                      124560.0  \n",
       "SUM_YR_2                      130702.0  \n",
       "SEG_KM_SUM                      309928  \n",
       "LAST_FLIGHT_DATE             3/27/2014  \n",
       "LAST_TO_END                          5  \n",
       "AVG_INTERVAL                  4.788079  \n",
       "MAX_INTERVAL                        47  \n",
       "EXCHANGE_COUNT                      27  \n",
       "avg_discount                  0.970658  \n",
       "Points_Sum                      338813  \n",
       "Point_NotFlight                     39  "
      ]
     },
     "execution_count": 6,
     "metadata": {},
     "output_type": "execute_result"
    }
   ],
   "source": [
    "train_df.head().T"
   ]
  },
  {
   "cell_type": "code",
   "execution_count": 7,
   "id": "32cd11a0-489f-4c65-98e6-3b3f1d3e277f",
   "metadata": {},
   "outputs": [
    {
     "name": "stdout",
     "output_type": "stream",
     "text": [
      "<class 'pandas.core.frame.DataFrame'>\n",
      "Int64Index: 55000 entries, 54993 to 21795\n",
      "Data columns (total 22 columns):\n",
      " #   Column             Non-Null Count  Dtype         \n",
      "---  ------             --------------  -----         \n",
      " 0   FFP_DATE           55000 non-null  datetime64[ns]\n",
      " 1   FIRST_FLIGHT_DATE  55000 non-null  datetime64[ns]\n",
      " 2   GENDER             54997 non-null  object        \n",
      " 3   FFP_TIER           55000 non-null  int64         \n",
      " 4   WORK_CITY          53034 non-null  object        \n",
      " 5   WORK_PROVINCE      52216 non-null  object        \n",
      " 6   WORK_COUNTRY       54980 non-null  object        \n",
      " 7   AGE                54658 non-null  float64       \n",
      " 8   LOAD_TIME          55000 non-null  object        \n",
      " 9   FLIGHT_COUNT       55000 non-null  int64         \n",
      " 10  BP_SUM             55000 non-null  int64         \n",
      " 11  SUM_YR_1           54738 non-null  float64       \n",
      " 12  SUM_YR_2           54937 non-null  float64       \n",
      " 13  SEG_KM_SUM         55000 non-null  int64         \n",
      " 14  LAST_FLIGHT_DATE   55000 non-null  object        \n",
      " 15  LAST_TO_END        55000 non-null  int64         \n",
      " 16  AVG_INTERVAL       55000 non-null  float64       \n",
      " 17  MAX_INTERVAL       55000 non-null  int64         \n",
      " 18  EXCHANGE_COUNT     55000 non-null  int64         \n",
      " 19  avg_discount       55000 non-null  float64       \n",
      " 20  Points_Sum         55000 non-null  int64         \n",
      " 21  Point_NotFlight    55000 non-null  int64         \n",
      "dtypes: datetime64[ns](2), float64(5), int64(9), object(6)\n",
      "memory usage: 9.7+ MB\n"
     ]
    }
   ],
   "source": [
    "train_df.info()"
   ]
  },
  {
   "cell_type": "markdown",
   "id": "7d892b1b-f541-4548-96bc-50f7df18984c",
   "metadata": {},
   "source": [
    "### Datetime variables"
   ]
  },
  {
   "cell_type": "code",
   "execution_count": 5,
   "id": "678bb5b6-1d4e-4b9d-894b-d4a9950ac600",
   "metadata": {},
   "outputs": [
    {
     "name": "stdout",
     "output_type": "stream",
     "text": [
      "['2014/2/29  0:00:00']\n"
     ]
    }
   ],
   "source": [
    "# LAST_FLIGHT_DATE is unformatted, we should treat it the right way\n",
    "\n",
    "coerced_last_date = pd.to_datetime(train_df[\"LAST_FLIGHT_DATE\"], errors='coerce')\n",
    "wrong_fmt_idxs = coerced_last_date.loc[coerced_last_date.isnull()].index\n",
    "\n",
    "print(train_df.loc[wrong_fmt_idxs,\"LAST_FLIGHT_DATE\"].unique())\n",
    "\n",
    "# Day Feb 29th from 2014 does not exist, therefore error\n",
    "train_df[\"LAST_FLIGHT_DATE\"] = coerced_last_date.fillna(pd.to_datetime(\"2014-02-28\"))"
   ]
  },
  {
   "cell_type": "code",
   "execution_count": 6,
   "id": "fb30df3d-6b56-463c-95ce-b2cd1fb834f4",
   "metadata": {},
   "outputs": [
    {
     "name": "stdout",
     "output_type": "stream",
     "text": [
      "['2014/2/29  0:00:00']\n"
     ]
    }
   ],
   "source": [
    "# Let's also check test_df\n",
    "coerced_test_last_date = pd.to_datetime(test_df[\"LAST_FLIGHT_DATE\"], errors='coerce')\n",
    "wrong_fmt_idxs_test = coerced_test_last_date.loc[coerced_test_last_date.isnull()].index\n",
    "\n",
    "print(test_df.loc[wrong_fmt_idxs_test,\"LAST_FLIGHT_DATE\"].unique())\n",
    "\n",
    "# Day Feb 29th from 2014 does not exist, therefore error\n",
    "test_df[\"LAST_FLIGHT_DATE\"] = coerced_test_last_date.fillna(pd.to_datetime(\"2014-02-28\"))"
   ]
  },
  {
   "cell_type": "code",
   "execution_count": 7,
   "id": "e28cf761-9dc6-4646-b95d-6840e798c270",
   "metadata": {},
   "outputs": [
    {
     "data": {
      "text/plain": [
       "(0, 0)"
      ]
     },
     "execution_count": 7,
     "metadata": {},
     "output_type": "execute_result"
    }
   ],
   "source": [
    "train_df[\"LAST_FLIGHT_DATE\"].isnull().sum(), test_df[\"LAST_FLIGHT_DATE\"].isnull().sum()"
   ]
  },
  {
   "cell_type": "code",
   "execution_count": 8,
   "id": "82f436e7-f6b5-4274-82f5-0cb10ed7889e",
   "metadata": {},
   "outputs": [
    {
     "name": "stdout",
     "output_type": "stream",
     "text": [
      " 60.78% \n",
      " 99.82% \n"
     ]
    }
   ],
   "source": [
    "# Hypothesis: FFP date is some sort of registration date....\n",
    "ffp_lower_than_first_flight_count = (train_df[\"FFP_DATE\"] < train_df[\"FIRST_FLIGHT_DATE\"]).sum()\n",
    "first_lower_than_last_flight_count = (train_df[\"FIRST_FLIGHT_DATE\"] < train_df[\"LAST_FLIGHT_DATE\"]).sum()\n",
    "\n",
    "num_instances = train_df.shape[0]\n",
    "\n",
    "print(f\"{(100*ffp_lower_than_first_flight_count / num_instances): .2f}% \")\n",
    "print(f\"{(100*first_lower_than_last_flight_count / num_instances): .2f}% \")"
   ]
  },
  {
   "cell_type": "code",
   "execution_count": 9,
   "id": "30e3ecb9-a2fa-4fa8-b98c-bba512ba0aa6",
   "metadata": {},
   "outputs": [
    {
     "data": {
      "text/plain": [
       "FFP_DATE             0\n",
       "FIRST_FLIGHT_DATE    0\n",
       "LAST_FLIGHT_DATE     0\n",
       "dtype: int64"
      ]
     },
     "execution_count": 9,
     "metadata": {},
     "output_type": "execute_result"
    }
   ],
   "source": [
    "train_df.select_dtypes(include=[\"datetime64\"]).isnull().sum()"
   ]
  },
  {
   "cell_type": "code",
   "execution_count": 10,
   "id": "c25114b7-0454-441f-ac1c-75b16724510f",
   "metadata": {},
   "outputs": [],
   "source": [
    "datetime_df = train_df.select_dtypes(include=[\"datetime64\"]).copy()"
   ]
  },
  {
   "cell_type": "markdown",
   "id": "33bae673-9945-411e-9eaa-f48138710f79",
   "metadata": {},
   "source": [
    "### Numeric variables"
   ]
  },
  {
   "cell_type": "code",
   "execution_count": 29,
   "id": "bfe50644-bf5b-4371-987c-0fda8fb87090",
   "metadata": {},
   "outputs": [
    {
     "data": {
      "text/html": [
       "<div>\n",
       "<style scoped>\n",
       "    .dataframe tbody tr th:only-of-type {\n",
       "        vertical-align: middle;\n",
       "    }\n",
       "\n",
       "    .dataframe tbody tr th {\n",
       "        vertical-align: top;\n",
       "    }\n",
       "\n",
       "    .dataframe thead th {\n",
       "        text-align: right;\n",
       "    }\n",
       "</style>\n",
       "<table border=\"1\" class=\"dataframe\">\n",
       "  <thead>\n",
       "    <tr style=\"text-align: right;\">\n",
       "      <th></th>\n",
       "      <th>count</th>\n",
       "      <th>mean</th>\n",
       "      <th>std</th>\n",
       "      <th>min</th>\n",
       "      <th>25%</th>\n",
       "      <th>50%</th>\n",
       "      <th>75%</th>\n",
       "      <th>max</th>\n",
       "    </tr>\n",
       "  </thead>\n",
       "  <tbody>\n",
       "    <tr>\n",
       "      <th>FFP_TIER</th>\n",
       "      <td>55000.0</td>\n",
       "      <td>4.115727</td>\n",
       "      <td>0.395579</td>\n",
       "      <td>4.000000</td>\n",
       "      <td>4.000000</td>\n",
       "      <td>4.000000</td>\n",
       "      <td>4.000000</td>\n",
       "      <td>6.0</td>\n",
       "    </tr>\n",
       "    <tr>\n",
       "      <th>AGE</th>\n",
       "      <td>54658.0</td>\n",
       "      <td>42.705789</td>\n",
       "      <td>9.803796</td>\n",
       "      <td>6.000000</td>\n",
       "      <td>35.000000</td>\n",
       "      <td>42.000000</td>\n",
       "      <td>48.000000</td>\n",
       "      <td>110.0</td>\n",
       "    </tr>\n",
       "    <tr>\n",
       "      <th>FLIGHT_COUNT</th>\n",
       "      <td>55000.0</td>\n",
       "      <td>13.213527</td>\n",
       "      <td>14.528764</td>\n",
       "      <td>2.000000</td>\n",
       "      <td>4.000000</td>\n",
       "      <td>8.000000</td>\n",
       "      <td>16.000000</td>\n",
       "      <td>213.0</td>\n",
       "    </tr>\n",
       "    <tr>\n",
       "      <th>BP_SUM</th>\n",
       "      <td>55000.0</td>\n",
       "      <td>12362.465164</td>\n",
       "      <td>17012.468908</td>\n",
       "      <td>0.000000</td>\n",
       "      <td>3497.000000</td>\n",
       "      <td>6903.000000</td>\n",
       "      <td>14481.000000</td>\n",
       "      <td>505308.0</td>\n",
       "    </tr>\n",
       "    <tr>\n",
       "      <th>SUM_YR_1</th>\n",
       "      <td>54738.0</td>\n",
       "      <td>6002.575145</td>\n",
       "      <td>8458.072660</td>\n",
       "      <td>0.000000</td>\n",
       "      <td>1400.000000</td>\n",
       "      <td>3426.500000</td>\n",
       "      <td>7406.000000</td>\n",
       "      <td>239560.0</td>\n",
       "    </tr>\n",
       "    <tr>\n",
       "      <th>SUM_YR_2</th>\n",
       "      <td>54937.0</td>\n",
       "      <td>6325.644993</td>\n",
       "      <td>9080.805391</td>\n",
       "      <td>0.000000</td>\n",
       "      <td>1300.000000</td>\n",
       "      <td>3484.000000</td>\n",
       "      <td>7760.000000</td>\n",
       "      <td>234188.0</td>\n",
       "    </tr>\n",
       "    <tr>\n",
       "      <th>SEG_KM_SUM</th>\n",
       "      <td>55000.0</td>\n",
       "      <td>19256.688255</td>\n",
       "      <td>21613.796416</td>\n",
       "      <td>1380.000000</td>\n",
       "      <td>6332.000000</td>\n",
       "      <td>11983.000000</td>\n",
       "      <td>23761.500000</td>\n",
       "      <td>580717.0</td>\n",
       "    </tr>\n",
       "    <tr>\n",
       "      <th>LAST_TO_END</th>\n",
       "      <td>55000.0</td>\n",
       "      <td>155.593436</td>\n",
       "      <td>169.987954</td>\n",
       "      <td>1.000000</td>\n",
       "      <td>25.000000</td>\n",
       "      <td>91.000000</td>\n",
       "      <td>226.000000</td>\n",
       "      <td>730.0</td>\n",
       "    </tr>\n",
       "    <tr>\n",
       "      <th>AVG_INTERVAL</th>\n",
       "      <td>55000.0</td>\n",
       "      <td>62.979631</td>\n",
       "      <td>64.506386</td>\n",
       "      <td>0.000000</td>\n",
       "      <td>25.166667</td>\n",
       "      <td>44.600000</td>\n",
       "      <td>77.500000</td>\n",
       "      <td>714.0</td>\n",
       "    </tr>\n",
       "    <tr>\n",
       "      <th>MAX_INTERVAL</th>\n",
       "      <td>55000.0</td>\n",
       "      <td>172.201745</td>\n",
       "      <td>117.382011</td>\n",
       "      <td>0.000000</td>\n",
       "      <td>90.000000</td>\n",
       "      <td>149.000000</td>\n",
       "      <td>230.000000</td>\n",
       "      <td>719.0</td>\n",
       "    </tr>\n",
       "    <tr>\n",
       "      <th>EXCHANGE_COUNT</th>\n",
       "      <td>55000.0</td>\n",
       "      <td>0.361727</td>\n",
       "      <td>1.201922</td>\n",
       "      <td>0.000000</td>\n",
       "      <td>0.000000</td>\n",
       "      <td>0.000000</td>\n",
       "      <td>0.000000</td>\n",
       "      <td>46.0</td>\n",
       "    </tr>\n",
       "    <tr>\n",
       "      <th>avg_discount</th>\n",
       "      <td>55000.0</td>\n",
       "      <td>0.736753</td>\n",
       "      <td>0.177283</td>\n",
       "      <td>0.136017</td>\n",
       "      <td>0.629210</td>\n",
       "      <td>0.720056</td>\n",
       "      <td>0.813888</td>\n",
       "      <td>1.5</td>\n",
       "    </tr>\n",
       "    <tr>\n",
       "      <th>Points_Sum</th>\n",
       "      <td>55000.0</td>\n",
       "      <td>14102.267800</td>\n",
       "      <td>21049.880390</td>\n",
       "      <td>0.000000</td>\n",
       "      <td>3796.000000</td>\n",
       "      <td>7611.000000</td>\n",
       "      <td>16046.750000</td>\n",
       "      <td>795398.0</td>\n",
       "    </tr>\n",
       "    <tr>\n",
       "      <th>Point_NotFlight</th>\n",
       "      <td>55000.0</td>\n",
       "      <td>2.827073</td>\n",
       "      <td>7.526118</td>\n",
       "      <td>0.000000</td>\n",
       "      <td>0.000000</td>\n",
       "      <td>0.000000</td>\n",
       "      <td>1.000000</td>\n",
       "      <td>140.0</td>\n",
       "    </tr>\n",
       "  </tbody>\n",
       "</table>\n",
       "</div>"
      ],
      "text/plain": [
       "                   count          mean           std          min  \\\n",
       "FFP_TIER         55000.0      4.115727      0.395579     4.000000   \n",
       "AGE              54658.0     42.705789      9.803796     6.000000   \n",
       "FLIGHT_COUNT     55000.0     13.213527     14.528764     2.000000   \n",
       "BP_SUM           55000.0  12362.465164  17012.468908     0.000000   \n",
       "SUM_YR_1         54738.0   6002.575145   8458.072660     0.000000   \n",
       "SUM_YR_2         54937.0   6325.644993   9080.805391     0.000000   \n",
       "SEG_KM_SUM       55000.0  19256.688255  21613.796416  1380.000000   \n",
       "LAST_TO_END      55000.0    155.593436    169.987954     1.000000   \n",
       "AVG_INTERVAL     55000.0     62.979631     64.506386     0.000000   \n",
       "MAX_INTERVAL     55000.0    172.201745    117.382011     0.000000   \n",
       "EXCHANGE_COUNT   55000.0      0.361727      1.201922     0.000000   \n",
       "avg_discount     55000.0      0.736753      0.177283     0.136017   \n",
       "Points_Sum       55000.0  14102.267800  21049.880390     0.000000   \n",
       "Point_NotFlight  55000.0      2.827073      7.526118     0.000000   \n",
       "\n",
       "                         25%           50%           75%       max  \n",
       "FFP_TIER            4.000000      4.000000      4.000000       6.0  \n",
       "AGE                35.000000     42.000000     48.000000     110.0  \n",
       "FLIGHT_COUNT        4.000000      8.000000     16.000000     213.0  \n",
       "BP_SUM           3497.000000   6903.000000  14481.000000  505308.0  \n",
       "SUM_YR_1         1400.000000   3426.500000   7406.000000  239560.0  \n",
       "SUM_YR_2         1300.000000   3484.000000   7760.000000  234188.0  \n",
       "SEG_KM_SUM       6332.000000  11983.000000  23761.500000  580717.0  \n",
       "LAST_TO_END        25.000000     91.000000    226.000000     730.0  \n",
       "AVG_INTERVAL       25.166667     44.600000     77.500000     714.0  \n",
       "MAX_INTERVAL       90.000000    149.000000    230.000000     719.0  \n",
       "EXCHANGE_COUNT      0.000000      0.000000      0.000000      46.0  \n",
       "avg_discount        0.629210      0.720056      0.813888       1.5  \n",
       "Points_Sum       3796.000000   7611.000000  16046.750000  795398.0  \n",
       "Point_NotFlight     0.000000      0.000000      1.000000     140.0  "
      ]
     },
     "execution_count": 29,
     "metadata": {},
     "output_type": "execute_result"
    }
   ],
   "source": [
    "numerics = [\"int64\", \"float64\", \"bool\", \"datetime64\"]\n",
    "train_df.select_dtypes(include=numerics).describe().T"
   ]
  },
  {
   "cell_type": "code",
   "execution_count": 13,
   "id": "e4ffa565-4ea9-4510-a377-13ac47bb99a2",
   "metadata": {},
   "outputs": [
    {
     "data": {
      "text/html": [
       "<div>\n",
       "<style scoped>\n",
       "    .dataframe tbody tr th:only-of-type {\n",
       "        vertical-align: middle;\n",
       "    }\n",
       "\n",
       "    .dataframe tbody tr th {\n",
       "        vertical-align: top;\n",
       "    }\n",
       "\n",
       "    .dataframe thead th {\n",
       "        text-align: right;\n",
       "    }\n",
       "</style>\n",
       "<table border=\"1\" class=\"dataframe\">\n",
       "  <thead>\n",
       "    <tr style=\"text-align: right;\">\n",
       "      <th></th>\n",
       "      <th>count</th>\n",
       "      <th>mean</th>\n",
       "      <th>std</th>\n",
       "      <th>min</th>\n",
       "      <th>25%</th>\n",
       "      <th>50%</th>\n",
       "      <th>75%</th>\n",
       "      <th>max</th>\n",
       "    </tr>\n",
       "  </thead>\n",
       "  <tbody>\n",
       "    <tr>\n",
       "      <th>FFP_TIER</th>\n",
       "      <td>7988.0</td>\n",
       "      <td>4.008763</td>\n",
       "      <td>0.121232</td>\n",
       "      <td>4.0</td>\n",
       "      <td>4.00</td>\n",
       "      <td>4.00000</td>\n",
       "      <td>4.000000</td>\n",
       "      <td>6.0</td>\n",
       "    </tr>\n",
       "    <tr>\n",
       "      <th>AGE</th>\n",
       "      <td>7910.0</td>\n",
       "      <td>40.890898</td>\n",
       "      <td>10.297563</td>\n",
       "      <td>9.0</td>\n",
       "      <td>33.00</td>\n",
       "      <td>39.00000</td>\n",
       "      <td>47.000000</td>\n",
       "      <td>92.0</td>\n",
       "    </tr>\n",
       "    <tr>\n",
       "      <th>FLIGHT_COUNT</th>\n",
       "      <td>7988.0</td>\n",
       "      <td>2.378192</td>\n",
       "      <td>0.750483</td>\n",
       "      <td>2.0</td>\n",
       "      <td>2.00</td>\n",
       "      <td>2.00000</td>\n",
       "      <td>3.000000</td>\n",
       "      <td>10.0</td>\n",
       "    </tr>\n",
       "    <tr>\n",
       "      <th>BP_SUM</th>\n",
       "      <td>7988.0</td>\n",
       "      <td>1028.221582</td>\n",
       "      <td>514.824691</td>\n",
       "      <td>0.0</td>\n",
       "      <td>692.00</td>\n",
       "      <td>1012.00000</td>\n",
       "      <td>1386.000000</td>\n",
       "      <td>4000.0</td>\n",
       "    </tr>\n",
       "    <tr>\n",
       "      <th>SUM_YR_1</th>\n",
       "      <td>7699.0</td>\n",
       "      <td>753.949474</td>\n",
       "      <td>740.429594</td>\n",
       "      <td>0.0</td>\n",
       "      <td>0.00</td>\n",
       "      <td>690.00000</td>\n",
       "      <td>1280.000000</td>\n",
       "      <td>7100.0</td>\n",
       "    </tr>\n",
       "    <tr>\n",
       "      <th>SUM_YR_2</th>\n",
       "      <td>7913.0</td>\n",
       "      <td>594.095286</td>\n",
       "      <td>657.696886</td>\n",
       "      <td>0.0</td>\n",
       "      <td>0.00</td>\n",
       "      <td>462.00000</td>\n",
       "      <td>1095.000000</td>\n",
       "      <td>5460.0</td>\n",
       "    </tr>\n",
       "    <tr>\n",
       "      <th>SEG_KM_SUM</th>\n",
       "      <td>7988.0</td>\n",
       "      <td>2438.785303</td>\n",
       "      <td>990.760396</td>\n",
       "      <td>368.0</td>\n",
       "      <td>1744.00</td>\n",
       "      <td>2293.50000</td>\n",
       "      <td>2930.000000</td>\n",
       "      <td>8016.0</td>\n",
       "    </tr>\n",
       "    <tr>\n",
       "      <th>LAST_TO_END</th>\n",
       "      <td>7988.0</td>\n",
       "      <td>317.452929</td>\n",
       "      <td>211.237247</td>\n",
       "      <td>1.0</td>\n",
       "      <td>130.00</td>\n",
       "      <td>299.00000</td>\n",
       "      <td>497.000000</td>\n",
       "      <td>731.0</td>\n",
       "    </tr>\n",
       "    <tr>\n",
       "      <th>AVG_INTERVAL</th>\n",
       "      <td>7988.0</td>\n",
       "      <td>100.593881</td>\n",
       "      <td>132.284864</td>\n",
       "      <td>0.0</td>\n",
       "      <td>5.00</td>\n",
       "      <td>46.00000</td>\n",
       "      <td>148.000000</td>\n",
       "      <td>728.0</td>\n",
       "    </tr>\n",
       "    <tr>\n",
       "      <th>MAX_INTERVAL</th>\n",
       "      <td>7988.0</td>\n",
       "      <td>123.566224</td>\n",
       "      <td>152.106381</td>\n",
       "      <td>0.0</td>\n",
       "      <td>5.00</td>\n",
       "      <td>58.00000</td>\n",
       "      <td>194.000000</td>\n",
       "      <td>728.0</td>\n",
       "    </tr>\n",
       "    <tr>\n",
       "      <th>EXCHANGE_COUNT</th>\n",
       "      <td>7988.0</td>\n",
       "      <td>0.030921</td>\n",
       "      <td>0.365907</td>\n",
       "      <td>0.0</td>\n",
       "      <td>0.00</td>\n",
       "      <td>0.00000</td>\n",
       "      <td>0.000000</td>\n",
       "      <td>22.0</td>\n",
       "    </tr>\n",
       "    <tr>\n",
       "      <th>avg_discount</th>\n",
       "      <td>7988.0</td>\n",
       "      <td>0.616935</td>\n",
       "      <td>0.205400</td>\n",
       "      <td>0.0</td>\n",
       "      <td>0.45</td>\n",
       "      <td>0.60152</td>\n",
       "      <td>0.767436</td>\n",
       "      <td>1.5</td>\n",
       "    </tr>\n",
       "    <tr>\n",
       "      <th>Points_Sum</th>\n",
       "      <td>7988.0</td>\n",
       "      <td>1828.828117</td>\n",
       "      <td>11573.723888</td>\n",
       "      <td>0.0</td>\n",
       "      <td>763.00</td>\n",
       "      <td>1152.50000</td>\n",
       "      <td>1596.000000</td>\n",
       "      <td>985572.0</td>\n",
       "    </tr>\n",
       "    <tr>\n",
       "      <th>Point_NotFlight</th>\n",
       "      <td>7988.0</td>\n",
       "      <td>2.047071</td>\n",
       "      <td>6.091004</td>\n",
       "      <td>0.0</td>\n",
       "      <td>0.00</td>\n",
       "      <td>0.00000</td>\n",
       "      <td>0.000000</td>\n",
       "      <td>92.0</td>\n",
       "    </tr>\n",
       "  </tbody>\n",
       "</table>\n",
       "</div>"
      ],
      "text/plain": [
       "                  count         mean           std    min      25%  \\\n",
       "FFP_TIER         7988.0     4.008763      0.121232    4.0     4.00   \n",
       "AGE              7910.0    40.890898     10.297563    9.0    33.00   \n",
       "FLIGHT_COUNT     7988.0     2.378192      0.750483    2.0     2.00   \n",
       "BP_SUM           7988.0  1028.221582    514.824691    0.0   692.00   \n",
       "SUM_YR_1         7699.0   753.949474    740.429594    0.0     0.00   \n",
       "SUM_YR_2         7913.0   594.095286    657.696886    0.0     0.00   \n",
       "SEG_KM_SUM       7988.0  2438.785303    990.760396  368.0  1744.00   \n",
       "LAST_TO_END      7988.0   317.452929    211.237247    1.0   130.00   \n",
       "AVG_INTERVAL     7988.0   100.593881    132.284864    0.0     5.00   \n",
       "MAX_INTERVAL     7988.0   123.566224    152.106381    0.0     5.00   \n",
       "EXCHANGE_COUNT   7988.0     0.030921      0.365907    0.0     0.00   \n",
       "avg_discount     7988.0     0.616935      0.205400    0.0     0.45   \n",
       "Points_Sum       7988.0  1828.828117  11573.723888    0.0   763.00   \n",
       "Point_NotFlight  7988.0     2.047071      6.091004    0.0     0.00   \n",
       "\n",
       "                        50%          75%       max  \n",
       "FFP_TIER            4.00000     4.000000       6.0  \n",
       "AGE                39.00000    47.000000      92.0  \n",
       "FLIGHT_COUNT        2.00000     3.000000      10.0  \n",
       "BP_SUM           1012.00000  1386.000000    4000.0  \n",
       "SUM_YR_1          690.00000  1280.000000    7100.0  \n",
       "SUM_YR_2          462.00000  1095.000000    5460.0  \n",
       "SEG_KM_SUM       2293.50000  2930.000000    8016.0  \n",
       "LAST_TO_END       299.00000   497.000000     731.0  \n",
       "AVG_INTERVAL       46.00000   148.000000     728.0  \n",
       "MAX_INTERVAL       58.00000   194.000000     728.0  \n",
       "EXCHANGE_COUNT      0.00000     0.000000      22.0  \n",
       "avg_discount        0.60152     0.767436       1.5  \n",
       "Points_Sum       1152.50000  1596.000000  985572.0  \n",
       "Point_NotFlight     0.00000     0.000000      92.0  "
      ]
     },
     "execution_count": 13,
     "metadata": {},
     "output_type": "execute_result"
    }
   ],
   "source": [
    "test_df.select_dtypes(include=numerics).describe().T"
   ]
  },
  {
   "cell_type": "code",
   "execution_count": 11,
   "id": "e5f284d4-6795-4f32-9fe9-1bf1009596b1",
   "metadata": {},
   "outputs": [
    {
     "data": {
      "text/plain": [
       "Text(0.5, 1.0, 'Correlation map of Numerical Features')"
      ]
     },
     "execution_count": 11,
     "metadata": {},
     "output_type": "execute_result"
    },
    {
     "data": {
      "image/png": "[encoded data removed]",
      "text/plain": [
       "<Figure size 1600x900 with 2 Axes>"
      ]
     },
     "metadata": {},
     "output_type": "display_data"
    }
   ],
   "source": [
    "corr = train_df.select_dtypes(include= [\"int64\", \"float64\"]).corr()\n",
    "\n",
    "tri_mask = np.triu(np.ones_like(corr, dtype=bool))\n",
    "\n",
    "cmap = sns.diverging_palette(10,250, as_cmap=True)\n",
    "\n",
    "_, ax = plt.subplots(figsize=(16,9))\n",
    "sns.heatmap(corr, mask=tri_mask, cmap=\"PiYG\", \n",
    "            center=0, vmin=-1.0, vmax=1.0,\n",
    "            square=True, annot=True, linewidths=.5,\n",
    "            cbar_kws={\"shrink\": .5}, ax=ax)\n",
    "\n",
    "ax.set_title(\"Correlation map of Numerical Features\")"
   ]
  },
  {
   "cell_type": "markdown",
   "id": "33f0d24b-db55-495f-afe3-041122aef58a",
   "metadata": {},
   "source": [
    "There seems to exist some level of multicollinearity between numerical predictors in our model. In order to handle that we will run a Variance Inflation Factor analysis to filter out features with high VIF (Higher than 5). A high VIF tells us how much a variable variance is influenced as a linear combination from other features\n",
    "\n",
    "Variance Inflation Factor is an analysis where you make one of your dataset's features a predicted variable and run a linear regression model with all the remaining features. Then you calculate a R^2 value and your VIF factor can be calculated as mentioned below:\n",
    "\n",
    "`VIF = 1 / (1 - R^2)`\n",
    "\n",
    "As this is a Linear Regression model, it will be important to handle nulls and scale variables."
   ]
  },
  {
   "cell_type": "code",
   "execution_count": 12,
   "id": "fcdedf3b-9728-4c56-9828-ee4462a8b795",
   "metadata": {},
   "outputs": [],
   "source": [
    "# For simplicity now, we are dropping nulls, as there is a minor impact on data\n",
    "X = train_df.select_dtypes(include= [\"int64\", \"float64\"]).dropna()"
   ]
  },
  {
   "cell_type": "code",
   "execution_count": 13,
   "id": "739c5531-91e8-4ca6-92e8-59fe9de2a000",
   "metadata": {},
   "outputs": [],
   "source": [
    "from sklearn.preprocessing import StandardScaler\n",
    "from sklearn.pipeline import Pipeline\n",
    "from sklearn.linear_model import LinearRegression"
   ]
  },
  {
   "cell_type": "code",
   "execution_count": 14,
   "id": "ec7332fd-756f-4d96-8c20-f5f0212f6784",
   "metadata": {},
   "outputs": [],
   "source": [
    "def get_vif_factors(predictors_dataframe):\n",
    "    X = predictors_dataframe.copy()\n",
    "    \n",
    "    vif_pipe = Pipeline(steps=[\n",
    "        (\"scale\", StandardScaler()),\n",
    "        (\"regression\", LinearRegression(n_jobs=3)),\n",
    "    ])\n",
    "    \n",
    "    vif_analysis = []\n",
    "    for feature in X.columns:\n",
    "        X_vif = X.drop(feature, axis=1)\n",
    "        y_vif = X[feature].copy()\n",
    "        vif_pipe.fit(X_vif, y_vif)\n",
    "        r2 = vif_pipe.score(X_vif, y_vif)\n",
    "        vif = 1/ (1 -r2)\n",
    "        vif_analysis.append((feature, vif))\n",
    "        \n",
    "    return pd.Series(dict(vif_analysis), name=\"VIF\").sort_values(ascending=False)"
   ]
  },
  {
   "cell_type": "code",
   "execution_count": 15,
   "id": "94e4b27e-b668-4d5d-8435-9594ad31c088",
   "metadata": {},
   "outputs": [
    {
     "data": {
      "text/plain": [
       "BP_SUM             27.629356\n",
       "Points_Sum         12.260654\n",
       "SEG_KM_SUM         11.891432\n",
       "SUM_YR_2            7.026826\n",
       "FLIGHT_COUNT        5.317585\n",
       "SUM_YR_1            5.025187\n",
       "MAX_INTERVAL        2.483087\n",
       "AVG_INTERVAL        2.273493\n",
       "FFP_TIER            1.815144\n",
       "LAST_TO_END         1.708931\n",
       "Point_NotFlight     1.632882\n",
       "EXCHANGE_COUNT      1.610215\n",
       "avg_discount        1.606063\n",
       "AGE                 1.042024\n",
       "Name: VIF, dtype: float64"
      ]
     },
     "execution_count": 15,
     "metadata": {},
     "output_type": "execute_result"
    }
   ],
   "source": [
    "vif = get_vif_factors(X)\n",
    "vif"
   ]
  },
  {
   "cell_type": "markdown",
   "id": "8c2a0421-9981-4c36-9438-ba13143f019f",
   "metadata": {},
   "source": [
    "As expected, BP_SUM, Points_Sum, SUM_YR_2, SUM_YR_1, SEG_KM_SUM, FLIGHT_COUNT have a high VIF factor, let's observe our model without VIF features > 5"
   ]
  },
  {
   "cell_type": "code",
   "execution_count": 16,
   "id": "b7bdc8ba-1159-497e-9dba-b16644e79167",
   "metadata": {},
   "outputs": [
    {
     "data": {
      "text/plain": [
       "MAX_INTERVAL       2.388702\n",
       "AVG_INTERVAL       2.222592\n",
       "SUM_YR_1           1.631637\n",
       "EXCHANGE_COUNT     1.508843\n",
       "FFP_TIER           1.402761\n",
       "LAST_TO_END        1.246846\n",
       "Point_NotFlight    1.235337\n",
       "avg_discount       1.134225\n",
       "AGE                1.038966\n",
       "Name: VIF, dtype: float64"
      ]
     },
     "execution_count": 16,
     "metadata": {},
     "output_type": "execute_result"
    }
   ],
   "source": [
    "get_vif_factors(X.drop(vif[vif >= 5.2].index, axis=1))"
   ]
  },
  {
   "cell_type": "code",
   "execution_count": 17,
   "id": "a6fcd0a6-e7d1-4261-a21d-4ce9484932c0",
   "metadata": {},
   "outputs": [],
   "source": [
    "numerical_features = vif[vif < 5.2].index.tolist()"
   ]
  },
  {
   "cell_type": "code",
   "execution_count": 18,
   "id": "4dd66397-cf6d-4184-95f4-309c66048296",
   "metadata": {},
   "outputs": [
    {
     "data": {
      "text/plain": [
       "SUM_YR_1           262\n",
       "MAX_INTERVAL         0\n",
       "AVG_INTERVAL         0\n",
       "FFP_TIER             0\n",
       "LAST_TO_END          0\n",
       "Point_NotFlight      0\n",
       "EXCHANGE_COUNT       0\n",
       "avg_discount         0\n",
       "AGE                342\n",
       "dtype: int64"
      ]
     },
     "execution_count": 18,
     "metadata": {},
     "output_type": "execute_result"
    }
   ],
   "source": [
    "numeric_df = train_df[numerical_features].copy()\n",
    "numeric_df.isnull().sum()"
   ]
  },
  {
   "cell_type": "code",
   "execution_count": 19,
   "id": "1a7b8c9d-c9c9-49ce-a056-1d9046a5e0f7",
   "metadata": {},
   "outputs": [
    {
     "name": "stdout",
     "output_type": "stream",
     "text": [
      "3426.5 6002.575145054624\n"
     ]
    },
    {
     "data": {
      "text/plain": [
       "<Axes: ylabel='Frequency'>"
      ]
     },
     "execution_count": 19,
     "metadata": {},
     "output_type": "execute_result"
    },
    {
     "data": {
      "image/png": "[encoded data removed]",
      "text/plain": [
       "<Figure size 640x480 with 1 Axes>"
      ]
     },
     "metadata": {},
     "output_type": "display_data"
    }
   ],
   "source": [
    "print(numeric_df[\"SUM_YR_1\"].median(), numeric_df[\"SUM_YR_1\"].mean())\n",
    "numeric_df[\"SUM_YR_1\"].plot(kind=\"hist\")"
   ]
  },
  {
   "cell_type": "code",
   "execution_count": 20,
   "id": "4ca71d90-1caf-429f-b8cc-c9e84f5be2a3",
   "metadata": {},
   "outputs": [
    {
     "name": "stdout",
     "output_type": "stream",
     "text": [
      "42.0 42.705788722602364\n"
     ]
    },
    {
     "data": {
      "text/plain": [
       "<Axes: ylabel='Frequency'>"
      ]
     },
     "execution_count": 20,
     "metadata": {},
     "output_type": "execute_result"
    },
    {
     "data": {
      "image/png": "[encoded data removed]",
      "text/plain": [
       "<Figure size 640x480 with 1 Axes>"
      ]
     },
     "metadata": {},
     "output_type": "display_data"
    }
   ],
   "source": [
    "print(numeric_df[\"AGE\"].median(), numeric_df[\"AGE\"].mean())\n",
    "numeric_df[\"AGE\"].plot(kind=\"hist\")"
   ]
  },
  {
   "cell_type": "code",
   "execution_count": 21,
   "id": "20c2e8b1-9c43-4080-a7b4-dfd2918a0b28",
   "metadata": {},
   "outputs": [],
   "source": [
    "for feature in numeric_df.columns[numeric_df.isnull().sum() > 0]:\n",
    "    numeric_df[feature] = numeric_df[feature].fillna(numeric_df[feature].median())"
   ]
  },
  {
   "cell_type": "code",
   "execution_count": 22,
   "id": "2ce68da9-15e6-4334-a816-7a55c0591864",
   "metadata": {},
   "outputs": [
    {
     "data": {
      "text/plain": [
       "SUM_YR_1           0\n",
       "MAX_INTERVAL       0\n",
       "AVG_INTERVAL       0\n",
       "FFP_TIER           0\n",
       "LAST_TO_END        0\n",
       "Point_NotFlight    0\n",
       "EXCHANGE_COUNT     0\n",
       "avg_discount       0\n",
       "AGE                0\n",
       "dtype: int64"
      ]
     },
     "execution_count": 22,
     "metadata": {},
     "output_type": "execute_result"
    }
   ],
   "source": [
    "numeric_df.isnull().sum()"
   ]
  },
  {
   "cell_type": "markdown",
   "id": "0947e556-5953-4637-9c23-af3e7f096219",
   "metadata": {},
   "source": [
    "### Categorical variables"
   ]
  },
  {
   "cell_type": "code",
   "execution_count": 30,
   "id": "fd6f3290-4e87-407f-bdbd-12fb748b22bf",
   "metadata": {},
   "outputs": [
    {
     "data": {
      "text/html": [
       "<div>\n",
       "<style scoped>\n",
       "    .dataframe tbody tr th:only-of-type {\n",
       "        vertical-align: middle;\n",
       "    }\n",
       "\n",
       "    .dataframe tbody tr th {\n",
       "        vertical-align: top;\n",
       "    }\n",
       "\n",
       "    .dataframe thead th {\n",
       "        text-align: right;\n",
       "    }\n",
       "</style>\n",
       "<table border=\"1\" class=\"dataframe\">\n",
       "  <thead>\n",
       "    <tr style=\"text-align: right;\">\n",
       "      <th></th>\n",
       "      <th>count</th>\n",
       "      <th>unique</th>\n",
       "      <th>top</th>\n",
       "      <th>freq</th>\n",
       "    </tr>\n",
       "  </thead>\n",
       "  <tbody>\n",
       "    <tr>\n",
       "      <th>GENDER</th>\n",
       "      <td>54997</td>\n",
       "      <td>2</td>\n",
       "      <td>Male</td>\n",
       "      <td>42504</td>\n",
       "    </tr>\n",
       "    <tr>\n",
       "      <th>WORK_CITY</th>\n",
       "      <td>53034</td>\n",
       "      <td>2956</td>\n",
       "      <td>guangzhou</td>\n",
       "      <td>8348</td>\n",
       "    </tr>\n",
       "    <tr>\n",
       "      <th>WORK_PROVINCE</th>\n",
       "      <td>52216</td>\n",
       "      <td>1061</td>\n",
       "      <td>guangdong</td>\n",
       "      <td>15388</td>\n",
       "    </tr>\n",
       "    <tr>\n",
       "      <th>WORK_COUNTRY</th>\n",
       "      <td>54980</td>\n",
       "      <td>110</td>\n",
       "      <td>CN</td>\n",
       "      <td>50413</td>\n",
       "    </tr>\n",
       "    <tr>\n",
       "      <th>LOAD_TIME</th>\n",
       "      <td>55000</td>\n",
       "      <td>1</td>\n",
       "      <td>3/31/2014</td>\n",
       "      <td>55000</td>\n",
       "    </tr>\n",
       "  </tbody>\n",
       "</table>\n",
       "</div>"
      ],
      "text/plain": [
       "               count unique        top   freq\n",
       "GENDER         54997      2       Male  42504\n",
       "WORK_CITY      53034   2956  guangzhou   8348\n",
       "WORK_PROVINCE  52216   1061  guangdong  15388\n",
       "WORK_COUNTRY   54980    110         CN  50413\n",
       "LOAD_TIME      55000      1  3/31/2014  55000"
      ]
     },
     "execution_count": 30,
     "metadata": {},
     "output_type": "execute_result"
    }
   ],
   "source": [
    "train_df.select_dtypes(exclude=numerics).describe().T"
   ]
  },
  {
   "cell_type": "code",
   "execution_count": 31,
   "id": "3af882bb-ec78-4d88-8cf8-29631bcb039d",
   "metadata": {},
   "outputs": [
    {
     "data": {
      "text/html": [
       "<div>\n",
       "<style scoped>\n",
       "    .dataframe tbody tr th:only-of-type {\n",
       "        vertical-align: middle;\n",
       "    }\n",
       "\n",
       "    .dataframe tbody tr th {\n",
       "        vertical-align: top;\n",
       "    }\n",
       "\n",
       "    .dataframe thead th {\n",
       "        text-align: right;\n",
       "    }\n",
       "</style>\n",
       "<table border=\"1\" class=\"dataframe\">\n",
       "  <thead>\n",
       "    <tr style=\"text-align: right;\">\n",
       "      <th></th>\n",
       "      <th>count</th>\n",
       "      <th>unique</th>\n",
       "      <th>top</th>\n",
       "      <th>freq</th>\n",
       "    </tr>\n",
       "  </thead>\n",
       "  <tbody>\n",
       "    <tr>\n",
       "      <th>GENDER</th>\n",
       "      <td>7988</td>\n",
       "      <td>2</td>\n",
       "      <td>Male</td>\n",
       "      <td>5630</td>\n",
       "    </tr>\n",
       "    <tr>\n",
       "      <th>WORK_CITY</th>\n",
       "      <td>7685</td>\n",
       "      <td>837</td>\n",
       "      <td>guangzhou</td>\n",
       "      <td>1038</td>\n",
       "    </tr>\n",
       "    <tr>\n",
       "      <th>WORK_PROVINCE</th>\n",
       "      <td>7524</td>\n",
       "      <td>280</td>\n",
       "      <td>guangdong</td>\n",
       "      <td>2121</td>\n",
       "    </tr>\n",
       "    <tr>\n",
       "      <th>WORK_COUNTRY</th>\n",
       "      <td>7982</td>\n",
       "      <td>49</td>\n",
       "      <td>CN</td>\n",
       "      <td>7335</td>\n",
       "    </tr>\n",
       "    <tr>\n",
       "      <th>LOAD_TIME</th>\n",
       "      <td>7988</td>\n",
       "      <td>1</td>\n",
       "      <td>3/31/2014</td>\n",
       "      <td>7988</td>\n",
       "    </tr>\n",
       "  </tbody>\n",
       "</table>\n",
       "</div>"
      ],
      "text/plain": [
       "              count unique        top  freq\n",
       "GENDER         7988      2       Male  5630\n",
       "WORK_CITY      7685    837  guangzhou  1038\n",
       "WORK_PROVINCE  7524    280  guangdong  2121\n",
       "WORK_COUNTRY   7982     49         CN  7335\n",
       "LOAD_TIME      7988      1  3/31/2014  7988"
      ]
     },
     "execution_count": 31,
     "metadata": {},
     "output_type": "execute_result"
    }
   ],
   "source": [
    "test_df.select_dtypes(exclude=numerics).describe().T"
   ]
  },
  {
   "cell_type": "code",
   "execution_count": 32,
   "id": "f2f6910f-6764-44d3-8ef6-093b33c3d706",
   "metadata": {},
   "outputs": [
    {
     "data": {
      "text/plain": [
       "CN    50413\n",
       "HK      866\n",
       "JP      829\n",
       "KR      621\n",
       "US      521\n",
       "AU      258\n",
       "SG      246\n",
       "TW      215\n",
       "MY      148\n",
       "PH      113\n",
       "FR       97\n",
       "ID       74\n",
       "TH       59\n",
       "NL       47\n",
       "VN       44\n",
       "DE       39\n",
       "CA       38\n",
       "BE       36\n",
       "MO       27\n",
       "VT       27\n",
       "Name: WORK_COUNTRY, dtype: int64"
      ]
     },
     "execution_count": 32,
     "metadata": {},
     "output_type": "execute_result"
    }
   ],
   "source": [
    "train_df[\"WORK_COUNTRY\"].value_counts().head(20)"
   ]
  },
  {
   "cell_type": "code",
   "execution_count": 33,
   "id": "8d95e129-1c8e-464c-a95c-da5017bf90df",
   "metadata": {},
   "outputs": [
    {
     "data": {
      "text/plain": [
       "0.21202274573517466"
      ]
     },
     "execution_count": 33,
     "metadata": {},
     "output_type": "execute_result"
    }
   ],
   "source": [
    "province_num_countries_count = (\n",
    "    train_df\n",
    "    .select_dtypes(exclude=numerics)\n",
    "    .drop([\"LOAD_TIME\"], axis=1)\n",
    "    .groupby([\"WORK_PROVINCE\"])\n",
    "    [\"WORK_COUNTRY\"]\n",
    "    .nunique()\n",
    ")\n",
    "\n",
    "province_num_countries_count[province_num_countries_count > 1].sum() / province_num_countries_count.sum()"
   ]
  },
  {
   "cell_type": "markdown",
   "id": "e5535826-f85c-4f42-a5d0-e335a053ad3e",
   "metadata": {},
   "source": [
    "As we can see, Work Country > Province > City taxonomi does not seem to be perfectly MECE, there may be some outliers... dropping may lead to information loss. But let's clean a little bit because there are multiple forms of nulls..."
   ]
  },
  {
   "cell_type": "code",
   "execution_count": 34,
   "id": "efe6dc8e-f842-4acc-a0dd-cb66236ba953",
   "metadata": {},
   "outputs": [],
   "source": [
    "categ_df = train_df.select_dtypes(exclude=numerics).drop([\"LOAD_TIME\"], axis=1)"
   ]
  },
  {
   "cell_type": "code",
   "execution_count": 35,
   "id": "21157108-36c7-4adc-a502-6c395c7e9d32",
   "metadata": {},
   "outputs": [
    {
     "data": {
      "text/plain": [
       "array(['Male', 'Female', nan], dtype=object)"
      ]
     },
     "execution_count": 35,
     "metadata": {},
     "output_type": "execute_result"
    }
   ],
   "source": [
    "categ_df[\"GENDER\"].unique()"
   ]
  },
  {
   "cell_type": "code",
   "execution_count": 36,
   "id": "9c504ef1-148b-47e4-8b22-af535cdb707f",
   "metadata": {},
   "outputs": [
    {
     "name": "stdout",
     "output_type": "stream",
     "text": [
      "['0', '`', 'na', '/', 'N', '．', '-', '5', '－', '**', '。', '*', '=', 'J', '\\u3000', '1', 'PJ', '\\\\', '\\u3000\\u3000', '.', '--']\n"
     ]
    }
   ],
   "source": [
    "suspect_cities = categ_df.loc[categ_df[\"WORK_CITY\"].fillna(\"\").map(lambda x: len(x)) <= 2, \"WORK_CITY\"].unique()\n",
    "\n",
    "\n",
    "ignore_cities = set([np.nan,\"HK\",\"wu\",\"CA\",\"LA\",\"sg\",\"mo\",\"ca\",\"BM\",\"bi\",\"CZ\",\"CN\",\"NC\",'NT',\n",
    "                     'DU', 'US', 'ＴＷ', 'kk', 'KA',\"da\",'SW', 'ph', 'hk', 'BC','cn', 'jp',\n",
    "                     'WP','UK', 'NY', 'su', 'UD','S', 'TN', 'SI','SG'])\n",
    "\n",
    "cities_to_replace_with_nan = list(set(suspect_cities) - set(ignore_cities))\n",
    "print(cities_to_replace_with_nan)"
   ]
  },
  {
   "cell_type": "code",
   "execution_count": 37,
   "id": "6280ed43-521e-4253-a958-110776b0552b",
   "metadata": {},
   "outputs": [
    {
     "name": "stdout",
     "output_type": "stream",
     "text": [
      "['。', 'S', '0', '`', '/', '*', '=', nan, 'N', '\\u3000', '..', '1', '．', '-', '\\\\', '\\u3000\\u3000', '**', '.', '－', '--', 'P', 'C', 'W']\n"
     ]
    }
   ],
   "source": [
    "categ_df.loc[categ_df[\"WORK_PROVINCE\"].fillna(\"\").map(lambda x: len(x)) == 2, \"WORK_PROVINCE\"].unique()\n",
    "\n",
    "provinces_to_replace_with_nan = list(set(categ_df.loc[categ_df[\"WORK_PROVINCE\"].fillna(\"\").map(lambda x: len(x)) <= 1, \"WORK_PROVINCE\"].unique()).union(set([\"--\",\"..\",\"**\",\"\\u3000\\u3000\"])))\n",
    "print(provinces_to_replace_with_nan)"
   ]
  },
  {
   "cell_type": "code",
   "execution_count": 38,
   "id": "ad21a0ac-ef15-4650-964a-e15918e425bc",
   "metadata": {},
   "outputs": [
    {
     "data": {
      "text/plain": [
       "array([nan, '中', '北', '沈', '芬'], dtype=object)"
      ]
     },
     "execution_count": 38,
     "metadata": {},
     "output_type": "execute_result"
    }
   ],
   "source": [
    "categ_df.loc[categ_df[\"WORK_COUNTRY\"].fillna(\"\").map(lambda x: len(x)) <= 1, \"WORK_COUNTRY\"].unique()\n",
    "# No need to treat country"
   ]
  },
  {
   "cell_type": "code",
   "execution_count": 39,
   "id": "8610b55e-508c-4c4e-973a-1dd07488d3c4",
   "metadata": {},
   "outputs": [],
   "source": [
    "categ_df.loc[categ_df[\"WORK_CITY\"].isin(cities_to_replace_with_nan), \"WORK_CITY\"] = np.nan"
   ]
  },
  {
   "cell_type": "code",
   "execution_count": 40,
   "id": "185bfab9-abd7-46c6-a5f0-5069b8a8a2df",
   "metadata": {},
   "outputs": [],
   "source": [
    "categ_df.loc[categ_df[\"WORK_PROVINCE\"].isin(provinces_to_replace_with_nan), \"WORK_PROVINCE\"] = np.nan"
   ]
  },
  {
   "cell_type": "code",
   "execution_count": 41,
   "id": "eaaef2b9-7b49-4304-987f-1f5d66fac39d",
   "metadata": {},
   "outputs": [],
   "source": [
    "categ_df = categ_df.fillna(\"NAN\")"
   ]
  },
  {
   "cell_type": "code",
   "execution_count": 42,
   "id": "017d52d3-205e-437b-8967-364f8ef37431",
   "metadata": {},
   "outputs": [
    {
     "data": {
      "text/plain": [
       "GENDER           0\n",
       "WORK_CITY        0\n",
       "WORK_PROVINCE    0\n",
       "WORK_COUNTRY     0\n",
       "dtype: int64"
      ]
     },
     "execution_count": 42,
     "metadata": {},
     "output_type": "execute_result"
    }
   ],
   "source": [
    "categ_df.isnull().sum()"
   ]
  },
  {
   "cell_type": "markdown",
   "id": "cb0e47f0-f725-4a92-89ec-0b74193c7fae",
   "metadata": {},
   "source": [
    "### Treated dataframe"
   ]
  },
  {
   "cell_type": "code",
   "execution_count": 43,
   "id": "853a4232-6f5f-44b1-b8a7-55748d21eafe",
   "metadata": {},
   "outputs": [
    {
     "data": {
      "text/html": [
       "<div>\n",
       "<style scoped>\n",
       "    .dataframe tbody tr th:only-of-type {\n",
       "        vertical-align: middle;\n",
       "    }\n",
       "\n",
       "    .dataframe tbody tr th {\n",
       "        vertical-align: top;\n",
       "    }\n",
       "\n",
       "    .dataframe thead th {\n",
       "        text-align: right;\n",
       "    }\n",
       "</style>\n",
       "<table border=\"1\" class=\"dataframe\">\n",
       "  <thead>\n",
       "    <tr style=\"text-align: right;\">\n",
       "      <th></th>\n",
       "      <th>SUM_YR_1</th>\n",
       "      <th>MAX_INTERVAL</th>\n",
       "      <th>AVG_INTERVAL</th>\n",
       "      <th>FFP_TIER</th>\n",
       "      <th>LAST_TO_END</th>\n",
       "      <th>Point_NotFlight</th>\n",
       "      <th>EXCHANGE_COUNT</th>\n",
       "      <th>avg_discount</th>\n",
       "      <th>AGE</th>\n",
       "    </tr>\n",
       "    <tr>\n",
       "      <th>MEMBER_NO</th>\n",
       "      <th></th>\n",
       "      <th></th>\n",
       "      <th></th>\n",
       "      <th></th>\n",
       "      <th></th>\n",
       "      <th></th>\n",
       "      <th></th>\n",
       "      <th></th>\n",
       "      <th></th>\n",
       "    </tr>\n",
       "  </thead>\n",
       "  <tbody>\n",
       "    <tr>\n",
       "      <th>54993</th>\n",
       "      <td>239560.0</td>\n",
       "      <td>18</td>\n",
       "      <td>3.483254</td>\n",
       "      <td>6</td>\n",
       "      <td>1</td>\n",
       "      <td>50</td>\n",
       "      <td>34</td>\n",
       "      <td>0.961639</td>\n",
       "      <td>31.0</td>\n",
       "    </tr>\n",
       "    <tr>\n",
       "      <th>28065</th>\n",
       "      <td>171483.0</td>\n",
       "      <td>17</td>\n",
       "      <td>5.194245</td>\n",
       "      <td>6</td>\n",
       "      <td>7</td>\n",
       "      <td>33</td>\n",
       "      <td>29</td>\n",
       "      <td>1.252314</td>\n",
       "      <td>42.0</td>\n",
       "    </tr>\n",
       "    <tr>\n",
       "      <th>55106</th>\n",
       "      <td>163618.0</td>\n",
       "      <td>18</td>\n",
       "      <td>5.298507</td>\n",
       "      <td>6</td>\n",
       "      <td>11</td>\n",
       "      <td>26</td>\n",
       "      <td>20</td>\n",
       "      <td>1.254676</td>\n",
       "      <td>40.0</td>\n",
       "    </tr>\n",
       "    <tr>\n",
       "      <th>21189</th>\n",
       "      <td>116350.0</td>\n",
       "      <td>73</td>\n",
       "      <td>27.863636</td>\n",
       "      <td>5</td>\n",
       "      <td>97</td>\n",
       "      <td>12</td>\n",
       "      <td>11</td>\n",
       "      <td>1.090870</td>\n",
       "      <td>64.0</td>\n",
       "    </tr>\n",
       "    <tr>\n",
       "      <th>39546</th>\n",
       "      <td>124560.0</td>\n",
       "      <td>47</td>\n",
       "      <td>4.788079</td>\n",
       "      <td>6</td>\n",
       "      <td>5</td>\n",
       "      <td>39</td>\n",
       "      <td>27</td>\n",
       "      <td>0.970658</td>\n",
       "      <td>48.0</td>\n",
       "    </tr>\n",
       "  </tbody>\n",
       "</table>\n",
       "</div>"
      ],
      "text/plain": [
       "           SUM_YR_1  MAX_INTERVAL  AVG_INTERVAL  FFP_TIER  LAST_TO_END  \\\n",
       "MEMBER_NO                                                                \n",
       "54993      239560.0            18      3.483254         6            1   \n",
       "28065      171483.0            17      5.194245         6            7   \n",
       "55106      163618.0            18      5.298507         6           11   \n",
       "21189      116350.0            73     27.863636         5           97   \n",
       "39546      124560.0            47      4.788079         6            5   \n",
       "\n",
       "           Point_NotFlight  EXCHANGE_COUNT  avg_discount   AGE  \n",
       "MEMBER_NO                                                       \n",
       "54993                   50              34      0.961639  31.0  \n",
       "28065                   33              29      1.252314  42.0  \n",
       "55106                   26              20      1.254676  40.0  \n",
       "21189                   12              11      1.090870  64.0  \n",
       "39546                   39              27      0.970658  48.0  "
      ]
     },
     "execution_count": 43,
     "metadata": {},
     "output_type": "execute_result"
    }
   ],
   "source": [
    "numeric_df.head()"
   ]
  },
  {
   "cell_type": "code",
   "execution_count": 44,
   "id": "40145278-871d-4f46-ae94-40e2b7f12640",
   "metadata": {},
   "outputs": [
    {
     "data": {
      "text/html": [
       "<div>\n",
       "<style scoped>\n",
       "    .dataframe tbody tr th:only-of-type {\n",
       "        vertical-align: middle;\n",
       "    }\n",
       "\n",
       "    .dataframe tbody tr th {\n",
       "        vertical-align: top;\n",
       "    }\n",
       "\n",
       "    .dataframe thead th {\n",
       "        text-align: right;\n",
       "    }\n",
       "</style>\n",
       "<table border=\"1\" class=\"dataframe\">\n",
       "  <thead>\n",
       "    <tr style=\"text-align: right;\">\n",
       "      <th></th>\n",
       "      <th>GENDER</th>\n",
       "      <th>WORK_CITY</th>\n",
       "      <th>WORK_PROVINCE</th>\n",
       "      <th>WORK_COUNTRY</th>\n",
       "    </tr>\n",
       "    <tr>\n",
       "      <th>MEMBER_NO</th>\n",
       "      <th></th>\n",
       "      <th></th>\n",
       "      <th></th>\n",
       "      <th></th>\n",
       "    </tr>\n",
       "  </thead>\n",
       "  <tbody>\n",
       "    <tr>\n",
       "      <th>54993</th>\n",
       "      <td>Male</td>\n",
       "      <td>NAN</td>\n",
       "      <td>beijing</td>\n",
       "      <td>CN</td>\n",
       "    </tr>\n",
       "    <tr>\n",
       "      <th>28065</th>\n",
       "      <td>Male</td>\n",
       "      <td>NAN</td>\n",
       "      <td>beijing</td>\n",
       "      <td>CN</td>\n",
       "    </tr>\n",
       "    <tr>\n",
       "      <th>55106</th>\n",
       "      <td>Male</td>\n",
       "      <td>NAN</td>\n",
       "      <td>beijing</td>\n",
       "      <td>CN</td>\n",
       "    </tr>\n",
       "    <tr>\n",
       "      <th>21189</th>\n",
       "      <td>Male</td>\n",
       "      <td>Los Angeles</td>\n",
       "      <td>CA</td>\n",
       "      <td>US</td>\n",
       "    </tr>\n",
       "    <tr>\n",
       "      <th>39546</th>\n",
       "      <td>Male</td>\n",
       "      <td>guiyang</td>\n",
       "      <td>guizhou</td>\n",
       "      <td>CN</td>\n",
       "    </tr>\n",
       "  </tbody>\n",
       "</table>\n",
       "</div>"
      ],
      "text/plain": [
       "          GENDER    WORK_CITY WORK_PROVINCE WORK_COUNTRY\n",
       "MEMBER_NO                                               \n",
       "54993       Male          NAN       beijing           CN\n",
       "28065       Male          NAN       beijing           CN\n",
       "55106       Male          NAN       beijing           CN\n",
       "21189       Male  Los Angeles            CA           US\n",
       "39546       Male      guiyang       guizhou           CN"
      ]
     },
     "execution_count": 44,
     "metadata": {},
     "output_type": "execute_result"
    }
   ],
   "source": [
    "categ_df.head()"
   ]
  },
  {
   "cell_type": "code",
   "execution_count": 45,
   "id": "b44efa29-7a61-4e47-acec-a38195ebe602",
   "metadata": {},
   "outputs": [
    {
     "data": {
      "text/html": [
       "<div>\n",
       "<style scoped>\n",
       "    .dataframe tbody tr th:only-of-type {\n",
       "        vertical-align: middle;\n",
       "    }\n",
       "\n",
       "    .dataframe tbody tr th {\n",
       "        vertical-align: top;\n",
       "    }\n",
       "\n",
       "    .dataframe thead th {\n",
       "        text-align: right;\n",
       "    }\n",
       "</style>\n",
       "<table border=\"1\" class=\"dataframe\">\n",
       "  <thead>\n",
       "    <tr style=\"text-align: right;\">\n",
       "      <th></th>\n",
       "      <th>FFP_DATE</th>\n",
       "      <th>FIRST_FLIGHT_DATE</th>\n",
       "      <th>LAST_FLIGHT_DATE</th>\n",
       "    </tr>\n",
       "    <tr>\n",
       "      <th>MEMBER_NO</th>\n",
       "      <th></th>\n",
       "      <th></th>\n",
       "      <th></th>\n",
       "    </tr>\n",
       "  </thead>\n",
       "  <tbody>\n",
       "    <tr>\n",
       "      <th>54993</th>\n",
       "      <td>2006-11-02</td>\n",
       "      <td>2008-12-24</td>\n",
       "      <td>2014-03-31</td>\n",
       "    </tr>\n",
       "    <tr>\n",
       "      <th>28065</th>\n",
       "      <td>2007-02-19</td>\n",
       "      <td>2007-08-03</td>\n",
       "      <td>2014-03-25</td>\n",
       "    </tr>\n",
       "    <tr>\n",
       "      <th>55106</th>\n",
       "      <td>2007-02-01</td>\n",
       "      <td>2007-08-30</td>\n",
       "      <td>2014-03-21</td>\n",
       "    </tr>\n",
       "    <tr>\n",
       "      <th>21189</th>\n",
       "      <td>2008-08-22</td>\n",
       "      <td>2008-08-23</td>\n",
       "      <td>2013-12-26</td>\n",
       "    </tr>\n",
       "    <tr>\n",
       "      <th>39546</th>\n",
       "      <td>2009-04-10</td>\n",
       "      <td>2009-04-15</td>\n",
       "      <td>2014-03-27</td>\n",
       "    </tr>\n",
       "  </tbody>\n",
       "</table>\n",
       "</div>"
      ],
      "text/plain": [
       "            FFP_DATE FIRST_FLIGHT_DATE LAST_FLIGHT_DATE\n",
       "MEMBER_NO                                              \n",
       "54993     2006-11-02        2008-12-24       2014-03-31\n",
       "28065     2007-02-19        2007-08-03       2014-03-25\n",
       "55106     2007-02-01        2007-08-30       2014-03-21\n",
       "21189     2008-08-22        2008-08-23       2013-12-26\n",
       "39546     2009-04-10        2009-04-15       2014-03-27"
      ]
     },
     "execution_count": 45,
     "metadata": {},
     "output_type": "execute_result"
    }
   ],
   "source": [
    "datetime_df.head()"
   ]
  },
  {
   "cell_type": "code",
   "execution_count": 46,
   "id": "cb64d65a-3496-4c53-81d0-192422b19888",
   "metadata": {},
   "outputs": [],
   "source": [
    "datetime_cols = datetime_df.columns\n",
    "categ_cols = categ_df.columns\n",
    "numeric_cols = numeric_df.columns"
   ]
  },
  {
   "cell_type": "code",
   "execution_count": 47,
   "id": "778fc796-2c39-42bf-8741-6de0c9cf3f30",
   "metadata": {},
   "outputs": [
    {
     "name": "stdout",
     "output_type": "stream",
     "text": [
      "(55000, 3)\n",
      "(55000, 9)\n",
      "(55000, 4)\n"
     ]
    },
    {
     "data": {
      "text/plain": [
       "[None, None, None]"
      ]
     },
     "execution_count": 47,
     "metadata": {},
     "output_type": "execute_result"
    }
   ],
   "source": [
    "[print(x.shape) for x in [datetime_df, numeric_df, categ_df]]"
   ]
  },
  {
   "cell_type": "code",
   "execution_count": 49,
   "id": "fe87228f-c4fd-4cd5-9dce-585a37323b1e",
   "metadata": {},
   "outputs": [],
   "source": [
    "def get_days_time_step(datetime_series):\n",
    "    return ((datetime_series - datetime_series.min()) / np.timedelta64(\"1\",\"D\")).astype('int64')"
   ]
  },
  {
   "cell_type": "code",
   "execution_count": 50,
   "id": "24a73f85-a672-474e-a304-0f967ba5b890",
   "metadata": {},
   "outputs": [
    {
     "data": {
      "text/plain": [
       "FFP_DATE             4.036666\n",
       "FIRST_FLIGHT_DATE    4.024929\n",
       "LAST_FLIGHT_DATE     1.012235\n",
       "Name: VIF, dtype: float64"
      ]
     },
     "execution_count": 50,
     "metadata": {},
     "output_type": "execute_result"
    }
   ],
   "source": [
    "get_vif_factors(datetime_df.apply(get_days_time_step, axis=\"rows\"))"
   ]
  },
  {
   "cell_type": "code",
   "execution_count": 51,
   "id": "0f53ce97-6269-4934-9d6b-772a4c28b505",
   "metadata": {},
   "outputs": [
    {
     "data": {
      "text/plain": [
       "LAST_FLIGHT_DATE     1.00929\n",
       "FIRST_FLIGHT_DATE    1.00929\n",
       "Name: VIF, dtype: float64"
      ]
     },
     "execution_count": 51,
     "metadata": {},
     "output_type": "execute_result"
    }
   ],
   "source": [
    "get_vif_factors(datetime_df.apply(get_days_time_step, axis=\"rows\").drop(\"FFP_DATE\", axis=1))"
   ]
  },
  {
   "cell_type": "code",
   "execution_count": 54,
   "id": "c05ee8c9-2e66-4144-b5af-536c375e0d7c",
   "metadata": {},
   "outputs": [
    {
     "data": {
      "text/plain": [
       "(55000, 16)"
      ]
     },
     "execution_count": 54,
     "metadata": {},
     "output_type": "execute_result"
    }
   ],
   "source": [
    "X = (datetime_df.apply(get_days_time_step, axis=\"rows\")\n",
    "    .join(numeric_df,how='inner')\n",
    "    .join(categ_df, how='inner'))\n",
    "X.shape"
   ]
  },
  {
   "cell_type": "markdown",
   "id": "6802a177-eae3-4b31-8979-8dc77668ded6",
   "metadata": {},
   "source": [
    "## 3. Selecting model to be used \n",
    "- Relatively big dataset (55k instances, 16 features)\n",
    "- No clear taxonomy in data\n",
    "- I have no idea how many clusters we should use\n",
    "\n",
    "Let's try te simples algorithm first: K-Means with elbow method"
   ]
  },
  {
   "cell_type": "code",
   "execution_count": 55,
   "id": "37d65741-f589-4ea5-bc37-606b4d50ab8b",
   "metadata": {},
   "outputs": [],
   "source": [
    "from sklearn.pipeline import Pipeline\n",
    "from sklearn.compose import ColumnTransformer\n",
    "from sklearn.cluster import KMeans\n",
    "from sklearn.preprocessing import MinMaxScaler, OrdinalEncoder"
   ]
  },
  {
   "cell_type": "code",
   "execution_count": 57,
   "id": "9d121883-a9df-4c3e-a971-e671c69e6bb4",
   "metadata": {},
   "outputs": [],
   "source": [
    "categorical_pipeline = Pipeline(steps=[(\"encode\",OrdinalEncoder(handle_unknown=\"error\")),\n",
    "                                       (\"scale\",MinMaxScaler())])\n",
    "\n",
    "preprocessing = ColumnTransformer(\n",
    "    transformers=[(\"datetime\", MinMaxScaler(), datetime_cols),\n",
    "                  (\"numeric\", MinMaxScaler(), numeric_cols),\n",
    "                  (\"categ\", categorical_pipeline, categ_cols)],\n",
    "    remainder='passthrough', n_jobs=3,)\n",
    "\n",
    "def get_kmeans_pipeline(n_clusters):\n",
    "    return  Pipeline(steps=[(\"preprocessing\",preprocessing),\n",
    "                            (\"clustering\",KMeans(n_clusters, n_init='auto',random_state=0))])"
   ]
  },
  {
   "cell_type": "code",
   "execution_count": 60,
   "id": "d5e3640a-cbc0-4cdb-a6f1-2c2e43ab0280",
   "metadata": {},
   "outputs": [
    {
     "name": "stdout",
     "output_type": "stream",
     "text": [
      "<class 'pandas.core.frame.DataFrame'>\n",
      "Int64Index: 55000 entries, 54993 to 21795\n",
      "Data columns (total 16 columns):\n",
      " #   Column             Non-Null Count  Dtype  \n",
      "---  ------             --------------  -----  \n",
      " 0   FFP_DATE           55000 non-null  float64\n",
      " 1   FIRST_FLIGHT_DATE  55000 non-null  float64\n",
      " 2   LAST_FLIGHT_DATE   55000 non-null  float64\n",
      " 3   SUM_YR_1           55000 non-null  float64\n",
      " 4   MAX_INTERVAL       55000 non-null  float64\n",
      " 5   AVG_INTERVAL       55000 non-null  float64\n",
      " 6   FFP_TIER           55000 non-null  float64\n",
      " 7   LAST_TO_END        55000 non-null  float64\n",
      " 8   Point_NotFlight    55000 non-null  float64\n",
      " 9   EXCHANGE_COUNT     55000 non-null  float64\n",
      " 10  avg_discount       55000 non-null  float64\n",
      " 11  AGE                55000 non-null  float64\n",
      " 12  GENDER             55000 non-null  float64\n",
      " 13  WORK_CITY          55000 non-null  float64\n",
      " 14  WORK_PROVINCE      55000 non-null  float64\n",
      " 15  WORK_COUNTRY       55000 non-null  float64\n",
      "dtypes: float64(16)\n",
      "memory usage: 9.1 MB\n"
     ]
    }
   ],
   "source": [
    "transformed_X = pd.DataFrame(preprocessing.fit_transform(X), index= X.index, columns=X.columns)\n",
    "transformed_X.info()"
   ]
  },
  {
   "cell_type": "code",
   "execution_count": 61,
   "id": "564c7ac2-3945-48c9-9244-15d91d74968f",
   "metadata": {},
   "outputs": [
    {
     "data": {
      "text/plain": [
       "LAST_TO_END          212548.768089\n",
       "LAST_FLIGHT_DATE     212532.649521\n",
       "FIRST_FLIGHT_DATE         4.147956\n",
       "FFP_DATE                  4.124931\n",
       "MAX_INTERVAL              2.438832\n",
       "AVG_INTERVAL              2.240128\n",
       "WORK_PROVINCE             2.020489\n",
       "WORK_CITY                 1.719118\n",
       "SUM_YR_1                  1.661095\n",
       "EXCHANGE_COUNT            1.551024\n",
       "WORK_COUNTRY              1.486027\n",
       "FFP_TIER                  1.435904\n",
       "Point_NotFlight           1.238958\n",
       "AGE                       1.167150\n",
       "avg_discount              1.142150\n",
       "GENDER                    1.036494\n",
       "Name: VIF, dtype: float64"
      ]
     },
     "execution_count": 61,
     "metadata": {},
     "output_type": "execute_result"
    }
   ],
   "source": [
    "get_vif_factors(transformed_X)"
   ]
  },
  {
   "cell_type": "code",
   "execution_count": 64,
   "id": "3a6e6667-f456-4455-b7e0-70d334a23df5",
   "metadata": {},
   "outputs": [
    {
     "data": {
      "text/plain": [
       "FIRST_FLIGHT_DATE    4.146698\n",
       "FFP_DATE             4.124560\n",
       "MAX_INTERVAL         2.429108\n",
       "AVG_INTERVAL         2.234797\n",
       "WORK_PROVINCE        2.020457\n",
       "WORK_CITY            1.718890\n",
       "SUM_YR_1             1.658561\n",
       "EXCHANGE_COUNT       1.550486\n",
       "WORK_COUNTRY         1.486026\n",
       "FFP_TIER             1.405654\n",
       "LAST_TO_END          1.275990\n",
       "Point_NotFlight      1.238957\n",
       "AGE                  1.167143\n",
       "avg_discount         1.141559\n",
       "GENDER               1.036030\n",
       "Name: VIF, dtype: float64"
      ]
     },
     "execution_count": 64,
     "metadata": {},
     "output_type": "execute_result"
    }
   ],
   "source": [
    "get_vif_factors(transformed_X.drop([\"LAST_FLIGHT_DATE\"], axis=1))"
   ]
  },
  {
   "cell_type": "code",
   "execution_count": 65,
   "id": "8f04c906-2878-4e40-8047-1fadf13275bd",
   "metadata": {},
   "outputs": [
    {
     "data": {
      "text/plain": [
       "MAX_INTERVAL         2.421403\n",
       "AVG_INTERVAL         2.233325\n",
       "WORK_PROVINCE        2.020455\n",
       "WORK_CITY            1.718748\n",
       "SUM_YR_1             1.653725\n",
       "EXCHANGE_COUNT       1.549218\n",
       "WORK_COUNTRY         1.484199\n",
       "FFP_TIER             1.405545\n",
       "LAST_TO_END          1.270351\n",
       "Point_NotFlight      1.238680\n",
       "FIRST_FLIGHT_DATE    1.164302\n",
       "AGE                  1.150690\n",
       "avg_discount         1.141465\n",
       "GENDER               1.035980\n",
       "Name: VIF, dtype: float64"
      ]
     },
     "execution_count": 65,
     "metadata": {},
     "output_type": "execute_result"
    }
   ],
   "source": [
    "get_vif_factors(transformed_X.drop([\"LAST_FLIGHT_DATE\",\"FFP_DATE\"], axis=1))"
   ]
  },
  {
   "cell_type": "code",
   "execution_count": 66,
   "id": "85172596-9615-47c5-b3ac-2840086f05ed",
   "metadata": {},
   "outputs": [],
   "source": [
    "datetime_cols = list(set(datetime_df.columns) - set([\"LAST_FLIGHT_DATE\",\"FFP_DATE\"]))\n",
    "categ_cols = list(categ_df.columns)\n",
    "numeric_cols = list(numeric_df.columns)"
   ]
  },
  {
   "cell_type": "code",
   "execution_count": 67,
   "id": "92dfd66b-1dd2-4094-a17e-f773ce9dde08",
   "metadata": {},
   "outputs": [],
   "source": [
    "X = X.drop([\"LAST_FLIGHT_DATE\",\"FFP_DATE\"], axis=1)"
   ]
  },
  {
   "cell_type": "code",
   "execution_count": 68,
   "id": "bce7814b-3ae8-4182-bdc5-36a20d4995f0",
   "metadata": {},
   "outputs": [
    {
     "data": {
      "text/plain": [
       "(55000, 14)"
      ]
     },
     "execution_count": 68,
     "metadata": {},
     "output_type": "execute_result"
    }
   ],
   "source": [
    "X.shape"
   ]
  },
  {
   "cell_type": "code",
   "execution_count": 71,
   "id": "ded308d7-e1f5-410b-95d7-9d5f4cdb1108",
   "metadata": {},
   "outputs": [],
   "source": [
    "categorical_pipeline = Pipeline(steps=[(\"encode\",OrdinalEncoder(handle_unknown=\"error\")),\n",
    "                                       (\"scale\",MinMaxScaler())])\n",
    "\n",
    "preprocessing = ColumnTransformer(\n",
    "    transformers=[(\"datetime\", MinMaxScaler(), datetime_cols),\n",
    "                  (\"numeric\", MinMaxScaler(), numeric_cols),\n",
    "                  (\"categ\", categorical_pipeline, categ_cols)],\n",
    "    remainder='passthrough', n_jobs=3,)\n",
    "\n",
    "def get_kmeans_pipeline(n_clusters):\n",
    "    return  Pipeline(steps=[(\"preprocessing\",preprocessing),\n",
    "                            (\"clustering\",KMeans(n_clusters, n_init='auto',random_state=0))])"
   ]
  },
  {
   "cell_type": "markdown",
   "id": "fe3bcbc9-018d-480d-9745-2bffe286fcb7",
   "metadata": {},
   "source": [
    "## 4. Evaluating models"
   ]
  },
  {
   "cell_type": "markdown",
   "id": "f33db293-22fc-4ba3-87a6-a6c659486e83",
   "metadata": {},
   "source": [
    "### K-means\n",
    "- Elbow method on Within Cluster Sum os Squares (Inertia) indicates N=6 is the best clustering\n",
    "- Silhouette Score is around 0.26 for N=2 and 0.23 for N=3, which is not a good indicator for the clustering quality (should be closer to 1 for better clustering)\n",
    "- Davies Bouldin score is minimum for N=6, around 1.35. Still was expecting something closer to 0"
   ]
  },
  {
   "cell_type": "code",
   "execution_count": 72,
   "id": "99468a32-3431-442c-b980-6dcb3654cde9",
   "metadata": {},
   "outputs": [],
   "source": [
    "from sklearn.metrics import calinski_harabasz_score, davies_bouldin_score, silhouette_score"
   ]
  },
  {
   "cell_type": "code",
   "execution_count": 73,
   "id": "a226fac5-acf0-46c4-a6ac-a62ece8f468e",
   "metadata": {},
   "outputs": [
    {
     "name": "stdout",
     "output_type": "stream",
     "text": [
      "N clusters: 2 ... done\n",
      "N clusters: 3 ... done\n",
      "N clusters: 4 ... done\n",
      "N clusters: 5 ... done\n",
      "N clusters: 6 ... done\n",
      "N clusters: 7 ... done\n",
      "N clusters: 8 ... done\n",
      "N clusters: 9 ... done\n",
      "N clusters: 10 ... done\n",
      "N clusters: 11 ... done\n",
      "N clusters: 12 ... done\n",
      "N clusters: 13 ... done\n",
      "N clusters: 14 ... done\n",
      "N clusters: 15 ... done\n"
     ]
    }
   ],
   "source": [
    "kmeans_model_pipes = [get_kmeans_pipeline(i) for i in range(2, 16)]\n",
    "\n",
    "within_cluster_sum_of_squares = []\n",
    "ch_scores = []\n",
    "db_scores = []\n",
    "si_scores = []\n",
    "\n",
    "for pipe in kmeans_model_pipes:\n",
    "    idx = pipe.named_steps[\"clustering\"].n_clusters\n",
    "    pipe.fit(X)\n",
    "    labels = pipe.predict(X)\n",
    "    transformed_X = pipe.named_steps[\"preprocessing\"].transform(X)\n",
    "    \n",
    "    wcss = pipe.named_steps[\"clustering\"].inertia_\n",
    "    ch_score = calinski_harabasz_score(transformed_X, labels= labels)\n",
    "    si_score = silhouette_score(transformed_X, labels= labels, random_state=0)\n",
    "    db_score = davies_bouldin_score(transformed_X, labels= labels)\n",
    "    \n",
    "    within_cluster_sum_of_squares.append((f\"n_clusters: {idx}\", wcss))\n",
    "    ch_scores.append((f\"n_clusters: {idx}\", ch_score))\n",
    "    si_scores.append((f\"n_clusters: {idx}\", si_score))\n",
    "    db_scores.append((f\"n_clusters: {idx}\", db_score))\n",
    "    \n",
    "    print(f\"N clusters: {idx} ... done\")"
   ]
  },
  {
   "cell_type": "code",
   "execution_count": 74,
   "id": "399234fe-4717-4f2e-93ed-5b6173f9c29c",
   "metadata": {},
   "outputs": [
    {
     "data": {
      "text/plain": [
       "Text(0.5, 1.0, 'K-Means Elbow Plot - Inertia (WCSS)')"
      ]
     },
     "execution_count": 74,
     "metadata": {},
     "output_type": "execute_result"
    },
    {
     "data": {
      "image/png": "[encoded data removed]",
      "text/plain": [
       "<Figure size 1600x400 with 1 Axes>"
      ]
     },
     "metadata": {},
     "output_type": "display_data"
    }
   ],
   "source": [
    "series = pd.Series(dict(within_cluster_sum_of_squares))\n",
    "fig, ax = plt.subplots(figsize=(16,4))\n",
    "plt.plot(series.index.str[-2:], series.values)\n",
    "ax.set_xlabel(\"Number of clusters\")\n",
    "ax.set_ylabel(\"Within Cluster Sum of Squares\")\n",
    "ax.set_title(\"K-Means Elbow Plot - Inertia (WCSS)\")"
   ]
  },
  {
   "cell_type": "code",
   "execution_count": 75,
   "id": "8c7e8a34-ce4d-401d-90fa-45a6940beefe",
   "metadata": {},
   "outputs": [
    {
     "data": {
      "text/plain": [
       "Text(0.5, 1.0, 'K-Means Elbow Plot - Calinski Harabasz Scores')"
      ]
     },
     "execution_count": 75,
     "metadata": {},
     "output_type": "execute_result"
    },
    {
     "data": {
      "image/png": "[encoded data removed]",
      "text/plain": [
       "<Figure size 1600x400 with 1 Axes>"
      ]
     },
     "metadata": {},
     "output_type": "display_data"
    }
   ],
   "source": [
    "series = pd.Series(dict(ch_scores))\n",
    "fig, ax = plt.subplots(figsize=(16,4))\n",
    "plt.plot(series.index.str[-2:], series.values)\n",
    "ax.set_xlabel(\"Number of clusters\")\n",
    "ax.set_ylabel(\"Calinski Harabasz Score\")\n",
    "ax.set_title(\"K-Means Elbow Plot - Calinski Harabasz Scores\")"
   ]
  },
  {
   "cell_type": "code",
   "execution_count": 76,
   "id": "48e381a6-9401-49c7-975c-8d064f5c18c9",
   "metadata": {},
   "outputs": [
    {
     "data": {
      "text/plain": [
       "Text(0.5, 1.0, 'K-Means Elbow Plot - Silhouette Scores')"
      ]
     },
     "execution_count": 76,
     "metadata": {},
     "output_type": "execute_result"
    },
    {
     "data": {
      "image/png": "[encoded data removed]",
      "text/plain": [
       "<Figure size 1600x400 with 1 Axes>"
      ]
     },
     "metadata": {},
     "output_type": "display_data"
    }
   ],
   "source": [
    "series = pd.Series(dict(si_scores))\n",
    "fig, ax = plt.subplots(figsize=(16,4))\n",
    "plt.plot(series.index.str[-2:], series.values)\n",
    "ax.set_xlabel(\"Number of clusters\")\n",
    "ax.set_ylabel(\"Silhouette Score\")\n",
    "ax.set_title(\"K-Means Elbow Plot - Silhouette Scores\")"
   ]
  },
  {
   "cell_type": "code",
   "execution_count": 77,
   "id": "a9dfcd38-8f16-4bc7-9261-9dcd37f0d0d0",
   "metadata": {},
   "outputs": [
    {
     "data": {
      "text/plain": [
       "Text(0.5, 1.0, 'K-Means Elbow Plot - Davies Bouldin Score')"
      ]
     },
     "execution_count": 77,
     "metadata": {},
     "output_type": "execute_result"
    },
    {
     "data": {
      "image/png": "[encoded data removed]",
      "text/plain": [
       "<Figure size 1600x400 with 1 Axes>"
      ]
     },
     "metadata": {},
     "output_type": "display_data"
    }
   ],
   "source": [
    "series = pd.Series(dict(db_scores))\n",
    "fig, ax = plt.subplots(figsize=(16,4))\n",
    "plt.plot(series.index.str[-2:], series.values)\n",
    "ax.set_xlabel(\"Number of clusters\")\n",
    "ax.set_ylabel(\"Davies Bouldin Score\")\n",
    "ax.set_title(\"K-Means Elbow Plot - Davies Bouldin Score\")"
   ]
  },
  {
   "cell_type": "code",
   "execution_count": 83,
   "id": "15ddfcab-95fc-4838-ae32-04311e875985",
   "metadata": {},
   "outputs": [],
   "source": [
    "def run_kmeans_clustering(n_clusters=3):\n",
    "    start_time = time.time()\n",
    "\n",
    "    model = get_kmeans_pipeline(n_clusters)\n",
    "    model.fit(X)\n",
    "    labels = model.named_steps[\"clustering\"].labels_\n",
    "    transformed_X = model.named_steps[\"preprocessing\"].transform(X)\n",
    "\n",
    "    ch_score = calinski_harabasz_score(transformed_X, labels= labels)\n",
    "    si_score = silhouette_score(transformed_X, labels= labels, random_state=0)\n",
    "    db_score = davies_bouldin_score(transformed_X, labels= labels)\n",
    "\n",
    "    scores = {\"Calinski Harabasz\": ch_score, \n",
    "                     \"Silhouette\": si_score, \n",
    "                     \"Davies Bouldin\": db_score}\n",
    "    end_time = time.time()\n",
    "\n",
    "    print(f\"Kmeans: n_clusters={n_clusters}\")\n",
    "    print(f\"Execution: {(end_time - start_time): .4f} seconds\")\n",
    "    print(f\"Scores: {scores}\")\n",
    "    print(\"\\n\")\n",
    "\n",
    "    return model, scores"
   ]
  },
  {
   "cell_type": "code",
   "execution_count": 84,
   "id": "ef8cee12-836f-47cb-8a48-473a6a5d3f9f",
   "metadata": {},
   "outputs": [
    {
     "name": "stdout",
     "output_type": "stream",
     "text": [
      "Kmeans: n_clusters=5\n",
      "Execution:  30.8663 seconds\n",
      "Scores: {'Calinski Harabasz': 14330.600771008898, 'Silhouette': 0.30569287949818946, 'Davies Bouldin': 1.172836584054496}\n",
      "\n",
      "\n"
     ]
    }
   ],
   "source": [
    "best_kmeans, k_means_score = run_kmeans_clustering(5)"
   ]
  },
  {
   "cell_type": "markdown",
   "id": "1fe896b3-3741-44b9-9081-35a49da9f5b1",
   "metadata": {},
   "source": [
    "### DBSCAN\n",
    "- Kind of difficult to compare to K-means since all metrics are euclidean-based and do not perform well on dbscan vs other metrics"
   ]
  },
  {
   "cell_type": "code",
   "execution_count": 85,
   "id": "007ea18c-dcbd-47a8-b1dc-7ac964817656",
   "metadata": {},
   "outputs": [],
   "source": [
    "from sklearn.cluster import DBSCAN, OPTICS\n",
    "import time"
   ]
  },
  {
   "cell_type": "code",
   "execution_count": 92,
   "id": "14b018d8-9662-4ff1-80f2-9304b96d1345",
   "metadata": {},
   "outputs": [],
   "source": [
    "def get_dbscan_pipeline(eps = 0.5, min_samples=5):\n",
    "    model = DBSCAN(eps=eps, min_samples=min_samples, metric='euclidean', n_jobs=3)\n",
    "    return  Pipeline(steps=[(\"preprocessing\",preprocessing),\n",
    "                            (\"clustering\", model)])\n",
    "\n",
    "def get_optics_pipeline(min_samples=5):\n",
    "    model = OPTICS(min_samples=min_samples, n_jobs=3)\n",
    "    return  Pipeline(steps=[(\"preprocessing\",preprocessing),\n",
    "                            (\"clustering\", model)])"
   ]
  },
  {
   "cell_type": "code",
   "execution_count": 93,
   "id": "0719a805-a56d-4fe0-97d3-2ca8d0c47c57",
   "metadata": {},
   "outputs": [],
   "source": [
    "def run_dbscan_clustering(eps=0.5, min_samples=5):\n",
    "    start_time = time.time()\n",
    "\n",
    "    model = get_dbscan_pipeline(eps=eps, min_samples=min_samples)\n",
    "    model.fit(X)\n",
    "    labels = model.named_steps[\"clustering\"].labels_\n",
    "    transformed_X = model.named_steps[\"preprocessing\"].transform(X)\n",
    "\n",
    "    ch_score = calinski_harabasz_score(transformed_X, labels= labels)\n",
    "    si_score = silhouette_score(transformed_X, labels= labels, random_state=0)\n",
    "    db_score = davies_bouldin_score(transformed_X, labels= labels)\n",
    "\n",
    "    scores = {\"Calinski Harabasz\": ch_score, \n",
    "                     \"Silhouette\": si_score, \n",
    "                     \"Davies Bouldin\": db_score}\n",
    "    end_time = time.time()\n",
    "    \n",
    "    # Number of clusters in labels, ignoring noise if present.\n",
    "    n_clusters = len(set(labels)) - (1 if -1 in labels else 0)\n",
    "    \n",
    "    print(f\"DBSCAN: eps={eps}, min_samples={min_samples}, n_clusters={n_clusters}\")\n",
    "    print(f\"Execution: {(end_time - start_time): .4f} seconds\")\n",
    "    print(f\"Scores: {scores}\")\n",
    "    print(\"\\n\")\n",
    "\n",
    "    return model, scores"
   ]
  },
  {
   "cell_type": "code",
   "execution_count": 94,
   "id": "99e7cdda-5f9e-4206-8e01-21a95b846ec7",
   "metadata": {},
   "outputs": [
    {
     "name": "stdout",
     "output_type": "stream",
     "text": [
      "DBSCAN: eps=0.5, min_samples=5, n_clusters=5\n",
      "Execution:  113.6212 seconds\n",
      "Scores: {'Calinski Harabasz': 2265.0391572091808, 'Silhouette': 0.1667747238141956, 'Davies Bouldin': 1.9636608916402327}\n",
      "\n",
      "\n"
     ]
    }
   ],
   "source": [
    "model, dbscan_scores = run_dbscan_clustering(eps=0.5, min_samples=5)\n",
    "dbscan_labels = model.named_steps[\"clustering\"].labels_\n",
    "# Number of clusters in labels, ignoring noise if present.\n",
    "dbscan_n_clusters = len(set(labels)) - (1 if -1 in labels else 0)"
   ]
  },
  {
   "cell_type": "markdown",
   "id": "851cf420-95cf-4f7f-b028-249dbb0017bd",
   "metadata": {
    "jp-MarkdownHeadingCollapsed": true,
    "tags": []
   },
   "source": [
    "### OPTICS\n",
    "- It takes forever to run..."
   ]
  },
  {
   "cell_type": "code",
   "execution_count": 308,
   "id": "e855ca96-c993-430f-8505-dac98eb59d2e",
   "metadata": {},
   "outputs": [],
   "source": [
    "# start_time = time.time()\n",
    "\n",
    "# model_op = get_optics_pipeline(min_samples=5)\n",
    "# model_op.fit(X)\n",
    "# labels = model_op.named_steps[\"clustering\"].labels_\n",
    "# transformed_X = model_op.named_steps[\"preprocessing\"].transform(X)\n",
    "\n",
    "# ch_score = calinski_harabasz_score(transformed_X, labels= labels)\n",
    "# si_score = silhouette_score(transformed_X, labels= labels, random_state=0)\n",
    "# db_score = davies_bouldin_score(transformed_X, labels= labels)\n",
    "\n",
    "# optics_scores = {\"Calinski Harabasz\": ch_score, \n",
    "#                  \"Silhouette\": si_score, \n",
    "#                  \"Davies Bouldin\": db_score}\n",
    "# end_time = time.time()\n",
    "\n",
    "# print(f\"OPTICS scores: {dbscan_scores}\")\n",
    "# print(f\"Execution time: {(end_time - start_time): .4f} seconds\")"
   ]
  },
  {
   "cell_type": "markdown",
   "id": "247119aa-dc83-4d19-aadf-4768a629d49e",
   "metadata": {},
   "source": [
    "## Conclusion"
   ]
  },
  {
   "cell_type": "code",
   "execution_count": null,
   "id": "2edae41c-9507-4c05-8aab-aec760898da4",
   "metadata": {},
   "outputs": [],
   "source": []
  }
 ],
 "metadata": {
  "kernelspec": {
   "display_name": "Python 3 (ipykernel)",
   "language": "python",
   "name": "python3"
  },
  "language_info": {
   "codemirror_mode": {
    "name": "ipython",
    "version": 3
   },
   "file_extension": ".py",
   "mimetype": "text/x-python",
   "name": "python",
   "nbconvert_exporter": "python",
   "pygments_lexer": "ipython3",
   "version": "3.10.9"
  }
 },
 "nbformat": 4,
 "nbformat_minor": 5
}
