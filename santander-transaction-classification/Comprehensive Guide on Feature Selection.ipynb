{
 "cells": [
  {
   "cell_type": "markdown",
   "id": "4e2cac7d-552f-4459-b77c-e1286ba5547f",
   "metadata": {
    "jp-MarkdownHeadingCollapsed": true,
    "tags": []
   },
   "source": [
    "# Comprehensive Guide on Feature Selection\n",
    "[Kaggle: Comprehensive Guide on Feature Selection](https://www.kaggle.com/code/prashant111/comprehensive-guide-on-feature-selection)\n",
    "\n",
    "# 1. Introduction\n",
    "3 key Feature selection methods\n",
    "1. Filter methods\n",
    "2. Wrapper methods\n",
    "3. Embedded methods\n",
    "\n",
    "## Filter Methods\n",
    "1. Basic methods\n",
    "2. Univariate methods\n",
    "3. Information gain\n",
    "4. Fischer score / ANOVA\n",
    "5. Correlation Matrix with Heatmap\n",
    "\n",
    "## Wrapper Methods\n",
    "1. Forward Seleciton\n",
    "2. Backward Elimination\n",
    "3. Exhaustive Feature Selection\n",
    "4. Recursive Feature Elimination\n",
    "5. Recursive Feature Elimination with Cross-Validation\n",
    "\n",
    "## Embedded Methods\n",
    "1. Lasso\n",
    "2. Ridge\n",
    "3. Tree Importance"
   ]
  },
  {
   "cell_type": "markdown",
   "id": "3576107c-2587-412f-80a8-92a0ad7b62f9",
   "metadata": {
    "tags": []
   },
   "source": [
    "# 2. Filter Methods\n",
    "- Preprocessing step\n",
    "- Selection of feature is ML model agnostic\n",
    "- Scores vs statistical tests\n",
    "- Rely on feature characteristics\n",
    "- Tend to be computationally less expensive\n",
    "- Quick screen and removal of irrelevant features"
   ]
  },
  {
   "cell_type": "markdown",
   "id": "f2468792-568a-43ff-ad3b-3b5a22ab6ba4",
   "metadata": {},
   "source": [
    "## 2.1 Basic methods\n",
    "- Remove constants\n",
    "- Remove almost constant features"
   ]
  },
  {
   "cell_type": "markdown",
   "id": "9f2a3f7b-1bf1-42cc-91e0-a6699152a8ae",
   "metadata": {},
   "source": [
    "### 2.1.1 Remove constant features\n",
    "- Just show the same value\n",
    "- Easy first step"
   ]
  },
  {
   "cell_type": "code",
   "execution_count": 1,
   "id": "65eca59f-9998-4c0a-8a41-7e0ed7e55f99",
   "metadata": {},
   "outputs": [],
   "source": [
    "import pandas as pd\n",
    "import numpy as np\n",
    "import matplotlib.pyplot as plt\n",
    "import seaborn as sns"
   ]
  },
  {
   "cell_type": "code",
   "execution_count": 2,
   "id": "f44f12b6-001e-4c11-97f8-a675921a4f1c",
   "metadata": {},
   "outputs": [
    {
     "name": "stdout",
     "output_type": "stream",
     "text": [
      "ID_code,target,var_0,var_1,var_2,var_3,var_4,var_5,var_6,var_7,var_8,var_9,var_10,var_11,var_12,var_13,var_14,var_15,var_16,var_17,var_18,var_19,var_20,var_21,var_22,var_23,var_24,var_25,var_26,var_27,var_28,var_29,var_30,var_31,var_32,var_33,var_34,var_35,var_36,var_37,var_38,var_39,var_40,var_41,var_42,var_43,var_44,var_45,var_46,var_47,var_48,var_49,var_50,var_51,var_52,var_53,var_54,var_55,var_56,var_57,var_58,var_59,var_60,var_61,var_62,var_63,var_64,var_65,var_66,var_67,var_68,var_69,var_70,var_71,var_72,var_73,var_74,var_75,var_76,var_77,var_78,var_79,var_80,var_81,var_82,var_83,var_84,var_85,var_86,var_87,var_88,var_89,var_90,var_91,var_92,var_93,var_94,var_95,var_96,var_97,var_98,var_99,var_100,var_101,var_102,var_103,var_104,var_105,var_106,var_107,var_108,var_109,var_110,var_111,var_112,var_113,var_114,var_115,var_116,var_117,var_118,var_119,var_120,var_121,var_122,var_123,var_124,var_125,var_126,var_127,var_128,var_129,var_130,var_131,var_132,var_133,var_134,var_135,var_136,var_137,var_138,var_139,var_140,var_141,var_142,var_143,var_144,var_145,var_146,var_147,var_148,var_149,var_150,var_151,var_152,var_153,var_154,var_155,var_156,var_157,var_158,var_159,var_160,var_161,var_162,var_163,var_164,var_165,var_166,var_167,var_168,var_169,var_170,var_171,var_172,var_173,var_174,var_175,var_176,var_177,var_178,var_179,var_180,var_181,var_182,var_183,var_184,var_185,var_186,var_187,var_188,var_189,var_190,var_191,var_192,var_193,var_194,var_195,var_196,var_197,var_198,var_199\n"
     ]
    }
   ],
   "source": [
    "! head -1 ./inputs/train.csv"
   ]
  },
  {
   "cell_type": "code",
   "execution_count": 3,
   "id": "f23332ca-12ec-4252-9dc2-74de2c96e495",
   "metadata": {},
   "outputs": [],
   "source": [
    "def get_data():\n",
    "    df_train = pd.read_csv(\"./inputs/train.csv\", nrows=35000)\n",
    "    df_test = pd.read_csv(\"./inputs/test.csv\", nrows=15000)\n",
    "    y_train = df_train[\"target\"]\n",
    "    X_train = df_train.drop([\"ID_code\",\"target\"], axis=1)\n",
    "    X_test = df_test.drop(\"ID_code\", axis=1)\n",
    "    return X_train, X_test, y_train"
   ]
  },
  {
   "cell_type": "code",
   "execution_count": 4,
   "id": "1e512392-b762-4c17-96c7-bf756d79cd31",
   "metadata": {},
   "outputs": [],
   "source": [
    "X_train, X_test, y_train = get_data()"
   ]
  },
  {
   "cell_type": "code",
   "execution_count": 5,
   "id": "33a02b0c-6e54-410f-81a2-ed7d24e832e4",
   "metadata": {},
   "outputs": [
    {
     "data": {
      "text/plain": [
       "((35000, 200), (15000, 200))"
      ]
     },
     "execution_count": 5,
     "metadata": {},
     "output_type": "execute_result"
    }
   ],
   "source": [
    "X_train.shape, X_test.shape"
   ]
  },
  {
   "cell_type": "code",
   "execution_count": 6,
   "id": "fe0225b5-1cd9-44e3-819f-91d66ec7241b",
   "metadata": {},
   "outputs": [
    {
     "data": {
      "text/html": [
       "<style>#sk-container-id-1 {color: black;background-color: white;}#sk-container-id-1 pre{padding: 0;}#sk-container-id-1 div.sk-toggleable {background-color: white;}#sk-container-id-1 label.sk-toggleable__label {cursor: pointer;display: block;width: 100%;margin-bottom: 0;padding: 0.3em;box-sizing: border-box;text-align: center;}#sk-container-id-1 label.sk-toggleable__label-arrow:before {content: \"▸\";float: left;margin-right: 0.25em;color: #696969;}#sk-container-id-1 label.sk-toggleable__label-arrow:hover:before {color: black;}#sk-container-id-1 div.sk-estimator:hover label.sk-toggleable__label-arrow:before {color: black;}#sk-container-id-1 div.sk-toggleable__content {max-height: 0;max-width: 0;overflow: hidden;text-align: left;background-color: #f0f8ff;}#sk-container-id-1 div.sk-toggleable__content pre {margin: 0.2em;color: black;border-radius: 0.25em;background-color: #f0f8ff;}#sk-container-id-1 input.sk-toggleable__control:checked~div.sk-toggleable__content {max-height: 200px;max-width: 100%;overflow: auto;}#sk-container-id-1 input.sk-toggleable__control:checked~label.sk-toggleable__label-arrow:before {content: \"▾\";}#sk-container-id-1 div.sk-estimator input.sk-toggleable__control:checked~label.sk-toggleable__label {background-color: #d4ebff;}#sk-container-id-1 div.sk-label input.sk-toggleable__control:checked~label.sk-toggleable__label {background-color: #d4ebff;}#sk-container-id-1 input.sk-hidden--visually {border: 0;clip: rect(1px 1px 1px 1px);clip: rect(1px, 1px, 1px, 1px);height: 1px;margin: -1px;overflow: hidden;padding: 0;position: absolute;width: 1px;}#sk-container-id-1 div.sk-estimator {font-family: monospace;background-color: #f0f8ff;border: 1px dotted black;border-radius: 0.25em;box-sizing: border-box;margin-bottom: 0.5em;}#sk-container-id-1 div.sk-estimator:hover {background-color: #d4ebff;}#sk-container-id-1 div.sk-parallel-item::after {content: \"\";width: 100%;border-bottom: 1px solid gray;flex-grow: 1;}#sk-container-id-1 div.sk-label:hover label.sk-toggleable__label {background-color: #d4ebff;}#sk-container-id-1 div.sk-serial::before {content: \"\";position: absolute;border-left: 1px solid gray;box-sizing: border-box;top: 0;bottom: 0;left: 50%;z-index: 0;}#sk-container-id-1 div.sk-serial {display: flex;flex-direction: column;align-items: center;background-color: white;padding-right: 0.2em;padding-left: 0.2em;position: relative;}#sk-container-id-1 div.sk-item {position: relative;z-index: 1;}#sk-container-id-1 div.sk-parallel {display: flex;align-items: stretch;justify-content: center;background-color: white;position: relative;}#sk-container-id-1 div.sk-item::before, #sk-container-id-1 div.sk-parallel-item::before {content: \"\";position: absolute;border-left: 1px solid gray;box-sizing: border-box;top: 0;bottom: 0;left: 50%;z-index: -1;}#sk-container-id-1 div.sk-parallel-item {display: flex;flex-direction: column;z-index: 1;position: relative;background-color: white;}#sk-container-id-1 div.sk-parallel-item:first-child::after {align-self: flex-end;width: 50%;}#sk-container-id-1 div.sk-parallel-item:last-child::after {align-self: flex-start;width: 50%;}#sk-container-id-1 div.sk-parallel-item:only-child::after {width: 0;}#sk-container-id-1 div.sk-dashed-wrapped {border: 1px dashed gray;margin: 0 0.4em 0.5em 0.4em;box-sizing: border-box;padding-bottom: 0.4em;background-color: white;}#sk-container-id-1 div.sk-label label {font-family: monospace;font-weight: bold;display: inline-block;line-height: 1.2em;}#sk-container-id-1 div.sk-label-container {text-align: center;}#sk-container-id-1 div.sk-container {/* jupyter's `normalize.less` sets `[hidden] { display: none; }` but bootstrap.min.css set `[hidden] { display: none !important; }` so we also need the `!important` here to be able to override the default hidden behavior on the sphinx rendered scikit-learn.org. See: https://github.com/scikit-learn/scikit-learn/issues/21755 */display: inline-block !important;position: relative;}#sk-container-id-1 div.sk-text-repr-fallback {display: none;}</style><div id=\"sk-container-id-1\" class=\"sk-top-container\"><div class=\"sk-text-repr-fallback\"><pre>VarianceThreshold(threshold=0)</pre><b>In a Jupyter environment, please rerun this cell to show the HTML representation or trust the notebook. <br />On GitHub, the HTML representation is unable to render, please try loading this page with nbviewer.org.</b></div><div class=\"sk-container\" hidden><div class=\"sk-item\"><div class=\"sk-estimator sk-toggleable\"><input class=\"sk-toggleable__control sk-hidden--visually\" id=\"sk-estimator-id-1\" type=\"checkbox\" checked><label for=\"sk-estimator-id-1\" class=\"sk-toggleable__label sk-toggleable__label-arrow\">VarianceThreshold</label><div class=\"sk-toggleable__content\"><pre>VarianceThreshold(threshold=0)</pre></div></div></div></div></div>"
      ],
      "text/plain": [
       "VarianceThreshold(threshold=0)"
      ]
     },
     "execution_count": 6,
     "metadata": {},
     "output_type": "execute_result"
    }
   ],
   "source": [
    "# using sklearn variancethreshold to find constant features\n",
    "\n",
    "from sklearn.feature_selection import VarianceThreshold\n",
    "sel = VarianceThreshold(threshold=0)\n",
    "sel.fit(X_train) # fit finds the features with zero variance"
   ]
  },
  {
   "cell_type": "code",
   "execution_count": 7,
   "id": "f9bc7eec-2133-45be-bfe0-607294e9b45f",
   "metadata": {},
   "outputs": [
    {
     "data": {
      "text/plain": [
       "200"
      ]
     },
     "execution_count": 7,
     "metadata": {},
     "output_type": "execute_result"
    }
   ],
   "source": [
    "# get_support isa boolean vector that indicates which features are retrained\n",
    "# if we sum over get_suport, we get the number of fatueres that are not constant\n",
    "sel.get_support().sum()"
   ]
  },
  {
   "cell_type": "code",
   "execution_count": 8,
   "id": "63b73b30-39b4-4372-93fa-70c4967a404a",
   "metadata": {},
   "outputs": [
    {
     "name": "stdout",
     "output_type": "stream",
     "text": [
      "Index([], dtype='object')\n"
     ]
    }
   ],
   "source": [
    "# print the constant features\n",
    "print(X_train.columns[~sel.get_support()])"
   ]
  },
  {
   "cell_type": "code",
   "execution_count": 9,
   "id": "03abeea5-0fab-4513-bac8-a20bac949d5e",
   "metadata": {},
   "outputs": [],
   "source": [
    "# we can then drop these columns from the train and test sets\n",
    "X_train = sel.transform(X_train)\n",
    "X_test = sel.transform(X_test)"
   ]
  },
  {
   "cell_type": "code",
   "execution_count": 10,
   "id": "72ab5794-09a7-486f-9335-0be0ec164eaa",
   "metadata": {},
   "outputs": [
    {
     "data": {
      "text/plain": [
       "((35000, 200), (15000, 200))"
      ]
     },
     "execution_count": 10,
     "metadata": {},
     "output_type": "execute_result"
    }
   ],
   "source": [
    "# check the shape of training and test set\n",
    "X_train.shape, X_test.shape"
   ]
  },
  {
   "cell_type": "markdown",
   "id": "25f36983-5a64-421a-9bca-4b193262758e",
   "metadata": {},
   "source": [
    "### 2.1.2 Remove quasi-constant features\n",
    "- Quasi-constant features are those that show the same value for the great majority of the observations of the dataset. Ingenreal, these features provide littfle if any information that allows a machine learming model to discriminate or predict a terget.\n",
    "- There can be exceptions, so we should be careful when removing these features\n",
    "- We use again the Variance Threshold function from sklearn\n",
    "- `threshold` means that (1 - `threshold`) % of values have the same single value"
   ]
  },
  {
   "cell_type": "code",
   "execution_count": 11,
   "id": "de2b8c65-7558-44ab-9a73-bc922e4c1837",
   "metadata": {},
   "outputs": [
    {
     "data": {
      "text/plain": [
       "((35000, 200), (15000, 200))"
      ]
     },
     "execution_count": 11,
     "metadata": {},
     "output_type": "execute_result"
    }
   ],
   "source": [
    "X_train, X_test, y_train = get_data()\n",
    "X_train.shape, X_test.shape"
   ]
  },
  {
   "cell_type": "code",
   "execution_count": 12,
   "id": "2b85c408-6956-4451-b07c-b439952ce0de",
   "metadata": {},
   "outputs": [
    {
     "data": {
      "text/html": [
       "<style>#sk-container-id-2 {color: black;background-color: white;}#sk-container-id-2 pre{padding: 0;}#sk-container-id-2 div.sk-toggleable {background-color: white;}#sk-container-id-2 label.sk-toggleable__label {cursor: pointer;display: block;width: 100%;margin-bottom: 0;padding: 0.3em;box-sizing: border-box;text-align: center;}#sk-container-id-2 label.sk-toggleable__label-arrow:before {content: \"▸\";float: left;margin-right: 0.25em;color: #696969;}#sk-container-id-2 label.sk-toggleable__label-arrow:hover:before {color: black;}#sk-container-id-2 div.sk-estimator:hover label.sk-toggleable__label-arrow:before {color: black;}#sk-container-id-2 div.sk-toggleable__content {max-height: 0;max-width: 0;overflow: hidden;text-align: left;background-color: #f0f8ff;}#sk-container-id-2 div.sk-toggleable__content pre {margin: 0.2em;color: black;border-radius: 0.25em;background-color: #f0f8ff;}#sk-container-id-2 input.sk-toggleable__control:checked~div.sk-toggleable__content {max-height: 200px;max-width: 100%;overflow: auto;}#sk-container-id-2 input.sk-toggleable__control:checked~label.sk-toggleable__label-arrow:before {content: \"▾\";}#sk-container-id-2 div.sk-estimator input.sk-toggleable__control:checked~label.sk-toggleable__label {background-color: #d4ebff;}#sk-container-id-2 div.sk-label input.sk-toggleable__control:checked~label.sk-toggleable__label {background-color: #d4ebff;}#sk-container-id-2 input.sk-hidden--visually {border: 0;clip: rect(1px 1px 1px 1px);clip: rect(1px, 1px, 1px, 1px);height: 1px;margin: -1px;overflow: hidden;padding: 0;position: absolute;width: 1px;}#sk-container-id-2 div.sk-estimator {font-family: monospace;background-color: #f0f8ff;border: 1px dotted black;border-radius: 0.25em;box-sizing: border-box;margin-bottom: 0.5em;}#sk-container-id-2 div.sk-estimator:hover {background-color: #d4ebff;}#sk-container-id-2 div.sk-parallel-item::after {content: \"\";width: 100%;border-bottom: 1px solid gray;flex-grow: 1;}#sk-container-id-2 div.sk-label:hover label.sk-toggleable__label {background-color: #d4ebff;}#sk-container-id-2 div.sk-serial::before {content: \"\";position: absolute;border-left: 1px solid gray;box-sizing: border-box;top: 0;bottom: 0;left: 50%;z-index: 0;}#sk-container-id-2 div.sk-serial {display: flex;flex-direction: column;align-items: center;background-color: white;padding-right: 0.2em;padding-left: 0.2em;position: relative;}#sk-container-id-2 div.sk-item {position: relative;z-index: 1;}#sk-container-id-2 div.sk-parallel {display: flex;align-items: stretch;justify-content: center;background-color: white;position: relative;}#sk-container-id-2 div.sk-item::before, #sk-container-id-2 div.sk-parallel-item::before {content: \"\";position: absolute;border-left: 1px solid gray;box-sizing: border-box;top: 0;bottom: 0;left: 50%;z-index: -1;}#sk-container-id-2 div.sk-parallel-item {display: flex;flex-direction: column;z-index: 1;position: relative;background-color: white;}#sk-container-id-2 div.sk-parallel-item:first-child::after {align-self: flex-end;width: 50%;}#sk-container-id-2 div.sk-parallel-item:last-child::after {align-self: flex-start;width: 50%;}#sk-container-id-2 div.sk-parallel-item:only-child::after {width: 0;}#sk-container-id-2 div.sk-dashed-wrapped {border: 1px dashed gray;margin: 0 0.4em 0.5em 0.4em;box-sizing: border-box;padding-bottom: 0.4em;background-color: white;}#sk-container-id-2 div.sk-label label {font-family: monospace;font-weight: bold;display: inline-block;line-height: 1.2em;}#sk-container-id-2 div.sk-label-container {text-align: center;}#sk-container-id-2 div.sk-container {/* jupyter's `normalize.less` sets `[hidden] { display: none; }` but bootstrap.min.css set `[hidden] { display: none !important; }` so we also need the `!important` here to be able to override the default hidden behavior on the sphinx rendered scikit-learn.org. See: https://github.com/scikit-learn/scikit-learn/issues/21755 */display: inline-block !important;position: relative;}#sk-container-id-2 div.sk-text-repr-fallback {display: none;}</style><div id=\"sk-container-id-2\" class=\"sk-top-container\"><div class=\"sk-text-repr-fallback\"><pre>VarianceThreshold(threshold=0.01)</pre><b>In a Jupyter environment, please rerun this cell to show the HTML representation or trust the notebook. <br />On GitHub, the HTML representation is unable to render, please try loading this page with nbviewer.org.</b></div><div class=\"sk-container\" hidden><div class=\"sk-item\"><div class=\"sk-estimator sk-toggleable\"><input class=\"sk-toggleable__control sk-hidden--visually\" id=\"sk-estimator-id-2\" type=\"checkbox\" checked><label for=\"sk-estimator-id-2\" class=\"sk-toggleable__label sk-toggleable__label-arrow\">VarianceThreshold</label><div class=\"sk-toggleable__content\"><pre>VarianceThreshold(threshold=0.01)</pre></div></div></div></div></div>"
      ],
      "text/plain": [
       "VarianceThreshold(threshold=0.01)"
      ]
     },
     "execution_count": 12,
     "metadata": {},
     "output_type": "execute_result"
    }
   ],
   "source": [
    "sel = VarianceThreshold(threshold=0.01) # 0.01 indicates 99% of observations approximately\n",
    "\n",
    "sel.fit(X_train)"
   ]
  },
  {
   "cell_type": "code",
   "execution_count": 13,
   "id": "55b4eb53-4d23-47fe-85c6-3af2bee5c5ab",
   "metadata": {},
   "outputs": [
    {
     "data": {
      "text/plain": [
       "199"
      ]
     },
     "execution_count": 13,
     "metadata": {},
     "output_type": "execute_result"
    }
   ],
   "source": [
    "# number of non quasi-constant features\n",
    "sel.get_support().sum()"
   ]
  },
  {
   "cell_type": "code",
   "execution_count": 14,
   "id": "0a3fb07b-4565-4cce-8c9e-4d22d389efd9",
   "metadata": {},
   "outputs": [
    {
     "name": "stdout",
     "output_type": "stream",
     "text": [
      "Index(['var_68'], dtype='object')\n"
     ]
    }
   ],
   "source": [
    "# print the quasi-constant features\n",
    "print(X_train.columns[~sel.get_support()])"
   ]
  },
  {
   "cell_type": "code",
   "execution_count": 15,
   "id": "b7d419d2-d679-4b4a-a663-9782c34d71f0",
   "metadata": {},
   "outputs": [
    {
     "data": {
      "text/plain": [
       "193"
      ]
     },
     "execution_count": 15,
     "metadata": {},
     "output_type": "execute_result"
    }
   ],
   "source": [
    "sel_5 = VarianceThreshold(threshold=0.05) # Let's get 95% observations\n",
    "sel_5.fit(X_train)\n",
    "sel_5.get_support().sum()"
   ]
  },
  {
   "cell_type": "code",
   "execution_count": 16,
   "id": "60241ff9-7156-4e56-af9f-a2920de61536",
   "metadata": {},
   "outputs": [
    {
     "name": "stdout",
     "output_type": "stream",
     "text": [
      "Index(['var_12', 'var_68', 'var_91', 'var_103', 'var_108', 'var_148',\n",
      "       'var_161'],\n",
      "      dtype='object')\n"
     ]
    }
   ],
   "source": [
    "# print the quasi-constant features\n",
    "print(X_train.columns[~sel_5.get_support()])"
   ]
  },
  {
   "cell_type": "code",
   "execution_count": 17,
   "id": "7744e882-8da1-4507-91f7-78215075ea92",
   "metadata": {},
   "outputs": [
    {
     "data": {
      "text/plain": [
       "((35000, 193), (15000, 193))"
      ]
     },
     "execution_count": 17,
     "metadata": {},
     "output_type": "execute_result"
    }
   ],
   "source": [
    "# We can then remove the features from training and test set\n",
    "\n",
    "X_train_fs = sel_5.transform(X_train)\n",
    "X_test_fs = sel_5.transform(X_test)\n",
    "\n",
    "X_train_fs.shape, X_test_fs.shape "
   ]
  },
  {
   "cell_type": "markdown",
   "id": "1f1440f0-3549-4cf6-bebe-55a2bece35ca",
   "metadata": {},
   "source": [
    "## 2.2 Univariate selection methods\n",
    "- Select best methods based on univariate statistical tests like ANOVA\n",
    "- Also a Pre-processing step\n",
    "- Methods from sklearn assume Gaussian distribution\n",
    "- 4 scikit learn methods\n",
    " - SelectKBest\n",
    " - SelectPercentile\n",
    " - SelectFpr, SelectFdr, SelectFwe\n",
    " - GenericUnivariateSelection\n",
    " \n",
    "- We will discuss only the first 2 (most commonly used)"
   ]
  },
  {
   "cell_type": "markdown",
   "id": "d018ba42-ea87-42be-a2ed-f7d65862ded5",
   "metadata": {},
   "source": [
    "### 2.2.1 SelectKBest\n",
    "- This method select features according to the k highest scores\n",
    "- For instance, we can perfom a chi-square test to the samples to retrieve only the two best features from iris dataset as follows\n",
    "- iris is used as chi-squared test only uses categorical variables"
   ]
  },
  {
   "cell_type": "code",
   "execution_count": 18,
   "id": "07c02bbf-9bfc-41b4-8a6f-cfaa79480583",
   "metadata": {},
   "outputs": [
    {
     "data": {
      "text/plain": [
       "(150, 4)"
      ]
     },
     "execution_count": 18,
     "metadata": {},
     "output_type": "execute_result"
    }
   ],
   "source": [
    "from sklearn.datasets import load_iris\n",
    "from sklearn.feature_selection import SelectKBest, chi2\n",
    "\n",
    "X,y = load_iris(return_X_y=True)\n",
    "X.shape"
   ]
  },
  {
   "cell_type": "code",
   "execution_count": 19,
   "id": "fe464093-5d7c-4533-affc-2fc6d5651509",
   "metadata": {},
   "outputs": [
    {
     "data": {
      "text/plain": [
       "array([[5.1, 3.5, 1.4, 0.2],\n",
       "       [4.9, 3. , 1.4, 0.2],\n",
       "       [4.7, 3.2, 1.3, 0.2],\n",
       "       [4.6, 3.1, 1.5, 0.2],\n",
       "       [5. , 3.6, 1.4, 0.2],\n",
       "       [5.4, 3.9, 1.7, 0.4],\n",
       "       [4.6, 3.4, 1.4, 0.3],\n",
       "       [5. , 3.4, 1.5, 0.2],\n",
       "       [4.4, 2.9, 1.4, 0.2],\n",
       "       [4.9, 3.1, 1.5, 0.1],\n",
       "       [5.4, 3.7, 1.5, 0.2],\n",
       "       [4.8, 3.4, 1.6, 0.2],\n",
       "       [4.8, 3. , 1.4, 0.1],\n",
       "       [4.3, 3. , 1.1, 0.1],\n",
       "       [5.8, 4. , 1.2, 0.2],\n",
       "       [5.7, 4.4, 1.5, 0.4],\n",
       "       [5.4, 3.9, 1.3, 0.4],\n",
       "       [5.1, 3.5, 1.4, 0.3],\n",
       "       [5.7, 3.8, 1.7, 0.3],\n",
       "       [5.1, 3.8, 1.5, 0.3],\n",
       "       [5.4, 3.4, 1.7, 0.2],\n",
       "       [5.1, 3.7, 1.5, 0.4],\n",
       "       [4.6, 3.6, 1. , 0.2],\n",
       "       [5.1, 3.3, 1.7, 0.5],\n",
       "       [4.8, 3.4, 1.9, 0.2],\n",
       "       [5. , 3. , 1.6, 0.2],\n",
       "       [5. , 3.4, 1.6, 0.4],\n",
       "       [5.2, 3.5, 1.5, 0.2],\n",
       "       [5.2, 3.4, 1.4, 0.2],\n",
       "       [4.7, 3.2, 1.6, 0.2],\n",
       "       [4.8, 3.1, 1.6, 0.2],\n",
       "       [5.4, 3.4, 1.5, 0.4],\n",
       "       [5.2, 4.1, 1.5, 0.1],\n",
       "       [5.5, 4.2, 1.4, 0.2],\n",
       "       [4.9, 3.1, 1.5, 0.2],\n",
       "       [5. , 3.2, 1.2, 0.2],\n",
       "       [5.5, 3.5, 1.3, 0.2],\n",
       "       [4.9, 3.6, 1.4, 0.1],\n",
       "       [4.4, 3. , 1.3, 0.2],\n",
       "       [5.1, 3.4, 1.5, 0.2],\n",
       "       [5. , 3.5, 1.3, 0.3],\n",
       "       [4.5, 2.3, 1.3, 0.3],\n",
       "       [4.4, 3.2, 1.3, 0.2],\n",
       "       [5. , 3.5, 1.6, 0.6],\n",
       "       [5.1, 3.8, 1.9, 0.4],\n",
       "       [4.8, 3. , 1.4, 0.3],\n",
       "       [5.1, 3.8, 1.6, 0.2],\n",
       "       [4.6, 3.2, 1.4, 0.2],\n",
       "       [5.3, 3.7, 1.5, 0.2],\n",
       "       [5. , 3.3, 1.4, 0.2],\n",
       "       [7. , 3.2, 4.7, 1.4],\n",
       "       [6.4, 3.2, 4.5, 1.5],\n",
       "       [6.9, 3.1, 4.9, 1.5],\n",
       "       [5.5, 2.3, 4. , 1.3],\n",
       "       [6.5, 2.8, 4.6, 1.5],\n",
       "       [5.7, 2.8, 4.5, 1.3],\n",
       "       [6.3, 3.3, 4.7, 1.6],\n",
       "       [4.9, 2.4, 3.3, 1. ],\n",
       "       [6.6, 2.9, 4.6, 1.3],\n",
       "       [5.2, 2.7, 3.9, 1.4],\n",
       "       [5. , 2. , 3.5, 1. ],\n",
       "       [5.9, 3. , 4.2, 1.5],\n",
       "       [6. , 2.2, 4. , 1. ],\n",
       "       [6.1, 2.9, 4.7, 1.4],\n",
       "       [5.6, 2.9, 3.6, 1.3],\n",
       "       [6.7, 3.1, 4.4, 1.4],\n",
       "       [5.6, 3. , 4.5, 1.5],\n",
       "       [5.8, 2.7, 4.1, 1. ],\n",
       "       [6.2, 2.2, 4.5, 1.5],\n",
       "       [5.6, 2.5, 3.9, 1.1],\n",
       "       [5.9, 3.2, 4.8, 1.8],\n",
       "       [6.1, 2.8, 4. , 1.3],\n",
       "       [6.3, 2.5, 4.9, 1.5],\n",
       "       [6.1, 2.8, 4.7, 1.2],\n",
       "       [6.4, 2.9, 4.3, 1.3],\n",
       "       [6.6, 3. , 4.4, 1.4],\n",
       "       [6.8, 2.8, 4.8, 1.4],\n",
       "       [6.7, 3. , 5. , 1.7],\n",
       "       [6. , 2.9, 4.5, 1.5],\n",
       "       [5.7, 2.6, 3.5, 1. ],\n",
       "       [5.5, 2.4, 3.8, 1.1],\n",
       "       [5.5, 2.4, 3.7, 1. ],\n",
       "       [5.8, 2.7, 3.9, 1.2],\n",
       "       [6. , 2.7, 5.1, 1.6],\n",
       "       [5.4, 3. , 4.5, 1.5],\n",
       "       [6. , 3.4, 4.5, 1.6],\n",
       "       [6.7, 3.1, 4.7, 1.5],\n",
       "       [6.3, 2.3, 4.4, 1.3],\n",
       "       [5.6, 3. , 4.1, 1.3],\n",
       "       [5.5, 2.5, 4. , 1.3],\n",
       "       [5.5, 2.6, 4.4, 1.2],\n",
       "       [6.1, 3. , 4.6, 1.4],\n",
       "       [5.8, 2.6, 4. , 1.2],\n",
       "       [5. , 2.3, 3.3, 1. ],\n",
       "       [5.6, 2.7, 4.2, 1.3],\n",
       "       [5.7, 3. , 4.2, 1.2],\n",
       "       [5.7, 2.9, 4.2, 1.3],\n",
       "       [6.2, 2.9, 4.3, 1.3],\n",
       "       [5.1, 2.5, 3. , 1.1],\n",
       "       [5.7, 2.8, 4.1, 1.3],\n",
       "       [6.3, 3.3, 6. , 2.5],\n",
       "       [5.8, 2.7, 5.1, 1.9],\n",
       "       [7.1, 3. , 5.9, 2.1],\n",
       "       [6.3, 2.9, 5.6, 1.8],\n",
       "       [6.5, 3. , 5.8, 2.2],\n",
       "       [7.6, 3. , 6.6, 2.1],\n",
       "       [4.9, 2.5, 4.5, 1.7],\n",
       "       [7.3, 2.9, 6.3, 1.8],\n",
       "       [6.7, 2.5, 5.8, 1.8],\n",
       "       [7.2, 3.6, 6.1, 2.5],\n",
       "       [6.5, 3.2, 5.1, 2. ],\n",
       "       [6.4, 2.7, 5.3, 1.9],\n",
       "       [6.8, 3. , 5.5, 2.1],\n",
       "       [5.7, 2.5, 5. , 2. ],\n",
       "       [5.8, 2.8, 5.1, 2.4],\n",
       "       [6.4, 3.2, 5.3, 2.3],\n",
       "       [6.5, 3. , 5.5, 1.8],\n",
       "       [7.7, 3.8, 6.7, 2.2],\n",
       "       [7.7, 2.6, 6.9, 2.3],\n",
       "       [6. , 2.2, 5. , 1.5],\n",
       "       [6.9, 3.2, 5.7, 2.3],\n",
       "       [5.6, 2.8, 4.9, 2. ],\n",
       "       [7.7, 2.8, 6.7, 2. ],\n",
       "       [6.3, 2.7, 4.9, 1.8],\n",
       "       [6.7, 3.3, 5.7, 2.1],\n",
       "       [7.2, 3.2, 6. , 1.8],\n",
       "       [6.2, 2.8, 4.8, 1.8],\n",
       "       [6.1, 3. , 4.9, 1.8],\n",
       "       [6.4, 2.8, 5.6, 2.1],\n",
       "       [7.2, 3. , 5.8, 1.6],\n",
       "       [7.4, 2.8, 6.1, 1.9],\n",
       "       [7.9, 3.8, 6.4, 2. ],\n",
       "       [6.4, 2.8, 5.6, 2.2],\n",
       "       [6.3, 2.8, 5.1, 1.5],\n",
       "       [6.1, 2.6, 5.6, 1.4],\n",
       "       [7.7, 3. , 6.1, 2.3],\n",
       "       [6.3, 3.4, 5.6, 2.4],\n",
       "       [6.4, 3.1, 5.5, 1.8],\n",
       "       [6. , 3. , 4.8, 1.8],\n",
       "       [6.9, 3.1, 5.4, 2.1],\n",
       "       [6.7, 3.1, 5.6, 2.4],\n",
       "       [6.9, 3.1, 5.1, 2.3],\n",
       "       [5.8, 2.7, 5.1, 1.9],\n",
       "       [6.8, 3.2, 5.9, 2.3],\n",
       "       [6.7, 3.3, 5.7, 2.5],\n",
       "       [6.7, 3. , 5.2, 2.3],\n",
       "       [6.3, 2.5, 5. , 1.9],\n",
       "       [6.5, 3. , 5.2, 2. ],\n",
       "       [6.2, 3.4, 5.4, 2.3],\n",
       "       [5.9, 3. , 5.1, 1.8]])"
      ]
     },
     "execution_count": 19,
     "metadata": {},
     "output_type": "execute_result"
    }
   ],
   "source": [
    "X"
   ]
  },
  {
   "cell_type": "code",
   "execution_count": 20,
   "id": "f430e361-b4df-4faa-9f68-c497f0213c21",
   "metadata": {},
   "outputs": [
    {
     "data": {
      "text/plain": [
       "(150, 2)"
      ]
     },
     "execution_count": 20,
     "metadata": {},
     "output_type": "execute_result"
    }
   ],
   "source": [
    "# select the two best features\n",
    "X_new = SelectKBest(chi2, k=2).fit_transform(X,y)\n",
    "X_new.shape"
   ]
  },
  {
   "cell_type": "markdown",
   "id": "3f580bf8-33c4-4665-88bf-8bd15ae2251b",
   "metadata": {},
   "source": [
    "### 2.2.2 SelectPercentile\n",
    "- Select features according to a percentile of the highest scores\n"
   ]
  },
  {
   "cell_type": "code",
   "execution_count": 21,
   "id": "2cbc6d4b-fb7f-4b07-a953-368e4aaf7ab5",
   "metadata": {},
   "outputs": [
    {
     "data": {
      "text/plain": [
       "(1797, 64)"
      ]
     },
     "execution_count": 21,
     "metadata": {},
     "output_type": "execute_result"
    }
   ],
   "source": [
    "from sklearn.datasets import load_digits\n",
    "from sklearn.feature_selection import SelectPercentile, chi2\n",
    "\n",
    "X, y = load_digits(return_X_y=True)\n",
    "\n",
    "X.shape"
   ]
  },
  {
   "cell_type": "code",
   "execution_count": 22,
   "id": "b9a89226-dbbc-462c-88b1-28850167a235",
   "metadata": {},
   "outputs": [
    {
     "data": {
      "text/plain": [
       "array([[ 0.,  0.,  5., ...,  0.,  0.,  0.],\n",
       "       [ 0.,  0.,  0., ..., 10.,  0.,  0.],\n",
       "       [ 0.,  0.,  0., ..., 16.,  9.,  0.],\n",
       "       ...,\n",
       "       [ 0.,  0.,  1., ...,  6.,  0.,  0.],\n",
       "       [ 0.,  0.,  2., ..., 12.,  0.,  0.],\n",
       "       [ 0.,  0., 10., ..., 12.,  1.,  0.]])"
      ]
     },
     "execution_count": 22,
     "metadata": {},
     "output_type": "execute_result"
    }
   ],
   "source": [
    "X"
   ]
  },
  {
   "cell_type": "code",
   "execution_count": 23,
   "id": "2192af09-1002-4d8b-9cc1-18d6cb2dee69",
   "metadata": {},
   "outputs": [
    {
     "data": {
      "text/plain": [
       "(1797, 7)"
      ]
     },
     "execution_count": 23,
     "metadata": {},
     "output_type": "execute_result"
    }
   ],
   "source": [
    "# now select features based on top 10 percentile\n",
    "\n",
    "X_new = SelectPercentile(chi2, percentile=10).fit_transform(X,y)\n",
    "X_new.shape"
   ]
  },
  {
   "cell_type": "markdown",
   "id": "ecead1be-8a4e-428a-a3ce-121bf2e6b3a1",
   "metadata": {},
   "source": [
    "- We can see that only 7 features lie on the top 10 percentile and hence we select them accordingly"
   ]
  },
  {
   "cell_type": "markdown",
   "id": "750da077-b323-4ff5-8112-d6ff1112ebab",
   "metadata": {},
   "source": [
    "### Important information\n",
    "- These objects take as input a scoring function that returns univariate scores and p-values (or only scores for SelectKBest and SelectPercentile)\n",
    "- For regression tasks: f_regression, mutual_info_regression\n",
    "- For classification tasks: chi2, f_classif, mutual_info_classif\n",
    "\n",
    "The methods based on F-test estimate the degree of linear dependency between two random variables. On the other hand, mutual information methods can capture any kind of statistical dependency, but being nonparametric, they require more samples for accurate estimation"
   ]
  },
  {
   "cell_type": "markdown",
   "id": "079febbe-724e-4015-b311-514980fef4f0",
   "metadata": {},
   "source": [
    "### Feature selection with sparse data\n",
    "- If you use sparse data (i.e. data represented as sparse matrices), chi2, mutual_info_regression, mutual_info_classif will deal the data without making it dense\n",
    "\n",
    "### Warning\n",
    "- Beware not to use a regression scoring function with a classification problem, you will get useless resutls"
   ]
  },
  {
   "cell_type": "markdown",
   "id": "97e0808b-f2a2-47e6-a615-b9324efb8ddd",
   "metadata": {},
   "source": [
    "## 2.3 Information Gain\n",
    "- Information gain or mutual information measures how much information the rpesence/absense of a feature contrubutes to making the correc tprediction on the target\n"
   ]
  },
  {
   "cell_type": "markdown",
   "id": "171043fb-00ee-4e05-bddc-18f4836c2f1b",
   "metadata": {},
   "source": [
    "### 2.3.1 mutual_info_classif\n",
    "- It estimates mutual information for a discrete target variable\n",
    "- Mutual Information (MI) between 2 random variables is a non-negative value which measure the dependency between the variables.\n",
    "- It is equal to zero if an only with 2 random variables are independent\n",
    "- Higher values mean higher dependency\n",
    "- Rely on nonparametric methodas based on entropy estimation from k-NN distances (and therefore require more data to yield better results)\n",
    "- It can be used for univariate feture selection"
   ]
  },
  {
   "cell_type": "markdown",
   "id": "e5bb266e-9048-46c1-8d0d-45031eb21193",
   "metadata": {},
   "source": [
    "### 2.3.2 mutual_info_regression\n",
    "- Estimate MI for continouus target variable"
   ]
  },
  {
   "cell_type": "markdown",
   "id": "fa3c82ad-2a6b-4b4f-a7da-cb1b8b858f11",
   "metadata": {},
   "source": [
    "## 2.4 Fisher Score (Chi-square implementation)\n",
    "- It is the chi-square implementation in sklearn\n",
    "- Computes chi-squared stats between each non-negative feature and class\n",
    "- This score should be used to evaluate categorical variables in a classification task\n",
    "- It compares the observed distribution of the different classes of target T among the different categories of the feature, against the expected distribution of the target classes, regardless of the feature categories"
   ]
  },
  {
   "cell_type": "code",
   "execution_count": 24,
   "id": "d9422bc9-f54e-43b6-b69a-e605af8cbb64",
   "metadata": {},
   "outputs": [],
   "source": [
    "# load libraries\n",
    "from sklearn.datasets import load_iris\n",
    "from sklearn.feature_selection import SelectKBest, chi2"
   ]
  },
  {
   "cell_type": "code",
   "execution_count": 25,
   "id": "02a925c9-d682-4197-8a96-4cafaf05cfdd",
   "metadata": {},
   "outputs": [],
   "source": [
    "# LOad Data\n",
    "# load iris data\n",
    "iris = load_iris()"
   ]
  },
  {
   "cell_type": "code",
   "execution_count": 26,
   "id": "03a4cfd9-1329-4eb0-8da7-27b7d2110542",
   "metadata": {},
   "outputs": [],
   "source": [
    "# create featuers and target\n",
    "X = iris.data\n",
    "y = iris.target\n",
    "\n",
    "#convert to categorical data by converting data to integers\n",
    "X = X.astype(int)"
   ]
  },
  {
   "cell_type": "code",
   "execution_count": 27,
   "id": "be035ece-28d9-41a2-be7b-5e99b46423c8",
   "metadata": {},
   "outputs": [],
   "source": [
    "# Compare Chi-Squared Statistics\n",
    "# select 2 features with highest chi-squared statistics\n",
    "chi2_selector = SelectKBest(chi2, k=2)\n",
    "X_kbest = chi2_selector.fit_transform(X,y)"
   ]
  },
  {
   "cell_type": "code",
   "execution_count": 28,
   "id": "472e62a3-7312-4ce6-b153-de6fa797f6cf",
   "metadata": {},
   "outputs": [
    {
     "name": "stdout",
     "output_type": "stream",
     "text": [
      "Original number of features: 4\n",
      "Reduced number of features: 2\n"
     ]
    }
   ],
   "source": [
    "# view results\n",
    "print(f\"Original number of features: {X.shape[1]}\")\n",
    "print(f\"Reduced number of features: {X_kbest.shape[1]}\")"
   ]
  },
  {
   "cell_type": "markdown",
   "id": "1d054aad-d66a-43c1-80e1-6a1dbe36ee9f",
   "metadata": {},
   "source": [
    "## 2.5 ANOVA F-value for Feature Selection\n",
    "\n",
    "- If the features are categorical, we calculate chi-square statistics between feature and target vector\n",
    "- If features are numerical, we will compute ANOVA F-value between each feature and the target vector"
   ]
  },
  {
   "cell_type": "code",
   "execution_count": 30,
   "id": "fdd977fa-ed82-430b-a1ee-60dc4df82480",
   "metadata": {},
   "outputs": [],
   "source": [
    "from sklearn.datasets import load_iris\n",
    "from sklearn.feature_selection import SelectKBest\n",
    "from sklearn.feature_selection import f_classif"
   ]
  },
  {
   "cell_type": "code",
   "execution_count": 31,
   "id": "b7a6bde1-19bc-43be-842f-e96058380727",
   "metadata": {},
   "outputs": [],
   "source": [
    "iris = load_iris()\n",
    "X = iris.data\n",
    "y = iris.target"
   ]
  },
  {
   "cell_type": "code",
   "execution_count": 32,
   "id": "1f0056ef-4d15-4aeb-a48d-b1d1bfbe983c",
   "metadata": {},
   "outputs": [],
   "source": [
    "# Select features with Best ANOVA F-values\n",
    "\n",
    "fvalue_selector = SelectKBest(f_classif, k=2)\n",
    "\n",
    "X_kbest = fvalue_selector.fit_transform(X,y)"
   ]
  },
  {
   "cell_type": "code",
   "execution_count": 33,
   "id": "76679e13-0c7c-46b3-9191-6754e6a10fd4",
   "metadata": {},
   "outputs": [
    {
     "name": "stdout",
     "output_type": "stream",
     "text": [
      "Original number of features: 4\n",
      "Reduced number of features: 2\n"
     ]
    }
   ],
   "source": [
    "# view results\n",
    "print(f\"Original number of features: {X.shape[1]}\")\n",
    "print(f\"Reduced number of features: {X_kbest.shape[1]}\")"
   ]
  },
  {
   "cell_type": "markdown",
   "id": "074b496a-637e-4652-8ca9-beba8fe8e96e",
   "metadata": {},
   "source": [
    "## 2.6 Correlation-Matrix with Heatmap\n",
    "- **Correlation** is a measure of the linear relationship of 2 or more variables\n",
    "- Good variables are highly correlated with the target\n",
    "- Correlated predictor variable sprovide redundant information\n",
    "- Variables should be correlated with the target but uncorrelated among themselves\n",
    "- Correlation Feature Selection evaluate subsets of feature on the basis of the hypothesis above\n",
    "\n",
    "- Pearson correlation: returned coefficients vary between -1 and 1, with zero meaning no correlation\n"
   ]
  },
  {
   "cell_type": "code",
   "execution_count": 34,
   "id": "dfe6e2aa-bf11-42f2-a30f-f6fe64b03750",
   "metadata": {},
   "outputs": [],
   "source": [
    "iris = load_iris()\n",
    "X = iris.data\n",
    "y = iris.target"
   ]
  },
  {
   "cell_type": "code",
   "execution_count": 35,
   "id": "bfb7f7e1-7455-4839-afcc-b9e09557397a",
   "metadata": {},
   "outputs": [],
   "source": [
    "df = pd.DataFrame(X)"
   ]
  },
  {
   "cell_type": "code",
   "execution_count": 36,
   "id": "c517c75b-796b-47b5-a260-1b88c4d0eefe",
   "metadata": {},
   "outputs": [
    {
     "data": {
      "text/html": [
       "<div>\n",
       "<style scoped>\n",
       "    .dataframe tbody tr th:only-of-type {\n",
       "        vertical-align: middle;\n",
       "    }\n",
       "\n",
       "    .dataframe tbody tr th {\n",
       "        vertical-align: top;\n",
       "    }\n",
       "\n",
       "    .dataframe thead th {\n",
       "        text-align: right;\n",
       "    }\n",
       "</style>\n",
       "<table border=\"1\" class=\"dataframe\">\n",
       "  <thead>\n",
       "    <tr style=\"text-align: right;\">\n",
       "      <th></th>\n",
       "      <th>0</th>\n",
       "      <th>1</th>\n",
       "      <th>2</th>\n",
       "      <th>3</th>\n",
       "    </tr>\n",
       "  </thead>\n",
       "  <tbody>\n",
       "    <tr>\n",
       "      <th>0</th>\n",
       "      <td>5.1</td>\n",
       "      <td>3.5</td>\n",
       "      <td>1.4</td>\n",
       "      <td>0.2</td>\n",
       "    </tr>\n",
       "    <tr>\n",
       "      <th>1</th>\n",
       "      <td>4.9</td>\n",
       "      <td>3.0</td>\n",
       "      <td>1.4</td>\n",
       "      <td>0.2</td>\n",
       "    </tr>\n",
       "    <tr>\n",
       "      <th>2</th>\n",
       "      <td>4.7</td>\n",
       "      <td>3.2</td>\n",
       "      <td>1.3</td>\n",
       "      <td>0.2</td>\n",
       "    </tr>\n",
       "    <tr>\n",
       "      <th>3</th>\n",
       "      <td>4.6</td>\n",
       "      <td>3.1</td>\n",
       "      <td>1.5</td>\n",
       "      <td>0.2</td>\n",
       "    </tr>\n",
       "    <tr>\n",
       "      <th>4</th>\n",
       "      <td>5.0</td>\n",
       "      <td>3.6</td>\n",
       "      <td>1.4</td>\n",
       "      <td>0.2</td>\n",
       "    </tr>\n",
       "    <tr>\n",
       "      <th>...</th>\n",
       "      <td>...</td>\n",
       "      <td>...</td>\n",
       "      <td>...</td>\n",
       "      <td>...</td>\n",
       "    </tr>\n",
       "    <tr>\n",
       "      <th>145</th>\n",
       "      <td>6.7</td>\n",
       "      <td>3.0</td>\n",
       "      <td>5.2</td>\n",
       "      <td>2.3</td>\n",
       "    </tr>\n",
       "    <tr>\n",
       "      <th>146</th>\n",
       "      <td>6.3</td>\n",
       "      <td>2.5</td>\n",
       "      <td>5.0</td>\n",
       "      <td>1.9</td>\n",
       "    </tr>\n",
       "    <tr>\n",
       "      <th>147</th>\n",
       "      <td>6.5</td>\n",
       "      <td>3.0</td>\n",
       "      <td>5.2</td>\n",
       "      <td>2.0</td>\n",
       "    </tr>\n",
       "    <tr>\n",
       "      <th>148</th>\n",
       "      <td>6.2</td>\n",
       "      <td>3.4</td>\n",
       "      <td>5.4</td>\n",
       "      <td>2.3</td>\n",
       "    </tr>\n",
       "    <tr>\n",
       "      <th>149</th>\n",
       "      <td>5.9</td>\n",
       "      <td>3.0</td>\n",
       "      <td>5.1</td>\n",
       "      <td>1.8</td>\n",
       "    </tr>\n",
       "  </tbody>\n",
       "</table>\n",
       "<p>150 rows × 4 columns</p>\n",
       "</div>"
      ],
      "text/plain": [
       "       0    1    2    3\n",
       "0    5.1  3.5  1.4  0.2\n",
       "1    4.9  3.0  1.4  0.2\n",
       "2    4.7  3.2  1.3  0.2\n",
       "3    4.6  3.1  1.5  0.2\n",
       "4    5.0  3.6  1.4  0.2\n",
       "..   ...  ...  ...  ...\n",
       "145  6.7  3.0  5.2  2.3\n",
       "146  6.3  2.5  5.0  1.9\n",
       "147  6.5  3.0  5.2  2.0\n",
       "148  6.2  3.4  5.4  2.3\n",
       "149  5.9  3.0  5.1  1.8\n",
       "\n",
       "[150 rows x 4 columns]"
      ]
     },
     "execution_count": 36,
     "metadata": {},
     "output_type": "execute_result"
    }
   ],
   "source": [
    "df"
   ]
  },
  {
   "cell_type": "code",
   "execution_count": 37,
   "id": "2001e2ad-d4d3-4b52-95d1-a28cb89701ac",
   "metadata": {},
   "outputs": [
    {
     "name": "stdout",
     "output_type": "stream",
     "text": [
      "          0         1         2         3\n",
      "0  1.000000 -0.117570  0.871754  0.817941\n",
      "1 -0.117570  1.000000 -0.428440 -0.366126\n",
      "2  0.871754 -0.428440  1.000000  0.962865\n",
      "3  0.817941 -0.366126  0.962865  1.000000\n"
     ]
    }
   ],
   "source": [
    "corr_matrix = df.corr()\n",
    "print(corr_matrix)"
   ]
  },
  {
   "cell_type": "code",
   "execution_count": 39,
   "id": "38caf724-e7e7-4123-91f4-c416e8ab8344",
   "metadata": {},
   "outputs": [
    {
     "data": {
      "image/png": "[encoded data removed]",
      "text/plain": [
       "<Figure size 800x600 with 2 Axes>"
      ]
     },
     "metadata": {},
     "output_type": "display_data"
    }
   ],
   "source": [
    "plt.figure(figsize=(8,6))\n",
    "plt.title(\"Correlation Heatmap of Iris dataset\")\n",
    "a = sns.heatmap(corr_matrix, square=True, annot=True, fmt=\".2f\", linecolor=\"black\")\n",
    "plt.show()"
   ]
  },
  {
   "cell_type": "code",
   "execution_count": 42,
   "id": "52424754-7a70-48da-b2ed-2c9163d00bdc",
   "metadata": {},
   "outputs": [
    {
     "data": {
      "text/html": [
       "<div>\n",
       "<style scoped>\n",
       "    .dataframe tbody tr th:only-of-type {\n",
       "        vertical-align: middle;\n",
       "    }\n",
       "\n",
       "    .dataframe tbody tr th {\n",
       "        vertical-align: top;\n",
       "    }\n",
       "\n",
       "    .dataframe thead th {\n",
       "        text-align: right;\n",
       "    }\n",
       "</style>\n",
       "<table border=\"1\" class=\"dataframe\">\n",
       "  <thead>\n",
       "    <tr style=\"text-align: right;\">\n",
       "      <th></th>\n",
       "      <th>0</th>\n",
       "      <th>1</th>\n",
       "      <th>2</th>\n",
       "      <th>3</th>\n",
       "    </tr>\n",
       "  </thead>\n",
       "  <tbody>\n",
       "    <tr>\n",
       "      <th>0</th>\n",
       "      <td>NaN</td>\n",
       "      <td>-0.11757</td>\n",
       "      <td>0.871754</td>\n",
       "      <td>0.817941</td>\n",
       "    </tr>\n",
       "    <tr>\n",
       "      <th>1</th>\n",
       "      <td>NaN</td>\n",
       "      <td>NaN</td>\n",
       "      <td>-0.428440</td>\n",
       "      <td>-0.366126</td>\n",
       "    </tr>\n",
       "    <tr>\n",
       "      <th>2</th>\n",
       "      <td>NaN</td>\n",
       "      <td>NaN</td>\n",
       "      <td>NaN</td>\n",
       "      <td>0.962865</td>\n",
       "    </tr>\n",
       "    <tr>\n",
       "      <th>3</th>\n",
       "      <td>NaN</td>\n",
       "      <td>NaN</td>\n",
       "      <td>NaN</td>\n",
       "      <td>NaN</td>\n",
       "    </tr>\n",
       "  </tbody>\n",
       "</table>\n",
       "</div>"
      ],
      "text/plain": [
       "    0        1         2         3\n",
       "0 NaN -0.11757  0.871754  0.817941\n",
       "1 NaN      NaN -0.428440 -0.366126\n",
       "2 NaN      NaN       NaN  0.962865\n",
       "3 NaN      NaN       NaN       NaN"
      ]
     },
     "execution_count": 42,
     "metadata": {},
     "output_type": "execute_result"
    }
   ],
   "source": [
    "# select upper triangle of correlation matrix\n",
    "upper = corr_matrix.where(np.triu(np.ones(corr_matrix.shape), k=1).astype(bool))\n",
    "upper"
   ]
  },
  {
   "cell_type": "code",
   "execution_count": 43,
   "id": "eee34f71-9807-4c1e-8c24-db46e8c1efe1",
   "metadata": {},
   "outputs": [
    {
     "name": "stdout",
     "output_type": "stream",
     "text": [
      "[3]\n"
     ]
    }
   ],
   "source": [
    "# Find index of feature columns with correlation greater than 0.9\n",
    "to_drop = [column for column in upper.columns if any(upper[column] > 0.9)]\n",
    "print(to_drop)"
   ]
  },
  {
   "cell_type": "code",
   "execution_count": 44,
   "id": "40c28714-8b27-468c-aaa8-ad3cd5e9ceff",
   "metadata": {},
   "outputs": [],
   "source": [
    "# Drop Marked Features\n",
    "df1 = df.drop(df.columns[to_drop], axis=1)"
   ]
  },
  {
   "cell_type": "code",
   "execution_count": 45,
   "id": "774f79e5-708e-46fa-99d1-e2276e7a3fdb",
   "metadata": {},
   "outputs": [
    {
     "data": {
      "text/html": [
       "<div>\n",
       "<style scoped>\n",
       "    .dataframe tbody tr th:only-of-type {\n",
       "        vertical-align: middle;\n",
       "    }\n",
       "\n",
       "    .dataframe tbody tr th {\n",
       "        vertical-align: top;\n",
       "    }\n",
       "\n",
       "    .dataframe thead th {\n",
       "        text-align: right;\n",
       "    }\n",
       "</style>\n",
       "<table border=\"1\" class=\"dataframe\">\n",
       "  <thead>\n",
       "    <tr style=\"text-align: right;\">\n",
       "      <th></th>\n",
       "      <th>0</th>\n",
       "      <th>1</th>\n",
       "      <th>2</th>\n",
       "    </tr>\n",
       "  </thead>\n",
       "  <tbody>\n",
       "    <tr>\n",
       "      <th>0</th>\n",
       "      <td>5.1</td>\n",
       "      <td>3.5</td>\n",
       "      <td>1.4</td>\n",
       "    </tr>\n",
       "    <tr>\n",
       "      <th>1</th>\n",
       "      <td>4.9</td>\n",
       "      <td>3.0</td>\n",
       "      <td>1.4</td>\n",
       "    </tr>\n",
       "    <tr>\n",
       "      <th>2</th>\n",
       "      <td>4.7</td>\n",
       "      <td>3.2</td>\n",
       "      <td>1.3</td>\n",
       "    </tr>\n",
       "    <tr>\n",
       "      <th>3</th>\n",
       "      <td>4.6</td>\n",
       "      <td>3.1</td>\n",
       "      <td>1.5</td>\n",
       "    </tr>\n",
       "    <tr>\n",
       "      <th>4</th>\n",
       "      <td>5.0</td>\n",
       "      <td>3.6</td>\n",
       "      <td>1.4</td>\n",
       "    </tr>\n",
       "    <tr>\n",
       "      <th>...</th>\n",
       "      <td>...</td>\n",
       "      <td>...</td>\n",
       "      <td>...</td>\n",
       "    </tr>\n",
       "    <tr>\n",
       "      <th>145</th>\n",
       "      <td>6.7</td>\n",
       "      <td>3.0</td>\n",
       "      <td>5.2</td>\n",
       "    </tr>\n",
       "    <tr>\n",
       "      <th>146</th>\n",
       "      <td>6.3</td>\n",
       "      <td>2.5</td>\n",
       "      <td>5.0</td>\n",
       "    </tr>\n",
       "    <tr>\n",
       "      <th>147</th>\n",
       "      <td>6.5</td>\n",
       "      <td>3.0</td>\n",
       "      <td>5.2</td>\n",
       "    </tr>\n",
       "    <tr>\n",
       "      <th>148</th>\n",
       "      <td>6.2</td>\n",
       "      <td>3.4</td>\n",
       "      <td>5.4</td>\n",
       "    </tr>\n",
       "    <tr>\n",
       "      <th>149</th>\n",
       "      <td>5.9</td>\n",
       "      <td>3.0</td>\n",
       "      <td>5.1</td>\n",
       "    </tr>\n",
       "  </tbody>\n",
       "</table>\n",
       "<p>150 rows × 3 columns</p>\n",
       "</div>"
      ],
      "text/plain": [
       "       0    1    2\n",
       "0    5.1  3.5  1.4\n",
       "1    4.9  3.0  1.4\n",
       "2    4.7  3.2  1.3\n",
       "3    4.6  3.1  1.5\n",
       "4    5.0  3.6  1.4\n",
       "..   ...  ...  ...\n",
       "145  6.7  3.0  5.2\n",
       "146  6.3  2.5  5.0\n",
       "147  6.5  3.0  5.2\n",
       "148  6.2  3.4  5.4\n",
       "149  5.9  3.0  5.1\n",
       "\n",
       "[150 rows x 3 columns]"
      ]
     },
     "execution_count": 45,
     "metadata": {},
     "output_type": "execute_result"
    }
   ],
   "source": [
    "df1"
   ]
  },
  {
   "cell_type": "markdown",
   "id": "feb93c11-9412-4efd-acc4-68dd5d130ac5",
   "metadata": {},
   "source": [
    "# 3. Wrapped methods\n",
    "- Follows a 3 step framework:\n",
    "  - Select a subset of features\n",
    "  - Train a model on this subset of features\n",
    "  - Add or remove features based on model results (inferences)\n",
    "\n",
    "\n",
    "- It tends to be computationally very expensive\n",
    "\n",
    "\n",
    "- Examples include\n",
    "  - 1. Forward selection\n",
    "  - 2. Backward elimination\n",
    "  - 3. Exhaustive feature selection\n",
    "  - 4. Recursive feature elimination\n",
    "  - 5. Recursive feature elimination with cross-validation\n",
    " "
   ]
  },
  {
   "cell_type": "markdown",
   "id": "02f3695e-c9b8-49b2-bd8d-a8119d11ace1",
   "metadata": {},
   "source": [
    "## 3.1 Forward selection\n",
    "- Start with zero features\n",
    "- Each iteration adds the feature that best improves our model\n",
    "- It stops when the addition of a new variable does not improve performance of the model\n",
    "\n",
    "- To evaluate the best feature it uses a evaluation metric / criteria such as roc_auc ofr classification and R squared for regression\n",
    "\n",
    "- This is a **greedy** selection procedure, as it evaluates all possible combinations of feature in each iteration\n",
    "- Feature space can become unfeasible depending on the size of the problem"
   ]
  },
  {
   "cell_type": "code",
   "execution_count": 47,
   "id": "6c8e7e7d-e52b-4867-a42d-c17309a19a83",
   "metadata": {},
   "outputs": [],
   "source": [
    "# step forward feature selection\n",
    "from sklearn.model_selection import train_test_split\n",
    "from sklearn.ensemble import RandomForestRegressor\n",
    "from sklearn.metrics import r2_score\n",
    "from mlxtend.feature_selection import SequentialFeatureSelector as SFS"
   ]
  },
  {
   "cell_type": "code",
   "execution_count": 48,
   "id": "7eae6c33-55be-4f31-b9da-a80d7af02470",
   "metadata": {},
   "outputs": [
    {
     "data": {
      "text/plain": [
       "(1460, 81)"
      ]
     },
     "execution_count": 48,
     "metadata": {},
     "output_type": "execute_result"
    }
   ],
   "source": [
    "# load dataset\n",
    "data = pd.read_csv(\"../house_prices_advanced_regression/inputs/train.csv\")\n",
    "data.shape"
   ]
  },
  {
   "cell_type": "code",
   "execution_count": 50,
   "id": "5e6837ba-6a03-4f68-bd89-36690487e27e",
   "metadata": {},
   "outputs": [
    {
     "data": {
      "text/plain": [
       "(1460, 81)"
      ]
     },
     "execution_count": 50,
     "metadata": {},
     "output_type": "execute_result"
    }
   ],
   "source": [
    "# In practice, feature selection should be done after data pre-processing\n",
    "# So ideally, all the categorical variables are encoded into numbers\n",
    "# and then you can assess how deterministic they are of the target\n",
    "# here for simplicity I will use only numerical variables\n",
    "\n",
    "# select numerical columns:\n",
    "numerics = [\"int16\",\"int32\",\"int64\",\"float16\",\"float32\",\"float64\"]\n",
    "numeric_vars = list(data.select_dtypes(include=numerics).columns)\n",
    "data1 = data[numeric_vars]\n",
    "data.shape"
   ]
  },
  {
   "cell_type": "code",
   "execution_count": 52,
   "id": "0236c55b-8113-40fe-98ed-d508b2e61a9d",
   "metadata": {},
   "outputs": [
    {
     "data": {
      "text/plain": [
       "((1022, 36), (438, 36))"
      ]
     },
     "execution_count": 52,
     "metadata": {},
     "output_type": "execute_result"
    }
   ],
   "source": [
    "# separate train and test sets\n",
    "\n",
    "X_train, X_test, y_train, y_test = train_test_split(\n",
    "    data1.drop(labels=[\"Id\",\"SalePrice\"], axis=1),\n",
    "    data1[\"SalePrice\"],\n",
    "    test_size=0.3,\n",
    "    random_state=0\n",
    ")\n",
    "\n",
    "X_train.shape, X_test.shape"
   ]
  },
  {
   "cell_type": "code",
   "execution_count": 56,
   "id": "02ecad50-7867-42f6-8acb-ee8e3b3b0f12",
   "metadata": {},
   "outputs": [
    {
     "name": "stdout",
     "output_type": "stream",
     "text": [
      "correlated features {'GarageYrBlt', 'TotRmsAbvGrd', 'GarageArea'}\n"
     ]
    }
   ],
   "source": [
    "# find and remove correlated features\n",
    "\n",
    "def correlation(dataset, threshold):\n",
    "    col_corr = set() #set of all the names of correlated columns\n",
    "    corr_matrix = dataset.corr()\n",
    "    for column_index in range(len(corr_matrix.columns)):\n",
    "        for row_index in range(column_index):\n",
    "            if abs(corr_matrix.iloc[row_index, column_index]) > threshold:\n",
    "                colname = corr_matrix.columns[column_index]\n",
    "                col_corr.add(colname)\n",
    "    return col_corr\n",
    "\n",
    "corr_features = correlation(X_train, 0.8)\n",
    "print('correlated features', corr_features)"
   ]
  },
  {
   "cell_type": "code",
   "execution_count": 58,
   "id": "ea4c4e10-725c-4b78-bd97-95345db0a67b",
   "metadata": {},
   "outputs": [],
   "source": [
    "# removed correlated features\n",
    "X_train = X_train.drop(labels=corr_features, axis=1)\n",
    "X_test = X_test.drop(labels=corr_features, axis=1)"
   ]
  },
  {
   "cell_type": "code",
   "execution_count": 59,
   "id": "844d27c5-0e4d-4516-876c-586035172710",
   "metadata": {},
   "outputs": [
    {
     "data": {
      "text/plain": [
       "((1022, 33), (438, 33))"
      ]
     },
     "execution_count": 59,
     "metadata": {},
     "output_type": "execute_result"
    }
   ],
   "source": [
    "X_train.shape, X_test.shape"
   ]
  },
  {
   "cell_type": "code",
   "execution_count": 60,
   "id": "ad6d5fc0-9a04-4414-83a7-f25c10bf5e09",
   "metadata": {},
   "outputs": [],
   "source": [
    "X_train.fillna(0, inplace=True)"
   ]
  },
  {
   "cell_type": "code",
   "execution_count": 63,
   "id": "a9949d30-743d-4108-adc4-e271b8af693f",
   "metadata": {},
   "outputs": [
    {
     "name": "stderr",
     "output_type": "stream",
     "text": [
      "[Parallel(n_jobs=3)]: Using backend LokyBackend with 3 concurrent workers.\n",
      "[Parallel(n_jobs=3)]: Done  33 out of  33 | elapsed:    7.8s finished\n",
      "\n",
      "[2023-03-22 11:09:07] Features: 1/10 -- score: 0.6677356911525713[Parallel(n_jobs=3)]: Using backend LokyBackend with 3 concurrent workers.\n",
      "[Parallel(n_jobs=3)]: Done  32 out of  32 | elapsed:    5.6s finished\n",
      "\n",
      "[2023-03-22 11:09:13] Features: 2/10 -- score: 0.7228543478833437[Parallel(n_jobs=3)]: Using backend LokyBackend with 3 concurrent workers.\n",
      "[Parallel(n_jobs=3)]: Done  31 out of  31 | elapsed:    6.1s finished\n",
      "\n",
      "[2023-03-22 11:09:19] Features: 3/10 -- score: 0.745200184211091[Parallel(n_jobs=3)]: Using backend LokyBackend with 3 concurrent workers.\n",
      "[Parallel(n_jobs=3)]: Done  30 out of  30 | elapsed:    6.3s finished\n",
      "\n",
      "[2023-03-22 11:09:25] Features: 4/10 -- score: 0.7639842109190275[Parallel(n_jobs=3)]: Using backend LokyBackend with 3 concurrent workers.\n",
      "[Parallel(n_jobs=3)]: Done  29 out of  29 | elapsed:    6.7s finished\n",
      "\n",
      "[2023-03-22 11:09:32] Features: 5/10 -- score: 0.7710372452731299[Parallel(n_jobs=3)]: Using backend LokyBackend with 3 concurrent workers.\n",
      "[Parallel(n_jobs=3)]: Done  28 out of  28 | elapsed:    6.6s finished\n",
      "\n",
      "[2023-03-22 11:09:39] Features: 6/10 -- score: 0.7726173459858616[Parallel(n_jobs=3)]: Using backend LokyBackend with 3 concurrent workers.\n",
      "[Parallel(n_jobs=3)]: Done  27 out of  27 | elapsed:    8.8s finished\n",
      "\n",
      "[2023-03-22 11:09:48] Features: 7/10 -- score: 0.7925722304964794[Parallel(n_jobs=3)]: Using backend LokyBackend with 3 concurrent workers.\n",
      "[Parallel(n_jobs=3)]: Done  26 out of  26 | elapsed:   11.8s finished\n",
      "\n",
      "[2023-03-22 11:09:59] Features: 8/10 -- score: 0.8274626162824498[Parallel(n_jobs=3)]: Using backend LokyBackend with 3 concurrent workers.\n",
      "[Parallel(n_jobs=3)]: Done  25 out of  25 | elapsed:   11.5s finished\n",
      "\n",
      "[2023-03-22 11:10:11] Features: 9/10 -- score: 0.8396330173152101[Parallel(n_jobs=3)]: Using backend LokyBackend with 3 concurrent workers.\n",
      "[Parallel(n_jobs=3)]: Done  24 out of  24 | elapsed:   11.0s finished\n",
      "\n",
      "[2023-03-22 11:10:22] Features: 10/10 -- score: 0.8524380635584952"
     ]
    }
   ],
   "source": [
    "# step forward feature selection\n",
    "\n",
    "from mlxtend.feature_selection import SequentialFeatureSelector as SFS\n",
    "\n",
    "sfs1 = SFS(RandomForestRegressor(),\n",
    "           k_features=10,\n",
    "           forward=True,\n",
    "           floating=False,\n",
    "           verbose=2,\n",
    "           scoring='r2',\n",
    "           cv=3,\n",
    "           n_jobs=3)\n",
    "\n",
    "sfs_forward_fitted = sfs1.fit(np.array(X_train), y_train)"
   ]
  },
  {
   "cell_type": "code",
   "execution_count": 64,
   "id": "d4161430-167f-41da-b759-33ccac341a78",
   "metadata": {},
   "outputs": [
    {
     "data": {
      "text/plain": [
       "(3, 4, 5, 8, 13, 15, 16, 18, 21, 23)"
      ]
     },
     "execution_count": 64,
     "metadata": {},
     "output_type": "execute_result"
    }
   ],
   "source": [
    "sfs_forward_fitted.k_feature_idx_"
   ]
  },
  {
   "cell_type": "code",
   "execution_count": 65,
   "id": "fce6ecba-df1a-4278-9c33-c3ef62b25032",
   "metadata": {},
   "outputs": [
    {
     "data": {
      "text/plain": [
       "Index(['OverallQual', 'OverallCond', 'YearBuilt', 'BsmtFinSF1', '2ndFlrSF',\n",
       "       'GrLivArea', 'BsmtFullBath', 'FullBath', 'KitchenAbvGr', 'GarageCars'],\n",
       "      dtype='object')"
      ]
     },
     "execution_count": 65,
     "metadata": {},
     "output_type": "execute_result"
    }
   ],
   "source": [
    "X_train.columns[list(sfs_forward_fitted.k_feature_idx_)]"
   ]
  },
  {
   "cell_type": "markdown",
   "id": "9ff4d469-e826-4810-91ee-a55625c8f720",
   "metadata": {},
   "source": [
    "- We can see that forward feature selection results in the above columns being selected from all the given columns"
   ]
  },
  {
   "cell_type": "markdown",
   "id": "22447dac-40d2-4c01-ac37-ef14963f7566",
   "metadata": {},
   "source": [
    "## 3.2 Backward Elimination\n",
    "\n",
    "- We start with all features\n",
    "- We remove the least significant feature at each iteration, which improves the performance of the model\n",
    "- Repeat this until no improvement is observed on removal of features"
   ]
  },
  {
   "cell_type": "code",
   "execution_count": 66,
   "id": "a9570ea3-256f-468e-a9f9-ee5cb3b29c64",
   "metadata": {},
   "outputs": [
    {
     "name": "stderr",
     "output_type": "stream",
     "text": [
      "[Parallel(n_jobs=3)]: Using backend LokyBackend with 3 concurrent workers.\n",
      "[Parallel(n_jobs=3)]: Done  33 out of  33 | elapsed:   32.9s finished\n",
      "\n",
      "[2023-03-22 11:18:27] Features: 32/10 -- score: 0.8617481706053997[Parallel(n_jobs=3)]: Using backend LokyBackend with 3 concurrent workers.\n",
      "[Parallel(n_jobs=3)]: Done  32 out of  32 | elapsed:   30.3s finished\n",
      "\n",
      "[2023-03-22 11:18:57] Features: 31/10 -- score: 0.8609262338843716[Parallel(n_jobs=3)]: Using backend LokyBackend with 3 concurrent workers.\n",
      "[Parallel(n_jobs=3)]: Done  31 out of  31 | elapsed:   30.5s finished\n",
      "\n",
      "[2023-03-22 11:19:28] Features: 30/10 -- score: 0.8622116551287564[Parallel(n_jobs=3)]: Using backend LokyBackend with 3 concurrent workers.\n",
      "[Parallel(n_jobs=3)]: Done  30 out of  30 | elapsed:   30.0s finished\n",
      "\n",
      "[2023-03-22 11:19:58] Features: 29/10 -- score: 0.8609048303469239[Parallel(n_jobs=3)]: Using backend LokyBackend with 3 concurrent workers.\n",
      "[Parallel(n_jobs=3)]: Done  29 out of  29 | elapsed:   34.2s finished\n",
      "\n",
      "[2023-03-22 11:20:32] Features: 28/10 -- score: 0.8628185470528568[Parallel(n_jobs=3)]: Using backend LokyBackend with 3 concurrent workers.\n",
      "[Parallel(n_jobs=3)]: Done  28 out of  28 | elapsed:   28.8s finished\n",
      "\n",
      "[2023-03-22 11:21:01] Features: 27/10 -- score: 0.8610662540419828[Parallel(n_jobs=3)]: Using backend LokyBackend with 3 concurrent workers.\n",
      "[Parallel(n_jobs=3)]: Done  27 out of  27 | elapsed:   28.5s finished\n",
      "\n",
      "[2023-03-22 11:21:30] Features: 26/10 -- score: 0.8637885102738331[Parallel(n_jobs=3)]: Using backend LokyBackend with 3 concurrent workers.\n",
      "[Parallel(n_jobs=3)]: Done  26 out of  26 | elapsed:   31.8s finished\n",
      "\n",
      "[2023-03-22 11:22:01] Features: 25/10 -- score: 0.8649114469834362[Parallel(n_jobs=3)]: Using backend LokyBackend with 3 concurrent workers.\n",
      "[Parallel(n_jobs=3)]: Done  25 out of  25 | elapsed:   27.8s finished\n",
      "\n",
      "[2023-03-22 11:22:29] Features: 24/10 -- score: 0.8641893415991401[Parallel(n_jobs=3)]: Using backend LokyBackend with 3 concurrent workers.\n",
      "[Parallel(n_jobs=3)]: Done  24 out of  24 | elapsed:   25.9s finished\n",
      "\n",
      "[2023-03-22 11:22:55] Features: 23/10 -- score: 0.862389454938768[Parallel(n_jobs=3)]: Using backend LokyBackend with 3 concurrent workers.\n",
      "[Parallel(n_jobs=3)]: Done  23 out of  23 | elapsed:   20.8s finished\n",
      "\n",
      "[2023-03-22 11:23:16] Features: 22/10 -- score: 0.861521162176459[Parallel(n_jobs=3)]: Using backend LokyBackend with 3 concurrent workers.\n",
      "[Parallel(n_jobs=3)]: Done  22 out of  22 | elapsed:   18.2s finished\n",
      "\n",
      "[2023-03-22 11:23:35] Features: 21/10 -- score: 0.8635931678721672[Parallel(n_jobs=3)]: Using backend LokyBackend with 3 concurrent workers.\n",
      "[Parallel(n_jobs=3)]: Done  21 out of  21 | elapsed:   16.0s finished\n",
      "\n",
      "[2023-03-22 11:23:51] Features: 20/10 -- score: 0.8631670774951973[Parallel(n_jobs=3)]: Using backend LokyBackend with 3 concurrent workers.\n",
      "[Parallel(n_jobs=3)]: Done  20 out of  20 | elapsed:   14.7s finished\n",
      "\n",
      "[2023-03-22 11:24:05] Features: 19/10 -- score: 0.8617051246791857[Parallel(n_jobs=3)]: Using backend LokyBackend with 3 concurrent workers.\n",
      "[Parallel(n_jobs=3)]: Done  19 out of  19 | elapsed:   14.0s finished\n",
      "\n",
      "[2023-03-22 11:24:19] Features: 18/10 -- score: 0.8641303383100327[Parallel(n_jobs=3)]: Using backend LokyBackend with 3 concurrent workers.\n",
      "[Parallel(n_jobs=3)]: Done  18 out of  18 | elapsed:   15.1s finished\n",
      "\n",
      "[2023-03-22 11:24:35] Features: 17/10 -- score: 0.8628457402931167[Parallel(n_jobs=3)]: Using backend LokyBackend with 3 concurrent workers.\n",
      "[Parallel(n_jobs=3)]: Done  17 out of  17 | elapsed:   13.4s finished\n",
      "\n",
      "[2023-03-22 11:24:48] Features: 16/10 -- score: 0.8604233728472258[Parallel(n_jobs=3)]: Using backend LokyBackend with 3 concurrent workers.\n",
      "[Parallel(n_jobs=3)]: Done  16 out of  16 | elapsed:   13.0s finished\n",
      "\n",
      "[2023-03-22 11:25:01] Features: 15/10 -- score: 0.859357884366437[Parallel(n_jobs=3)]: Using backend LokyBackend with 3 concurrent workers.\n",
      "[Parallel(n_jobs=3)]: Done  15 out of  15 | elapsed:   11.1s finished\n",
      "\n",
      "[2023-03-22 11:25:12] Features: 14/10 -- score: 0.8562542748324042[Parallel(n_jobs=3)]: Using backend LokyBackend with 3 concurrent workers.\n",
      "[Parallel(n_jobs=3)]: Done  14 out of  14 | elapsed:    9.5s finished\n",
      "\n",
      "[2023-03-22 11:25:22] Features: 13/10 -- score: 0.8578863343127089[Parallel(n_jobs=3)]: Using backend LokyBackend with 3 concurrent workers.\n",
      "[Parallel(n_jobs=3)]: Done  13 out of  13 | elapsed:    8.9s finished\n",
      "\n",
      "[2023-03-22 11:25:31] Features: 12/10 -- score: 0.8537794398609563[Parallel(n_jobs=3)]: Using backend LokyBackend with 3 concurrent workers.\n",
      "[Parallel(n_jobs=3)]: Done  12 out of  12 | elapsed:    7.1s finished\n",
      "\n",
      "[2023-03-22 11:25:38] Features: 11/10 -- score: 0.8538913742207898[Parallel(n_jobs=3)]: Using backend LokyBackend with 3 concurrent workers.\n",
      "[Parallel(n_jobs=3)]: Done  11 out of  11 | elapsed:    7.5s finished\n",
      "\n",
      "[2023-03-22 11:25:46] Features: 10/10 -- score: 0.8530521191204047"
     ]
    }
   ],
   "source": [
    "# Step backward feature elimination\n",
    "\n",
    "sfs2 = SFS(RandomForestRegressor(),\n",
    "           k_features=10,\n",
    "           forward=False,\n",
    "           floating=False,\n",
    "           verbose=2,\n",
    "           scoring='r2',\n",
    "           cv=3,\n",
    "           n_jobs=3)\n",
    "\n",
    "sfs_backward_fitted = sfs2.fit(np.array(X_train), y_train) "
   ]
  },
  {
   "cell_type": "code",
   "execution_count": 67,
   "id": "8bbcbc4a-9b94-4654-8e5c-8f6ff01e14a4",
   "metadata": {},
   "outputs": [
    {
     "data": {
      "text/plain": [
       "(0, 3, 6, 8, 13, 15, 21, 23, 24, 25)"
      ]
     },
     "execution_count": 67,
     "metadata": {},
     "output_type": "execute_result"
    }
   ],
   "source": [
    "sfs_backward_fitted.k_feature_idx_"
   ]
  },
  {
   "cell_type": "code",
   "execution_count": 69,
   "id": "8aa30644-835a-4621-a34d-54868b2de3b1",
   "metadata": {},
   "outputs": [
    {
     "data": {
      "text/plain": [
       "Index(['MSSubClass', 'OverallQual', 'YearRemodAdd', 'BsmtFinSF1', '2ndFlrSF',\n",
       "       'GrLivArea', 'KitchenAbvGr', 'GarageCars', 'WoodDeckSF', 'OpenPorchSF'],\n",
       "      dtype='object')"
      ]
     },
     "execution_count": 69,
     "metadata": {},
     "output_type": "execute_result"
    }
   ],
   "source": [
    "X_train.columns[list(sfs_backward_fitted.k_feature_idx_)]"
   ]
  },
  {
   "cell_type": "markdown",
   "id": "2c3bdeed-f92e-413d-b457-f660f3a03e32",
   "metadata": {},
   "source": [
    "- Look how first iterations of Backward Selection are ~3 times slower than Forward"
   ]
  },
  {
   "cell_type": "markdown",
   "id": "4bda1b7d-7c1a-4bd5-a4d6-b222e0e6d65f",
   "metadata": {},
   "source": [
    "## 3.3 Exhaustive Feature Selection\n",
    "\n",
    "- Best subset of fatures is selected over all possible feature subsets\n",
    "- Optimized using a performance metric\n",
    "- Logistic Regression on 4 features -> 15 combinations\n",
    "  - All combinations of 1 feature (4)\n",
    "  - All combinations of 2 features (6)\n",
    "  - All combinations of 3 featues (4)\n",
    "  - All combinations of 4 feature (1)\n",
    "\n",
    "- Greedu algorithm that performs all combinations\n",
    "- Extremely computationally expensive\n",
    "- mlxtend implementation of exhaustive feature selection contains a stopping criteria with an arbitrarily set number of features\n",
    "- This may lead to suboptimal results"
   ]
  },
  {
   "cell_type": "markdown",
   "id": "5b19bef4-7406-4fb0-a10b-e890d5f55276",
   "metadata": {},
   "source": [
    "## 3.4 Recursive Feature eliminiation\n",
    "- Greedy optimization\n",
    "- Repeatedly creates models and keeps aside the best or the wors performing feature at each iteration\n",
    "- It constructs the next model with the left features until all the features are exhausted\n",
    "- It then ranks the features based on the order of their elimination\n",
    "- In the rost case, given N number of features, the search will be done on 2N combinations of features"
   ]
  },
  {
   "cell_type": "markdown",
   "id": "0377328d-ce1a-481a-9f3b-d74536ca2035",
   "metadata": {},
   "source": [
    "## 3.5 Recursive Feature Elimination with Cross-Validation\n",
    "- Same thing, but with cross_validation"
   ]
  },
  {
   "cell_type": "markdown",
   "id": "91b1f2bb-5cb7-435c-a7a8-2a70aebf657b",
   "metadata": {},
   "source": [
    "# 4. Embedded Methods\n",
    "- Uses model with embedded feature seleciton in their training process in order to extract most relevant features\n",
    "- Regularization methods are the most commonly used embedded methods, which penalize a feature given a coefficient threshold (Lasso, Ridge)\n",
    "- Regularization methods also introducte additional constraints into the optimization of a prediction model, which lead the mode toward lower complexity"
   ]
  },
  {
   "cell_type": "markdown",
   "id": "7bbf77ac-697d-4480-a3dc-17b5f324ca8c",
   "metadata": {},
   "source": [
    "## 4.1 Lasso Regression\n",
    "\n",
    "- Performs L1 regularization, wihch adds penalty equivalent to absolute value of the magnitude of coefficients\n",
    "- May shrink some coefficients to zero"
   ]
  },
  {
   "cell_type": "code",
   "execution_count": 70,
   "id": "bd597f50-95d2-4ef1-bbee-56050196b5e8",
   "metadata": {},
   "outputs": [],
   "source": [
    "# load libraries\n",
    "from sklearn.model_selection import train_test_split\n",
    "from sklearn.linear_model import Lasso\n",
    "from sklearn.feature_selection import SelectFromModel\n",
    "from sklearn.preprocessing import StandardScaler"
   ]
  },
  {
   "cell_type": "code",
   "execution_count": 71,
   "id": "4cf5152d-b2c4-4744-a5b9-9215c7897519",
   "metadata": {},
   "outputs": [
    {
     "data": {
      "text/plain": [
       "(1460, 81)"
      ]
     },
     "execution_count": 71,
     "metadata": {},
     "output_type": "execute_result"
    }
   ],
   "source": [
    "# load dataset\n",
    "data = pd.read_csv(\"../house_prices_advanced_regression/inputs/train.csv\")\n",
    "data.shape"
   ]
  },
  {
   "cell_type": "code",
   "execution_count": 72,
   "id": "f882e004-ea7a-4031-8b3f-9692d2c3d0e3",
   "metadata": {},
   "outputs": [
    {
     "data": {
      "text/plain": [
       "((1022, 36), (438, 36))"
      ]
     },
     "execution_count": 72,
     "metadata": {},
     "output_type": "execute_result"
    }
   ],
   "source": [
    "# separate train and test sets\n",
    "\n",
    "X_train, X_test, y_train, y_test = train_test_split(\n",
    "    data1.drop(labels=[\"Id\",\"SalePrice\"], axis=1),\n",
    "    data1[\"SalePrice\"],\n",
    "    test_size=0.3,\n",
    "    random_state=0\n",
    ")\n",
    "\n",
    "X_train.shape, X_test.shape"
   ]
  },
  {
   "cell_type": "code",
   "execution_count": 73,
   "id": "c5aaf3f8-b473-48d3-9494-ce27ace22c34",
   "metadata": {},
   "outputs": [
    {
     "data": {
      "text/html": [
       "<style>#sk-container-id-3 {color: black;background-color: white;}#sk-container-id-3 pre{padding: 0;}#sk-container-id-3 div.sk-toggleable {background-color: white;}#sk-container-id-3 label.sk-toggleable__label {cursor: pointer;display: block;width: 100%;margin-bottom: 0;padding: 0.3em;box-sizing: border-box;text-align: center;}#sk-container-id-3 label.sk-toggleable__label-arrow:before {content: \"▸\";float: left;margin-right: 0.25em;color: #696969;}#sk-container-id-3 label.sk-toggleable__label-arrow:hover:before {color: black;}#sk-container-id-3 div.sk-estimator:hover label.sk-toggleable__label-arrow:before {color: black;}#sk-container-id-3 div.sk-toggleable__content {max-height: 0;max-width: 0;overflow: hidden;text-align: left;background-color: #f0f8ff;}#sk-container-id-3 div.sk-toggleable__content pre {margin: 0.2em;color: black;border-radius: 0.25em;background-color: #f0f8ff;}#sk-container-id-3 input.sk-toggleable__control:checked~div.sk-toggleable__content {max-height: 200px;max-width: 100%;overflow: auto;}#sk-container-id-3 input.sk-toggleable__control:checked~label.sk-toggleable__label-arrow:before {content: \"▾\";}#sk-container-id-3 div.sk-estimator input.sk-toggleable__control:checked~label.sk-toggleable__label {background-color: #d4ebff;}#sk-container-id-3 div.sk-label input.sk-toggleable__control:checked~label.sk-toggleable__label {background-color: #d4ebff;}#sk-container-id-3 input.sk-hidden--visually {border: 0;clip: rect(1px 1px 1px 1px);clip: rect(1px, 1px, 1px, 1px);height: 1px;margin: -1px;overflow: hidden;padding: 0;position: absolute;width: 1px;}#sk-container-id-3 div.sk-estimator {font-family: monospace;background-color: #f0f8ff;border: 1px dotted black;border-radius: 0.25em;box-sizing: border-box;margin-bottom: 0.5em;}#sk-container-id-3 div.sk-estimator:hover {background-color: #d4ebff;}#sk-container-id-3 div.sk-parallel-item::after {content: \"\";width: 100%;border-bottom: 1px solid gray;flex-grow: 1;}#sk-container-id-3 div.sk-label:hover label.sk-toggleable__label {background-color: #d4ebff;}#sk-container-id-3 div.sk-serial::before {content: \"\";position: absolute;border-left: 1px solid gray;box-sizing: border-box;top: 0;bottom: 0;left: 50%;z-index: 0;}#sk-container-id-3 div.sk-serial {display: flex;flex-direction: column;align-items: center;background-color: white;padding-right: 0.2em;padding-left: 0.2em;position: relative;}#sk-container-id-3 div.sk-item {position: relative;z-index: 1;}#sk-container-id-3 div.sk-parallel {display: flex;align-items: stretch;justify-content: center;background-color: white;position: relative;}#sk-container-id-3 div.sk-item::before, #sk-container-id-3 div.sk-parallel-item::before {content: \"\";position: absolute;border-left: 1px solid gray;box-sizing: border-box;top: 0;bottom: 0;left: 50%;z-index: -1;}#sk-container-id-3 div.sk-parallel-item {display: flex;flex-direction: column;z-index: 1;position: relative;background-color: white;}#sk-container-id-3 div.sk-parallel-item:first-child::after {align-self: flex-end;width: 50%;}#sk-container-id-3 div.sk-parallel-item:last-child::after {align-self: flex-start;width: 50%;}#sk-container-id-3 div.sk-parallel-item:only-child::after {width: 0;}#sk-container-id-3 div.sk-dashed-wrapped {border: 1px dashed gray;margin: 0 0.4em 0.5em 0.4em;box-sizing: border-box;padding-bottom: 0.4em;background-color: white;}#sk-container-id-3 div.sk-label label {font-family: monospace;font-weight: bold;display: inline-block;line-height: 1.2em;}#sk-container-id-3 div.sk-label-container {text-align: center;}#sk-container-id-3 div.sk-container {/* jupyter's `normalize.less` sets `[hidden] { display: none; }` but bootstrap.min.css set `[hidden] { display: none !important; }` so we also need the `!important` here to be able to override the default hidden behavior on the sphinx rendered scikit-learn.org. See: https://github.com/scikit-learn/scikit-learn/issues/21755 */display: inline-block !important;position: relative;}#sk-container-id-3 div.sk-text-repr-fallback {display: none;}</style><div id=\"sk-container-id-3\" class=\"sk-top-container\"><div class=\"sk-text-repr-fallback\"><pre>StandardScaler()</pre><b>In a Jupyter environment, please rerun this cell to show the HTML representation or trust the notebook. <br />On GitHub, the HTML representation is unable to render, please try loading this page with nbviewer.org.</b></div><div class=\"sk-container\" hidden><div class=\"sk-item\"><div class=\"sk-estimator sk-toggleable\"><input class=\"sk-toggleable__control sk-hidden--visually\" id=\"sk-estimator-id-3\" type=\"checkbox\" checked><label for=\"sk-estimator-id-3\" class=\"sk-toggleable__label sk-toggleable__label-arrow\">StandardScaler</label><div class=\"sk-toggleable__content\"><pre>StandardScaler()</pre></div></div></div></div></div>"
      ],
      "text/plain": [
       "StandardScaler()"
      ]
     },
     "execution_count": 73,
     "metadata": {},
     "output_type": "execute_result"
    }
   ],
   "source": [
    "# feature sin the house dataset are in very different scales\n",
    "# It helps the regression to scale them\n",
    "\n",
    "scaler = StandardScaler()\n",
    "scaler.fit(X_train.fillna(0))"
   ]
  },
  {
   "cell_type": "code",
   "execution_count": 74,
   "id": "f556488a-baef-447a-ba89-785b5aeca2f7",
   "metadata": {},
   "outputs": [
    {
     "data": {
      "text/html": [
       "<style>#sk-container-id-4 {color: black;background-color: white;}#sk-container-id-4 pre{padding: 0;}#sk-container-id-4 div.sk-toggleable {background-color: white;}#sk-container-id-4 label.sk-toggleable__label {cursor: pointer;display: block;width: 100%;margin-bottom: 0;padding: 0.3em;box-sizing: border-box;text-align: center;}#sk-container-id-4 label.sk-toggleable__label-arrow:before {content: \"▸\";float: left;margin-right: 0.25em;color: #696969;}#sk-container-id-4 label.sk-toggleable__label-arrow:hover:before {color: black;}#sk-container-id-4 div.sk-estimator:hover label.sk-toggleable__label-arrow:before {color: black;}#sk-container-id-4 div.sk-toggleable__content {max-height: 0;max-width: 0;overflow: hidden;text-align: left;background-color: #f0f8ff;}#sk-container-id-4 div.sk-toggleable__content pre {margin: 0.2em;color: black;border-radius: 0.25em;background-color: #f0f8ff;}#sk-container-id-4 input.sk-toggleable__control:checked~div.sk-toggleable__content {max-height: 200px;max-width: 100%;overflow: auto;}#sk-container-id-4 input.sk-toggleable__control:checked~label.sk-toggleable__label-arrow:before {content: \"▾\";}#sk-container-id-4 div.sk-estimator input.sk-toggleable__control:checked~label.sk-toggleable__label {background-color: #d4ebff;}#sk-container-id-4 div.sk-label input.sk-toggleable__control:checked~label.sk-toggleable__label {background-color: #d4ebff;}#sk-container-id-4 input.sk-hidden--visually {border: 0;clip: rect(1px 1px 1px 1px);clip: rect(1px, 1px, 1px, 1px);height: 1px;margin: -1px;overflow: hidden;padding: 0;position: absolute;width: 1px;}#sk-container-id-4 div.sk-estimator {font-family: monospace;background-color: #f0f8ff;border: 1px dotted black;border-radius: 0.25em;box-sizing: border-box;margin-bottom: 0.5em;}#sk-container-id-4 div.sk-estimator:hover {background-color: #d4ebff;}#sk-container-id-4 div.sk-parallel-item::after {content: \"\";width: 100%;border-bottom: 1px solid gray;flex-grow: 1;}#sk-container-id-4 div.sk-label:hover label.sk-toggleable__label {background-color: #d4ebff;}#sk-container-id-4 div.sk-serial::before {content: \"\";position: absolute;border-left: 1px solid gray;box-sizing: border-box;top: 0;bottom: 0;left: 50%;z-index: 0;}#sk-container-id-4 div.sk-serial {display: flex;flex-direction: column;align-items: center;background-color: white;padding-right: 0.2em;padding-left: 0.2em;position: relative;}#sk-container-id-4 div.sk-item {position: relative;z-index: 1;}#sk-container-id-4 div.sk-parallel {display: flex;align-items: stretch;justify-content: center;background-color: white;position: relative;}#sk-container-id-4 div.sk-item::before, #sk-container-id-4 div.sk-parallel-item::before {content: \"\";position: absolute;border-left: 1px solid gray;box-sizing: border-box;top: 0;bottom: 0;left: 50%;z-index: -1;}#sk-container-id-4 div.sk-parallel-item {display: flex;flex-direction: column;z-index: 1;position: relative;background-color: white;}#sk-container-id-4 div.sk-parallel-item:first-child::after {align-self: flex-end;width: 50%;}#sk-container-id-4 div.sk-parallel-item:last-child::after {align-self: flex-start;width: 50%;}#sk-container-id-4 div.sk-parallel-item:only-child::after {width: 0;}#sk-container-id-4 div.sk-dashed-wrapped {border: 1px dashed gray;margin: 0 0.4em 0.5em 0.4em;box-sizing: border-box;padding-bottom: 0.4em;background-color: white;}#sk-container-id-4 div.sk-label label {font-family: monospace;font-weight: bold;display: inline-block;line-height: 1.2em;}#sk-container-id-4 div.sk-label-container {text-align: center;}#sk-container-id-4 div.sk-container {/* jupyter's `normalize.less` sets `[hidden] { display: none; }` but bootstrap.min.css set `[hidden] { display: none !important; }` so we also need the `!important` here to be able to override the default hidden behavior on the sphinx rendered scikit-learn.org. See: https://github.com/scikit-learn/scikit-learn/issues/21755 */display: inline-block !important;position: relative;}#sk-container-id-4 div.sk-text-repr-fallback {display: none;}</style><div id=\"sk-container-id-4\" class=\"sk-top-container\"><div class=\"sk-text-repr-fallback\"><pre>SelectFromModel(estimator=Lasso(alpha=100))</pre><b>In a Jupyter environment, please rerun this cell to show the HTML representation or trust the notebook. <br />On GitHub, the HTML representation is unable to render, please try loading this page with nbviewer.org.</b></div><div class=\"sk-container\" hidden><div class=\"sk-item sk-dashed-wrapped\"><div class=\"sk-label-container\"><div class=\"sk-label sk-toggleable\"><input class=\"sk-toggleable__control sk-hidden--visually\" id=\"sk-estimator-id-4\" type=\"checkbox\" ><label for=\"sk-estimator-id-4\" class=\"sk-toggleable__label sk-toggleable__label-arrow\">SelectFromModel</label><div class=\"sk-toggleable__content\"><pre>SelectFromModel(estimator=Lasso(alpha=100))</pre></div></div></div><div class=\"sk-parallel\"><div class=\"sk-parallel-item\"><div class=\"sk-item\"><div class=\"sk-label-container\"><div class=\"sk-label sk-toggleable\"><input class=\"sk-toggleable__control sk-hidden--visually\" id=\"sk-estimator-id-5\" type=\"checkbox\" ><label for=\"sk-estimator-id-5\" class=\"sk-toggleable__label sk-toggleable__label-arrow\">estimator: Lasso</label><div class=\"sk-toggleable__content\"><pre>Lasso(alpha=100)</pre></div></div></div><div class=\"sk-serial\"><div class=\"sk-item\"><div class=\"sk-estimator sk-toggleable\"><input class=\"sk-toggleable__control sk-hidden--visually\" id=\"sk-estimator-id-6\" type=\"checkbox\" ><label for=\"sk-estimator-id-6\" class=\"sk-toggleable__label sk-toggleable__label-arrow\">Lasso</label><div class=\"sk-toggleable__content\"><pre>Lasso(alpha=100)</pre></div></div></div></div></div></div></div></div></div></div>"
      ],
      "text/plain": [
       "SelectFromModel(estimator=Lasso(alpha=100))"
      ]
     },
     "execution_count": 74,
     "metadata": {},
     "output_type": "execute_result"
    }
   ],
   "source": [
    "sel_ = SelectFromModel(Lasso(alpha=100))\n",
    "sel_.fit(scaler.transform(X_train.fillna(0)), y_train)"
   ]
  },
  {
   "cell_type": "code",
   "execution_count": 75,
   "id": "407a559f-7f18-4ac7-9096-cc72d4d3eece",
   "metadata": {},
   "outputs": [
    {
     "data": {
      "text/plain": [
       "array([ True,  True,  True,  True,  True,  True,  True,  True,  True,\n",
       "        True, False,  True, False,  True,  True,  True,  True,  True,\n",
       "        True,  True,  True,  True,  True,  True,  True,  True,  True,\n",
       "        True,  True,  True,  True,  True,  True, False,  True,  True])"
      ]
     },
     "execution_count": 75,
     "metadata": {},
     "output_type": "execute_result"
    }
   ],
   "source": [
    "sel_.get_support()"
   ]
  },
  {
   "cell_type": "code",
   "execution_count": 78,
   "id": "28054190-ab0d-40fd-b0e8-52ae8c63fe0e",
   "metadata": {},
   "outputs": [
    {
     "name": "stdout",
     "output_type": "stream",
     "text": [
      "total features: 36\n",
      "selected features: 33\n",
      "features with coefficients shrank to zero: 3\n"
     ]
    }
   ],
   "source": [
    "# make a list with the selected features and print the outputs\n",
    "\n",
    "selected_feat = X_train.columns[sel_.get_support()]\n",
    "print('total features: {}'.format((X_train.shape[1])))\n",
    "print('selected features: {}'.format(len(selected_feat)))\n",
    "print('features with coefficients shrank to zero: {}'.format(np.sum(sel_.estimator_.coef_ == 0)))"
   ]
  },
  {
   "cell_type": "markdown",
   "id": "5a57281c-3a7a-4b65-bcbe-24811fce3211",
   "metadata": {},
   "source": [
    "- Lasso regularization helps to remove non-important features\n",
    "- Keep an eye on the monitor if the penalization is not too high"
   ]
  },
  {
   "cell_type": "markdown",
   "id": "95ac173e-7f73-4140-adc1-86ad85ca8ff8",
   "metadata": {},
   "source": [
    "## 4.2 Random Forest Importance\n",
    "- Most popular machine learning algorithms\n",
    "- Provide in general a good predictive performance, low overfitting and easy interpretability\n",
    "- Lots of decision trees built over random extraction of observations from the dataset\n",
    "- Not every tree sees all the features or all the observations, therefore trees are de-correlated and less prone to over-fitting\n",
    "- Each tree is a sequence of yes and no answers\n",
    "\n",
    "- Classification - measure of impurity in Gini or information Gain/Entropy\n",
    "- Regression = measure of impurity is variance"
   ]
  },
  {
   "cell_type": "code",
   "execution_count": 80,
   "id": "d759b835-1de9-4ef6-8103-e4921b79f33f",
   "metadata": {},
   "outputs": [],
   "source": [
    "from sklearn import preprocessing\n",
    "from sklearn.preprocessing import LabelEncoder\n",
    "from sklearn.preprocessing import StandardScaler\n",
    "from sklearn.model_selection import train_test_split\n",
    "from sklearn import tree\n",
    "from sklearn.ensemble import RandomForestClassifier"
   ]
  },
  {
   "cell_type": "code",
   "execution_count": 87,
   "id": "1e5eca0a-27a5-4d9c-9991-a0a4a5caae7b",
   "metadata": {},
   "outputs": [
    {
     "data": {
      "text/plain": [
       "(8124, 23)"
      ]
     },
     "execution_count": 87,
     "metadata": {},
     "output_type": "execute_result"
    }
   ],
   "source": [
    "df = pd.read_csv(\"../mushroom-classification/mushrooms.csv\")\n",
    "df.shape"
   ]
  },
  {
   "cell_type": "code",
   "execution_count": 88,
   "id": "411ff068-7bbb-4b61-8b79-f24677f6ad6b",
   "metadata": {},
   "outputs": [],
   "source": [
    "X = df.drop([\"class\"], axis=1)\n",
    "y = df[\"class\"]"
   ]
  },
  {
   "cell_type": "code",
   "execution_count": 89,
   "id": "da6e8ab5-c052-4816-ae22-8ce1e06d856d",
   "metadata": {},
   "outputs": [
    {
     "name": "stdout",
     "output_type": "stream",
     "text": [
      "<class 'pandas.core.frame.DataFrame'>\n",
      "RangeIndex: 8124 entries, 0 to 8123\n",
      "Data columns (total 23 columns):\n",
      " #   Column                    Non-Null Count  Dtype \n",
      "---  ------                    --------------  ----- \n",
      " 0   class                     8124 non-null   object\n",
      " 1   cap-shape                 8124 non-null   object\n",
      " 2   cap-surface               8124 non-null   object\n",
      " 3   cap-color                 8124 non-null   object\n",
      " 4   bruises                   8124 non-null   object\n",
      " 5   odor                      8124 non-null   object\n",
      " 6   gill-attachment           8124 non-null   object\n",
      " 7   gill-spacing              8124 non-null   object\n",
      " 8   gill-size                 8124 non-null   object\n",
      " 9   gill-color                8124 non-null   object\n",
      " 10  stalk-shape               8124 non-null   object\n",
      " 11  stalk-root                8124 non-null   object\n",
      " 12  stalk-surface-above-ring  8124 non-null   object\n",
      " 13  stalk-surface-below-ring  8124 non-null   object\n",
      " 14  stalk-color-above-ring    8124 non-null   object\n",
      " 15  stalk-color-below-ring    8124 non-null   object\n",
      " 16  veil-type                 8124 non-null   object\n",
      " 17  veil-color                8124 non-null   object\n",
      " 18  ring-number               8124 non-null   object\n",
      " 19  ring-type                 8124 non-null   object\n",
      " 20  spore-print-color         8124 non-null   object\n",
      " 21  population                8124 non-null   object\n",
      " 22  habitat                   8124 non-null   object\n",
      "dtypes: object(23)\n",
      "memory usage: 1.4+ MB\n"
     ]
    }
   ],
   "source": [
    "df.info()"
   ]
  },
  {
   "cell_type": "code",
   "execution_count": 90,
   "id": "18f524b6-794b-461c-b8a9-108b549eab17",
   "metadata": {},
   "outputs": [],
   "source": [
    "# Encode categorical variables\n",
    "X = pd.get_dummies(X, prefix_sep=\"_\")\n",
    "y = LabelEncoder().fit_transform(y)"
   ]
  },
  {
   "cell_type": "code",
   "execution_count": 91,
   "id": "abfc4cf3-5dec-440f-9f27-7f7d648a358f",
   "metadata": {},
   "outputs": [],
   "source": [
    "# Normalize feature vector\n",
    "X2 = StandardScaler().fit_transform(X)"
   ]
  },
  {
   "cell_type": "code",
   "execution_count": 92,
   "id": "87b18d1c-3403-405c-adb6-b723b0e5fca1",
   "metadata": {},
   "outputs": [],
   "source": [
    "# Split the dataset\n",
    "X_train, X_test, y_train, y_test = train_test_split(X2, y, test_size =0.3, random_state = 0) "
   ]
  },
  {
   "cell_type": "code",
   "execution_count": 97,
   "id": "f6758055-0c5f-4cd8-9851-9089d17339ef",
   "metadata": {},
   "outputs": [],
   "source": [
    "# instantiate the calssifier\n",
    "clf = RandomForestClassifier(n_estimators=100, random_state=0)"
   ]
  },
  {
   "cell_type": "code",
   "execution_count": 98,
   "id": "1bd9fcb2-7dba-479a-97de-43ce7a3968f4",
   "metadata": {},
   "outputs": [
    {
     "data": {
      "text/html": [
       "<style>#sk-container-id-5 {color: black;background-color: white;}#sk-container-id-5 pre{padding: 0;}#sk-container-id-5 div.sk-toggleable {background-color: white;}#sk-container-id-5 label.sk-toggleable__label {cursor: pointer;display: block;width: 100%;margin-bottom: 0;padding: 0.3em;box-sizing: border-box;text-align: center;}#sk-container-id-5 label.sk-toggleable__label-arrow:before {content: \"▸\";float: left;margin-right: 0.25em;color: #696969;}#sk-container-id-5 label.sk-toggleable__label-arrow:hover:before {color: black;}#sk-container-id-5 div.sk-estimator:hover label.sk-toggleable__label-arrow:before {color: black;}#sk-container-id-5 div.sk-toggleable__content {max-height: 0;max-width: 0;overflow: hidden;text-align: left;background-color: #f0f8ff;}#sk-container-id-5 div.sk-toggleable__content pre {margin: 0.2em;color: black;border-radius: 0.25em;background-color: #f0f8ff;}#sk-container-id-5 input.sk-toggleable__control:checked~div.sk-toggleable__content {max-height: 200px;max-width: 100%;overflow: auto;}#sk-container-id-5 input.sk-toggleable__control:checked~label.sk-toggleable__label-arrow:before {content: \"▾\";}#sk-container-id-5 div.sk-estimator input.sk-toggleable__control:checked~label.sk-toggleable__label {background-color: #d4ebff;}#sk-container-id-5 div.sk-label input.sk-toggleable__control:checked~label.sk-toggleable__label {background-color: #d4ebff;}#sk-container-id-5 input.sk-hidden--visually {border: 0;clip: rect(1px 1px 1px 1px);clip: rect(1px, 1px, 1px, 1px);height: 1px;margin: -1px;overflow: hidden;padding: 0;position: absolute;width: 1px;}#sk-container-id-5 div.sk-estimator {font-family: monospace;background-color: #f0f8ff;border: 1px dotted black;border-radius: 0.25em;box-sizing: border-box;margin-bottom: 0.5em;}#sk-container-id-5 div.sk-estimator:hover {background-color: #d4ebff;}#sk-container-id-5 div.sk-parallel-item::after {content: \"\";width: 100%;border-bottom: 1px solid gray;flex-grow: 1;}#sk-container-id-5 div.sk-label:hover label.sk-toggleable__label {background-color: #d4ebff;}#sk-container-id-5 div.sk-serial::before {content: \"\";position: absolute;border-left: 1px solid gray;box-sizing: border-box;top: 0;bottom: 0;left: 50%;z-index: 0;}#sk-container-id-5 div.sk-serial {display: flex;flex-direction: column;align-items: center;background-color: white;padding-right: 0.2em;padding-left: 0.2em;position: relative;}#sk-container-id-5 div.sk-item {position: relative;z-index: 1;}#sk-container-id-5 div.sk-parallel {display: flex;align-items: stretch;justify-content: center;background-color: white;position: relative;}#sk-container-id-5 div.sk-item::before, #sk-container-id-5 div.sk-parallel-item::before {content: \"\";position: absolute;border-left: 1px solid gray;box-sizing: border-box;top: 0;bottom: 0;left: 50%;z-index: -1;}#sk-container-id-5 div.sk-parallel-item {display: flex;flex-direction: column;z-index: 1;position: relative;background-color: white;}#sk-container-id-5 div.sk-parallel-item:first-child::after {align-self: flex-end;width: 50%;}#sk-container-id-5 div.sk-parallel-item:last-child::after {align-self: flex-start;width: 50%;}#sk-container-id-5 div.sk-parallel-item:only-child::after {width: 0;}#sk-container-id-5 div.sk-dashed-wrapped {border: 1px dashed gray;margin: 0 0.4em 0.5em 0.4em;box-sizing: border-box;padding-bottom: 0.4em;background-color: white;}#sk-container-id-5 div.sk-label label {font-family: monospace;font-weight: bold;display: inline-block;line-height: 1.2em;}#sk-container-id-5 div.sk-label-container {text-align: center;}#sk-container-id-5 div.sk-container {/* jupyter's `normalize.less` sets `[hidden] { display: none; }` but bootstrap.min.css set `[hidden] { display: none !important; }` so we also need the `!important` here to be able to override the default hidden behavior on the sphinx rendered scikit-learn.org. See: https://github.com/scikit-learn/scikit-learn/issues/21755 */display: inline-block !important;position: relative;}#sk-container-id-5 div.sk-text-repr-fallback {display: none;}</style><div id=\"sk-container-id-5\" class=\"sk-top-container\"><div class=\"sk-text-repr-fallback\"><pre>RandomForestClassifier(random_state=0)</pre><b>In a Jupyter environment, please rerun this cell to show the HTML representation or trust the notebook. <br />On GitHub, the HTML representation is unable to render, please try loading this page with nbviewer.org.</b></div><div class=\"sk-container\" hidden><div class=\"sk-item\"><div class=\"sk-estimator sk-toggleable\"><input class=\"sk-toggleable__control sk-hidden--visually\" id=\"sk-estimator-id-7\" type=\"checkbox\" checked><label for=\"sk-estimator-id-7\" class=\"sk-toggleable__label sk-toggleable__label-arrow\">RandomForestClassifier</label><div class=\"sk-toggleable__content\"><pre>RandomForestClassifier(random_state=0)</pre></div></div></div></div></div>"
      ],
      "text/plain": [
       "RandomForestClassifier(random_state=0)"
      ]
     },
     "execution_count": 98,
     "metadata": {},
     "output_type": "execute_result"
    }
   ],
   "source": [
    "clf.fit(X_train, y_train)"
   ]
  },
  {
   "cell_type": "code",
   "execution_count": 99,
   "id": "aa8ac3c2-6259-45b3-981f-28090fd4f74a",
   "metadata": {},
   "outputs": [],
   "source": [
    "y_pred = clf.predict(X_test)"
   ]
  },
  {
   "cell_type": "markdown",
   "id": "459f621c-6f12-4568-875a-7f69dabf52fe",
   "metadata": {},
   "source": [
    "### Feature Importance\n",
    " - Decision trees models which are based on ensemble (Extra Trees, Random FOrests) can be used to rank the importance of different features"
   ]
  },
  {
   "cell_type": "code",
   "execution_count": 100,
   "id": "c0694e6a-ede9-4824-a928-a4e72b096acd",
   "metadata": {},
   "outputs": [
    {
     "data": {
      "text/plain": [
       "<Axes: >"
      ]
     },
     "execution_count": 100,
     "metadata": {},
     "output_type": "execute_result"
    },
    {
     "data": {
      "image/png": "[encoded data removed]",
      "text/plain": [
       "<Figure size 800x640 with 1 Axes>"
      ]
     },
     "metadata": {},
     "output_type": "display_data"
    }
   ],
   "source": [
    "plt.figure(num=None, figsize=(10,8), dpi=80, facecolor='w', edgecolor='k')\n",
    "feat_importances = pd.Series(clf.feature_importances_, index= X.columns)\n",
    "feat_importances.nlargest(7).plot(kind='barh')"
   ]
  },
  {
   "cell_type": "markdown",
   "id": "bc919310-87f9-44db-9920-c26e415de918",
   "metadata": {},
   "source": [
    "# How to choose the right feature selection method?\n",
    "\n",
    "## Numerical Input, Numerical Output\n",
    "\n",
    "- Regression predictive modeling problem with numerical input variables\n",
    "- Correlation coefficients\n",
    "  - **Linear correlation**: pearson's correlation coefficient\n",
    "  - **Non-linear correlation**: Spearman's / Keandall's coefficient\n",
    "\n",
    "\n",
    "## Numerical Input, Categorical Output\n",
    "- Classification predictive modeling problem with numerical input variables\n",
    "- Most common example of classificaiton problem\n",
    "- Tests\n",
    "  - **Linear relation**: ANOVA correlation coefficient\n",
    "  - **Non-linear relation**: Kendall's rank coefficient (non-linear)\n",
    "  \n",
    "## Categorical Input, Numerical Output\n",
    "- This is a regression predictive modeling problem with cateogircla input variables\n",
    "- Strange example of a regression problem (e.g., we will no encounter it often)\n",
    "- We can use the same methods explained above, but in reverse\n",
    "- Tests\n",
    "  - **Linear relation**: ANOVA correlation coefficient\n",
    "  - **Non-linear relation**: Kendall's rank coefficient (non-linear)\n",
    "  \n",
    "  \n",
    "## Categorical Input, Categorical Output\n",
    "- This is a classification predictive modeling problem with categorical input variables\n",
    "- Most common correaltion measure for categorical data: chi-squared test\n",
    "- ALso: mutual information (information gain)\n",
    "\n",
    "- Tests\n",
    "  - Chi-Squared test\n",
    "  - Mutual Information\n",
    "  \n",
    "## Mixed data types\n",
    "- Mutual information (powerful), but require many labels to perform properly"
   ]
  },
  {
   "cell_type": "markdown",
   "id": "28e3a86c-9ddf-4da6-9b73-a075e5e956e9",
   "metadata": {},
   "source": [
    "https://www.udemy.com/course/feature-selection-for-machine-learning/"
   ]
  },
  {
   "cell_type": "code",
   "execution_count": null,
   "id": "b4b3f207-0297-4c81-ba55-5836caf5f82d",
   "metadata": {},
   "outputs": [],
   "source": []
  }
 ],
 "metadata": {
  "kernelspec": {
   "display_name": "Python 3 (ipykernel)",
   "language": "python",
   "name": "python3"
  },
  "language_info": {
   "codemirror_mode": {
    "name": "ipython",
    "version": 3
   },
   "file_extension": ".py",
   "mimetype": "text/x-python",
   "name": "python",
   "nbconvert_exporter": "python",
   "pygments_lexer": "ipython3",
   "version": "3.10.9"
  }
 },
 "nbformat": 4,
 "nbformat_minor": 5
}
